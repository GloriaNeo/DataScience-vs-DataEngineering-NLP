{
 "cells": [
  {
   "cell_type": "markdown",
   "id": "f56c35b7-74bb-497e-abdf-35f74fa403ab",
   "metadata": {},
   "source": [
    "# Project 3: Web APIs & NLP"
   ]
  },
  {
   "cell_type": "markdown",
   "id": "b731f972-37a1-4c7c-ba19-77decf867a77",
   "metadata": {},
   "source": [
    "---\n",
    "# Part 2 - Data Cleaning, EDA\n",
    "### Notebook 2 - Contents:\n",
    "\n",
    "**[2.1 Data Inspection and Cleaning](#2.1-Data-Inspection-and-Cleaning)** <br>\n",
    "[2.1.1 The strategy for cleanup](#2.1.1-The-strategy-for-cleanup)<br>\n",
    "[2.1.2 Create `df` dataframe](#2.1.2-Create-df-dataframe)<br>\n",
    "[2.1.3 Create `df_text` dataframe](#2.1.3-Create-df_text-dataframe)<br>\n",
    "[2.1.4 Text Cleaning](#2.1.4-Text-Cleaning)<br>\n",
    "    \n",
    "**[2.2 EDA](#2.2-EDA)** <br>\n",
    "[2.2.1 Post length and Post word count](#2.2.1-Post-length-and-Post-word-count)<br>\n",
    "[2.2.2 Relationship between post length, score, upvote ratio](#2.2.2-Relationship-between-post-length,-score,-upvote-ratio)<br>\n",
    "[2.2.3 Category with the most activity](#2.2.3-Category-with-the-most-activity)<br>\n",
    "[2.2.4 Text Preprocessing Strategy](#2.2.4-Text-Preprocessing-Strategy)<br>\n",
    "[2.2.5 Feature Word Frequency](#2.2.5-Feature-Word-Frequency)<br>\n",
    "[2.2.6 Exploring n-grams](#2.2.6-Exploring-n-grams)<br>\n",
    "[2.2.7 Adding on to stopwords list](#2.2.7-Adding-on-to-stopwords-list)<br>\n",
    "    \n",
    "**[2.3 Sentiment Analysis](#2.3-Sentiment-Analysis)** <br>\n",
    "\n",
    "**[2.4 Notebook Summary](#2.3-Notebook-Summary)** <br>\n",
    "\n",
    "---"
   ]
  },
  {
   "cell_type": "markdown",
   "id": "316513f5-86a5-4fdb-aae2-62eec1d98810",
   "metadata": {},
   "source": [
    "## 2.1 Data Inspection and Cleaning"
   ]
  },
  {
   "cell_type": "markdown",
   "id": "1989ae2e-53c1-47b3-aeaf-49d927f34323",
   "metadata": {},
   "source": [
    "Import required libraries:"
   ]
  },
  {
   "cell_type": "code",
   "execution_count": 1,
   "id": "5700740b-da9b-425f-8609-3765896e8334",
   "metadata": {
    "scrolled": true
   },
   "outputs": [],
   "source": [
    "import pandas as pd\n",
    "import numpy as np\n",
    "import matplotlib.pyplot as plt\n",
    "import seaborn as sns\n",
    "\n",
    "from nltk.stem import WordNetLemmatizer\n",
    "from nltk.corpus import wordnet as wn\n",
    "from nltk.corpus import words\n",
    "from sklearn.feature_extraction.text import CountVectorizer\n",
    "from nltk.sentiment.vader import SentimentIntensityAnalyzer\n",
    "\n",
    "from nltk.tokenize import sent_tokenize, word_tokenize, RegexpTokenizer\n",
    "from nltk.stem import WordNetLemmatizer\n",
    "from nltk.stem.porter import PorterStemmer\n",
    "from nltk.corpus import stopwords\n",
    "from nltk.sentiment.vader import SentimentIntensityAnalyzer\n",
    "from vaderSentiment.vaderSentiment import SentimentIntensityAnalyzer\n",
    "import re\n",
    "import string\n",
    "import nltk\n",
    "from spellchecker import SpellChecker\n",
    "import contractions\n",
    "import pickle\n",
    "\n",
    "#ignore warnings\n",
    "import warnings\n",
    "warnings.filterwarnings('ignore')"
   ]
  },
  {
   "cell_type": "markdown",
   "id": "9b0ec961-6eb9-4346-b026-5e17dfabfd69",
   "metadata": {},
   "source": [
    "Import csv data files:"
   ]
  },
  {
   "cell_type": "code",
   "execution_count": 2,
   "id": "2dde168c-9090-494f-8026-63b4f8de61f6",
   "metadata": {},
   "outputs": [],
   "source": [
    "#import posts datasets\n",
    "d_sc = pd.read_csv('../data/data_sc.csv')\n",
    "d_engr = pd.read_csv('../data/data_engr.csv')\n",
    "\n",
    "#import comments datasets\n",
    "d_sc_comm = pd.read_csv('../data/data_sc_comm.csv')\n",
    "d_engr_comm = pd.read_csv('../data/data_engr_comm.csv')"
   ]
  },
  {
   "cell_type": "markdown",
   "id": "0b3b2335-d955-4df5-a9bd-2cf86b6c3005",
   "metadata": {},
   "source": [
    "---"
   ]
  },
  {
   "cell_type": "markdown",
   "id": "0f458c23-282d-4ffa-939f-b326758dd0eb",
   "metadata": {
    "jp-MarkdownHeadingCollapsed": true
   },
   "source": [
    "### 2.1.1 The strategy for cleanup\n",
    "For all datasets (cleanup done individually:\n",
    "1. General cleaning\n",
    "* We will do a preliminary round of general inspection and cleanup - missing values, duplicates, etc.<br>\n",
    "\n",
    "2. Text-based cleaning\n",
    "* Address text errors\n",
    "* Feature a new column that combines title and selftext, so we can use that column to carry out countvectorizing.\n",
    "\n",
    "At the end of the cleaning, we will concat the dataframes to form 2 main dfs:\n",
    "* `df` - Only contains datascience and dataengineering **posts** information, and contains more features.\n",
    "* `df_text` - Contains datascience and dataengineering **posts** and **comments** information, and we will only keep the subreddit name column, and title_selftext column (title and post content)."
   ]
  },
  {
   "cell_type": "markdown",
   "id": "a4dd64ba-74aa-4d44-ba9f-d9d8cbd3a228",
   "metadata": {},
   "source": [
    "---\n",
    "### 2.1.2 Create `df` dataframe\n",
    "Import r/datascience and r/dataengineering posts dataset, concat them to form a main dataframe."
   ]
  },
  {
   "cell_type": "markdown",
   "id": "ca3a5103-7e67-45ab-8ab5-2978a6022645",
   "metadata": {},
   "source": [
    "##### r/datascience"
   ]
  },
  {
   "cell_type": "code",
   "execution_count": 3,
   "id": "c76ec88d-d396-46d7-8a1f-9aa20e8b5da8",
   "metadata": {
    "scrolled": true
   },
   "outputs": [
    {
     "name": "stdout",
     "output_type": "stream",
     "text": [
      "(961, 16)\n"
     ]
    },
    {
     "data": {
      "text/html": [
       "<div>\n",
       "<style scoped>\n",
       "    .dataframe tbody tr th:only-of-type {\n",
       "        vertical-align: middle;\n",
       "    }\n",
       "\n",
       "    .dataframe tbody tr th {\n",
       "        vertical-align: top;\n",
       "    }\n",
       "\n",
       "    .dataframe thead th {\n",
       "        text-align: right;\n",
       "    }\n",
       "</style>\n",
       "<table border=\"1\" class=\"dataframe\">\n",
       "  <thead>\n",
       "    <tr style=\"text-align: right;\">\n",
       "      <th></th>\n",
       "      <th>title</th>\n",
       "      <th>id</th>\n",
       "      <th>author</th>\n",
       "      <th>created_utc</th>\n",
       "      <th>distinguished</th>\n",
       "      <th>edited</th>\n",
       "      <th>is_self</th>\n",
       "      <th>link_flair_text</th>\n",
       "      <th>num_comments</th>\n",
       "      <th>saved</th>\n",
       "      <th>score</th>\n",
       "      <th>selftext</th>\n",
       "      <th>stickied</th>\n",
       "      <th>upvote_ratio</th>\n",
       "      <th>url</th>\n",
       "      <th>subreddit</th>\n",
       "    </tr>\n",
       "  </thead>\n",
       "  <tbody>\n",
       "    <tr>\n",
       "      <th>0</th>\n",
       "      <td>Weekly Entering &amp; Transitioning - Thread 31 Ju...</td>\n",
       "      <td>15e5iw6</td>\n",
       "      <td>AutoModerator</td>\n",
       "      <td>1.690776e+09</td>\n",
       "      <td>NaN</td>\n",
       "      <td>False</td>\n",
       "      <td>True</td>\n",
       "      <td>NaN</td>\n",
       "      <td>28</td>\n",
       "      <td>False</td>\n",
       "      <td>2</td>\n",
       "      <td>\\n\\nWelcome to this week's entering &amp; transit...</td>\n",
       "      <td>True</td>\n",
       "      <td>1.00</td>\n",
       "      <td>https://www.reddit.com/r/datascience/comments/...</td>\n",
       "      <td>datascience</td>\n",
       "    </tr>\n",
       "    <tr>\n",
       "      <th>1</th>\n",
       "      <td>R programmers, what are the greatest issues yo...</td>\n",
       "      <td>15g96dc</td>\n",
       "      <td>joaoareias</td>\n",
       "      <td>1.690984e+09</td>\n",
       "      <td>NaN</td>\n",
       "      <td>False</td>\n",
       "      <td>True</td>\n",
       "      <td>Education</td>\n",
       "      <td>262</td>\n",
       "      <td>False</td>\n",
       "      <td>169</td>\n",
       "      <td>I'm a Data Scientist with a computer science b...</td>\n",
       "      <td>False</td>\n",
       "      <td>0.96</td>\n",
       "      <td>https://www.reddit.com/r/datascience/comments/...</td>\n",
       "      <td>datascience</td>\n",
       "    </tr>\n",
       "  </tbody>\n",
       "</table>\n",
       "</div>"
      ],
      "text/plain": [
       "                                               title       id         author  \\\n",
       "0  Weekly Entering & Transitioning - Thread 31 Ju...  15e5iw6  AutoModerator   \n",
       "1  R programmers, what are the greatest issues yo...  15g96dc     joaoareias   \n",
       "\n",
       "    created_utc  distinguished edited  is_self link_flair_text  num_comments  \\\n",
       "0  1.690776e+09            NaN  False     True             NaN            28   \n",
       "1  1.690984e+09            NaN  False     True       Education           262   \n",
       "\n",
       "   saved  score                                           selftext  stickied  \\\n",
       "0  False      2   \\n\\nWelcome to this week's entering & transit...      True   \n",
       "1  False    169  I'm a Data Scientist with a computer science b...     False   \n",
       "\n",
       "   upvote_ratio                                                url  \\\n",
       "0          1.00  https://www.reddit.com/r/datascience/comments/...   \n",
       "1          0.96  https://www.reddit.com/r/datascience/comments/...   \n",
       "\n",
       "     subreddit  \n",
       "0  datascience  \n",
       "1  datascience  "
      ]
     },
     "execution_count": 3,
     "metadata": {},
     "output_type": "execute_result"
    }
   ],
   "source": [
    "print(d_sc.shape)\n",
    "d_sc.head(2)"
   ]
  },
  {
   "cell_type": "markdown",
   "id": "76738cbe-da2d-43f8-ac9b-5987162b9e86",
   "metadata": {},
   "source": [
    "##### r/dataengineering"
   ]
  },
  {
   "cell_type": "code",
   "execution_count": 4,
   "id": "7de5ab12-4b4d-408d-8fdf-28df3b1498b2",
   "metadata": {
    "scrolled": true
   },
   "outputs": [
    {
     "name": "stdout",
     "output_type": "stream",
     "text": [
      "(963, 16)\n"
     ]
    },
    {
     "data": {
      "text/html": [
       "<div>\n",
       "<style scoped>\n",
       "    .dataframe tbody tr th:only-of-type {\n",
       "        vertical-align: middle;\n",
       "    }\n",
       "\n",
       "    .dataframe tbody tr th {\n",
       "        vertical-align: top;\n",
       "    }\n",
       "\n",
       "    .dataframe thead th {\n",
       "        text-align: right;\n",
       "    }\n",
       "</style>\n",
       "<table border=\"1\" class=\"dataframe\">\n",
       "  <thead>\n",
       "    <tr style=\"text-align: right;\">\n",
       "      <th></th>\n",
       "      <th>title</th>\n",
       "      <th>id</th>\n",
       "      <th>author</th>\n",
       "      <th>created_utc</th>\n",
       "      <th>distinguished</th>\n",
       "      <th>edited</th>\n",
       "      <th>is_self</th>\n",
       "      <th>link_flair_text</th>\n",
       "      <th>num_comments</th>\n",
       "      <th>saved</th>\n",
       "      <th>score</th>\n",
       "      <th>selftext</th>\n",
       "      <th>stickied</th>\n",
       "      <th>upvote_ratio</th>\n",
       "      <th>url</th>\n",
       "      <th>subreddit</th>\n",
       "    </tr>\n",
       "  </thead>\n",
       "  <tbody>\n",
       "    <tr>\n",
       "      <th>0</th>\n",
       "      <td>Monthly General Discussion - Aug 2023</td>\n",
       "      <td>15fgn9y</td>\n",
       "      <td>AutoModerator</td>\n",
       "      <td>1.690906e+09</td>\n",
       "      <td>NaN</td>\n",
       "      <td>False</td>\n",
       "      <td>True</td>\n",
       "      <td>Discussion</td>\n",
       "      <td>2</td>\n",
       "      <td>False</td>\n",
       "      <td>3</td>\n",
       "      <td>This thread is a place where you can share thi...</td>\n",
       "      <td>True</td>\n",
       "      <td>1.0</td>\n",
       "      <td>https://www.reddit.com/r/dataengineering/comme...</td>\n",
       "      <td>dataengineering</td>\n",
       "    </tr>\n",
       "    <tr>\n",
       "      <th>1</th>\n",
       "      <td>Quarterly Salary Discussion - Jun 2023</td>\n",
       "      <td>13xldpd</td>\n",
       "      <td>AutoModerator</td>\n",
       "      <td>1.685635e+09</td>\n",
       "      <td>NaN</td>\n",
       "      <td>False</td>\n",
       "      <td>True</td>\n",
       "      <td>Career</td>\n",
       "      <td>213</td>\n",
       "      <td>False</td>\n",
       "      <td>83</td>\n",
       "      <td>This is a recurring thread that happens quarte...</td>\n",
       "      <td>True</td>\n",
       "      <td>1.0</td>\n",
       "      <td>https://www.reddit.com/r/dataengineering/comme...</td>\n",
       "      <td>dataengineering</td>\n",
       "    </tr>\n",
       "  </tbody>\n",
       "</table>\n",
       "</div>"
      ],
      "text/plain": [
       "                                    title       id         author  \\\n",
       "0   Monthly General Discussion - Aug 2023  15fgn9y  AutoModerator   \n",
       "1  Quarterly Salary Discussion - Jun 2023  13xldpd  AutoModerator   \n",
       "\n",
       "    created_utc  distinguished edited  is_self link_flair_text  num_comments  \\\n",
       "0  1.690906e+09            NaN  False     True      Discussion             2   \n",
       "1  1.685635e+09            NaN  False     True          Career           213   \n",
       "\n",
       "   saved  score                                           selftext  stickied  \\\n",
       "0  False      3  This thread is a place where you can share thi...      True   \n",
       "1  False     83  This is a recurring thread that happens quarte...      True   \n",
       "\n",
       "   upvote_ratio                                                url  \\\n",
       "0           1.0  https://www.reddit.com/r/dataengineering/comme...   \n",
       "1           1.0  https://www.reddit.com/r/dataengineering/comme...   \n",
       "\n",
       "         subreddit  \n",
       "0  dataengineering  \n",
       "1  dataengineering  "
      ]
     },
     "execution_count": 4,
     "metadata": {},
     "output_type": "execute_result"
    }
   ],
   "source": [
    "print(d_engr.shape)\n",
    "d_engr.head(2)"
   ]
  },
  {
   "cell_type": "markdown",
   "id": "e7dbbfd9-25e3-4e4c-832b-38ea91f2441c",
   "metadata": {},
   "source": [
    "##### Combined dataframe `df`"
   ]
  },
  {
   "cell_type": "code",
   "execution_count": 5,
   "id": "ed8291c0-64a1-46ae-88bc-d38df218dad1",
   "metadata": {},
   "outputs": [],
   "source": [
    "df = pd.concat(objs = [d_sc, d_engr], axis=0)"
   ]
  },
  {
   "cell_type": "code",
   "execution_count": 6,
   "id": "45fdd46c-f6a6-4451-a590-647584593c82",
   "metadata": {},
   "outputs": [
    {
     "data": {
      "text/plain": [
       "dataengineering    963\n",
       "datascience        961\n",
       "Name: subreddit, dtype: int64"
      ]
     },
     "execution_count": 6,
     "metadata": {},
     "output_type": "execute_result"
    }
   ],
   "source": [
    "# Check proportions\n",
    "df['subreddit'].value_counts()"
   ]
  },
  {
   "cell_type": "code",
   "execution_count": 7,
   "id": "b8ec1065-d84b-41e5-bd6d-d8814529b07b",
   "metadata": {
    "scrolled": true
   },
   "outputs": [
    {
     "name": "stdout",
     "output_type": "stream",
     "text": [
      "(1924, 16)\n"
     ]
    },
    {
     "data": {
      "text/html": [
       "<div>\n",
       "<style scoped>\n",
       "    .dataframe tbody tr th:only-of-type {\n",
       "        vertical-align: middle;\n",
       "    }\n",
       "\n",
       "    .dataframe tbody tr th {\n",
       "        vertical-align: top;\n",
       "    }\n",
       "\n",
       "    .dataframe thead th {\n",
       "        text-align: right;\n",
       "    }\n",
       "</style>\n",
       "<table border=\"1\" class=\"dataframe\">\n",
       "  <thead>\n",
       "    <tr style=\"text-align: right;\">\n",
       "      <th></th>\n",
       "      <th>title</th>\n",
       "      <th>id</th>\n",
       "      <th>author</th>\n",
       "      <th>created_utc</th>\n",
       "      <th>distinguished</th>\n",
       "      <th>edited</th>\n",
       "      <th>is_self</th>\n",
       "      <th>link_flair_text</th>\n",
       "      <th>num_comments</th>\n",
       "      <th>saved</th>\n",
       "      <th>score</th>\n",
       "      <th>selftext</th>\n",
       "      <th>stickied</th>\n",
       "      <th>upvote_ratio</th>\n",
       "      <th>url</th>\n",
       "      <th>subreddit</th>\n",
       "    </tr>\n",
       "  </thead>\n",
       "  <tbody>\n",
       "    <tr>\n",
       "      <th>0</th>\n",
       "      <td>Weekly Entering &amp; Transitioning - Thread 31 Ju...</td>\n",
       "      <td>15e5iw6</td>\n",
       "      <td>AutoModerator</td>\n",
       "      <td>1.690776e+09</td>\n",
       "      <td>NaN</td>\n",
       "      <td>False</td>\n",
       "      <td>True</td>\n",
       "      <td>NaN</td>\n",
       "      <td>28</td>\n",
       "      <td>False</td>\n",
       "      <td>2</td>\n",
       "      <td>\\n\\nWelcome to this week's entering &amp; transit...</td>\n",
       "      <td>True</td>\n",
       "      <td>1.00</td>\n",
       "      <td>https://www.reddit.com/r/datascience/comments/...</td>\n",
       "      <td>datascience</td>\n",
       "    </tr>\n",
       "    <tr>\n",
       "      <th>1</th>\n",
       "      <td>R programmers, what are the greatest issues yo...</td>\n",
       "      <td>15g96dc</td>\n",
       "      <td>joaoareias</td>\n",
       "      <td>1.690984e+09</td>\n",
       "      <td>NaN</td>\n",
       "      <td>False</td>\n",
       "      <td>True</td>\n",
       "      <td>Education</td>\n",
       "      <td>262</td>\n",
       "      <td>False</td>\n",
       "      <td>169</td>\n",
       "      <td>I'm a Data Scientist with a computer science b...</td>\n",
       "      <td>False</td>\n",
       "      <td>0.96</td>\n",
       "      <td>https://www.reddit.com/r/datascience/comments/...</td>\n",
       "      <td>datascience</td>\n",
       "    </tr>\n",
       "  </tbody>\n",
       "</table>\n",
       "</div>"
      ],
      "text/plain": [
       "                                               title       id         author  \\\n",
       "0  Weekly Entering & Transitioning - Thread 31 Ju...  15e5iw6  AutoModerator   \n",
       "1  R programmers, what are the greatest issues yo...  15g96dc     joaoareias   \n",
       "\n",
       "    created_utc  distinguished edited  is_self link_flair_text  num_comments  \\\n",
       "0  1.690776e+09            NaN  False     True             NaN            28   \n",
       "1  1.690984e+09            NaN  False     True       Education           262   \n",
       "\n",
       "   saved  score                                           selftext  stickied  \\\n",
       "0  False      2   \\n\\nWelcome to this week's entering & transit...      True   \n",
       "1  False    169  I'm a Data Scientist with a computer science b...     False   \n",
       "\n",
       "   upvote_ratio                                                url  \\\n",
       "0          1.00  https://www.reddit.com/r/datascience/comments/...   \n",
       "1          0.96  https://www.reddit.com/r/datascience/comments/...   \n",
       "\n",
       "     subreddit  \n",
       "0  datascience  \n",
       "1  datascience  "
      ]
     },
     "execution_count": 7,
     "metadata": {},
     "output_type": "execute_result"
    }
   ],
   "source": [
    "print(df.shape)\n",
    "df.head(2)"
   ]
  },
  {
   "cell_type": "markdown",
   "id": "0373321e-0e4c-4325-bb23-cfbeffe1ad0f",
   "metadata": {},
   "source": [
    "---\n",
    "#### Inspect columns\n",
    "Write some functions to inspect dataframe and certain columns:"
   ]
  },
  {
   "cell_type": "code",
   "execution_count": 8,
   "id": "71ceec6e-c69a-4218-bcce-9ad0c8d344d4",
   "metadata": {},
   "outputs": [],
   "source": [
    "def inspect_df(df):\n",
    "    \n",
    "    #Check for nulls\n",
    "    null_counts = df.isnull().sum()\n",
    "    null_info_df = null_counts[null_counts > 0].reset_index()\n",
    "    null_info_df.columns = ['Column', 'Null Count']\n",
    "    print(null_info_df)\n",
    "\n",
    "    #Check percentage of nulls \n",
    "    null_percentages = (df.isnull().mean() * 100).round(2)\n",
    "    null_info_p = null_percentages[null_percentages > 0].reset_index()\n",
    "    null_info_p.columns = ['Column', 'Null Percentage']\n",
    "    print(null_info_p)\n",
    "    \n",
    "    #check for duplicates\n",
    "    print(f\"No of duplicates: {df.duplicated().sum()}\")"
   ]
  },
  {
   "cell_type": "code",
   "execution_count": 9,
   "id": "53ef7499-b11c-4e44-9df8-9ee891835767",
   "metadata": {},
   "outputs": [],
   "source": [
    "def inspect_col(df, subredditname):\n",
    "    print(df[df['subreddit']== subredditname]['subreddit'].unique())\n",
    "    print(df[df['link_flair_text']== subredditname]['link_flair_text'].unique())"
   ]
  },
  {
   "cell_type": "markdown",
   "id": "ce755faa-83c3-4228-8b30-15a85a033a0f",
   "metadata": {},
   "source": [
    "#### Address missing values"
   ]
  },
  {
   "cell_type": "code",
   "execution_count": 10,
   "id": "6196f85c-dbdd-4a99-8297-a710927e6933",
   "metadata": {},
   "outputs": [
    {
     "name": "stdout",
     "output_type": "stream",
     "text": [
      "            Column  Null Count\n",
      "0           author          13\n",
      "1    distinguished        1924\n",
      "2  link_flair_text           5\n",
      "3         selftext         222\n",
      "            Column  Null Percentage\n",
      "0           author             0.68\n",
      "1    distinguished           100.00\n",
      "2  link_flair_text             0.26\n",
      "3         selftext            11.54\n",
      "No of duplicates: 0\n"
     ]
    }
   ],
   "source": [
    "inspect_df(df)"
   ]
  },
  {
   "cell_type": "markdown",
   "id": "63cfe1e6-8956-48e0-9bb1-1de716d11da9",
   "metadata": {},
   "source": [
    "##### Findings\n",
    "* There are missing values in 4 columns in total.\n",
    "* There are no duplicates.\n",
    "* Since 'distinguished' column completely null (and also not essential), we will drop the column.\n",
    "* For 'author' and 'link_flair_text' column, since null percentages are under 1% (less than 5%), we will drop the missing rows.\n",
    "* For the 'selftext' column nulls, we will keep them since total null percentage is 11.54% and is > 5%. We can impute \"nil\" instead."
   ]
  },
  {
   "cell_type": "code",
   "execution_count": 11,
   "id": "8b660bba-a901-4029-90a5-53a4dfb24ac0",
   "metadata": {},
   "outputs": [],
   "source": [
    "#drop 'distinguished' column\n",
    "df.drop(['distinguished'], axis=1, inplace=True)"
   ]
  },
  {
   "cell_type": "code",
   "execution_count": 12,
   "id": "62f74358-bbd0-469a-aa2f-c998a21495ed",
   "metadata": {},
   "outputs": [
    {
     "data": {
      "text/plain": [
       "12.422037422037423"
      ]
     },
     "execution_count": 12,
     "metadata": {},
     "output_type": "execute_result"
    }
   ],
   "source": [
    "#Calculate percentage of null rows after dropping distinguished\n",
    "len(df[df.isna().any(axis=1)]) / len(df.index) * 100"
   ]
  },
  {
   "cell_type": "markdown",
   "id": "7f6fadbf-0097-4545-b84a-c156ce975d47",
   "metadata": {},
   "source": [
    "The above null percentage is too big for us to simply drop the rows. We will address the nulls as mentioned earlier."
   ]
  },
  {
   "cell_type": "code",
   "execution_count": 13,
   "id": "d41abf05-239e-4464-9809-3edd2c4f44cd",
   "metadata": {},
   "outputs": [],
   "source": [
    "# Drop null rows for 'author' and 'link_flair_text'\n",
    "df.dropna(subset=['author', 'link_flair_text'], inplace=True)\n",
    "\n",
    "# Fill NaN values in 'selftext' with 'nil'\n",
    "df['selftext'].fillna(value='nil', inplace=True)"
   ]
  },
  {
   "cell_type": "code",
   "execution_count": 14,
   "id": "b94dc0aa-de0b-4293-a6d7-9ff149d761ac",
   "metadata": {},
   "outputs": [
    {
     "data": {
      "text/plain": [
       "dataengineering    956\n",
       "datascience        950\n",
       "Name: subreddit, dtype: int64"
      ]
     },
     "execution_count": 14,
     "metadata": {},
     "output_type": "execute_result"
    }
   ],
   "source": [
    "# Check proportions\n",
    "df['subreddit'].value_counts()"
   ]
  },
  {
   "cell_type": "code",
   "execution_count": 15,
   "id": "2d7185ed-0e62-43ac-81ca-21b524aac39f",
   "metadata": {
    "scrolled": true
   },
   "outputs": [
    {
     "name": "stdout",
     "output_type": "stream",
     "text": [
      "(1906, 15)\n"
     ]
    },
    {
     "data": {
      "text/html": [
       "<div>\n",
       "<style scoped>\n",
       "    .dataframe tbody tr th:only-of-type {\n",
       "        vertical-align: middle;\n",
       "    }\n",
       "\n",
       "    .dataframe tbody tr th {\n",
       "        vertical-align: top;\n",
       "    }\n",
       "\n",
       "    .dataframe thead th {\n",
       "        text-align: right;\n",
       "    }\n",
       "</style>\n",
       "<table border=\"1\" class=\"dataframe\">\n",
       "  <thead>\n",
       "    <tr style=\"text-align: right;\">\n",
       "      <th></th>\n",
       "      <th>title</th>\n",
       "      <th>id</th>\n",
       "      <th>author</th>\n",
       "      <th>created_utc</th>\n",
       "      <th>edited</th>\n",
       "      <th>is_self</th>\n",
       "      <th>link_flair_text</th>\n",
       "      <th>num_comments</th>\n",
       "      <th>saved</th>\n",
       "      <th>score</th>\n",
       "      <th>selftext</th>\n",
       "      <th>stickied</th>\n",
       "      <th>upvote_ratio</th>\n",
       "      <th>url</th>\n",
       "      <th>subreddit</th>\n",
       "    </tr>\n",
       "  </thead>\n",
       "  <tbody>\n",
       "    <tr>\n",
       "      <th>1</th>\n",
       "      <td>R programmers, what are the greatest issues yo...</td>\n",
       "      <td>15g96dc</td>\n",
       "      <td>joaoareias</td>\n",
       "      <td>1.690984e+09</td>\n",
       "      <td>False</td>\n",
       "      <td>True</td>\n",
       "      <td>Education</td>\n",
       "      <td>262</td>\n",
       "      <td>False</td>\n",
       "      <td>169</td>\n",
       "      <td>I'm a Data Scientist with a computer science b...</td>\n",
       "      <td>False</td>\n",
       "      <td>0.96</td>\n",
       "      <td>https://www.reddit.com/r/datascience/comments/...</td>\n",
       "      <td>datascience</td>\n",
       "    </tr>\n",
       "    <tr>\n",
       "      <th>2</th>\n",
       "      <td>U.S. Hiring Managers: how diverse is your appl...</td>\n",
       "      <td>15gezo5</td>\n",
       "      <td>dantzigismyhero</td>\n",
       "      <td>1.690997e+09</td>\n",
       "      <td>False</td>\n",
       "      <td>True</td>\n",
       "      <td>Discussion</td>\n",
       "      <td>42</td>\n",
       "      <td>False</td>\n",
       "      <td>38</td>\n",
       "      <td>We are currently hiring for a mid-level DS and...</td>\n",
       "      <td>False</td>\n",
       "      <td>0.89</td>\n",
       "      <td>https://www.reddit.com/r/datascience/comments/...</td>\n",
       "      <td>datascience</td>\n",
       "    </tr>\n",
       "    <tr>\n",
       "      <th>3</th>\n",
       "      <td>Do I need a masters?</td>\n",
       "      <td>15gmte5</td>\n",
       "      <td>Odd-Company-1440</td>\n",
       "      <td>1.691017e+09</td>\n",
       "      <td>False</td>\n",
       "      <td>True</td>\n",
       "      <td>Education</td>\n",
       "      <td>4</td>\n",
       "      <td>False</td>\n",
       "      <td>5</td>\n",
       "      <td>I am going into my second year as a statistics...</td>\n",
       "      <td>False</td>\n",
       "      <td>1.00</td>\n",
       "      <td>https://www.reddit.com/r/datascience/comments/...</td>\n",
       "      <td>datascience</td>\n",
       "    </tr>\n",
       "    <tr>\n",
       "      <th>4</th>\n",
       "      <td>How do you describe your job when someone asks...</td>\n",
       "      <td>15gkc1y</td>\n",
       "      <td>briannalynn24</td>\n",
       "      <td>1.691009e+09</td>\n",
       "      <td>False</td>\n",
       "      <td>True</td>\n",
       "      <td>Discussion</td>\n",
       "      <td>24</td>\n",
       "      <td>False</td>\n",
       "      <td>5</td>\n",
       "      <td>I recently got a job as a data scientist and I...</td>\n",
       "      <td>False</td>\n",
       "      <td>0.86</td>\n",
       "      <td>https://www.reddit.com/r/datascience/comments/...</td>\n",
       "      <td>datascience</td>\n",
       "    </tr>\n",
       "    <tr>\n",
       "      <th>5</th>\n",
       "      <td>How I quickly rose to senior data scientist an...</td>\n",
       "      <td>15fqkuj</td>\n",
       "      <td>on_the_mark_data</td>\n",
       "      <td>1.690928e+09</td>\n",
       "      <td>False</td>\n",
       "      <td>True</td>\n",
       "      <td>Discussion</td>\n",
       "      <td>89</td>\n",
       "      <td>False</td>\n",
       "      <td>208</td>\n",
       "      <td>TL;DR You need to drive outsized value beyond ...</td>\n",
       "      <td>False</td>\n",
       "      <td>0.86</td>\n",
       "      <td>https://www.reddit.com/r/datascience/comments/...</td>\n",
       "      <td>datascience</td>\n",
       "    </tr>\n",
       "  </tbody>\n",
       "</table>\n",
       "</div>"
      ],
      "text/plain": [
       "                                               title       id  \\\n",
       "1  R programmers, what are the greatest issues yo...  15g96dc   \n",
       "2  U.S. Hiring Managers: how diverse is your appl...  15gezo5   \n",
       "3                               Do I need a masters?  15gmte5   \n",
       "4  How do you describe your job when someone asks...  15gkc1y   \n",
       "5  How I quickly rose to senior data scientist an...  15fqkuj   \n",
       "\n",
       "             author   created_utc edited  is_self link_flair_text  \\\n",
       "1        joaoareias  1.690984e+09  False     True       Education   \n",
       "2   dantzigismyhero  1.690997e+09  False     True      Discussion   \n",
       "3  Odd-Company-1440  1.691017e+09  False     True       Education   \n",
       "4     briannalynn24  1.691009e+09  False     True      Discussion   \n",
       "5  on_the_mark_data  1.690928e+09  False     True      Discussion   \n",
       "\n",
       "   num_comments  saved  score  \\\n",
       "1           262  False    169   \n",
       "2            42  False     38   \n",
       "3             4  False      5   \n",
       "4            24  False      5   \n",
       "5            89  False    208   \n",
       "\n",
       "                                            selftext  stickied  upvote_ratio  \\\n",
       "1  I'm a Data Scientist with a computer science b...     False          0.96   \n",
       "2  We are currently hiring for a mid-level DS and...     False          0.89   \n",
       "3  I am going into my second year as a statistics...     False          1.00   \n",
       "4  I recently got a job as a data scientist and I...     False          0.86   \n",
       "5  TL;DR You need to drive outsized value beyond ...     False          0.86   \n",
       "\n",
       "                                                 url    subreddit  \n",
       "1  https://www.reddit.com/r/datascience/comments/...  datascience  \n",
       "2  https://www.reddit.com/r/datascience/comments/...  datascience  \n",
       "3  https://www.reddit.com/r/datascience/comments/...  datascience  \n",
       "4  https://www.reddit.com/r/datascience/comments/...  datascience  \n",
       "5  https://www.reddit.com/r/datascience/comments/...  datascience  "
      ]
     },
     "execution_count": 15,
     "metadata": {},
     "output_type": "execute_result"
    }
   ],
   "source": [
    "print(df.shape)\n",
    "df.head()"
   ]
  },
  {
   "cell_type": "code",
   "execution_count": 16,
   "id": "eee746a1-e11b-4d6c-9e55-b12c196ecd99",
   "metadata": {
    "scrolled": true
   },
   "outputs": [
    {
     "name": "stdout",
     "output_type": "stream",
     "text": [
      "SUBREDDIT CATEGORIES FOR R/DATASCIENCE:\n",
      "['Education' 'Discussion' 'Career' 'Projects' 'Networking' 'Tooling'\n",
      " 'Fun/Trivia' 'Meta']\n"
     ]
    }
   ],
   "source": [
    "print('SUBREDDIT CATEGORIES FOR R/DATASCIENCE:')\n",
    "print(df[df['subreddit']=='datascience']['link_flair_text'].unique())"
   ]
  },
  {
   "cell_type": "code",
   "execution_count": 17,
   "id": "972d7510-6e22-418b-9eea-f6aa36392234",
   "metadata": {},
   "outputs": [
    {
     "name": "stdout",
     "output_type": "stream",
     "text": [
      "SUBREDDIT CATEGORIES FOR R/DATAENGINEERING:\n"
     ]
    },
    {
     "data": {
      "text/plain": [
       "array(['Discussion', 'Career', 'Blog', 'Help', 'Meme', 'Interview',\n",
       "       'Open Source', 'Personal Project Showcase', 'Meta'], dtype=object)"
      ]
     },
     "execution_count": 17,
     "metadata": {},
     "output_type": "execute_result"
    }
   ],
   "source": [
    "print('SUBREDDIT CATEGORIES FOR R/DATAENGINEERING:')\n",
    "df[df['subreddit']=='dataengineering']['link_flair_text'].unique()"
   ]
  },
  {
   "cell_type": "markdown",
   "id": "ca00ce58-e7b7-4546-8af2-b1b01b426cc1",
   "metadata": {},
   "source": [
    "---\n",
    "#### Summary statistics - r/datascience"
   ]
  },
  {
   "cell_type": "code",
   "execution_count": 18,
   "id": "43cde1a2-03de-4534-8900-c7582c0d6aed",
   "metadata": {},
   "outputs": [
    {
     "data": {
      "text/html": [
       "<div>\n",
       "<style scoped>\n",
       "    .dataframe tbody tr th:only-of-type {\n",
       "        vertical-align: middle;\n",
       "    }\n",
       "\n",
       "    .dataframe tbody tr th {\n",
       "        vertical-align: top;\n",
       "    }\n",
       "\n",
       "    .dataframe thead th {\n",
       "        text-align: right;\n",
       "    }\n",
       "</style>\n",
       "<table border=\"1\" class=\"dataframe\">\n",
       "  <thead>\n",
       "    <tr style=\"text-align: right;\">\n",
       "      <th></th>\n",
       "      <th>created_utc</th>\n",
       "      <th>num_comments</th>\n",
       "      <th>score</th>\n",
       "      <th>upvote_ratio</th>\n",
       "    </tr>\n",
       "  </thead>\n",
       "  <tbody>\n",
       "    <tr>\n",
       "      <th>count</th>\n",
       "      <td>9.500000e+02</td>\n",
       "      <td>950.000000</td>\n",
       "      <td>950.000000</td>\n",
       "      <td>950.000000</td>\n",
       "    </tr>\n",
       "    <tr>\n",
       "      <th>mean</th>\n",
       "      <td>1.690037e+09</td>\n",
       "      <td>12.495789</td>\n",
       "      <td>14.553684</td>\n",
       "      <td>0.744747</td>\n",
       "    </tr>\n",
       "    <tr>\n",
       "      <th>std</th>\n",
       "      <td>6.039534e+05</td>\n",
       "      <td>31.446938</td>\n",
       "      <td>60.407317</td>\n",
       "      <td>0.244756</td>\n",
       "    </tr>\n",
       "    <tr>\n",
       "      <th>min</th>\n",
       "      <td>1.688885e+09</td>\n",
       "      <td>0.000000</td>\n",
       "      <td>0.000000</td>\n",
       "      <td>0.130000</td>\n",
       "    </tr>\n",
       "    <tr>\n",
       "      <th>25%</th>\n",
       "      <td>1.689606e+09</td>\n",
       "      <td>1.000000</td>\n",
       "      <td>0.000000</td>\n",
       "      <td>0.500000</td>\n",
       "    </tr>\n",
       "    <tr>\n",
       "      <th>50%</th>\n",
       "      <td>1.690031e+09</td>\n",
       "      <td>3.000000</td>\n",
       "      <td>1.000000</td>\n",
       "      <td>0.800000</td>\n",
       "    </tr>\n",
       "    <tr>\n",
       "      <th>75%</th>\n",
       "      <td>1.690550e+09</td>\n",
       "      <td>10.000000</td>\n",
       "      <td>5.000000</td>\n",
       "      <td>1.000000</td>\n",
       "    </tr>\n",
       "    <tr>\n",
       "      <th>max</th>\n",
       "      <td>1.691024e+09</td>\n",
       "      <td>472.000000</td>\n",
       "      <td>1209.000000</td>\n",
       "      <td>1.000000</td>\n",
       "    </tr>\n",
       "  </tbody>\n",
       "</table>\n",
       "</div>"
      ],
      "text/plain": [
       "        created_utc  num_comments        score  upvote_ratio\n",
       "count  9.500000e+02    950.000000   950.000000    950.000000\n",
       "mean   1.690037e+09     12.495789    14.553684      0.744747\n",
       "std    6.039534e+05     31.446938    60.407317      0.244756\n",
       "min    1.688885e+09      0.000000     0.000000      0.130000\n",
       "25%    1.689606e+09      1.000000     0.000000      0.500000\n",
       "50%    1.690031e+09      3.000000     1.000000      0.800000\n",
       "75%    1.690550e+09     10.000000     5.000000      1.000000\n",
       "max    1.691024e+09    472.000000  1209.000000      1.000000"
      ]
     },
     "execution_count": 18,
     "metadata": {},
     "output_type": "execute_result"
    }
   ],
   "source": [
    "df[df['subreddit']=='datascience'].describe(include=['int','float'])"
   ]
  },
  {
   "cell_type": "code",
   "execution_count": 19,
   "id": "544c3604-b980-4254-956a-54972040c79c",
   "metadata": {},
   "outputs": [
    {
     "data": {
      "text/html": [
       "<div>\n",
       "<style scoped>\n",
       "    .dataframe tbody tr th:only-of-type {\n",
       "        vertical-align: middle;\n",
       "    }\n",
       "\n",
       "    .dataframe tbody tr th {\n",
       "        vertical-align: top;\n",
       "    }\n",
       "\n",
       "    .dataframe thead th {\n",
       "        text-align: right;\n",
       "    }\n",
       "</style>\n",
       "<table border=\"1\" class=\"dataframe\">\n",
       "  <thead>\n",
       "    <tr style=\"text-align: right;\">\n",
       "      <th></th>\n",
       "      <th>title</th>\n",
       "      <th>id</th>\n",
       "      <th>author</th>\n",
       "      <th>edited</th>\n",
       "      <th>is_self</th>\n",
       "      <th>link_flair_text</th>\n",
       "      <th>saved</th>\n",
       "      <th>selftext</th>\n",
       "      <th>stickied</th>\n",
       "      <th>url</th>\n",
       "      <th>subreddit</th>\n",
       "    </tr>\n",
       "  </thead>\n",
       "  <tbody>\n",
       "    <tr>\n",
       "      <th>count</th>\n",
       "      <td>950</td>\n",
       "      <td>950</td>\n",
       "      <td>950</td>\n",
       "      <td>950</td>\n",
       "      <td>950</td>\n",
       "      <td>950</td>\n",
       "      <td>950</td>\n",
       "      <td>950</td>\n",
       "      <td>950</td>\n",
       "      <td>950</td>\n",
       "      <td>950</td>\n",
       "    </tr>\n",
       "    <tr>\n",
       "      <th>unique</th>\n",
       "      <td>947</td>\n",
       "      <td>950</td>\n",
       "      <td>852</td>\n",
       "      <td>67</td>\n",
       "      <td>2</td>\n",
       "      <td>8</td>\n",
       "      <td>1</td>\n",
       "      <td>854</td>\n",
       "      <td>1</td>\n",
       "      <td>950</td>\n",
       "      <td>1</td>\n",
       "    </tr>\n",
       "    <tr>\n",
       "      <th>top</th>\n",
       "      <td>Seeking Participants for AI-related Survey</td>\n",
       "      <td>15g96dc</td>\n",
       "      <td>SeriouslySally36</td>\n",
       "      <td>False</td>\n",
       "      <td>True</td>\n",
       "      <td>Discussion</td>\n",
       "      <td>False</td>\n",
       "      <td>nil</td>\n",
       "      <td>False</td>\n",
       "      <td>https://www.reddit.com/r/datascience/comments/...</td>\n",
       "      <td>datascience</td>\n",
       "    </tr>\n",
       "    <tr>\n",
       "      <th>freq</th>\n",
       "      <td>2</td>\n",
       "      <td>1</td>\n",
       "      <td>5</td>\n",
       "      <td>884</td>\n",
       "      <td>865</td>\n",
       "      <td>313</td>\n",
       "      <td>950</td>\n",
       "      <td>97</td>\n",
       "      <td>950</td>\n",
       "      <td>1</td>\n",
       "      <td>950</td>\n",
       "    </tr>\n",
       "  </tbody>\n",
       "</table>\n",
       "</div>"
      ],
      "text/plain": [
       "                                             title       id            author  \\\n",
       "count                                          950      950               950   \n",
       "unique                                         947      950               852   \n",
       "top     Seeking Participants for AI-related Survey  15g96dc  SeriouslySally36   \n",
       "freq                                             2        1                 5   \n",
       "\n",
       "       edited is_self link_flair_text  saved selftext stickied  \\\n",
       "count     950     950             950    950      950      950   \n",
       "unique     67       2               8      1      854        1   \n",
       "top     False    True      Discussion  False      nil    False   \n",
       "freq      884     865             313    950       97      950   \n",
       "\n",
       "                                                      url    subreddit  \n",
       "count                                                 950          950  \n",
       "unique                                                950            1  \n",
       "top     https://www.reddit.com/r/datascience/comments/...  datascience  \n",
       "freq                                                    1          950  "
      ]
     },
     "execution_count": 19,
     "metadata": {},
     "output_type": "execute_result"
    }
   ],
   "source": [
    "df[df['subreddit']=='datascience'].describe(include=['object','bool'])"
   ]
  },
  {
   "cell_type": "markdown",
   "id": "d0e9408e-1509-4818-81fc-78b8995c0731",
   "metadata": {},
   "source": [
    "#### Summary statistics - r/dataengineering"
   ]
  },
  {
   "cell_type": "code",
   "execution_count": 20,
   "id": "aa104160-0006-4eb1-8a2a-7eaf525a501f",
   "metadata": {},
   "outputs": [
    {
     "data": {
      "text/html": [
       "<div>\n",
       "<style scoped>\n",
       "    .dataframe tbody tr th:only-of-type {\n",
       "        vertical-align: middle;\n",
       "    }\n",
       "\n",
       "    .dataframe tbody tr th {\n",
       "        vertical-align: top;\n",
       "    }\n",
       "\n",
       "    .dataframe thead th {\n",
       "        text-align: right;\n",
       "    }\n",
       "</style>\n",
       "<table border=\"1\" class=\"dataframe\">\n",
       "  <thead>\n",
       "    <tr style=\"text-align: right;\">\n",
       "      <th></th>\n",
       "      <th>created_utc</th>\n",
       "      <th>num_comments</th>\n",
       "      <th>score</th>\n",
       "      <th>upvote_ratio</th>\n",
       "    </tr>\n",
       "  </thead>\n",
       "  <tbody>\n",
       "    <tr>\n",
       "      <th>count</th>\n",
       "      <td>9.560000e+02</td>\n",
       "      <td>956.000000</td>\n",
       "      <td>956.000000</td>\n",
       "      <td>956.000000</td>\n",
       "    </tr>\n",
       "    <tr>\n",
       "      <th>mean</th>\n",
       "      <td>1.689424e+09</td>\n",
       "      <td>12.324268</td>\n",
       "      <td>15.570084</td>\n",
       "      <td>0.861695</td>\n",
       "    </tr>\n",
       "    <tr>\n",
       "      <th>std</th>\n",
       "      <td>9.576543e+05</td>\n",
       "      <td>23.464967</td>\n",
       "      <td>47.607561</td>\n",
       "      <td>0.180396</td>\n",
       "    </tr>\n",
       "    <tr>\n",
       "      <th>min</th>\n",
       "      <td>1.685635e+09</td>\n",
       "      <td>0.000000</td>\n",
       "      <td>0.000000</td>\n",
       "      <td>0.170000</td>\n",
       "    </tr>\n",
       "    <tr>\n",
       "      <th>25%</th>\n",
       "      <td>1.688594e+09</td>\n",
       "      <td>1.000000</td>\n",
       "      <td>1.000000</td>\n",
       "      <td>0.780000</td>\n",
       "    </tr>\n",
       "    <tr>\n",
       "      <th>50%</th>\n",
       "      <td>1.689446e+09</td>\n",
       "      <td>5.000000</td>\n",
       "      <td>3.000000</td>\n",
       "      <td>0.935000</td>\n",
       "    </tr>\n",
       "    <tr>\n",
       "      <th>75%</th>\n",
       "      <td>1.690291e+09</td>\n",
       "      <td>13.000000</td>\n",
       "      <td>11.000000</td>\n",
       "      <td>1.000000</td>\n",
       "    </tr>\n",
       "    <tr>\n",
       "      <th>max</th>\n",
       "      <td>1.691049e+09</td>\n",
       "      <td>222.000000</td>\n",
       "      <td>800.000000</td>\n",
       "      <td>1.000000</td>\n",
       "    </tr>\n",
       "  </tbody>\n",
       "</table>\n",
       "</div>"
      ],
      "text/plain": [
       "        created_utc  num_comments       score  upvote_ratio\n",
       "count  9.560000e+02    956.000000  956.000000    956.000000\n",
       "mean   1.689424e+09     12.324268   15.570084      0.861695\n",
       "std    9.576543e+05     23.464967   47.607561      0.180396\n",
       "min    1.685635e+09      0.000000    0.000000      0.170000\n",
       "25%    1.688594e+09      1.000000    1.000000      0.780000\n",
       "50%    1.689446e+09      5.000000    3.000000      0.935000\n",
       "75%    1.690291e+09     13.000000   11.000000      1.000000\n",
       "max    1.691049e+09    222.000000  800.000000      1.000000"
      ]
     },
     "execution_count": 20,
     "metadata": {},
     "output_type": "execute_result"
    }
   ],
   "source": [
    "df[df['subreddit']=='dataengineering'].describe(include=['int','float'])"
   ]
  },
  {
   "cell_type": "code",
   "execution_count": 21,
   "id": "85cf531e-e979-4953-bfa7-2103a96b1530",
   "metadata": {},
   "outputs": [
    {
     "data": {
      "text/html": [
       "<div>\n",
       "<style scoped>\n",
       "    .dataframe tbody tr th:only-of-type {\n",
       "        vertical-align: middle;\n",
       "    }\n",
       "\n",
       "    .dataframe tbody tr th {\n",
       "        vertical-align: top;\n",
       "    }\n",
       "\n",
       "    .dataframe thead th {\n",
       "        text-align: right;\n",
       "    }\n",
       "</style>\n",
       "<table border=\"1\" class=\"dataframe\">\n",
       "  <thead>\n",
       "    <tr style=\"text-align: right;\">\n",
       "      <th></th>\n",
       "      <th>title</th>\n",
       "      <th>id</th>\n",
       "      <th>author</th>\n",
       "      <th>edited</th>\n",
       "      <th>is_self</th>\n",
       "      <th>link_flair_text</th>\n",
       "      <th>saved</th>\n",
       "      <th>selftext</th>\n",
       "      <th>stickied</th>\n",
       "      <th>url</th>\n",
       "      <th>subreddit</th>\n",
       "    </tr>\n",
       "  </thead>\n",
       "  <tbody>\n",
       "    <tr>\n",
       "      <th>count</th>\n",
       "      <td>956</td>\n",
       "      <td>956</td>\n",
       "      <td>956</td>\n",
       "      <td>956</td>\n",
       "      <td>956</td>\n",
       "      <td>956</td>\n",
       "      <td>956</td>\n",
       "      <td>956</td>\n",
       "      <td>956</td>\n",
       "      <td>956</td>\n",
       "      <td>956</td>\n",
       "    </tr>\n",
       "    <tr>\n",
       "      <th>unique</th>\n",
       "      <td>956</td>\n",
       "      <td>956</td>\n",
       "      <td>776</td>\n",
       "      <td>77</td>\n",
       "      <td>2</td>\n",
       "      <td>9</td>\n",
       "      <td>1</td>\n",
       "      <td>833</td>\n",
       "      <td>2</td>\n",
       "      <td>956</td>\n",
       "      <td>1</td>\n",
       "    </tr>\n",
       "    <tr>\n",
       "      <th>top</th>\n",
       "      <td>Monthly General Discussion - Aug 2023</td>\n",
       "      <td>15fgn9y</td>\n",
       "      <td>itty-bitty-birdy-tb</td>\n",
       "      <td>False</td>\n",
       "      <td>True</td>\n",
       "      <td>Discussion</td>\n",
       "      <td>False</td>\n",
       "      <td>nil</td>\n",
       "      <td>False</td>\n",
       "      <td>https://www.reddit.com/r/dataengineering/comme...</td>\n",
       "      <td>dataengineering</td>\n",
       "    </tr>\n",
       "    <tr>\n",
       "      <th>freq</th>\n",
       "      <td>1</td>\n",
       "      <td>1</td>\n",
       "      <td>6</td>\n",
       "      <td>880</td>\n",
       "      <td>823</td>\n",
       "      <td>314</td>\n",
       "      <td>956</td>\n",
       "      <td>124</td>\n",
       "      <td>954</td>\n",
       "      <td>1</td>\n",
       "      <td>956</td>\n",
       "    </tr>\n",
       "  </tbody>\n",
       "</table>\n",
       "</div>"
      ],
      "text/plain": [
       "                                        title       id               author  \\\n",
       "count                                     956      956                  956   \n",
       "unique                                    956      956                  776   \n",
       "top     Monthly General Discussion - Aug 2023  15fgn9y  itty-bitty-birdy-tb   \n",
       "freq                                        1        1                    6   \n",
       "\n",
       "       edited is_self link_flair_text  saved selftext stickied  \\\n",
       "count     956     956             956    956      956      956   \n",
       "unique     77       2               9      1      833        2   \n",
       "top     False    True      Discussion  False      nil    False   \n",
       "freq      880     823             314    956      124      954   \n",
       "\n",
       "                                                      url        subreddit  \n",
       "count                                                 956              956  \n",
       "unique                                                956                1  \n",
       "top     https://www.reddit.com/r/dataengineering/comme...  dataengineering  \n",
       "freq                                                    1              956  "
      ]
     },
     "execution_count": 21,
     "metadata": {},
     "output_type": "execute_result"
    }
   ],
   "source": [
    "df[df['subreddit']=='dataengineering'].describe(include=['object','bool'])"
   ]
  },
  {
   "cell_type": "markdown",
   "id": "9df1e189-8ba5-4cb1-8a69-f351553b0662",
   "metadata": {},
   "source": [
    "##### Findings\n",
    "* **Total posts** - balanced btwn both subreddits\n",
    "    * r/datascience: 950 posts\n",
    "    * r/dataengineering: 956 posts\n",
    "* **The top post**\n",
    "    * r/datascience top posts: 472 comments, 1209 score\n",
    "    * r/dataengineering: 222 comments, 800 score\n",
    "* **Average score of posts**\n",
    "    * r/datascience: 14.55 score\n",
    "    * r/dataengineering: 15.57 score\n",
    "* **Number of Unique Authors**\n",
    "    * r/datascience: 852\n",
    "    * r/dataengineering: 776\n",
    "\n",
    "Due to the limitation on total no of posts set by reddit, we are unable to tell which subreddit has more posts / comments throughout its full history. Both subreddits seem quite balanced, although r/dataengineering seems to have slightly more activity, having more edited, saved and stickied posts as compared to r/datascience. As data engineering is the newer branch of data science, there could be more interest and discussion around it. \n",
    "\n",
    "On the other hand, data science has more unique authors than data engineering. We would expect this, since data science is the more established field which people would be more familiar with."
   ]
  },
  {
   "cell_type": "markdown",
   "id": "a57ac81a-878b-4ca4-8e12-4cecf1b6dd14",
   "metadata": {},
   "source": [
    "---\n",
    "### 2.1.3 Create `df_text` dataframe\n",
    "Import r/datascience and r/dataengineering comments dataset. From all 4 dataframes, (comments + posts df for r/datascience and r/dataengineering) extract only text columns and concat them to form a dataframe mainly for text analysis."
   ]
  },
  {
   "cell_type": "code",
   "execution_count": 22,
   "id": "0db8414f-547e-4dba-957d-0a3671b9ede4",
   "metadata": {},
   "outputs": [
    {
     "name": "stdout",
     "output_type": "stream",
     "text": [
      "(12403, 13)\n"
     ]
    },
    {
     "data": {
      "text/html": [
       "<div>\n",
       "<style scoped>\n",
       "    .dataframe tbody tr th:only-of-type {\n",
       "        vertical-align: middle;\n",
       "    }\n",
       "\n",
       "    .dataframe tbody tr th {\n",
       "        vertical-align: top;\n",
       "    }\n",
       "\n",
       "    .dataframe thead th {\n",
       "        text-align: right;\n",
       "    }\n",
       "</style>\n",
       "<table border=\"1\" class=\"dataframe\">\n",
       "  <thead>\n",
       "    <tr style=\"text-align: right;\">\n",
       "      <th></th>\n",
       "      <th>body</th>\n",
       "      <th>body_html</th>\n",
       "      <th>subreddit_id</th>\n",
       "      <th>author</th>\n",
       "      <th>created_utc</th>\n",
       "      <th>distinguished</th>\n",
       "      <th>edited</th>\n",
       "      <th>id</th>\n",
       "      <th>saved</th>\n",
       "      <th>score</th>\n",
       "      <th>stickied</th>\n",
       "      <th>submission</th>\n",
       "      <th>subreddit</th>\n",
       "    </tr>\n",
       "  </thead>\n",
       "  <tbody>\n",
       "    <tr>\n",
       "      <th>0</th>\n",
       "      <td>Hello.\\n\\nI’m about to start my BS in Data Sci...</td>\n",
       "      <td>&lt;div class=\"md\"&gt;&lt;p&gt;Hello.&lt;/p&gt;\\n\\n&lt;p&gt;I’m about ...</td>\n",
       "      <td>t5_2sptq</td>\n",
       "      <td>Competitive_Pay_9117</td>\n",
       "      <td>1.690864e+09</td>\n",
       "      <td>NaN</td>\n",
       "      <td>False</td>\n",
       "      <td>juawerx</td>\n",
       "      <td>False</td>\n",
       "      <td>2</td>\n",
       "      <td>False</td>\n",
       "      <td>15e5iw6</td>\n",
       "      <td>datascience</td>\n",
       "    </tr>\n",
       "    <tr>\n",
       "      <th>1</th>\n",
       "      <td>Hey guys, I'm graduating from my bachelor's in...</td>\n",
       "      <td>&lt;div class=\"md\"&gt;&lt;p&gt;Hey guys, I&amp;#39;m graduatin...</td>\n",
       "      <td>t5_2sptq</td>\n",
       "      <td>Emperorofweirdos</td>\n",
       "      <td>1.690962e+09</td>\n",
       "      <td>NaN</td>\n",
       "      <td>False</td>\n",
       "      <td>jugdppb</td>\n",
       "      <td>False</td>\n",
       "      <td>2</td>\n",
       "      <td>False</td>\n",
       "      <td>15e5iw6</td>\n",
       "      <td>datascience</td>\n",
       "    </tr>\n",
       "  </tbody>\n",
       "</table>\n",
       "</div>"
      ],
      "text/plain": [
       "                                                body  \\\n",
       "0  Hello.\\n\\nI’m about to start my BS in Data Sci...   \n",
       "1  Hey guys, I'm graduating from my bachelor's in...   \n",
       "\n",
       "                                           body_html subreddit_id  \\\n",
       "0  <div class=\"md\"><p>Hello.</p>\\n\\n<p>I’m about ...     t5_2sptq   \n",
       "1  <div class=\"md\"><p>Hey guys, I&#39;m graduatin...     t5_2sptq   \n",
       "\n",
       "                 author   created_utc distinguished edited       id  saved  \\\n",
       "0  Competitive_Pay_9117  1.690864e+09           NaN  False  juawerx  False   \n",
       "1      Emperorofweirdos  1.690962e+09           NaN  False  jugdppb  False   \n",
       "\n",
       "   score  stickied submission    subreddit  \n",
       "0      2     False    15e5iw6  datascience  \n",
       "1      2     False    15e5iw6  datascience  "
      ]
     },
     "execution_count": 22,
     "metadata": {},
     "output_type": "execute_result"
    }
   ],
   "source": [
    "#r/datascience  comments dataset\n",
    "print(d_sc_comm.shape)\n",
    "d_sc_comm.head(2)"
   ]
  },
  {
   "cell_type": "code",
   "execution_count": 23,
   "id": "898a3a19-3eb8-494e-b3c8-dacf4db2b083",
   "metadata": {},
   "outputs": [
    {
     "name": "stdout",
     "output_type": "stream",
     "text": [
      "(11740, 13)\n"
     ]
    },
    {
     "data": {
      "text/html": [
       "<div>\n",
       "<style scoped>\n",
       "    .dataframe tbody tr th:only-of-type {\n",
       "        vertical-align: middle;\n",
       "    }\n",
       "\n",
       "    .dataframe tbody tr th {\n",
       "        vertical-align: top;\n",
       "    }\n",
       "\n",
       "    .dataframe thead th {\n",
       "        text-align: right;\n",
       "    }\n",
       "</style>\n",
       "<table border=\"1\" class=\"dataframe\">\n",
       "  <thead>\n",
       "    <tr style=\"text-align: right;\">\n",
       "      <th></th>\n",
       "      <th>body</th>\n",
       "      <th>body_html</th>\n",
       "      <th>subreddit_id</th>\n",
       "      <th>author</th>\n",
       "      <th>created_utc</th>\n",
       "      <th>distinguished</th>\n",
       "      <th>edited</th>\n",
       "      <th>id</th>\n",
       "      <th>saved</th>\n",
       "      <th>score</th>\n",
       "      <th>stickied</th>\n",
       "      <th>submission</th>\n",
       "      <th>subreddit</th>\n",
       "    </tr>\n",
       "  </thead>\n",
       "  <tbody>\n",
       "    <tr>\n",
       "      <th>0</th>\n",
       "      <td>How can I learn how to understand the EXPLAIN ...</td>\n",
       "      <td>&lt;div class=\"md\"&gt;&lt;p&gt;How can I learn how to unde...</td>\n",
       "      <td>t5_36en4</td>\n",
       "      <td>third_dude</td>\n",
       "      <td>1.690915e+09</td>\n",
       "      <td>NaN</td>\n",
       "      <td>False</td>\n",
       "      <td>judmcvy</td>\n",
       "      <td>False</td>\n",
       "      <td>1</td>\n",
       "      <td>False</td>\n",
       "      <td>15fgn9y</td>\n",
       "      <td>dataengineering</td>\n",
       "    </tr>\n",
       "    <tr>\n",
       "      <th>1</th>\n",
       "      <td>1. Staff Data Engineer\\n2. 11y in software, 2....</td>\n",
       "      <td>&lt;div class=\"md\"&gt;&lt;ol&gt;\\n&lt;li&gt;Staff Data Engineer&lt;...</td>\n",
       "      <td>t5_36en4</td>\n",
       "      <td>BklynTwinMom</td>\n",
       "      <td>1.685673e+09</td>\n",
       "      <td>NaN</td>\n",
       "      <td>False</td>\n",
       "      <td>jmka8w8</td>\n",
       "      <td>False</td>\n",
       "      <td>28</td>\n",
       "      <td>False</td>\n",
       "      <td>13xldpd</td>\n",
       "      <td>dataengineering</td>\n",
       "    </tr>\n",
       "  </tbody>\n",
       "</table>\n",
       "</div>"
      ],
      "text/plain": [
       "                                                body  \\\n",
       "0  How can I learn how to understand the EXPLAIN ...   \n",
       "1  1. Staff Data Engineer\\n2. 11y in software, 2....   \n",
       "\n",
       "                                           body_html subreddit_id  \\\n",
       "0  <div class=\"md\"><p>How can I learn how to unde...     t5_36en4   \n",
       "1  <div class=\"md\"><ol>\\n<li>Staff Data Engineer<...     t5_36en4   \n",
       "\n",
       "         author   created_utc distinguished edited       id  saved  score  \\\n",
       "0    third_dude  1.690915e+09           NaN  False  judmcvy  False      1   \n",
       "1  BklynTwinMom  1.685673e+09           NaN  False  jmka8w8  False     28   \n",
       "\n",
       "   stickied submission        subreddit  \n",
       "0     False    15fgn9y  dataengineering  \n",
       "1     False    13xldpd  dataengineering  "
      ]
     },
     "execution_count": 23,
     "metadata": {},
     "output_type": "execute_result"
    }
   ],
   "source": [
    "#r/dataengineering comments dataset\n",
    "print(d_engr_comm.shape)\n",
    "d_engr_comm.head(2)"
   ]
  },
  {
   "cell_type": "markdown",
   "id": "de716af0-9ea8-419c-bf7d-63ac1d164152",
   "metadata": {},
   "source": [
    "Concat both datasets for cleaning:"
   ]
  },
  {
   "cell_type": "code",
   "execution_count": 24,
   "id": "0c262b5a-f4ab-40e8-b33d-406f26696d0b",
   "metadata": {},
   "outputs": [],
   "source": [
    "df_comm = pd.concat(objs = [d_sc_comm, d_engr_comm], axis=0)"
   ]
  },
  {
   "cell_type": "code",
   "execution_count": 25,
   "id": "35727c22-3b77-4dbe-a52c-e05e0783d912",
   "metadata": {},
   "outputs": [
    {
     "data": {
      "text/plain": [
       "datascience        12403\n",
       "dataengineering    11740\n",
       "Name: subreddit, dtype: int64"
      ]
     },
     "execution_count": 25,
     "metadata": {},
     "output_type": "execute_result"
    }
   ],
   "source": [
    "# Check proportions\n",
    "df_comm['subreddit'].value_counts()"
   ]
  },
  {
   "cell_type": "code",
   "execution_count": 26,
   "id": "b585ac43-1e0d-43a6-873f-7c53f3ebe35d",
   "metadata": {
    "scrolled": true
   },
   "outputs": [
    {
     "name": "stdout",
     "output_type": "stream",
     "text": [
      "(24143, 13)\n"
     ]
    },
    {
     "data": {
      "text/html": [
       "<div>\n",
       "<style scoped>\n",
       "    .dataframe tbody tr th:only-of-type {\n",
       "        vertical-align: middle;\n",
       "    }\n",
       "\n",
       "    .dataframe tbody tr th {\n",
       "        vertical-align: top;\n",
       "    }\n",
       "\n",
       "    .dataframe thead th {\n",
       "        text-align: right;\n",
       "    }\n",
       "</style>\n",
       "<table border=\"1\" class=\"dataframe\">\n",
       "  <thead>\n",
       "    <tr style=\"text-align: right;\">\n",
       "      <th></th>\n",
       "      <th>body</th>\n",
       "      <th>body_html</th>\n",
       "      <th>subreddit_id</th>\n",
       "      <th>author</th>\n",
       "      <th>created_utc</th>\n",
       "      <th>distinguished</th>\n",
       "      <th>edited</th>\n",
       "      <th>id</th>\n",
       "      <th>saved</th>\n",
       "      <th>score</th>\n",
       "      <th>stickied</th>\n",
       "      <th>submission</th>\n",
       "      <th>subreddit</th>\n",
       "    </tr>\n",
       "  </thead>\n",
       "  <tbody>\n",
       "    <tr>\n",
       "      <th>0</th>\n",
       "      <td>Hello.\\n\\nI’m about to start my BS in Data Sci...</td>\n",
       "      <td>&lt;div class=\"md\"&gt;&lt;p&gt;Hello.&lt;/p&gt;\\n\\n&lt;p&gt;I’m about ...</td>\n",
       "      <td>t5_2sptq</td>\n",
       "      <td>Competitive_Pay_9117</td>\n",
       "      <td>1.690864e+09</td>\n",
       "      <td>NaN</td>\n",
       "      <td>False</td>\n",
       "      <td>juawerx</td>\n",
       "      <td>False</td>\n",
       "      <td>2</td>\n",
       "      <td>False</td>\n",
       "      <td>15e5iw6</td>\n",
       "      <td>datascience</td>\n",
       "    </tr>\n",
       "    <tr>\n",
       "      <th>1</th>\n",
       "      <td>Hey guys, I'm graduating from my bachelor's in...</td>\n",
       "      <td>&lt;div class=\"md\"&gt;&lt;p&gt;Hey guys, I&amp;#39;m graduatin...</td>\n",
       "      <td>t5_2sptq</td>\n",
       "      <td>Emperorofweirdos</td>\n",
       "      <td>1.690962e+09</td>\n",
       "      <td>NaN</td>\n",
       "      <td>False</td>\n",
       "      <td>jugdppb</td>\n",
       "      <td>False</td>\n",
       "      <td>2</td>\n",
       "      <td>False</td>\n",
       "      <td>15e5iw6</td>\n",
       "      <td>datascience</td>\n",
       "    </tr>\n",
       "  </tbody>\n",
       "</table>\n",
       "</div>"
      ],
      "text/plain": [
       "                                                body  \\\n",
       "0  Hello.\\n\\nI’m about to start my BS in Data Sci...   \n",
       "1  Hey guys, I'm graduating from my bachelor's in...   \n",
       "\n",
       "                                           body_html subreddit_id  \\\n",
       "0  <div class=\"md\"><p>Hello.</p>\\n\\n<p>I’m about ...     t5_2sptq   \n",
       "1  <div class=\"md\"><p>Hey guys, I&#39;m graduatin...     t5_2sptq   \n",
       "\n",
       "                 author   created_utc distinguished edited       id  saved  \\\n",
       "0  Competitive_Pay_9117  1.690864e+09           NaN  False  juawerx  False   \n",
       "1      Emperorofweirdos  1.690962e+09           NaN  False  jugdppb  False   \n",
       "\n",
       "   score  stickied submission    subreddit  \n",
       "0      2     False    15e5iw6  datascience  \n",
       "1      2     False    15e5iw6  datascience  "
      ]
     },
     "execution_count": 26,
     "metadata": {},
     "output_type": "execute_result"
    }
   ],
   "source": [
    "print(df_comm.shape)\n",
    "df_comm.head(2)"
   ]
  },
  {
   "cell_type": "code",
   "execution_count": 27,
   "id": "ce3a6bed-b6ac-4333-a695-7ae9758da404",
   "metadata": {},
   "outputs": [
    {
     "name": "stdout",
     "output_type": "stream",
     "text": [
      "          Column  Null Count\n",
      "0         author         547\n",
      "1  distinguished       23928\n",
      "          Column  Null Percentage\n",
      "0         author             2.27\n",
      "1  distinguished            99.11\n",
      "No of duplicates: 0\n"
     ]
    }
   ],
   "source": [
    "inspect_df(df_comm)"
   ]
  },
  {
   "cell_type": "markdown",
   "id": "28b03664-1acc-469d-bb2a-d7dddd46ce96",
   "metadata": {},
   "source": [
    "##### Findings\n",
    "* There are missing values in 2 columns in total.\n",
    "* There are no duplicates.\n",
    "* Since 'distinguished' column is almost completely null (and also not essential), we will drop the column.\n",
    "* For 'author' column, since null percentage is 2.27% (less than 5%), we will drop the missing rows."
   ]
  },
  {
   "cell_type": "code",
   "execution_count": 28,
   "id": "93a57a79-989c-4b53-a8cb-e6787350d315",
   "metadata": {},
   "outputs": [],
   "source": [
    "#drop 'distinguished' column\n",
    "df_comm.drop(['distinguished'], axis=1, inplace=True)"
   ]
  },
  {
   "cell_type": "code",
   "execution_count": 29,
   "id": "30466552-0a8d-405b-bcb6-35c1b1f35e16",
   "metadata": {
    "scrolled": true
   },
   "outputs": [
    {
     "name": "stdout",
     "output_type": "stream",
     "text": [
      "(23596, 12)\n"
     ]
    },
    {
     "data": {
      "text/html": [
       "<div>\n",
       "<style scoped>\n",
       "    .dataframe tbody tr th:only-of-type {\n",
       "        vertical-align: middle;\n",
       "    }\n",
       "\n",
       "    .dataframe tbody tr th {\n",
       "        vertical-align: top;\n",
       "    }\n",
       "\n",
       "    .dataframe thead th {\n",
       "        text-align: right;\n",
       "    }\n",
       "</style>\n",
       "<table border=\"1\" class=\"dataframe\">\n",
       "  <thead>\n",
       "    <tr style=\"text-align: right;\">\n",
       "      <th></th>\n",
       "      <th>body</th>\n",
       "      <th>body_html</th>\n",
       "      <th>subreddit_id</th>\n",
       "      <th>author</th>\n",
       "      <th>created_utc</th>\n",
       "      <th>edited</th>\n",
       "      <th>id</th>\n",
       "      <th>saved</th>\n",
       "      <th>score</th>\n",
       "      <th>stickied</th>\n",
       "      <th>submission</th>\n",
       "      <th>subreddit</th>\n",
       "    </tr>\n",
       "  </thead>\n",
       "  <tbody>\n",
       "    <tr>\n",
       "      <th>0</th>\n",
       "      <td>Hello.\\n\\nI’m about to start my BS in Data Sci...</td>\n",
       "      <td>&lt;div class=\"md\"&gt;&lt;p&gt;Hello.&lt;/p&gt;\\n\\n&lt;p&gt;I’m about ...</td>\n",
       "      <td>t5_2sptq</td>\n",
       "      <td>Competitive_Pay_9117</td>\n",
       "      <td>1.690864e+09</td>\n",
       "      <td>False</td>\n",
       "      <td>juawerx</td>\n",
       "      <td>False</td>\n",
       "      <td>2</td>\n",
       "      <td>False</td>\n",
       "      <td>15e5iw6</td>\n",
       "      <td>datascience</td>\n",
       "    </tr>\n",
       "    <tr>\n",
       "      <th>1</th>\n",
       "      <td>Hey guys, I'm graduating from my bachelor's in...</td>\n",
       "      <td>&lt;div class=\"md\"&gt;&lt;p&gt;Hey guys, I&amp;#39;m graduatin...</td>\n",
       "      <td>t5_2sptq</td>\n",
       "      <td>Emperorofweirdos</td>\n",
       "      <td>1.690962e+09</td>\n",
       "      <td>False</td>\n",
       "      <td>jugdppb</td>\n",
       "      <td>False</td>\n",
       "      <td>2</td>\n",
       "      <td>False</td>\n",
       "      <td>15e5iw6</td>\n",
       "      <td>datascience</td>\n",
       "    </tr>\n",
       "    <tr>\n",
       "      <th>2</th>\n",
       "      <td>Can I get a job as a fresher in data science?\\...</td>\n",
       "      <td>&lt;div class=\"md\"&gt;&lt;p&gt;Can I get a job as a freshe...</td>\n",
       "      <td>t5_2sptq</td>\n",
       "      <td>Luo-yi-</td>\n",
       "      <td>1.690796e+09</td>\n",
       "      <td>False</td>\n",
       "      <td>ju6k0p5</td>\n",
       "      <td>False</td>\n",
       "      <td>1</td>\n",
       "      <td>False</td>\n",
       "      <td>15e5iw6</td>\n",
       "      <td>datascience</td>\n",
       "    </tr>\n",
       "    <tr>\n",
       "      <th>3</th>\n",
       "      <td>Is it a good idea and possible to get a MS in ...</td>\n",
       "      <td>&lt;div class=\"md\"&gt;&lt;p&gt;Is it a good idea and possi...</td>\n",
       "      <td>t5_2sptq</td>\n",
       "      <td>slimjimmy1928</td>\n",
       "      <td>1.690821e+09</td>\n",
       "      <td>False</td>\n",
       "      <td>ju7yvce</td>\n",
       "      <td>False</td>\n",
       "      <td>0</td>\n",
       "      <td>False</td>\n",
       "      <td>15e5iw6</td>\n",
       "      <td>datascience</td>\n",
       "    </tr>\n",
       "    <tr>\n",
       "      <th>4</th>\n",
       "      <td>I am finishing my PhD program in which I did ~...</td>\n",
       "      <td>&lt;div class=\"md\"&gt;&lt;p&gt;I am finishing my PhD progr...</td>\n",
       "      <td>t5_2sptq</td>\n",
       "      <td>tunamouse</td>\n",
       "      <td>1.690829e+09</td>\n",
       "      <td>False</td>\n",
       "      <td>ju8lv71</td>\n",
       "      <td>False</td>\n",
       "      <td>0</td>\n",
       "      <td>False</td>\n",
       "      <td>15e5iw6</td>\n",
       "      <td>datascience</td>\n",
       "    </tr>\n",
       "  </tbody>\n",
       "</table>\n",
       "</div>"
      ],
      "text/plain": [
       "                                                body  \\\n",
       "0  Hello.\\n\\nI’m about to start my BS in Data Sci...   \n",
       "1  Hey guys, I'm graduating from my bachelor's in...   \n",
       "2  Can I get a job as a fresher in data science?\\...   \n",
       "3  Is it a good idea and possible to get a MS in ...   \n",
       "4  I am finishing my PhD program in which I did ~...   \n",
       "\n",
       "                                           body_html subreddit_id  \\\n",
       "0  <div class=\"md\"><p>Hello.</p>\\n\\n<p>I’m about ...     t5_2sptq   \n",
       "1  <div class=\"md\"><p>Hey guys, I&#39;m graduatin...     t5_2sptq   \n",
       "2  <div class=\"md\"><p>Can I get a job as a freshe...     t5_2sptq   \n",
       "3  <div class=\"md\"><p>Is it a good idea and possi...     t5_2sptq   \n",
       "4  <div class=\"md\"><p>I am finishing my PhD progr...     t5_2sptq   \n",
       "\n",
       "                 author   created_utc edited       id  saved  score  stickied  \\\n",
       "0  Competitive_Pay_9117  1.690864e+09  False  juawerx  False      2     False   \n",
       "1      Emperorofweirdos  1.690962e+09  False  jugdppb  False      2     False   \n",
       "2               Luo-yi-  1.690796e+09  False  ju6k0p5  False      1     False   \n",
       "3         slimjimmy1928  1.690821e+09  False  ju7yvce  False      0     False   \n",
       "4             tunamouse  1.690829e+09  False  ju8lv71  False      0     False   \n",
       "\n",
       "  submission    subreddit  \n",
       "0    15e5iw6  datascience  \n",
       "1    15e5iw6  datascience  \n",
       "2    15e5iw6  datascience  \n",
       "3    15e5iw6  datascience  \n",
       "4    15e5iw6  datascience  "
      ]
     },
     "execution_count": 29,
     "metadata": {},
     "output_type": "execute_result"
    }
   ],
   "source": [
    "# Drop null rows for 'author' and 'link_flair_text'\n",
    "df_comm.dropna(subset=['author'], inplace=True)\n",
    "\n",
    "print(df_comm.shape)\n",
    "df_comm.head()"
   ]
  },
  {
   "cell_type": "markdown",
   "id": "2d4c62aa-1cee-4a8f-82e4-1262a9cec63c",
   "metadata": {},
   "source": [
    "---\n",
    "#### Concat only title_selftext and subreddit columns of `df` and `df_comm`"
   ]
  },
  {
   "cell_type": "markdown",
   "id": "415f3254-8281-4d04-b423-9739c7137b5f",
   "metadata": {},
   "source": [
    "##### df"
   ]
  },
  {
   "cell_type": "code",
   "execution_count": 30,
   "id": "90af8967-ce74-475d-b9a2-b460c8de6476",
   "metadata": {
    "scrolled": true
   },
   "outputs": [
    {
     "data": {
      "text/html": [
       "<div>\n",
       "<style scoped>\n",
       "    .dataframe tbody tr th:only-of-type {\n",
       "        vertical-align: middle;\n",
       "    }\n",
       "\n",
       "    .dataframe tbody tr th {\n",
       "        vertical-align: top;\n",
       "    }\n",
       "\n",
       "    .dataframe thead th {\n",
       "        text-align: right;\n",
       "    }\n",
       "</style>\n",
       "<table border=\"1\" class=\"dataframe\">\n",
       "  <thead>\n",
       "    <tr style=\"text-align: right;\">\n",
       "      <th></th>\n",
       "      <th>title</th>\n",
       "      <th>id</th>\n",
       "      <th>author</th>\n",
       "      <th>created_utc</th>\n",
       "      <th>edited</th>\n",
       "      <th>is_self</th>\n",
       "      <th>link_flair_text</th>\n",
       "      <th>num_comments</th>\n",
       "      <th>saved</th>\n",
       "      <th>score</th>\n",
       "      <th>selftext</th>\n",
       "      <th>stickied</th>\n",
       "      <th>upvote_ratio</th>\n",
       "      <th>url</th>\n",
       "      <th>subreddit</th>\n",
       "      <th>title_selftext</th>\n",
       "    </tr>\n",
       "  </thead>\n",
       "  <tbody>\n",
       "    <tr>\n",
       "      <th>1</th>\n",
       "      <td>R programmers, what are the greatest issues yo...</td>\n",
       "      <td>15g96dc</td>\n",
       "      <td>joaoareias</td>\n",
       "      <td>1.690984e+09</td>\n",
       "      <td>False</td>\n",
       "      <td>True</td>\n",
       "      <td>Education</td>\n",
       "      <td>262</td>\n",
       "      <td>False</td>\n",
       "      <td>169</td>\n",
       "      <td>I'm a Data Scientist with a computer science b...</td>\n",
       "      <td>False</td>\n",
       "      <td>0.96</td>\n",
       "      <td>https://www.reddit.com/r/datascience/comments/...</td>\n",
       "      <td>datascience</td>\n",
       "      <td>R programmers, what are the greatest issues yo...</td>\n",
       "    </tr>\n",
       "    <tr>\n",
       "      <th>2</th>\n",
       "      <td>U.S. Hiring Managers: how diverse is your appl...</td>\n",
       "      <td>15gezo5</td>\n",
       "      <td>dantzigismyhero</td>\n",
       "      <td>1.690997e+09</td>\n",
       "      <td>False</td>\n",
       "      <td>True</td>\n",
       "      <td>Discussion</td>\n",
       "      <td>42</td>\n",
       "      <td>False</td>\n",
       "      <td>38</td>\n",
       "      <td>We are currently hiring for a mid-level DS and...</td>\n",
       "      <td>False</td>\n",
       "      <td>0.89</td>\n",
       "      <td>https://www.reddit.com/r/datascience/comments/...</td>\n",
       "      <td>datascience</td>\n",
       "      <td>U.S. Hiring Managers: how diverse is your appl...</td>\n",
       "    </tr>\n",
       "    <tr>\n",
       "      <th>3</th>\n",
       "      <td>Do I need a masters?</td>\n",
       "      <td>15gmte5</td>\n",
       "      <td>Odd-Company-1440</td>\n",
       "      <td>1.691017e+09</td>\n",
       "      <td>False</td>\n",
       "      <td>True</td>\n",
       "      <td>Education</td>\n",
       "      <td>4</td>\n",
       "      <td>False</td>\n",
       "      <td>5</td>\n",
       "      <td>I am going into my second year as a statistics...</td>\n",
       "      <td>False</td>\n",
       "      <td>1.00</td>\n",
       "      <td>https://www.reddit.com/r/datascience/comments/...</td>\n",
       "      <td>datascience</td>\n",
       "      <td>Do I need a masters? I am going into my second...</td>\n",
       "    </tr>\n",
       "    <tr>\n",
       "      <th>4</th>\n",
       "      <td>How do you describe your job when someone asks...</td>\n",
       "      <td>15gkc1y</td>\n",
       "      <td>briannalynn24</td>\n",
       "      <td>1.691009e+09</td>\n",
       "      <td>False</td>\n",
       "      <td>True</td>\n",
       "      <td>Discussion</td>\n",
       "      <td>24</td>\n",
       "      <td>False</td>\n",
       "      <td>5</td>\n",
       "      <td>I recently got a job as a data scientist and I...</td>\n",
       "      <td>False</td>\n",
       "      <td>0.86</td>\n",
       "      <td>https://www.reddit.com/r/datascience/comments/...</td>\n",
       "      <td>datascience</td>\n",
       "      <td>How do you describe your job when someone asks...</td>\n",
       "    </tr>\n",
       "    <tr>\n",
       "      <th>5</th>\n",
       "      <td>How I quickly rose to senior data scientist an...</td>\n",
       "      <td>15fqkuj</td>\n",
       "      <td>on_the_mark_data</td>\n",
       "      <td>1.690928e+09</td>\n",
       "      <td>False</td>\n",
       "      <td>True</td>\n",
       "      <td>Discussion</td>\n",
       "      <td>89</td>\n",
       "      <td>False</td>\n",
       "      <td>208</td>\n",
       "      <td>TL;DR You need to drive outsized value beyond ...</td>\n",
       "      <td>False</td>\n",
       "      <td>0.86</td>\n",
       "      <td>https://www.reddit.com/r/datascience/comments/...</td>\n",
       "      <td>datascience</td>\n",
       "      <td>How I quickly rose to senior data scientist an...</td>\n",
       "    </tr>\n",
       "  </tbody>\n",
       "</table>\n",
       "</div>"
      ],
      "text/plain": [
       "                                               title       id  \\\n",
       "1  R programmers, what are the greatest issues yo...  15g96dc   \n",
       "2  U.S. Hiring Managers: how diverse is your appl...  15gezo5   \n",
       "3                               Do I need a masters?  15gmte5   \n",
       "4  How do you describe your job when someone asks...  15gkc1y   \n",
       "5  How I quickly rose to senior data scientist an...  15fqkuj   \n",
       "\n",
       "             author   created_utc edited  is_self link_flair_text  \\\n",
       "1        joaoareias  1.690984e+09  False     True       Education   \n",
       "2   dantzigismyhero  1.690997e+09  False     True      Discussion   \n",
       "3  Odd-Company-1440  1.691017e+09  False     True       Education   \n",
       "4     briannalynn24  1.691009e+09  False     True      Discussion   \n",
       "5  on_the_mark_data  1.690928e+09  False     True      Discussion   \n",
       "\n",
       "   num_comments  saved  score  \\\n",
       "1           262  False    169   \n",
       "2            42  False     38   \n",
       "3             4  False      5   \n",
       "4            24  False      5   \n",
       "5            89  False    208   \n",
       "\n",
       "                                            selftext  stickied  upvote_ratio  \\\n",
       "1  I'm a Data Scientist with a computer science b...     False          0.96   \n",
       "2  We are currently hiring for a mid-level DS and...     False          0.89   \n",
       "3  I am going into my second year as a statistics...     False          1.00   \n",
       "4  I recently got a job as a data scientist and I...     False          0.86   \n",
       "5  TL;DR You need to drive outsized value beyond ...     False          0.86   \n",
       "\n",
       "                                                 url    subreddit  \\\n",
       "1  https://www.reddit.com/r/datascience/comments/...  datascience   \n",
       "2  https://www.reddit.com/r/datascience/comments/...  datascience   \n",
       "3  https://www.reddit.com/r/datascience/comments/...  datascience   \n",
       "4  https://www.reddit.com/r/datascience/comments/...  datascience   \n",
       "5  https://www.reddit.com/r/datascience/comments/...  datascience   \n",
       "\n",
       "                                      title_selftext  \n",
       "1  R programmers, what are the greatest issues yo...  \n",
       "2  U.S. Hiring Managers: how diverse is your appl...  \n",
       "3  Do I need a masters? I am going into my second...  \n",
       "4  How do you describe your job when someone asks...  \n",
       "5  How I quickly rose to senior data scientist an...  "
      ]
     },
     "execution_count": 30,
     "metadata": {},
     "output_type": "execute_result"
    }
   ],
   "source": [
    "df['title_selftext'] = df['title'] + ' ' + df['selftext']\n",
    "df.head()"
   ]
  },
  {
   "cell_type": "code",
   "execution_count": 31,
   "id": "d241705d-5d93-4fe8-b1c7-a14bda773acf",
   "metadata": {
    "scrolled": true
   },
   "outputs": [
    {
     "name": "stdout",
     "output_type": "stream",
     "text": [
      "(1906, 2)\n"
     ]
    },
    {
     "data": {
      "text/html": [
       "<div>\n",
       "<style scoped>\n",
       "    .dataframe tbody tr th:only-of-type {\n",
       "        vertical-align: middle;\n",
       "    }\n",
       "\n",
       "    .dataframe tbody tr th {\n",
       "        vertical-align: top;\n",
       "    }\n",
       "\n",
       "    .dataframe thead th {\n",
       "        text-align: right;\n",
       "    }\n",
       "</style>\n",
       "<table border=\"1\" class=\"dataframe\">\n",
       "  <thead>\n",
       "    <tr style=\"text-align: right;\">\n",
       "      <th></th>\n",
       "      <th>subreddit</th>\n",
       "      <th>title_selftext</th>\n",
       "    </tr>\n",
       "  </thead>\n",
       "  <tbody>\n",
       "    <tr>\n",
       "      <th>1</th>\n",
       "      <td>datascience</td>\n",
       "      <td>R programmers, what are the greatest issues yo...</td>\n",
       "    </tr>\n",
       "    <tr>\n",
       "      <th>2</th>\n",
       "      <td>datascience</td>\n",
       "      <td>U.S. Hiring Managers: how diverse is your appl...</td>\n",
       "    </tr>\n",
       "    <tr>\n",
       "      <th>3</th>\n",
       "      <td>datascience</td>\n",
       "      <td>Do I need a masters? I am going into my second...</td>\n",
       "    </tr>\n",
       "    <tr>\n",
       "      <th>4</th>\n",
       "      <td>datascience</td>\n",
       "      <td>How do you describe your job when someone asks...</td>\n",
       "    </tr>\n",
       "    <tr>\n",
       "      <th>5</th>\n",
       "      <td>datascience</td>\n",
       "      <td>How I quickly rose to senior data scientist an...</td>\n",
       "    </tr>\n",
       "  </tbody>\n",
       "</table>\n",
       "</div>"
      ],
      "text/plain": [
       "     subreddit                                     title_selftext\n",
       "1  datascience  R programmers, what are the greatest issues yo...\n",
       "2  datascience  U.S. Hiring Managers: how diverse is your appl...\n",
       "3  datascience  Do I need a masters? I am going into my second...\n",
       "4  datascience  How do you describe your job when someone asks...\n",
       "5  datascience  How I quickly rose to senior data scientist an..."
      ]
     },
     "execution_count": 31,
     "metadata": {},
     "output_type": "execute_result"
    }
   ],
   "source": [
    "df_tst = df[['subreddit', 'title_selftext']]\n",
    "print(df_tst.shape)\n",
    "df_tst.head()"
   ]
  },
  {
   "cell_type": "markdown",
   "id": "41e820bb-33a7-4fa1-a0c6-c6fb03452d81",
   "metadata": {},
   "source": [
    "##### df_comm"
   ]
  },
  {
   "cell_type": "code",
   "execution_count": 32,
   "id": "9d3c9adf-183f-47f3-a8c4-72a4708ccb18",
   "metadata": {},
   "outputs": [
    {
     "name": "stdout",
     "output_type": "stream",
     "text": [
      "(23596, 2)\n"
     ]
    },
    {
     "data": {
      "text/html": [
       "<div>\n",
       "<style scoped>\n",
       "    .dataframe tbody tr th:only-of-type {\n",
       "        vertical-align: middle;\n",
       "    }\n",
       "\n",
       "    .dataframe tbody tr th {\n",
       "        vertical-align: top;\n",
       "    }\n",
       "\n",
       "    .dataframe thead th {\n",
       "        text-align: right;\n",
       "    }\n",
       "</style>\n",
       "<table border=\"1\" class=\"dataframe\">\n",
       "  <thead>\n",
       "    <tr style=\"text-align: right;\">\n",
       "      <th></th>\n",
       "      <th>subreddit</th>\n",
       "      <th>title_selftext</th>\n",
       "    </tr>\n",
       "  </thead>\n",
       "  <tbody>\n",
       "    <tr>\n",
       "      <th>0</th>\n",
       "      <td>datascience</td>\n",
       "      <td>Hello.\\n\\nI’m about to start my BS in Data Sci...</td>\n",
       "    </tr>\n",
       "    <tr>\n",
       "      <th>1</th>\n",
       "      <td>datascience</td>\n",
       "      <td>Hey guys, I'm graduating from my bachelor's in...</td>\n",
       "    </tr>\n",
       "    <tr>\n",
       "      <th>2</th>\n",
       "      <td>datascience</td>\n",
       "      <td>Can I get a job as a fresher in data science?\\...</td>\n",
       "    </tr>\n",
       "    <tr>\n",
       "      <th>3</th>\n",
       "      <td>datascience</td>\n",
       "      <td>Is it a good idea and possible to get a MS in ...</td>\n",
       "    </tr>\n",
       "    <tr>\n",
       "      <th>4</th>\n",
       "      <td>datascience</td>\n",
       "      <td>I am finishing my PhD program in which I did ~...</td>\n",
       "    </tr>\n",
       "  </tbody>\n",
       "</table>\n",
       "</div>"
      ],
      "text/plain": [
       "     subreddit                                     title_selftext\n",
       "0  datascience  Hello.\\n\\nI’m about to start my BS in Data Sci...\n",
       "1  datascience  Hey guys, I'm graduating from my bachelor's in...\n",
       "2  datascience  Can I get a job as a fresher in data science?\\...\n",
       "3  datascience  Is it a good idea and possible to get a MS in ...\n",
       "4  datascience  I am finishing my PhD program in which I did ~..."
      ]
     },
     "execution_count": 32,
     "metadata": {},
     "output_type": "execute_result"
    }
   ],
   "source": [
    "df_comm_tst = df_comm[['subreddit', 'body']]\n",
    "df_comm_tst.rename(columns={'body': 'title_selftext'}, inplace=True)\n",
    "\n",
    "print(df_comm_tst.shape)\n",
    "df_comm_tst.head()"
   ]
  },
  {
   "cell_type": "markdown",
   "id": "b8332634-3e5c-4cf6-a3fd-0790b17c8e85",
   "metadata": {},
   "source": [
    "##### concat"
   ]
  },
  {
   "cell_type": "code",
   "execution_count": 33,
   "id": "0f395eb2-ba0b-46f0-8d7c-55b92cbc2472",
   "metadata": {},
   "outputs": [],
   "source": [
    "df_text = pd.concat(objs = [df_tst, df_comm_tst], axis=0)"
   ]
  },
  {
   "cell_type": "code",
   "execution_count": 34,
   "id": "df79ee46-b740-4592-baa9-134d3939d055",
   "metadata": {},
   "outputs": [
    {
     "data": {
      "text/plain": [
       "datascience        13052\n",
       "dataengineering    12450\n",
       "Name: subreddit, dtype: int64"
      ]
     },
     "execution_count": 34,
     "metadata": {},
     "output_type": "execute_result"
    }
   ],
   "source": [
    "# Check proportions\n",
    "df_text['subreddit'].value_counts()"
   ]
  },
  {
   "cell_type": "code",
   "execution_count": 35,
   "id": "d989fadf-6e19-41c9-80b8-4bac9126d9b2",
   "metadata": {
    "scrolled": true
   },
   "outputs": [
    {
     "name": "stdout",
     "output_type": "stream",
     "text": [
      "(25502, 2)\n"
     ]
    },
    {
     "data": {
      "text/html": [
       "<div>\n",
       "<style scoped>\n",
       "    .dataframe tbody tr th:only-of-type {\n",
       "        vertical-align: middle;\n",
       "    }\n",
       "\n",
       "    .dataframe tbody tr th {\n",
       "        vertical-align: top;\n",
       "    }\n",
       "\n",
       "    .dataframe thead th {\n",
       "        text-align: right;\n",
       "    }\n",
       "</style>\n",
       "<table border=\"1\" class=\"dataframe\">\n",
       "  <thead>\n",
       "    <tr style=\"text-align: right;\">\n",
       "      <th></th>\n",
       "      <th>subreddit</th>\n",
       "      <th>title_selftext</th>\n",
       "    </tr>\n",
       "  </thead>\n",
       "  <tbody>\n",
       "    <tr>\n",
       "      <th>1</th>\n",
       "      <td>datascience</td>\n",
       "      <td>R programmers, what are the greatest issues yo...</td>\n",
       "    </tr>\n",
       "    <tr>\n",
       "      <th>2</th>\n",
       "      <td>datascience</td>\n",
       "      <td>U.S. Hiring Managers: how diverse is your appl...</td>\n",
       "    </tr>\n",
       "    <tr>\n",
       "      <th>3</th>\n",
       "      <td>datascience</td>\n",
       "      <td>Do I need a masters? I am going into my second...</td>\n",
       "    </tr>\n",
       "    <tr>\n",
       "      <th>4</th>\n",
       "      <td>datascience</td>\n",
       "      <td>How do you describe your job when someone asks...</td>\n",
       "    </tr>\n",
       "    <tr>\n",
       "      <th>5</th>\n",
       "      <td>datascience</td>\n",
       "      <td>How I quickly rose to senior data scientist an...</td>\n",
       "    </tr>\n",
       "  </tbody>\n",
       "</table>\n",
       "</div>"
      ],
      "text/plain": [
       "     subreddit                                     title_selftext\n",
       "1  datascience  R programmers, what are the greatest issues yo...\n",
       "2  datascience  U.S. Hiring Managers: how diverse is your appl...\n",
       "3  datascience  Do I need a masters? I am going into my second...\n",
       "4  datascience  How do you describe your job when someone asks...\n",
       "5  datascience  How I quickly rose to senior data scientist an..."
      ]
     },
     "execution_count": 35,
     "metadata": {},
     "output_type": "execute_result"
    }
   ],
   "source": [
    "print(df_text.shape)\n",
    "df_text.head()"
   ]
  },
  {
   "cell_type": "markdown",
   "id": "550059ab-0920-49ee-ae68-90907aa6bd37",
   "metadata": {},
   "source": [
    "---\n",
    "### 2.1.4 Text Cleaning"
   ]
  },
  {
   "cell_type": "markdown",
   "id": "9252d68b-5f86-4b8e-92a7-e0b8e23ce041",
   "metadata": {},
   "source": [
    "#### Addressing text columns"
   ]
  },
  {
   "cell_type": "markdown",
   "id": "762297d8-4c15-4ed1-ba1d-82f8f0c97085",
   "metadata": {},
   "source": [
    "General Text-cleaning to be done:\n",
    "* Lowercasing the data\n",
    "* Removing Puncuatations\n",
    "* Removing Numbers\n",
    "* Removing extra space\n",
    "* Replacing the repetitions of punctations\n",
    "* Removing Emojis, emoticons\n",
    "* Removing links\n",
    "* Removing Contractions"
   ]
  },
  {
   "cell_type": "markdown",
   "id": "c5427249-987e-4cbe-8c42-0ec08e7ed38e",
   "metadata": {},
   "source": [
    "On inspecting the data, I noticed some errors in the extracted text that should be cleaned. For example:\n",
    "* The word \"I'm\" is reflected as \"Iâ€™m\".\n",
    "* Line breaks are reflected as \"\\n\"\n",
    "* Get rid of \"&#x200B ;\" text that indicates a spacing."
   ]
  },
  {
   "cell_type": "code",
   "execution_count": 36,
   "id": "1c337f6d-8634-4358-ab33-0097d89d68ce",
   "metadata": {},
   "outputs": [],
   "source": [
    "def clean_text(df, col):\n",
    "    # Remove hyperlinks\n",
    "    df[col] = df[col].apply(lambda x: re.sub(r\"http\\S+|www\\S+\", '', x))\n",
    "\n",
    "    #fix contractions\n",
    "    df[col] = df[col].apply(lambda x: contractions.fix(x))\n",
    "\n",
    "    # Make all text lowercase\n",
    "    df[col] = df[col].str.lower()\n",
    "\n",
    "    # Remove words that contain \"http\"\n",
    "    df[col] = df[col].apply(lambda x: ' '.join([word for word in x.split() if 'http' not in word]))\n",
    "    \n",
    "    # Remove unwanted characters after removing hyperlinks\n",
    "    df[col] = df[col].replace({\n",
    "        r\"Iâ€™m\": \"'\", \n",
    "        r\"&#x200B;\": \"\",\n",
    "        r\"\\\\n\": \"\",\n",
    "        r\"&#x200b;\": \"\",\n",
    "        r\":[^:\\s]+:\": \"\"  # Remove emoticons enclosed in colons\n",
    "    }, regex=True)\n",
    "\n",
    "    # Remove single-character words (except for \"a\" and \"i\")\n",
    "    df[col] = df[col].apply(lambda x: ' '.join([word for word in x.split() if len(word) > 1 or word in ['a', 'i']]))\n",
    "    \n",
    "    # Remove all non-ASCII characters or unknown characters\n",
    "    df[col] = df[col].apply(lambda x: x.encode('ascii', 'ignore').decode('utf-8'))\n",
    "\n",
    "    # Remove extra whitespaces\n",
    "    df[col] = df[col].apply(lambda x: ' '.join(x.split()))\n",
    "\n",
    "    # Remove numbers from the text\n",
    "    df[col] = df[col].apply(lambda x: ''.join([i for i in x if not i.isdigit()]))\n",
    "\n",
    "    # Remove punctuation\n",
    "    df[col] = df[col].apply(lambda x: re.sub(r'[^\\w\\s]', ' ', x))\n",
    "\n",
    "    # Remove rows with only one word\n",
    "    df = df[df[col].apply(lambda x: len(x.split())) > 1]\n",
    "    \n",
    "    # Remove rows with empty text after cleaning\n",
    "    df = df[df[col].str.strip() != '']\n",
    "\n",
    "    "
   ]
  },
  {
   "cell_type": "code",
   "execution_count": 37,
   "id": "9eeb4ede-3d35-46dd-b977-c19e907c219f",
   "metadata": {
    "scrolled": true
   },
   "outputs": [
    {
     "data": {
      "text/html": [
       "<div>\n",
       "<style scoped>\n",
       "    .dataframe tbody tr th:only-of-type {\n",
       "        vertical-align: middle;\n",
       "    }\n",
       "\n",
       "    .dataframe tbody tr th {\n",
       "        vertical-align: top;\n",
       "    }\n",
       "\n",
       "    .dataframe thead th {\n",
       "        text-align: right;\n",
       "    }\n",
       "</style>\n",
       "<table border=\"1\" class=\"dataframe\">\n",
       "  <thead>\n",
       "    <tr style=\"text-align: right;\">\n",
       "      <th></th>\n",
       "      <th>title</th>\n",
       "      <th>id</th>\n",
       "      <th>author</th>\n",
       "      <th>created_utc</th>\n",
       "      <th>edited</th>\n",
       "      <th>is_self</th>\n",
       "      <th>link_flair_text</th>\n",
       "      <th>num_comments</th>\n",
       "      <th>saved</th>\n",
       "      <th>score</th>\n",
       "      <th>selftext</th>\n",
       "      <th>stickied</th>\n",
       "      <th>upvote_ratio</th>\n",
       "      <th>url</th>\n",
       "      <th>subreddit</th>\n",
       "      <th>title_selftext</th>\n",
       "    </tr>\n",
       "  </thead>\n",
       "  <tbody>\n",
       "    <tr>\n",
       "      <th>1</th>\n",
       "      <td>R programmers, what are the greatest issues yo...</td>\n",
       "      <td>15g96dc</td>\n",
       "      <td>joaoareias</td>\n",
       "      <td>1.690984e+09</td>\n",
       "      <td>False</td>\n",
       "      <td>True</td>\n",
       "      <td>Education</td>\n",
       "      <td>262</td>\n",
       "      <td>False</td>\n",
       "      <td>169</td>\n",
       "      <td>i am a data scientist with a computer science ...</td>\n",
       "      <td>False</td>\n",
       "      <td>0.96</td>\n",
       "      <td>https://www.reddit.com/r/datascience/comments/...</td>\n",
       "      <td>datascience</td>\n",
       "      <td>R programmers, what are the greatest issues yo...</td>\n",
       "    </tr>\n",
       "    <tr>\n",
       "      <th>2</th>\n",
       "      <td>U.S. Hiring Managers: how diverse is your appl...</td>\n",
       "      <td>15gezo5</td>\n",
       "      <td>dantzigismyhero</td>\n",
       "      <td>1.690997e+09</td>\n",
       "      <td>False</td>\n",
       "      <td>True</td>\n",
       "      <td>Discussion</td>\n",
       "      <td>42</td>\n",
       "      <td>False</td>\n",
       "      <td>38</td>\n",
       "      <td>we are currently hiring for a mid level ds and...</td>\n",
       "      <td>False</td>\n",
       "      <td>0.89</td>\n",
       "      <td>https://www.reddit.com/r/datascience/comments/...</td>\n",
       "      <td>datascience</td>\n",
       "      <td>U.S. Hiring Managers: how diverse is your appl...</td>\n",
       "    </tr>\n",
       "    <tr>\n",
       "      <th>3</th>\n",
       "      <td>Do I need a masters?</td>\n",
       "      <td>15gmte5</td>\n",
       "      <td>Odd-Company-1440</td>\n",
       "      <td>1.691017e+09</td>\n",
       "      <td>False</td>\n",
       "      <td>True</td>\n",
       "      <td>Education</td>\n",
       "      <td>4</td>\n",
       "      <td>False</td>\n",
       "      <td>5</td>\n",
       "      <td>i am going into my second year as a statistics...</td>\n",
       "      <td>False</td>\n",
       "      <td>1.00</td>\n",
       "      <td>https://www.reddit.com/r/datascience/comments/...</td>\n",
       "      <td>datascience</td>\n",
       "      <td>Do I need a masters? I am going into my second...</td>\n",
       "    </tr>\n",
       "    <tr>\n",
       "      <th>4</th>\n",
       "      <td>How do you describe your job when someone asks...</td>\n",
       "      <td>15gkc1y</td>\n",
       "      <td>briannalynn24</td>\n",
       "      <td>1.691009e+09</td>\n",
       "      <td>False</td>\n",
       "      <td>True</td>\n",
       "      <td>Discussion</td>\n",
       "      <td>24</td>\n",
       "      <td>False</td>\n",
       "      <td>5</td>\n",
       "      <td>i recently got a job as a data scientist and i...</td>\n",
       "      <td>False</td>\n",
       "      <td>0.86</td>\n",
       "      <td>https://www.reddit.com/r/datascience/comments/...</td>\n",
       "      <td>datascience</td>\n",
       "      <td>How do you describe your job when someone asks...</td>\n",
       "    </tr>\n",
       "    <tr>\n",
       "      <th>5</th>\n",
       "      <td>How I quickly rose to senior data scientist an...</td>\n",
       "      <td>15fqkuj</td>\n",
       "      <td>on_the_mark_data</td>\n",
       "      <td>1.690928e+09</td>\n",
       "      <td>False</td>\n",
       "      <td>True</td>\n",
       "      <td>Discussion</td>\n",
       "      <td>89</td>\n",
       "      <td>False</td>\n",
       "      <td>208</td>\n",
       "      <td>tl dr you need to drive outsized value beyond ...</td>\n",
       "      <td>False</td>\n",
       "      <td>0.86</td>\n",
       "      <td>https://www.reddit.com/r/datascience/comments/...</td>\n",
       "      <td>datascience</td>\n",
       "      <td>How I quickly rose to senior data scientist an...</td>\n",
       "    </tr>\n",
       "  </tbody>\n",
       "</table>\n",
       "</div>"
      ],
      "text/plain": [
       "                                               title       id  \\\n",
       "1  R programmers, what are the greatest issues yo...  15g96dc   \n",
       "2  U.S. Hiring Managers: how diverse is your appl...  15gezo5   \n",
       "3                               Do I need a masters?  15gmte5   \n",
       "4  How do you describe your job when someone asks...  15gkc1y   \n",
       "5  How I quickly rose to senior data scientist an...  15fqkuj   \n",
       "\n",
       "             author   created_utc edited  is_self link_flair_text  \\\n",
       "1        joaoareias  1.690984e+09  False     True       Education   \n",
       "2   dantzigismyhero  1.690997e+09  False     True      Discussion   \n",
       "3  Odd-Company-1440  1.691017e+09  False     True       Education   \n",
       "4     briannalynn24  1.691009e+09  False     True      Discussion   \n",
       "5  on_the_mark_data  1.690928e+09  False     True      Discussion   \n",
       "\n",
       "   num_comments  saved  score  \\\n",
       "1           262  False    169   \n",
       "2            42  False     38   \n",
       "3             4  False      5   \n",
       "4            24  False      5   \n",
       "5            89  False    208   \n",
       "\n",
       "                                            selftext  stickied  upvote_ratio  \\\n",
       "1  i am a data scientist with a computer science ...     False          0.96   \n",
       "2  we are currently hiring for a mid level ds and...     False          0.89   \n",
       "3  i am going into my second year as a statistics...     False          1.00   \n",
       "4  i recently got a job as a data scientist and i...     False          0.86   \n",
       "5  tl dr you need to drive outsized value beyond ...     False          0.86   \n",
       "\n",
       "                                                 url    subreddit  \\\n",
       "1  https://www.reddit.com/r/datascience/comments/...  datascience   \n",
       "2  https://www.reddit.com/r/datascience/comments/...  datascience   \n",
       "3  https://www.reddit.com/r/datascience/comments/...  datascience   \n",
       "4  https://www.reddit.com/r/datascience/comments/...  datascience   \n",
       "5  https://www.reddit.com/r/datascience/comments/...  datascience   \n",
       "\n",
       "                                      title_selftext  \n",
       "1  R programmers, what are the greatest issues yo...  \n",
       "2  U.S. Hiring Managers: how diverse is your appl...  \n",
       "3  Do I need a masters? I am going into my second...  \n",
       "4  How do you describe your job when someone asks...  \n",
       "5  How I quickly rose to senior data scientist an...  "
      ]
     },
     "execution_count": 37,
     "metadata": {},
     "output_type": "execute_result"
    }
   ],
   "source": [
    "clean_text(df,'selftext')\n",
    "df.head()"
   ]
  },
  {
   "cell_type": "code",
   "execution_count": 38,
   "id": "ce0d1c78-fe5b-4a33-b227-f8451961b44d",
   "metadata": {
    "scrolled": true
   },
   "outputs": [
    {
     "data": {
      "text/html": [
       "<div>\n",
       "<style scoped>\n",
       "    .dataframe tbody tr th:only-of-type {\n",
       "        vertical-align: middle;\n",
       "    }\n",
       "\n",
       "    .dataframe tbody tr th {\n",
       "        vertical-align: top;\n",
       "    }\n",
       "\n",
       "    .dataframe thead th {\n",
       "        text-align: right;\n",
       "    }\n",
       "</style>\n",
       "<table border=\"1\" class=\"dataframe\">\n",
       "  <thead>\n",
       "    <tr style=\"text-align: right;\">\n",
       "      <th></th>\n",
       "      <th>subreddit</th>\n",
       "      <th>title_selftext</th>\n",
       "    </tr>\n",
       "  </thead>\n",
       "  <tbody>\n",
       "    <tr>\n",
       "      <th>1</th>\n",
       "      <td>datascience</td>\n",
       "      <td>programmers  what are the greatest issues you ...</td>\n",
       "    </tr>\n",
       "    <tr>\n",
       "      <th>2</th>\n",
       "      <td>datascience</td>\n",
       "      <td>you s  hiring managers  how diverse is your ap...</td>\n",
       "    </tr>\n",
       "    <tr>\n",
       "      <th>3</th>\n",
       "      <td>datascience</td>\n",
       "      <td>do i need a masters  i am going into my second...</td>\n",
       "    </tr>\n",
       "    <tr>\n",
       "      <th>4</th>\n",
       "      <td>datascience</td>\n",
       "      <td>how do you describe your job when someone asks...</td>\n",
       "    </tr>\n",
       "    <tr>\n",
       "      <th>5</th>\n",
       "      <td>datascience</td>\n",
       "      <td>how i quickly rose to senior data scientist an...</td>\n",
       "    </tr>\n",
       "  </tbody>\n",
       "</table>\n",
       "</div>"
      ],
      "text/plain": [
       "     subreddit                                     title_selftext\n",
       "1  datascience  programmers  what are the greatest issues you ...\n",
       "2  datascience  you s  hiring managers  how diverse is your ap...\n",
       "3  datascience  do i need a masters  i am going into my second...\n",
       "4  datascience  how do you describe your job when someone asks...\n",
       "5  datascience  how i quickly rose to senior data scientist an..."
      ]
     },
     "execution_count": 38,
     "metadata": {},
     "output_type": "execute_result"
    }
   ],
   "source": [
    "clean_text(df_text,'title_selftext')\n",
    "df_text.head()"
   ]
  },
  {
   "cell_type": "markdown",
   "id": "7b834074-8ea9-4aca-a640-48dd428a11cb",
   "metadata": {},
   "source": [
    "---\n",
    "#### Dropping single word posts with non-predictive text\n"
   ]
  },
  {
   "cell_type": "markdown",
   "id": "dbd954ef-4afe-4530-a648-94ac254b7147",
   "metadata": {},
   "source": [
    "After further securing sufficient data, I could afford to be more stringent on my data cleaning.\n",
    "Extracting shortest posts proved really useful to clean my data. I decided to drop posts with uninformative text so that it would not create unnecessary noise for my model later on.\n",
    "The code below was ran several times, so I could append more items to the list of items to drop.\n",
    "\n",
    "**Items to drop:**\n",
    "* `spaces, 'nil', '['` - these are uninformative and not relevant\n",
    "* `[view poll](` - This is a link to a poll, and is irrelevant in our NLP study\n",
    "* `'lol', 'yes', 'no', 'thanks'` - These would not help us in classifying text\n",
    "* `'+/-2%'` - Irrelevant"
   ]
  },
  {
   "cell_type": "code",
   "execution_count": 39,
   "id": "0e3aefd0-b068-408b-a75a-392f15d007a4",
   "metadata": {},
   "outputs": [],
   "source": [
    "# Posts to omit\n",
    "post_omit = ['nil', '', ' ', '  ', '   ', 'view poll', 'lol', 'yes', 'no', 'thanks',\n",
    "            '+/-2%', 'that', 'Thot?', '+/-%', 'wne', 'title', 'haha', 'huh', 'wat', 's', 'ax', 'who']\n",
    "\n",
    "# Drop rows where selftext contains only characters to be omitted\n",
    "df = df[~df['selftext'].str.strip().isin(post_omit)]\n",
    "\n",
    "# Drop rows where title_selftext contains only characters to be omitted\n",
    "df_text = df_text[~df_text['title_selftext'].str.strip().isin(post_omit)]"
   ]
  },
  {
   "cell_type": "code",
   "execution_count": 40,
   "id": "efb9908c-694b-4885-8a39-bf5c6d01918b",
   "metadata": {},
   "outputs": [
    {
     "data": {
      "text/plain": [
       "331                                                 same\n",
       "445                                  cost effective too \n",
       "823                                  asking for a friend\n",
       "225                             keen to hear the details\n",
       "495    flashattention part   understanding gpu archit...\n",
       "Name: selftext, dtype: object"
      ]
     },
     "execution_count": 40,
     "metadata": {},
     "output_type": "execute_result"
    }
   ],
   "source": [
    "# Quick check for df\n",
    "temp_df = df.assign(post_word_count=df['selftext'].apply(lambda x: len(x.split())))\n",
    "\n",
    "temp_df = temp_df.sort_values(by='post_word_count', ascending=True)\n",
    "temp_df['selftext'].head()"
   ]
  },
  {
   "cell_type": "code",
   "execution_count": 41,
   "id": "0c84fbc6-b7d5-4c96-b153-231898d8bb97",
   "metadata": {},
   "outputs": [
    {
     "data": {
      "text/plain": [
       "10182     hahahaha\n",
       "6924     insurance\n",
       "6051      context \n",
       "10767    australia\n",
       "8818         agree\n",
       "Name: title_selftext, dtype: object"
      ]
     },
     "execution_count": 41,
     "metadata": {},
     "output_type": "execute_result"
    }
   ],
   "source": [
    "#quick check for df_text\n",
    "temp_df1 = df_text.assign(post_word_count=df_text['title_selftext'].apply(lambda x: len(x.split())))\n",
    "\n",
    "temp_df1 = temp_df1.sort_values(by='post_word_count', ascending=True)\n",
    "temp_df1['title_selftext'].head()"
   ]
  },
  {
   "cell_type": "markdown",
   "id": "e0acea87-9322-4878-ab1c-73782ffac9d2",
   "metadata": {},
   "source": [
    "Check no of rows left for each dataframe after dropping:"
   ]
  },
  {
   "cell_type": "code",
   "execution_count": 42,
   "id": "a0d05811-d496-417d-ada6-7b7b3956381d",
   "metadata": {},
   "outputs": [
    {
     "data": {
      "text/plain": [
       "datascience        842\n",
       "dataengineering    822\n",
       "Name: subreddit, dtype: int64"
      ]
     },
     "execution_count": 42,
     "metadata": {},
     "output_type": "execute_result"
    }
   ],
   "source": [
    "# Check proportions\n",
    "df['subreddit'].value_counts()"
   ]
  },
  {
   "cell_type": "code",
   "execution_count": 43,
   "id": "3080c6c3-f0bb-44fd-89da-b1d65f82eeb2",
   "metadata": {},
   "outputs": [
    {
     "data": {
      "text/plain": [
       "datascience        12935\n",
       "dataengineering    12357\n",
       "Name: subreddit, dtype: int64"
      ]
     },
     "execution_count": 43,
     "metadata": {},
     "output_type": "execute_result"
    }
   ],
   "source": [
    "# Check proportions\n",
    "df_text['subreddit'].value_counts()"
   ]
  },
  {
   "cell_type": "markdown",
   "id": "a2437aa1-8120-4146-b8b7-2fb82871e16c",
   "metadata": {},
   "source": [
    "---\n",
    "#### Export df_text for Modelling\n",
    "Map the \"subreddit\" columns (our y target variable) and export the dataframe."
   ]
  },
  {
   "cell_type": "code",
   "execution_count": 44,
   "id": "867ac1fd-c260-482e-9381-2144970c7cc4",
   "metadata": {},
   "outputs": [],
   "source": [
    "df_text['subreddit'] = df_text['subreddit'].map({'datascience': 1, 'dataengineering' : 0})"
   ]
  },
  {
   "cell_type": "code",
   "execution_count": 45,
   "id": "46bb4c14-4b03-4195-99bc-f231c4c0264c",
   "metadata": {},
   "outputs": [],
   "source": [
    "df_text.drop_duplicates(inplace=True)"
   ]
  },
  {
   "cell_type": "code",
   "execution_count": 46,
   "id": "2c884458-2483-428e-8281-7be5da120467",
   "metadata": {
    "scrolled": true
   },
   "outputs": [
    {
     "data": {
      "text/html": [
       "<div>\n",
       "<style scoped>\n",
       "    .dataframe tbody tr th:only-of-type {\n",
       "        vertical-align: middle;\n",
       "    }\n",
       "\n",
       "    .dataframe tbody tr th {\n",
       "        vertical-align: top;\n",
       "    }\n",
       "\n",
       "    .dataframe thead th {\n",
       "        text-align: right;\n",
       "    }\n",
       "</style>\n",
       "<table border=\"1\" class=\"dataframe\">\n",
       "  <thead>\n",
       "    <tr style=\"text-align: right;\">\n",
       "      <th></th>\n",
       "      <th>subreddit</th>\n",
       "      <th>title_selftext</th>\n",
       "    </tr>\n",
       "  </thead>\n",
       "  <tbody>\n",
       "    <tr>\n",
       "      <th>1</th>\n",
       "      <td>1</td>\n",
       "      <td>programmers  what are the greatest issues you ...</td>\n",
       "    </tr>\n",
       "    <tr>\n",
       "      <th>2</th>\n",
       "      <td>1</td>\n",
       "      <td>you s  hiring managers  how diverse is your ap...</td>\n",
       "    </tr>\n",
       "    <tr>\n",
       "      <th>3</th>\n",
       "      <td>1</td>\n",
       "      <td>do i need a masters  i am going into my second...</td>\n",
       "    </tr>\n",
       "    <tr>\n",
       "      <th>4</th>\n",
       "      <td>1</td>\n",
       "      <td>how do you describe your job when someone asks...</td>\n",
       "    </tr>\n",
       "    <tr>\n",
       "      <th>5</th>\n",
       "      <td>1</td>\n",
       "      <td>how i quickly rose to senior data scientist an...</td>\n",
       "    </tr>\n",
       "  </tbody>\n",
       "</table>\n",
       "</div>"
      ],
      "text/plain": [
       "   subreddit                                     title_selftext\n",
       "1          1  programmers  what are the greatest issues you ...\n",
       "2          1  you s  hiring managers  how diverse is your ap...\n",
       "3          1  do i need a masters  i am going into my second...\n",
       "4          1  how do you describe your job when someone asks...\n",
       "5          1  how i quickly rose to senior data scientist an..."
      ]
     },
     "execution_count": 46,
     "metadata": {},
     "output_type": "execute_result"
    }
   ],
   "source": [
    "df_text.head()"
   ]
  },
  {
   "cell_type": "code",
   "execution_count": 47,
   "id": "db61ce4d-047e-4e9b-aa73-e8808b5c2b39",
   "metadata": {},
   "outputs": [],
   "source": [
    "# Save the DataFrame to a CSV file\n",
    "df_text.to_csv('../data/df_text.csv', index=False)"
   ]
  },
  {
   "cell_type": "code",
   "execution_count": 48,
   "id": "8eb16f68-f34f-4d7c-a089-35867aa7a6c5",
   "metadata": {},
   "outputs": [],
   "source": [
    "# Alternatively, save pickle\n",
    "pickle.dump(df_text, open('../model/df_text.pkl', 'wb'))"
   ]
  },
  {
   "cell_type": "markdown",
   "id": "d159a757-cd35-42cf-bfa0-8062bb224ddb",
   "metadata": {},
   "source": [
    "---\n",
    "## 2.2 EDA"
   ]
  },
  {
   "cell_type": "markdown",
   "id": "22ad67b6-b3e8-4db2-be3a-e133d160bb8d",
   "metadata": {},
   "source": [
    "Some ideas for EDA:\n",
    "* Comparisen of score to post length\n",
    "* Post length (by character), post word count comparisen\n",
    "* link_flair_text - which category is most popular\n",
    "* Term frequency analysis\n",
    "* Most frequent n-grams"
   ]
  },
  {
   "cell_type": "markdown",
   "id": "ab331285-32bc-4d86-af01-fb818b6be83c",
   "metadata": {},
   "source": [
    "### 2.2.1 Post length and Post word count\n",
    "For this analysis, i decided to analyse the posts as is, without tokenizing, stemming or lemmatizing. This is because I want to capture the length (in terms of characters) of the original posts. We will look at the length of posts (excluding titles)."
   ]
  },
  {
   "cell_type": "code",
   "execution_count": 49,
   "id": "a965d964-8b9f-4c2e-8523-207523c8211a",
   "metadata": {},
   "outputs": [
    {
     "data": {
      "text/html": [
       "<div>\n",
       "<style scoped>\n",
       "    .dataframe tbody tr th:only-of-type {\n",
       "        vertical-align: middle;\n",
       "    }\n",
       "\n",
       "    .dataframe tbody tr th {\n",
       "        vertical-align: top;\n",
       "    }\n",
       "\n",
       "    .dataframe thead th {\n",
       "        text-align: right;\n",
       "    }\n",
       "</style>\n",
       "<table border=\"1\" class=\"dataframe\">\n",
       "  <thead>\n",
       "    <tr style=\"text-align: right;\">\n",
       "      <th></th>\n",
       "      <th>title</th>\n",
       "      <th>id</th>\n",
       "      <th>author</th>\n",
       "      <th>created_utc</th>\n",
       "      <th>edited</th>\n",
       "      <th>is_self</th>\n",
       "      <th>link_flair_text</th>\n",
       "      <th>num_comments</th>\n",
       "      <th>saved</th>\n",
       "      <th>score</th>\n",
       "      <th>selftext</th>\n",
       "      <th>stickied</th>\n",
       "      <th>upvote_ratio</th>\n",
       "      <th>url</th>\n",
       "      <th>subreddit</th>\n",
       "      <th>title_selftext</th>\n",
       "    </tr>\n",
       "  </thead>\n",
       "  <tbody>\n",
       "    <tr>\n",
       "      <th>1</th>\n",
       "      <td>R programmers, what are the greatest issues yo...</td>\n",
       "      <td>15g96dc</td>\n",
       "      <td>joaoareias</td>\n",
       "      <td>1.690984e+09</td>\n",
       "      <td>False</td>\n",
       "      <td>True</td>\n",
       "      <td>Education</td>\n",
       "      <td>262</td>\n",
       "      <td>False</td>\n",
       "      <td>169</td>\n",
       "      <td>i am a data scientist with a computer science ...</td>\n",
       "      <td>False</td>\n",
       "      <td>0.96</td>\n",
       "      <td>https://www.reddit.com/r/datascience/comments/...</td>\n",
       "      <td>datascience</td>\n",
       "      <td>R programmers, what are the greatest issues yo...</td>\n",
       "    </tr>\n",
       "    <tr>\n",
       "      <th>2</th>\n",
       "      <td>U.S. Hiring Managers: how diverse is your appl...</td>\n",
       "      <td>15gezo5</td>\n",
       "      <td>dantzigismyhero</td>\n",
       "      <td>1.690997e+09</td>\n",
       "      <td>False</td>\n",
       "      <td>True</td>\n",
       "      <td>Discussion</td>\n",
       "      <td>42</td>\n",
       "      <td>False</td>\n",
       "      <td>38</td>\n",
       "      <td>we are currently hiring for a mid level ds and...</td>\n",
       "      <td>False</td>\n",
       "      <td>0.89</td>\n",
       "      <td>https://www.reddit.com/r/datascience/comments/...</td>\n",
       "      <td>datascience</td>\n",
       "      <td>U.S. Hiring Managers: how diverse is your appl...</td>\n",
       "    </tr>\n",
       "  </tbody>\n",
       "</table>\n",
       "</div>"
      ],
      "text/plain": [
       "                                               title       id  \\\n",
       "1  R programmers, what are the greatest issues yo...  15g96dc   \n",
       "2  U.S. Hiring Managers: how diverse is your appl...  15gezo5   \n",
       "\n",
       "            author   created_utc edited  is_self link_flair_text  \\\n",
       "1       joaoareias  1.690984e+09  False     True       Education   \n",
       "2  dantzigismyhero  1.690997e+09  False     True      Discussion   \n",
       "\n",
       "   num_comments  saved  score  \\\n",
       "1           262  False    169   \n",
       "2            42  False     38   \n",
       "\n",
       "                                            selftext  stickied  upvote_ratio  \\\n",
       "1  i am a data scientist with a computer science ...     False          0.96   \n",
       "2  we are currently hiring for a mid level ds and...     False          0.89   \n",
       "\n",
       "                                                 url    subreddit  \\\n",
       "1  https://www.reddit.com/r/datascience/comments/...  datascience   \n",
       "2  https://www.reddit.com/r/datascience/comments/...  datascience   \n",
       "\n",
       "                                      title_selftext  \n",
       "1  R programmers, what are the greatest issues yo...  \n",
       "2  U.S. Hiring Managers: how diverse is your appl...  "
      ]
     },
     "execution_count": 49,
     "metadata": {},
     "output_type": "execute_result"
    }
   ],
   "source": [
    "df.head(2)"
   ]
  },
  {
   "cell_type": "markdown",
   "id": "308bcebd-6812-46a2-9bd0-156d8f3c5644",
   "metadata": {},
   "source": [
    "Create new column called `post_length` that contains the length of each post (i.e. selftext) in terms of characters:"
   ]
  },
  {
   "cell_type": "code",
   "execution_count": 50,
   "id": "8ca5c494-280b-43ec-9c23-db75b59e6d68",
   "metadata": {},
   "outputs": [],
   "source": [
    "df['post_length'] = df['selftext'].apply(lambda x: len(x))"
   ]
  },
  {
   "cell_type": "markdown",
   "id": "90d77c8f-9c1e-48a6-a3b1-f42afb2b94bc",
   "metadata": {},
   "source": [
    "Create new column called `post_word_count` that contains the number of words in each post:"
   ]
  },
  {
   "cell_type": "code",
   "execution_count": 51,
   "id": "5efea659-01f6-40cf-9162-9a6199279e00",
   "metadata": {},
   "outputs": [],
   "source": [
    "df['post_word_count'] = df['selftext'].apply(lambda x: len(x.split()))"
   ]
  },
  {
   "cell_type": "code",
   "execution_count": 52,
   "id": "05ee45f2-277b-480d-978a-a227521a25c5",
   "metadata": {
    "scrolled": true
   },
   "outputs": [
    {
     "data": {
      "text/html": [
       "<div>\n",
       "<style scoped>\n",
       "    .dataframe tbody tr th:only-of-type {\n",
       "        vertical-align: middle;\n",
       "    }\n",
       "\n",
       "    .dataframe tbody tr th {\n",
       "        vertical-align: top;\n",
       "    }\n",
       "\n",
       "    .dataframe thead th {\n",
       "        text-align: right;\n",
       "    }\n",
       "</style>\n",
       "<table border=\"1\" class=\"dataframe\">\n",
       "  <thead>\n",
       "    <tr style=\"text-align: right;\">\n",
       "      <th></th>\n",
       "      <th>subreddit</th>\n",
       "      <th>selftext</th>\n",
       "      <th>post_length</th>\n",
       "      <th>post_word_count</th>\n",
       "      <th>score</th>\n",
       "      <th>upvote_ratio</th>\n",
       "    </tr>\n",
       "  </thead>\n",
       "  <tbody>\n",
       "    <tr>\n",
       "      <th>1</th>\n",
       "      <td>datascience</td>\n",
       "      <td>i am a data scientist with a computer science ...</td>\n",
       "      <td>1462</td>\n",
       "      <td>255</td>\n",
       "      <td>169</td>\n",
       "      <td>0.96</td>\n",
       "    </tr>\n",
       "    <tr>\n",
       "      <th>2</th>\n",
       "      <td>datascience</td>\n",
       "      <td>we are currently hiring for a mid level ds and...</td>\n",
       "      <td>768</td>\n",
       "      <td>130</td>\n",
       "      <td>38</td>\n",
       "      <td>0.89</td>\n",
       "    </tr>\n",
       "  </tbody>\n",
       "</table>\n",
       "</div>"
      ],
      "text/plain": [
       "     subreddit                                           selftext  \\\n",
       "1  datascience  i am a data scientist with a computer science ...   \n",
       "2  datascience  we are currently hiring for a mid level ds and...   \n",
       "\n",
       "   post_length  post_word_count  score  upvote_ratio  \n",
       "1         1462              255    169          0.96  \n",
       "2          768              130     38          0.89  "
      ]
     },
     "execution_count": 52,
     "metadata": {},
     "output_type": "execute_result"
    }
   ],
   "source": [
    "df_post_words = df[['subreddit', 'selftext', 'post_length', 'post_word_count', 'score', 'upvote_ratio']]\n",
    "df_post_words.head(2)"
   ]
  },
  {
   "cell_type": "markdown",
   "id": "3b28bb14-d361-48ea-b539-b3ece44917dd",
   "metadata": {},
   "source": [
    "Let's split the df for r/datascience vs r/dataengineering:"
   ]
  },
  {
   "cell_type": "code",
   "execution_count": 53,
   "id": "08788e0d-393b-4f5d-a11a-b2909efece83",
   "metadata": {
    "scrolled": true
   },
   "outputs": [],
   "source": [
    "#df for r/datascience\n",
    "df_post_words_dsc = df_post_words[df_post_words['subreddit']=='datascience']\n",
    "\n",
    "#df for r/dataengr\n",
    "df_post_words_dengr = df_post_words[df_post_words['subreddit']=='dataengineering']"
   ]
  },
  {
   "cell_type": "markdown",
   "id": "97ecbdc0-43bc-4774-be31-13139e51affb",
   "metadata": {},
   "source": [
    "---\n",
    "#### Find the 5 shortest and longest posts based on `post_word_count`"
   ]
  },
  {
   "cell_type": "code",
   "execution_count": 54,
   "id": "ab2244c4-0fff-4023-a83c-4b302fd36716",
   "metadata": {},
   "outputs": [],
   "source": [
    "df_post_words_dsc = df_post_words_dsc.sort_values(by='post_word_count', ascending=True)\n",
    "df_post_words_dengr = df_post_words_dengr.sort_values(by='post_word_count', ascending=True)"
   ]
  },
  {
   "cell_type": "markdown",
   "id": "5bf857e2-9cc1-48cf-8256-5ca025b4458f",
   "metadata": {},
   "source": [
    "##### r/datascience"
   ]
  },
  {
   "cell_type": "code",
   "execution_count": 55,
   "id": "6ab185b7-42fb-4328-bdcf-b02991796704",
   "metadata": {},
   "outputs": [
    {
     "name": "stdout",
     "output_type": "stream",
     "text": [
      "10 SHORTEST POSTS FOR R/DATASCIENCE\n"
     ]
    },
    {
     "data": {
      "text/plain": [
       "331                                                 same\n",
       "445                                  cost effective too \n",
       "823                                  asking for a friend\n",
       "495    flashattention part   understanding gpu archit...\n",
       "103                                  i am a ds director \n",
       "454                         just give it a try thank you\n",
       "244             real time object counting by jetson nano\n",
       "471    basic mistakes  advanced mistakes  uncommon mi...\n",
       "460         do i need to learn scala as data scientists \n",
       "624      is it sql ml algos stats based or dsa leetcode \n",
       "Name: selftext, dtype: object"
      ]
     },
     "execution_count": 55,
     "metadata": {},
     "output_type": "execute_result"
    }
   ],
   "source": [
    "#show 10 shortest posts\n",
    "print(\"10 SHORTEST POSTS FOR R/DATASCIENCE\")\n",
    "df_post_words_dsc['selftext'].head(10)"
   ]
  },
  {
   "cell_type": "code",
   "execution_count": 56,
   "id": "e3fafd8a-61aa-4467-9ede-4a428c8b1705",
   "metadata": {
    "scrolled": true
   },
   "outputs": [
    {
     "name": "stdout",
     "output_type": "stream",
     "text": [
      "10 LONGEST POSTS FOR R/DATASCIENCE\n"
     ]
    },
    {
     "data": {
      "text/plain": [
       "207    as title says  how do you deal with this  long...\n",
       "924    my husband asked me to make this post because ...\n",
       "839    i have been hired lead building it architectur...\n",
       "758    if this is not allowed  feel free to delete my...\n",
       "223    have a question for the group  i have a lead d...\n",
       "392      improves business prognostications   interpr...\n",
       "522    as i am building it architecture for a startup...\n",
       "65     as a data scientist  mastering database manage...\n",
       "747    our tale begins in the balmy summer of   a fre...\n",
       "752      introduction   hey everyone  i do not know h...\n",
       "Name: selftext, dtype: object"
      ]
     },
     "execution_count": 56,
     "metadata": {},
     "output_type": "execute_result"
    }
   ],
   "source": [
    "#show 10 longest posts\n",
    "#pd.set_option('display.max_colwidth', None)\n",
    "print(\"10 LONGEST POSTS FOR R/DATASCIENCE\")\n",
    "df_post_words_dsc['selftext'].tail(10)"
   ]
  },
  {
   "cell_type": "markdown",
   "id": "aff975b7-fbd4-4af2-bdb1-e02539c3c89d",
   "metadata": {},
   "source": [
    "##### r/dataengineering"
   ]
  },
  {
   "cell_type": "code",
   "execution_count": 57,
   "id": "1e1ff495-99e3-4257-9fe8-d968c30f8fb7",
   "metadata": {},
   "outputs": [
    {
     "name": "stdout",
     "output_type": "stream",
     "text": [
      "10 SHORTEST POSTS FOR R/DATAENGINEERING\n"
     ]
    },
    {
     "data": {
      "text/plain": [
       "225                             keen to hear the details\n",
       "304                    machine learning in data engineer\n",
       "842                               what do you guys think\n",
       "332                         doing some research on uccs \n",
       "564                    is there any recommended dsa book\n",
       "156    turns out databases are  relational  or something\n",
       "884     anyone else here  what are your thoughts so far \n",
       "878               how did i do with this in depth intro \n",
       "823    can anyone please explain record container cla...\n",
       "176      is oop often used in your de work   view poll  \n",
       "Name: selftext, dtype: object"
      ]
     },
     "execution_count": 57,
     "metadata": {},
     "output_type": "execute_result"
    }
   ],
   "source": [
    "#show 10 shortest posts\n",
    "print(\"10 SHORTEST POSTS FOR R/DATAENGINEERING\")\n",
    "df_post_words_dengr['selftext'].head(10)"
   ]
  },
  {
   "cell_type": "code",
   "execution_count": 58,
   "id": "23a4f7ac-073d-4ba4-b8a9-43e8786bd474",
   "metadata": {
    "scrolled": true
   },
   "outputs": [
    {
     "name": "stdout",
     "output_type": "stream",
     "text": [
      "10 LONGEST POSTS FOR R/DATAENGINEERING\n"
     ]
    },
    {
     "data": {
      "text/plain": [
       "407      tldr    i created  this package   so you can...\n",
       "64     hi all  i was recently laid off and have about...\n",
       "675    hi all  i am looking to see if airflow is the ...\n",
       "626    as a seasoned it architect currently working w...\n",
       "665    i recently discovered a youtuber called  the d...\n",
       "800    my team and i have been re building our compan...\n",
       "365    hi all  some context i work in a medium size n...\n",
       "127    i see there are posts every week about databas...\n",
       "851    i developed an open source olap multidimension...\n",
       "405    my company has recently gone through a merger ...\n",
       "Name: selftext, dtype: object"
      ]
     },
     "execution_count": 58,
     "metadata": {},
     "output_type": "execute_result"
    }
   ],
   "source": [
    "#show 10 longest posts\n",
    "print(\"10 LONGEST POSTS FOR R/DATAENGINEERING\")\n",
    "df_post_words_dengr['selftext'].tail(10)"
   ]
  },
  {
   "cell_type": "markdown",
   "id": "ff871589-1954-4265-8bac-9e1ffb5c6d76",
   "metadata": {},
   "source": [
    "##### Findings\n"
   ]
  },
  {
   "cell_type": "markdown",
   "id": "e54aaa26-b979-47cd-9a3c-4cdb12e09b78",
   "metadata": {},
   "source": [
    "---\n",
    "#### Plotting Distribution of Word Counts and Post Lengths"
   ]
  },
  {
   "cell_type": "markdown",
   "id": "435d1b5d-206a-4451-a63a-cbf41b52378f",
   "metadata": {},
   "source": [
    "##### r/datascience"
   ]
  },
  {
   "cell_type": "code",
   "execution_count": 59,
   "id": "bd898f14-1c3f-4a0d-8133-1b1c211fbd33",
   "metadata": {},
   "outputs": [
    {
     "data": {
      "image/png": "[encoded data removed]",
      "text/plain": [
       "<Figure size 500x500 with 1 Axes>"
      ]
     },
     "metadata": {},
     "output_type": "display_data"
    }
   ],
   "source": [
    "sns.displot(df_post_words_dsc['post_word_count'], kde=False, bins=30)\n",
    "plt.xlabel(\"Word Count\")\n",
    "plt.ylabel(\"Frequency\")\n",
    "plt.title(\"Distribution of Word Counts - r/datascience\")\n",
    "plt.show()"
   ]
  },
  {
   "cell_type": "code",
   "execution_count": 60,
   "id": "f00a7ff9-c04c-4511-a063-1fa30c528dc4",
   "metadata": {},
   "outputs": [
    {
     "data": {
      "image/png": "[encoded data removed]",
      "text/plain": [
       "<Figure size 500x500 with 1 Axes>"
      ]
     },
     "metadata": {},
     "output_type": "display_data"
    }
   ],
   "source": [
    "sns.displot(df_post_words_dsc['post_length'], kde=False, bins=30)\n",
    "plt.xlabel(\"Post Length\")\n",
    "plt.ylabel(\"Frequency\")\n",
    "plt.title(\"Distribution of Post Length - r/datascience\")\n",
    "plt.show()"
   ]
  },
  {
   "cell_type": "markdown",
   "id": "112154f9-2606-4d80-892f-5bf5cd4ddbd3",
   "metadata": {},
   "source": [
    "##### r/dataengineering"
   ]
  },
  {
   "cell_type": "code",
   "execution_count": 61,
   "id": "af985081-fb42-41f1-bcf8-94c0d2310c25",
   "metadata": {},
   "outputs": [
    {
     "data": {
      "image/png": "[encoded data removed]",
      "text/plain": [
       "<Figure size 500x500 with 1 Axes>"
      ]
     },
     "metadata": {},
     "output_type": "display_data"
    }
   ],
   "source": [
    "sns.displot(df_post_words_dengr['post_word_count'], kde=False, bins=30)\n",
    "plt.xlabel(\"Word Count\")\n",
    "plt.ylabel(\"Frequency\")\n",
    "plt.title(\"Distribution of Word Counts - r/dataengineering\")\n",
    "plt.show()"
   ]
  },
  {
   "cell_type": "code",
   "execution_count": 62,
   "id": "86137cc6-bfcd-4acb-a707-87b4d93a4f18",
   "metadata": {},
   "outputs": [
    {
     "data": {
      "image/png": "[encoded data removed]",
      "text/plain": [
       "<Figure size 500x500 with 1 Axes>"
      ]
     },
     "metadata": {},
     "output_type": "display_data"
    }
   ],
   "source": [
    "sns.displot(df_post_words_dengr['post_length'], kde=False, bins=30)\n",
    "plt.xlabel(\"Post Length\")\n",
    "plt.ylabel(\"Frequency\")\n",
    "plt.title(\"Distribution of Post Length - r/dataengineering\")\n",
    "plt.show()"
   ]
  },
  {
   "cell_type": "markdown",
   "id": "e9dcf980-824c-477b-8be6-0fff0844fd46",
   "metadata": {},
   "source": [
    "##### Findings\n",
    "* Comparing post word count vs post length, we can see that the shape and skew of the histograms are quite similar. There is high frequency in the first 5 bins for both distributions, implying that there are more posts with a lower word count and post length.\n",
    "* Between r/datascience and r/dataengineering, r/datascience has a\" greater proportion of shorter posts / fewer words.\n",
    "* From the histograms, we also observe outliers in both r/datascience and r/dataengineering in terms of word count and post length. However, as this analysis is only for EDA and will not affect our model, we will ignore these outliers.\n"
   ]
  },
  {
   "cell_type": "markdown",
   "id": "2124d45c-8a4f-41a1-8cf4-07075ce255f7",
   "metadata": {},
   "source": [
    "---\n",
    "### 2.2.2 Relationship between post length, score, upvote ratio"
   ]
  },
  {
   "cell_type": "markdown",
   "id": "35f90855-1e5f-47b3-9152-1729b2ec22a2",
   "metadata": {},
   "source": [
    "#### Post Length to Score\n",
    "Do longer posts have higher scores?<br>\n",
    "Plot scatter plot of post length to score (with hue for r/datascience and r/dataengineering):"
   ]
  },
  {
   "cell_type": "code",
   "execution_count": 63,
   "id": "2643201f-f274-4709-8664-bf2a74a603ef",
   "metadata": {},
   "outputs": [
    {
     "data": {
      "image/png": "[encoded data removed]",
      "text/plain": [
       "<Figure size 640x480 with 1 Axes>"
      ]
     },
     "metadata": {},
     "output_type": "display_data"
    }
   ],
   "source": [
    "sns.scatterplot(data=df_post_words, x=\"post_length\", y=\"score\", hue=\"subreddit\", alpha=0.6)\n",
    "plt.xlabel(\"Post Length\")\n",
    "plt.ylabel(\"Score\")\n",
    "plt.title(\"Post Length to Score\")\n",
    "plt.show()"
   ]
  },
  {
   "cell_type": "markdown",
   "id": "f51192c9-f4b2-4085-ad2b-9280b45ea388",
   "metadata": {},
   "source": [
    "##### Findings\n",
    "I was expecting longer posts to have higher scores. However, we do not necessarily see such a relationship. In fact almost all the posts of higher post length, have low scores. Data science seems to have more posts with higher scores than data engineering."
   ]
  },
  {
   "cell_type": "markdown",
   "id": "bf8c4560-bba3-4400-a915-92e4787486b1",
   "metadata": {},
   "source": [
    "---\n",
    "#### Post Length to Upvote Ratio\n",
    "Do longer posts tend to receive more upvotes?"
   ]
  },
  {
   "cell_type": "code",
   "execution_count": 64,
   "id": "073ecc3f-c88c-4195-9091-a7d665bfea26",
   "metadata": {},
   "outputs": [
    {
     "data": {
      "image/png": "[encoded data removed]",
      "text/plain": [
       "<Figure size 640x480 with 1 Axes>"
      ]
     },
     "metadata": {},
     "output_type": "display_data"
    }
   ],
   "source": [
    "sns.scatterplot(data=df_post_words, x=\"post_length\", y=\"upvote_ratio\", hue=\"subreddit\", alpha=0.6)\n",
    "plt.xlabel(\"Post Length\")\n",
    "plt.ylabel(\"Upvote Ratio\")\n",
    "plt.title(\"Post Length to Upvote Ratio\")\n",
    "plt.show()"
   ]
  },
  {
   "cell_type": "markdown",
   "id": "63d12850-38b5-494b-9885-0cce8e4f2baf",
   "metadata": {},
   "source": [
    "##### Findings\n",
    "In contrast to postlength vs score, it seems as though a longer post length has some form of correlation to upvote ratio. Data engineering seems to have a larger proportion of posts with upvote ratio above 0.5. Understanding this with the earlier plot, we can infer that data engineering possibly has more posts with scores > 0, but as compared to data science, the scores do not do as well. Whereas for data science, there could be more posts with scores = 0. But posts with scores would have relatively higher scores."
   ]
  },
  {
   "cell_type": "markdown",
   "id": "8af69c4a-c659-4acc-8bbd-fbd73b9fbcff",
   "metadata": {},
   "source": [
    "---\n",
    "#### Upvote Ratio to Score\n",
    "What is the relationship between upvote ratio to score? "
   ]
  },
  {
   "cell_type": "code",
   "execution_count": 65,
   "id": "72ffe48b-e93b-432d-963b-c69a680fda1a",
   "metadata": {},
   "outputs": [
    {
     "data": {
      "image/png": "[encoded data removed]",
      "text/plain": [
       "<Figure size 640x480 with 1 Axes>"
      ]
     },
     "metadata": {},
     "output_type": "display_data"
    }
   ],
   "source": [
    "sns.scatterplot(data=df_post_words, x=\"upvote_ratio\", y=\"score\", hue=\"subreddit\", alpha=0.6)\n",
    "plt.xlabel(\"Upvote Ratio\")\n",
    "plt.ylabel(\"Score\")\n",
    "plt.title(\"Upvote Ratio to Score\")\n",
    "plt.show()"
   ]
  },
  {
   "cell_type": "markdown",
   "id": "fae67d16-a025-4255-908a-6c31339535ae",
   "metadata": {},
   "source": [
    "##### Findings\n",
    "According to __[Reddit FAQ](https://www.reddit.com/wiki/faq/)__, A submission's score is simply the number of upvotes minus the number of downvotes.<br>\n",
    "\n",
    "By this logic, posts with upvote ratios below 0.5 would be unable to have a score above 0.<br>\n",
    "Posts with high score would need to get number of upvotes that outweigh the downvotes."
   ]
  },
  {
   "cell_type": "markdown",
   "id": "238fd825-9386-4346-8deb-79c721407643",
   "metadata": {},
   "source": [
    "---\n",
    "### 2.2.3 Category with the most activity\n",
    "We compared the most popular link-flair-text for each subreddit, which gives us insights to the kind of posts which were most active."
   ]
  },
  {
   "cell_type": "code",
   "execution_count": 66,
   "id": "29ca6405-293a-44ce-ac58-af609fb139d0",
   "metadata": {},
   "outputs": [],
   "source": [
    "#df for r/datascience\n",
    "d_sc = df[df['subreddit']=='datascience']\n",
    "\n",
    "#df for r/dataengr\n",
    "d_engr = df[df['subreddit']=='dataengineering']"
   ]
  },
  {
   "cell_type": "markdown",
   "id": "b1998343-d9fb-44dc-92e7-e8aeb5d1376a",
   "metadata": {},
   "source": [
    "##### r/datascience"
   ]
  },
  {
   "cell_type": "code",
   "execution_count": 67,
   "id": "c6f04922-cebd-4933-8da9-649885e4f9f7",
   "metadata": {},
   "outputs": [
    {
     "data": {
      "image/png": "[encoded data removed]",
      "text/plain": [
       "<Figure size 640x480 with 1 Axes>"
      ]
     },
     "metadata": {},
     "output_type": "display_data"
    }
   ],
   "source": [
    "sns.countplot(data=d_sc, x=\"link_flair_text\", palette=\"rocket\")\n",
    "plt.xticks(rotation=90)\n",
    "plt.show()"
   ]
  },
  {
   "cell_type": "markdown",
   "id": "2e3033fd-0c56-4fe7-9171-69c30e1005b6",
   "metadata": {},
   "source": [
    "##### r/dataengineering"
   ]
  },
  {
   "cell_type": "code",
   "execution_count": 68,
   "id": "d8d6e01c-48a8-4a6b-b71d-3d28b451d5f8",
   "metadata": {},
   "outputs": [
    {
     "data": {
      "image/png": "[encoded data removed]",
      "text/plain": [
       "<Figure size 640x480 with 1 Axes>"
      ]
     },
     "metadata": {},
     "output_type": "display_data"
    }
   ],
   "source": [
    "sns.countplot(data=d_engr, x=\"link_flair_text\", palette=\"rocket\")\n",
    "plt.xticks(rotation=90)\n",
    "plt.show()"
   ]
  },
  {
   "cell_type": "markdown",
   "id": "9a4166ee-ed5e-4ac2-9d32-e90dc6ce8f00",
   "metadata": {},
   "source": [
    "##### Findings\n",
    "* For both r/datascience and r/dataengineering, the top category was 'Discussion'. This reinforces the GA team's plans to set up a discussion channel to gather feedback and queries from potential students, since there is interest to have further discussions on both r/datascience and r/dataengineering."
   ]
  },
  {
   "cell_type": "markdown",
   "id": "544040d9-564e-455b-8852-93dde4f9bd57",
   "metadata": {},
   "source": [
    "---\n",
    "### 2.2.4 Text Preprocessing Strategy\n",
    "Before we use text for EDA (and also modelling later on), I decided to pre-process and clean my text, as a clean dataset would allow me to streamline which words are more relevant to each subreddit. Some preprocessing I will perform include:\n",
    "* Removing special characters and cleanup (done earlier)\n",
    "* Tokenizing (breaking down sentence to separate words)\n",
    "* Lemmatizing / Stemming\n",
    "* Stop Word Removal"
   ]
  },
  {
   "cell_type": "markdown",
   "id": "32dbac3b-79a3-4f78-8e3c-40bad382bdf9",
   "metadata": {},
   "source": [
    "---\n",
    "#### Tokenize, Lemmatize / Stem Text"
   ]
  },
  {
   "cell_type": "markdown",
   "id": "55c5272c-7b01-431e-8f94-25b0363dd68e",
   "metadata": {},
   "source": [
    "Let's tokenize the text and add on a new column to the dataframe for tokenized text:"
   ]
  },
  {
   "cell_type": "code",
   "execution_count": 69,
   "id": "368570d6-31e3-4d7d-adf1-7f961331090c",
   "metadata": {},
   "outputs": [],
   "source": [
    "df_clean = df_text"
   ]
  },
  {
   "cell_type": "code",
   "execution_count": 70,
   "id": "b357a529-78f2-4b1e-8002-603237872911",
   "metadata": {},
   "outputs": [],
   "source": [
    "# regex will include words, numbers, and - \n",
    "tokenizer = RegexpTokenizer(r\"[\\w\\-]+\")"
   ]
  },
  {
   "cell_type": "code",
   "execution_count": 71,
   "id": "9a0d9513-fa36-491e-93ec-2736e0c364cb",
   "metadata": {},
   "outputs": [],
   "source": [
    "post_tokens = [tokenizer.tokenize(post.lower()) for post in df_clean['title_selftext']]"
   ]
  },
  {
   "cell_type": "code",
   "execution_count": 72,
   "id": "7b97cf87-6689-404e-b6ee-00660928f698",
   "metadata": {},
   "outputs": [
    {
     "data": {
      "text/plain": [
       "24874"
      ]
     },
     "execution_count": 72,
     "metadata": {},
     "output_type": "execute_result"
    }
   ],
   "source": [
    "len(post_tokens)"
   ]
  },
  {
   "cell_type": "code",
   "execution_count": 73,
   "id": "9d1f3947-2224-4460-ab3c-4873abe0d53b",
   "metadata": {
    "scrolled": true
   },
   "outputs": [],
   "source": [
    "#Create new column in df\n",
    "df_clean['tokenized'] = post_tokens\n",
    "df_clean['tokenized'] = df_clean['tokenized'].apply(lambda row: ' '.join(row))"
   ]
  },
  {
   "cell_type": "code",
   "execution_count": 74,
   "id": "f8835e5b-e905-42eb-b1fd-ef02a96b523a",
   "metadata": {
    "scrolled": true
   },
   "outputs": [
    {
     "data": {
      "text/html": [
       "<div>\n",
       "<style scoped>\n",
       "    .dataframe tbody tr th:only-of-type {\n",
       "        vertical-align: middle;\n",
       "    }\n",
       "\n",
       "    .dataframe tbody tr th {\n",
       "        vertical-align: top;\n",
       "    }\n",
       "\n",
       "    .dataframe thead th {\n",
       "        text-align: right;\n",
       "    }\n",
       "</style>\n",
       "<table border=\"1\" class=\"dataframe\">\n",
       "  <thead>\n",
       "    <tr style=\"text-align: right;\">\n",
       "      <th></th>\n",
       "      <th>subreddit</th>\n",
       "      <th>title_selftext</th>\n",
       "      <th>tokenized</th>\n",
       "      <th>lemmatized</th>\n",
       "    </tr>\n",
       "  </thead>\n",
       "  <tbody>\n",
       "    <tr>\n",
       "      <th>1</th>\n",
       "      <td>1</td>\n",
       "      <td>programmers  what are the greatest issues you ...</td>\n",
       "      <td>programmers what are the greatest issues you h...</td>\n",
       "      <td>programmer what are the greatest issue you hav...</td>\n",
       "    </tr>\n",
       "    <tr>\n",
       "      <th>2</th>\n",
       "      <td>1</td>\n",
       "      <td>you s  hiring managers  how diverse is your ap...</td>\n",
       "      <td>you s hiring managers how diverse is your appl...</td>\n",
       "      <td>you s hiring manager how diverse is your appli...</td>\n",
       "    </tr>\n",
       "    <tr>\n",
       "      <th>3</th>\n",
       "      <td>1</td>\n",
       "      <td>do i need a masters  i am going into my second...</td>\n",
       "      <td>do i need a masters i am going into my second ...</td>\n",
       "      <td>do i need a master i am going into my second y...</td>\n",
       "    </tr>\n",
       "    <tr>\n",
       "      <th>4</th>\n",
       "      <td>1</td>\n",
       "      <td>how do you describe your job when someone asks...</td>\n",
       "      <td>how do you describe your job when someone asks...</td>\n",
       "      <td>how do you describe your job when someone asks...</td>\n",
       "    </tr>\n",
       "    <tr>\n",
       "      <th>5</th>\n",
       "      <td>1</td>\n",
       "      <td>how i quickly rose to senior data scientist an...</td>\n",
       "      <td>how i quickly rose to senior data scientist an...</td>\n",
       "      <td>how i quickly rose to senior data scientist an...</td>\n",
       "    </tr>\n",
       "  </tbody>\n",
       "</table>\n",
       "</div>"
      ],
      "text/plain": [
       "   subreddit                                     title_selftext  \\\n",
       "1          1  programmers  what are the greatest issues you ...   \n",
       "2          1  you s  hiring managers  how diverse is your ap...   \n",
       "3          1  do i need a masters  i am going into my second...   \n",
       "4          1  how do you describe your job when someone asks...   \n",
       "5          1  how i quickly rose to senior data scientist an...   \n",
       "\n",
       "                                           tokenized  \\\n",
       "1  programmers what are the greatest issues you h...   \n",
       "2  you s hiring managers how diverse is your appl...   \n",
       "3  do i need a masters i am going into my second ...   \n",
       "4  how do you describe your job when someone asks...   \n",
       "5  how i quickly rose to senior data scientist an...   \n",
       "\n",
       "                                          lemmatized  \n",
       "1  programmer what are the greatest issue you hav...  \n",
       "2  you s hiring manager how diverse is your appli...  \n",
       "3  do i need a master i am going into my second y...  \n",
       "4  how do you describe your job when someone asks...  \n",
       "5  how i quickly rose to senior data scientist an...  "
      ]
     },
     "execution_count": 74,
     "metadata": {},
     "output_type": "execute_result"
    }
   ],
   "source": [
    "# Instantiate lemmatizer.\n",
    "lemmatizer = WordNetLemmatizer()\n",
    "\n",
    "# Lemmatize tokens.\n",
    "df_clean['lemmatized'] = [[lemmatizer.lemmatize(word) for word in token_list] for token_list in post_tokens]\n",
    "df_clean['lemmatized'] = df_clean['lemmatized'].apply(lambda row: ' '.join(row))\n",
    "df_clean.head()"
   ]
  },
  {
   "cell_type": "code",
   "execution_count": 75,
   "id": "e84dd750-f80e-4bde-929c-f2836426d837",
   "metadata": {
    "scrolled": true
   },
   "outputs": [
    {
     "data": {
      "text/html": [
       "<div>\n",
       "<style scoped>\n",
       "    .dataframe tbody tr th:only-of-type {\n",
       "        vertical-align: middle;\n",
       "    }\n",
       "\n",
       "    .dataframe tbody tr th {\n",
       "        vertical-align: top;\n",
       "    }\n",
       "\n",
       "    .dataframe thead th {\n",
       "        text-align: right;\n",
       "    }\n",
       "</style>\n",
       "<table border=\"1\" class=\"dataframe\">\n",
       "  <thead>\n",
       "    <tr style=\"text-align: right;\">\n",
       "      <th></th>\n",
       "      <th>subreddit</th>\n",
       "      <th>title_selftext</th>\n",
       "      <th>tokenized</th>\n",
       "      <th>lemmatized</th>\n",
       "      <th>stemmed</th>\n",
       "    </tr>\n",
       "  </thead>\n",
       "  <tbody>\n",
       "    <tr>\n",
       "      <th>1</th>\n",
       "      <td>1</td>\n",
       "      <td>programmers  what are the greatest issues you ...</td>\n",
       "      <td>programmers what are the greatest issues you h...</td>\n",
       "      <td>programmer what are the greatest issue you hav...</td>\n",
       "      <td>programm what are the greatest issu you have w...</td>\n",
       "    </tr>\n",
       "    <tr>\n",
       "      <th>2</th>\n",
       "      <td>1</td>\n",
       "      <td>you s  hiring managers  how diverse is your ap...</td>\n",
       "      <td>you s hiring managers how diverse is your appl...</td>\n",
       "      <td>you s hiring manager how diverse is your appli...</td>\n",
       "      <td>you s hire manag how divers is your applic poo...</td>\n",
       "    </tr>\n",
       "    <tr>\n",
       "      <th>3</th>\n",
       "      <td>1</td>\n",
       "      <td>do i need a masters  i am going into my second...</td>\n",
       "      <td>do i need a masters i am going into my second ...</td>\n",
       "      <td>do i need a master i am going into my second y...</td>\n",
       "      <td>do i need a master i am go into my second year...</td>\n",
       "    </tr>\n",
       "    <tr>\n",
       "      <th>4</th>\n",
       "      <td>1</td>\n",
       "      <td>how do you describe your job when someone asks...</td>\n",
       "      <td>how do you describe your job when someone asks...</td>\n",
       "      <td>how do you describe your job when someone asks...</td>\n",
       "      <td>how do you describ your job when someon ask wh...</td>\n",
       "    </tr>\n",
       "    <tr>\n",
       "      <th>5</th>\n",
       "      <td>1</td>\n",
       "      <td>how i quickly rose to senior data scientist an...</td>\n",
       "      <td>how i quickly rose to senior data scientist an...</td>\n",
       "      <td>how i quickly rose to senior data scientist an...</td>\n",
       "      <td>how i quickli rose to senior data scientist an...</td>\n",
       "    </tr>\n",
       "  </tbody>\n",
       "</table>\n",
       "</div>"
      ],
      "text/plain": [
       "   subreddit                                     title_selftext  \\\n",
       "1          1  programmers  what are the greatest issues you ...   \n",
       "2          1  you s  hiring managers  how diverse is your ap...   \n",
       "3          1  do i need a masters  i am going into my second...   \n",
       "4          1  how do you describe your job when someone asks...   \n",
       "5          1  how i quickly rose to senior data scientist an...   \n",
       "\n",
       "                                           tokenized  \\\n",
       "1  programmers what are the greatest issues you h...   \n",
       "2  you s hiring managers how diverse is your appl...   \n",
       "3  do i need a masters i am going into my second ...   \n",
       "4  how do you describe your job when someone asks...   \n",
       "5  how i quickly rose to senior data scientist an...   \n",
       "\n",
       "                                          lemmatized  \\\n",
       "1  programmer what are the greatest issue you hav...   \n",
       "2  you s hiring manager how diverse is your appli...   \n",
       "3  do i need a master i am going into my second y...   \n",
       "4  how do you describe your job when someone asks...   \n",
       "5  how i quickly rose to senior data scientist an...   \n",
       "\n",
       "                                             stemmed  \n",
       "1  programm what are the greatest issu you have w...  \n",
       "2  you s hire manag how divers is your applic poo...  \n",
       "3  do i need a master i am go into my second year...  \n",
       "4  how do you describ your job when someon ask wh...  \n",
       "5  how i quickli rose to senior data scientist an...  "
      ]
     },
     "execution_count": 75,
     "metadata": {},
     "output_type": "execute_result"
    }
   ],
   "source": [
    "# Instantiate stemmer.\n",
    "p_stemmer = PorterStemmer()\n",
    "\n",
    "# Stem tokens.\n",
    "df_clean['stemmed'] = [[p_stemmer.stem(word) for word in token_list] for token_list in post_tokens]\n",
    "df_clean['stemmed'] = df_clean['stemmed'].apply(lambda row: ' '.join(row))\n",
    "df_clean.head()"
   ]
  },
  {
   "cell_type": "markdown",
   "id": "ceffa9ed-2495-4191-9018-069b3a4ac501",
   "metadata": {},
   "source": [
    "##### Findings\n",
    "* For Lemmatizing, Spacy and WordNetLemmatizer were used, however I found that the results of spacy lemmatizing was same as stemming, so I stuck to using the WordNetLemmatizer instead. In general, lemmatizing does not seem very effective. Some plural words have been reduced to their singular form. However, words in past tense remained the same.\n",
    "* We will still proceed with lemmatizing for EDA, so our findings are more understandable.\n",
    "* Stemming is way more aggressive, the stemmed text seems to have alot of spelling errors."
   ]
  },
  {
   "cell_type": "markdown",
   "id": "7dc26e52-a0b6-43d4-9df1-9b266027709f",
   "metadata": {},
   "source": [
    "---\n",
    "### 2.2.5 Feature Word Frequency\n",
    "Let's explore which words appeared most often within each subreddit. To identify top words, CountVectorizer was used. After every iteration of getting top 20 words, I would filter out certain useless words (unable to help us in classification) to be added on to the list of stop words. The process was repeated several times."
   ]
  },
  {
   "cell_type": "code",
   "execution_count": 76,
   "id": "9068e546-0f61-45b1-a95e-81a86ff468ca",
   "metadata": {},
   "outputs": [],
   "source": [
    "# Function to check if a word contains only English alphabets\n",
    "def is_english(word):\n",
    "    return bool(re.match('^[a-zA-Z]+$', word))\n",
    "\n",
    "# Function to drop non-English words or numbers in the Series\n",
    "def drop_non_english_and_numbers(series):\n",
    "    return series.apply(lambda text: ' '.join(word for word in str(text).split() if is_english(word)))\n",
    "\n",
    "# Convert the 'lemmatized' column to strings\n",
    "df_clean['lemmatized'] = df_clean['lemmatized'].astype(str)\n",
    "\n",
    "# Apply the function to the 'lemmatized' column and store the result in a new Series\n",
    "df_clean = drop_non_english_and_numbers(df_clean['lemmatized'])"
   ]
  },
  {
   "cell_type": "markdown",
   "id": "a68e891c-788a-4172-a4df-8421a2a4226b",
   "metadata": {},
   "source": [
    "Define a function to extract + plot top 20 feature words:"
   ]
  },
  {
   "cell_type": "code",
   "execution_count": 77,
   "id": "8a4da3ed-85f7-4590-be5e-964b61820ca6",
   "metadata": {},
   "outputs": [],
   "source": [
    "def feat_top(array, file_path):\n",
    "    # Convert non-string elements to strings\n",
    "    array = [str(item) for item in array]\n",
    "\n",
    "    # Setting the vectorizer\n",
    "    cvec = CountVectorizer(binary=False, stop_words='english')\n",
    "\n",
    "    # Fitting the vectorizer on lemmatized data\n",
    "    cvec.fit(array)\n",
    "\n",
    "    # Transform the corpus.\n",
    "    array_transformed = cvec.transform(array)\n",
    "\n",
    "    # Features with stopwords removed\n",
    "    feature_words = cvec.get_feature_names_out()\n",
    "    print(f\"No: of Feature Words: {len(feature_words)}\")\n",
    "\n",
    "    # File path where you want to save the feature words\n",
    "    file_path = file_path\n",
    "\n",
    "    # Open the file in write mode with utf-8 encoding and write the feature words\n",
    "    with open(file_path, \"w\", encoding=\"utf-8\") as file:\n",
    "        for word in feature_words:\n",
    "            file.write(word + \"\\n\")\n",
    "\n",
    "    # Create DataFrame with document-term matrix\n",
    "    array_df = pd.DataFrame(array_transformed.todense(), columns=feature_words)\n",
    "\n",
    "    # Calculate word frequencies and plot top occurring words\n",
    "    word_frequencies = array_df.sum().sort_values(ascending=False)\n",
    "    print(word_frequencies.head(20))"
   ]
  },
  {
   "cell_type": "markdown",
   "id": "ac3300f5-071d-4525-b1f6-0552719c5947",
   "metadata": {},
   "source": [
    "#### r/datascience"
   ]
  },
  {
   "cell_type": "code",
   "execution_count": 78,
   "id": "caee9824-5173-48b4-a39d-8f0dc00f42dd",
   "metadata": {
    "scrolled": true
   },
   "outputs": [
    {
     "data": {
      "text/plain": [
       "1    programmer what are the greatest issue you hav...\n",
       "2    you s hiring manager how diverse is your appli...\n",
       "Name: lemmatized, dtype: object"
      ]
     },
     "execution_count": 78,
     "metadata": {},
     "output_type": "execute_result"
    }
   ],
   "source": [
    "d_sc = df_text[df_text['subreddit'] == 1]['lemmatized']\n",
    "d_sc.head(2)"
   ]
  },
  {
   "cell_type": "code",
   "execution_count": 79,
   "id": "cc990e05-d98f-43a0-9fdf-dc5cdc21f583",
   "metadata": {},
   "outputs": [
    {
     "name": "stdout",
     "output_type": "stream",
     "text": [
      "No: of Feature Words: 17110\n",
      "data       7514\n",
      "job        3057\n",
      "like       2921\n",
      "just       2848\n",
      "work       2648\n",
      "wa         2476\n",
      "science    2279\n",
      "time       2140\n",
      "people     1997\n",
      "model      1869\n",
      "use        1867\n",
      "need       1773\n",
      "know       1751\n",
      "good       1733\n",
      "company    1708\n",
      "python     1698\n",
      "think      1684\n",
      "want       1621\n",
      "year       1538\n",
      "make       1481\n",
      "dtype: int64\n"
     ]
    }
   ],
   "source": [
    "#use my earlier function to plot top 20 words for r/dataengineering\n",
    "feat_top(d_sc, \"../data/feature_words_dsc.txt\")"
   ]
  },
  {
   "cell_type": "markdown",
   "id": "aeb090f1-2ee4-491a-ab29-1a6485b12af0",
   "metadata": {},
   "source": [
    "#### r/dataengineering"
   ]
  },
  {
   "cell_type": "code",
   "execution_count": 80,
   "id": "a57921b3-886f-4233-a953-87c1df83ee0d",
   "metadata": {
    "scrolled": true
   },
   "outputs": [
    {
     "data": {
      "text/plain": [
       "0    monthly general discussion aug this thread is ...\n",
       "1    quarterly salary discussion jun this is a recu...\n",
       "2    what replaced cube i am fairly old school with...\n",
       "3    is traditional data modeling dead a someone wh...\n",
       "4    lot of people seem to hate data engineering is...\n",
       "Name: lemmatized, dtype: object"
      ]
     },
     "execution_count": 80,
     "metadata": {},
     "output_type": "execute_result"
    }
   ],
   "source": [
    "d_engr = df_text[df_text['subreddit'] == 0]['lemmatized']\n",
    "d_engr.head()"
   ]
  },
  {
   "cell_type": "code",
   "execution_count": 81,
   "id": "37df8924-b78e-47d9-a18c-13885a17d170",
   "metadata": {},
   "outputs": [
    {
     "name": "stdout",
     "output_type": "stream",
     "text": [
      "No: of Feature Words: 15555\n",
      "data        8901\n",
      "like        2759\n",
      "just        2607\n",
      "use         2246\n",
      "work        2195\n",
      "wa          2107\n",
      "need        1950\n",
      "sql         1918\n",
      "time        1791\n",
      "job         1761\n",
      "company     1651\n",
      "tool        1426\n",
      "engineer    1410\n",
      "table       1377\n",
      "know        1374\n",
      "want        1370\n",
      "thing       1342\n",
      "using       1325\n",
      "good        1324\n",
      "python      1250\n",
      "dtype: int64\n"
     ]
    }
   ],
   "source": [
    "#use my earlier function to plot top 20 words for r/dataengineering\n",
    "feat_top(d_engr, \"../data/feature_words_dengr.txt\")"
   ]
  },
  {
   "cell_type": "markdown",
   "id": "f5fcedf7-ed26-4def-b500-bf96b65e59cf",
   "metadata": {},
   "source": [
    "##### Findings\n",
    "From the initial extraction of the top 20 words, we can tell that there are some similar words between both subreddits. Words like 'data', 'job', 'company', 'time' are words that would be common for a data-related industry / career. However, as these words do not help us differentiate between data science and data engineering, we could add them to stopwords to reduce noise. Words like 'like', 'just', 'use', 'work', 'need' are even more generic and should be omitted from the model as well.\n",
    "\n",
    "So far, we only see 2 instances of technical terms 'python' and 'sql' being used in r/datascience and r/dataengineering respectively. Technical terms could be effective in helping us categorise data science vs engineering, as the skill set between both roles are quite different. However, from our problem statement point of view where we are considering comments from a GA open discussion platform, it is important to consider that potential applicants interested in bootcamps may not have technical knowledge of the field."
   ]
  },
  {
   "cell_type": "markdown",
   "id": "a19da369-bfc2-44e9-89c6-c317a6b70d24",
   "metadata": {},
   "source": [
    "---\n",
    "#### Finding similar words between both sets of feature words:"
   ]
  },
  {
   "cell_type": "code",
   "execution_count": 82,
   "id": "7b302671-17f9-4b6a-a210-59df6ebd8f29",
   "metadata": {
    "scrolled": true
   },
   "outputs": [
    {
     "name": "stdout",
     "output_type": "stream",
     "text": [
      "9521\n",
      "{'odbc', 'automating', 'read', 'abstracting', 'corresponds', 'offender', 'dashboard', 'middle', 'integration', 'staring', 'airline', 'todo', 'comfortable', 'ordinal', '_df', 'case', 'nlp', 'seaborn', 'cliche', 'tldr', 'cleaned', 'misunderstanding', 'evolved', 'involved', 'craft', 'course', 'id', 'practitioner', 'gpt', 'irrelevant', 'legacy', 'duty', 'curiosity', 'validity', 'precise', 'thst', 'internationally', 'admission', 'competency', 'bonus', 'branding', 'potentially', 'increasing', 'capturing', 'pedal', 'indifferent', 'unknown', 'backwards', 'voucher', 'notifying', 'integrating', 'trait', 'asking', 'gauss', 'postgres', 'dollar', 'parallelization', 'pertaining', 'unload', 'developer', 'unqualified', 'profound', 'backend', 'dataengineering', 'shoulder', 'researched', 'incident', 'jd', 'calculate', 'severe', 'concept', 'approaching', 'corr', 'weaker', 'config', 'truthful', 'figure', 'enables', 'integrated', 'ein', 'interchangeable', 'airtable', 'payer', 'producing', 'dog', 'steep', 'georgia', 'regional', 'signing', 'overboard', 'configurable', 'geometry', 'ahhhhh', 'meta', 'scrolled', 'interpreted', 'hike', 'clunky', 'sense', 'py', 'day', 'pack', 'swear', 'tandem', 'biomedical', 'inclusion', 'breakdown', 'produced', 'xxxxxxx', 'germany', 'normally', 'geospatial', 'determines', 'organisation', 'sin', 'duh', 'precision', 'drilled', 'var', 'humanity', 'social', 'programing', 'prompt', 'bloop', 'atm', 'growth', 'retired', 'moreso', 'quite', 'delusional', 'distributed', 'access', 'banal', 'hour', 'brought', 'skipped', 'torn', 'existing', 'dropna', 'margin', 'crippled', 'subsetting', 'negligible', 'eligible', 'mitigating', 'described', 'gcp', 'chaos', 'churning', 'pf', 'enlightened', 'disclosure', 'obv', 'fourth', 'cognizant', 'innovative', 'humiliated', 'art', 'negotiation', 'detriment', 'desert', 'trusted', 'datapoint', 'importance', 'environment', 'kindly', 'instrumental', 'unhealthy', 'array', 'moat', 'yoe', 'confidential', 'desired', 'user', 'taylor', 'action', 'loss', 'culture', 'omics', 'char', 'enjoyable', 'brother', 'acted', 'bent', 'weekend', 'subreddits', 'workplace', 'string', 'volunteer', 'coviariates', 'cataloging', 'transaction', 'invaluable', 'discouraging', 'weapon', 'blanket', 'elaborate', 'taught', 'brush', 'hiding', 'won', 'iv', 'worst', 'actuary', 'sme', 'yes', 'appropriately', 'dynamic', 'scan', 'allergic', 'monkey', 'theme', 'issue', 'pocs', 'japan', 'coherent', 'childcare', 'semi', 'increasingly', 'exception', 'monday', 'sry', 'ramp', 'explicit', 'donation', 'bloated', 'consuming', 'axis', 'fucker', 'pleasure', 'gripe', 'slapped', 'treating', 'hustling', 'spreadsheet', 'forgiveness', 'seamless', 'pasting', 'functionality', 'succeed', 'datasets', 'shitting', 'overwrite', 'competence', 'issued', 'echoed', 'fresher', 'cell', 'steve', 'mastering', 'blamed', 'dplyr', 'logistic', 'hunter', 'scale', 'ob', 'alter', 'sigma', 'vibe', 'warehouse', 'inventory', 'faked', 'policy', 'free', 'ride', 'participate', 'techie', 'unconsciously', 'unstuck', 'sauce', 'child', 'assistance', 'ipython', 'landed', 'kera', 'vi', 'thing', 'clever', 'bls', 'experimenting', 'wtf', 'black', 'pca', 'conversant', 'begged', 'discrepancy', 'wayne', 'pipeline', 'virtual', 'entitled', 'contractor', 'dubai', 'looking', 'upvotes', 'artist', 'hired', 'upgrade', 'iterate', 'forwarded', 'understate', 'abides', 'aimed', 'smoke', 'versed', 'race', 'facto', 'md', 'chunk', 'grained', 'ebay', 'thinking', 'bow', 'daddy', 'physical', 'bear', 'verbatim', 'stringent', 'automates', 'bigdata', 'enhance', 'practising', 'safer', 'token', 'messing', 'sale', 'uhhh', 'sorta', 'marketer', 'orlando', 'solidly', 'boxed', 'mba', 'wsl', 'optimal', 'freelancer', 'locally', 'uh', 'ouch', 'hosted', 'examine', 'hiring', 'nvidia', 'iron', 'viewed', 'specifying', 'nerd', 'constructive', 'hinting', 'accused', 'madman', 'desperation', 'dictate', 'quoting', 'ledger', 'toughest', 'expire', 'interior', 'digestible', 'promoted', 'dug', 'crucial', 'muscle', 'downstream', 'pt', 'range', 'simplified', 'despite', 'rigor', 'hardworking', 'badge', 'mech', 'announced', 'detection', 'feed', 'ill', 'administered', 'baseline', 'leveling', 'whitepapers', 'performs', 'chuckle', 'aggressive', 'familiar', 'influx', 'offline', 'compilation', 'roadblock', 'latch', 'flipped', 'woe', 'element', 'buzzwordy', 'workshop', 'polarization', 'chooses', 'exam', 'intentioned', 'trustworthiness', 'discredit', 'initially', 'nj', 'scared', 'electronic', 'compaction', 'idiot', 'minimise', 'depart', 'perceived', 'helpfull', 'hardware', 'spread', 'adoption', 'democratisation', 'beating', 'european', 'fun', 'george', 'fiddle', 'impactful', 'utilise', 'decreased', 'fascinating', 'benchmark', 'asian', 'rely', 'selective', 'outlier', 'sav', 'challenge', 'machinery', 'radar', 'rush', 'bounce', 'obscure', 'activating', 'accommodation', 'border', 'intel', 'owe', 'fleeting', 'logic', 'eli', 'group', 'sticky', 'unwilling', 'etl', 'mitigated', 'valuable', 'flow', 'overtime', 'ongoing', 'parity', 'saturation', 'useless', 'ct', 'agenda', 'led', 'liberty', 'half', 'renowned', 'explore', 'vpn', 'considered', 'meticulously', 'effortlessly', 'toddler', 'du', 'newsletter', 'analytical', 'started', 'suffering', 'ftp', 'prime', 'uber', 'notable', 'overwhelmed', 'stretch', 'decoding', 'real', 'whoa', 'staying', 'casual', 'evolving', 'league', 'agrees', 'utterly', 'advised', 'sorted', 'addition', 'design', 'ecosystem', 'promotes', 'ansi', 'solicit', 'draw', 'rd', 'bringing', 'mining', 'polyglot', 'angeles', 'arbitrarily', 'gm', 'upskill', 'ddia', 'current', 'swamped', 'nonetheless', 'proprietary', 'activation', 'overlapping', 'lends', 'prize', 'starting', 'kubernetes', 'strangely', 'timer', 'forgoing', 'reimbursement', 'submits', 'kicking', 'meaningfully', 'dummy', 'causing', 'turf', 'requested', 'permission', 'shoddy', 'sacked', 'gifted', 'trainee', 'compassionate', 'containerized', 'barely', 'halfway', 'clown', 'sacrificing', 'blurb', 'hustle', 'loe', 'acing', 'ii', 'google', 'modernise', 'toh', 'depressing', 'cool', 'segregate', 'infact', 'visual', 'hacky', 'moly', 'expenditure', 'dang', 'mathematics', 'navigated', 'busted', 'likeness', 'translating', 'analytics', 'rename', 'informatics', 'unfulfilled', 'pic', 'coding', 'forcing', 'administration', 'challenged', 'creation', 'mixed', 'precisely', 'share', 'supervision', 'grilled', 'cohort', 'sshing', 'bay', 'reducing', 'staff', 'skepticism', 'pa', 'got', 'genre', 'affinity', 'drafting', 'hassle', 'modelled', 'eastern', 'submit', 'emergence', 'xxx', 'associate', 'mainframe', 'est', 'privacy', 'hourly', 'cheapest', 'amplitude', 'acute', 'performing', 'clinic', 'courtesy', 'hotness', 'meaningful', 'returned', 'receiving', 'qualify', 'funeral', 'insulting', 'considerable', 'prod', 'demise', 'boyfriend', 'deductible', 'negativity', 'dependency', 'uni', 'neanderthal', 'clause', 'imho', 'theoretical', 'blindly', 'unfinished', 'splink', 'ew', 'comply', 'invited', 'unavailable', 'stuffed', 'arrogance', 'input', 'proficiently', 'library', 'remind', 'bog', 'annually', 'freelance', 'thoroughly', 'finally', 'productionize', 'infuriating', 'complementary', 'violin', 'drawing', 'organisational', 'gospel', 'right', 'dealer', 'press', 'finetuning', 'overlap', 'respondent', 'penny', 'trek', 'reqs', 'recruiting', 'hugging', 'obsolescence', 'enhances', 'fixable', 'india', 'poc', 'highlighted', 'joker', 'skeleton', 'carrier', 'employment', 'declare', 'individually', 'seriousness', 'called', 'nigerian', 'underestimating', 'isolate', 'fintech', 'deserves', 'watcher', 'indentation', 'instead', 'passionate', 'today', 'locality', 'sprinkled', 'medium', 'prayer', 'cancer', 'defeated', 'immediately', 'change', 'conflated', 'authenticate', 'wfh', 'orchestrator', 'participating', 'faced', 'this_', 'reproducible', 'scarce', 'unused', 'item', 'shortly', 'refactored', 'safe', 'streamline', 'test', 'codebases', 'encapsulates', 'implication', 'manifest', 'stall', 'predictable', 'delivered', 'ai', 'atrocious', 'author', 'ultimately', 'marking', 'revamp', 'turn', 'focussing', 'audited', 'subclass', 'dq', 'invisible', 'grows', 'agg', 'flavor', 'criticism', 'ding', 'imagination', 'interviewing', 'irrational', 'pref', 'quote', 'bioinformatician', 'nut', 'rescue', 'continuum', 'hackerrank', 'legit', 'embeds', 'equipped', 'rolling', 'imperative', 'accordingly', 'diligent', 'relieved', 'neuroscience', 'econometrics', 'earnings', 'unpack', 'hardly', 'bw', 'useful', 'cyber', 'converted', 'interim', 'patching', 'atrophying', 'hopeful', 'maximum', 'tumbling', 'forceful', 'nervous', 'commenter', 'screen', 'confirm', 'bunch', 'tin', 'southeast', 'locking', 'failing', 'standardized', 'knife', 'sampled', 'factual', 'tracker', 'upvote', 'portugal', 'feat', 'exponential', 'shocking', 'occasion', 'county', 'incidentally', 'container', 'component', 'slap', 'downsize', 'precious', 'studying', 'br', 'einstein', 'sayin', 'accessible', 'console', 'dropped', 'sweet', 'group_by', 'miserable', 'sufficiently', 'lawyer', 'vast', 'comfortably', 'dv', 'widen', 'financing', 'woth', 'stellar', 'conversely', 'attached', 'elitist', 'unacceptable', 'comparatively', 'sophisticated', 'appear', 'crowd', 'signal', 'mocking', 'veracity', 'odd', 'obfuscated', 'unlock', 'transit', 'acronym', 'predictive', 'speaker', 'prop', 'collab', 'invented', 'roof', 'lineage', 'illness', 'unravel', 'microsoft', 'vague', 'inf', 'binding', 'msds', 'billionaire', 'ladder', 'fb', 'cheap', 'disconnect', 'mindless', 'normalise', 'ssms', 'countless', 'remembering', 'diagnose', 'possibly', 'treasure', 'managing', 'analyse', 'acl', 'hottest', 'wash', 'mature', 'character', 'sequence', 'capital', 'archive', 'brainstorming', 'aspect', 'screw', '_id', 'datatypes', 'filtering', 'channel', 'librarian', 'opposite', 'enthusiastic', 'decentralised', 'dealing', 'pretrained', 'till', 'leap', 'navigate', 'grant', 'insightful', 'observing', 'pony', 'conscience', 'shot', 'shadowing', 'statistician', 'gary', 'ignores', 'interacts', 'remains', 'ordered', 'disgrace', 'thankful', 'touch', 'implementation', 'shut', 'having', 'make', 'spin', 'obnoxious', 'lip', 'relax', 'tuition', 'affiliation', 'consisted', 'apprehensive', 'epidemiology', 'programmatically', 'rouge', 'multinational', 'addictive', 'reinvent', 'married', 'vowel', 'russian', 'remoting', 'advent', 'configuration', 'crime', 'flexibility', 'differential', 'uncommon', 'scratch', 'labour', 'sarcastic', 'sqlite', 'tx', 'correlation', 'closed', 'gsk', 'regarding', 'reservation', 'aggregated', 'unnecessary', 'bring', 'discourse', 'watched', 'yearly', 'attempted', 'hello', 'protection', 'unrelated', 'consecutive', 'consequently', 'juncture', 'pd', 'survive', 'enrolled', 'apologise', 'delivering', 'specializing', 'selected', 'barometer', 'spent', 'gorilla', 'similar', 'nebulous', 'operational', 'carry', 'transferring', 'manipulated', 'extends', 'generalize', 'creativity', 'tea', 'sheer', 'unintelligible', 'attractive', 'widget', 'continue', 'kempf', 'wracking', 'literal', 'pitch', 'knack', 'coz', 'solve', 'gradually', 'add', 'fro', 'fn', 'surprising', 'everyday', 'generate', 'hw', 'robust', 'doc', 'domain', 'indian', 'wut', 'repeat', 'impress', 'defending', 'harder', 'arrives', 'rebuild', 'neglected', 'owns', 'comparable', 'connection', 'flux', 'private', 'export', 'heavily', 'langchain', 'region', 'misunderstood', 'cereal', 'particularly', 'shield', 'kidding', 'styled', 'figma', 'fly', 'apparently', 'calmly', 'shine', 'cutoff', 'stakeholder', 'moving', 'traveling', 'efficient', 'begin', 'crisis', 'insta', 'dming', 'iloc', 'xyz', 'lesser', 'basic', 'rig', 'accepts', 'natively', 'respectable', 'ty', 'leave', 'representing', 'telecom', 'bargain', 'boolean', 'auth', 'replicating', 'glass', 'googling', 'promo', 'serving', 'created', 'lease', 'datacamp', 'anyways', 'undone', 'ass', 'architectural', 'roughly', 'synonym', 'optimized', 'meantime', 'date', 'github', 'assisting', 'pi', 'lgtm', 'diy', 'distant', 'lightly', 'designer', 'pricy', 'borrow', 'hmm', 'panic', 'shorter', 'sophistication', 'hehe', 'summarize', 'acquisition', 'legitimately', 'replaced', 'subsidiary', 'explanation', 'preface', 'post', 'explicitely', 'coordinate', 'nyc', 'snowflake', 'spelling', 'classified', 'upfront', 'warm', 'hyperparameter', 'vectorized', 'engineering', 'niche', 'defend', 'proj', 'table_id', 'determining', 'tribal', 'support', 'concisely', 'endpoint', 'surprisingly', 'legend', 'ed', 'banking', 'tim', 'hint', 'personal', 'wishing', 'signed', 'calibration', 'advisable', 'intellectual', 'consumed', 'publicly', 'gatekeeper', 'huggingface', 'stopped', 'restrict', 'api', 'mnc', 'bash', 'sounded', 'preview', 'camera', 'prohibited', 'strengthening', 'transpose', 'bare', 'complicate', 'martech', 'facing', 'collaboration', 'behalf', 'traveled', 'leftmost', 'versus', 'proofing', 'sub', 'dev', 'hong', 'harvard', 'chatty', 'intern', 'lightweight', 'catastrophic', 'caught', 'ordinate', 'tia', 'campaign', 'laundering', 'fake', 'narrow', 'sf', 'situational', 'mimic', 'amazon', 'snowpark', 'toss', 'mt', 'depending', 'seek', 'acquiring', 'imposter', 'exchange', 'wipe', 'glued', 'proccess', 'algebra', 'downtime', 'edition', 'kickstart', 'jist', 'justification', 'modify', 'complaining', 'solution', 'minimize', 'counterproductive', 'couple', 'immature', 'approx', 'blaze', 'phenomenon', 'nation', 'encouragement', 'unsure', 'spanish', 'kimball', 'lob', 'prioritizes', 'unusually', 'vault', 'threat', 'definitely', 'benefited', 'hubris', 'ignore', 'killer', 'ceo', 'cobbled', 'surprised', 'shitty', 'confess', 'pit', 'cronjobs', 'relation', 'jim', 'snack', 'dogshit', 'trade', 'adopter', 'boom', 'dara', 'license', 'drew', '_data', 'handle', 'recent', 'overestimate', 'gravitate', 'manual', 'considerably', 'ranked', 'october', 'eliminates', 'microbatch', 'boilerplate', 'goofy', 'whine', 'scattered', 'boredom', 'fetish', 'veteran', 'pathetic', 'shareable', 'crush', 'elitism', 'anger', 'primarly', 'disaster', 'william', 'glancing', 'reilly', 'reverted', 'exist', 'monetary', 'layoff', 'assuring', 'chemical', 'charm', 'mathematical', 'incessant', 'session', 'drug', 'index', 'sector', 'mit', 'kit', 'openly', 'entrypoint', 'bible', 'grocery', 'competition', 'extensive', 'paralysis', 'sqlalchemy', 'tall', 'learning', 'bioinformatics', 'stamp', 'therapy', 'smith', 'photo', 'communicator', 'trace', 'generalization', 'ui', 'brute', 'crap', 'doubtful', 'equity', 'celebrating', 'eye', 'lmfao', 'rightly', 'ignorance', 'dozen', 'arrangement', 'empower', 'football', 'ic', 'immigrate', 'backstory', 'downvote', 'realising', 'generation', 'violent', 'booming', 'sat', 'wannabe', 'narcissist', 'tweaked', 'conservative', 'refine', 'pertinent', 'mess', 'vertical', 'greater', 'mod', 'refining', 'learndatascience', 'esri', 'greatness', 'crapping', 'exaggerated', 'verifying', 'postdoc', 'commenting', 'euro', 'resonate', 'scientist', 'correspond', 'mart', 'guise', 'payed', 'huge', 'merges', 'duck', 'wild', 'literate', 'factor', 'backing', 'priced', 'slapping', 'widespread', 'interpretation', 'friend', 'bubble', 'sure', 'pip', 'paul', 'stroke', 'inexperienced', 'championed', 'relocate', 'install', 'pii', 'production', 'stuff', 'emphasize', 'grandeur', 'final', 'acceptable', 'typing', 'pyramid', 'wisely', 'slipped', 'ga', 'word', 'gartner', 'whilst', 'distinction', 'printing', 'listening', 'networking', 'tableau', 'bachelor', 'sceptical', 'employing', 'cap', 'maximized', 'envs', 'kim', 'discrete', 'faulty', 'spoiled', 'fortunate', 'educational', 'freakin', 'sec', 'pressing', 'timey', 'readiness', 'fargate', 'symptom', 'winkler', 'scalar', 'cutter', 'tapped', 'ink', 'street', 'effort', 'agile', 'closing', 'bullet', 'messaging', 'abroad', 'easiest', 'manager', 'rarer', 'distinguishes', 'placing', 'rockstar', 'innovate', 'ready', 'recipe', 'schooling', 'email', 'clip', 'experimentation', 'norm', 'textbook', 'getting', 'piecemeal', 'linearly', 'cultivate', 'narrowed', 'object', 'forecasted', 'inactive', 'received', 'noobs', 'assignment', 'supplement', 'influenced', 'discus', 'shy', 'runtime', 'successor', 'flash', 'committed', 'symbolic', 'memo', 'preparing', 'fuckall', 'automatic', 'intuitively', 'sk', 'advisory', 'throwaway', 'psychological', 'desktop', '_any_', 'systematically', 'cheme', 'war', 'themed', 'blob', 'trucking', 'marketability', 'violate', 'leak', 'onboarded', 'sane', 'stored', 'fabric', 'anecdotally', 'scripting', 'dropdown', 'hesitant', 'quarter', 'investigate', 'surface', 'remotely', 'variant', 'designing', 'importantly', 'healthy', 'usefulness', 'engine', 'finishing', 'quantifiable', 'supported', 'sketch', 'roi', 'dice', 'knot', 'trailer', 'carpentry', 'respect', 'render', 'broker', 'troll', 'automated', 'rogue', 'ironically', 'small', 'join', 'recorded', 'inherit', 'programming', 'quant', 'packing', 'bg', 'rich', 'satisfy', 'comprehensive', 'bang', 'tripled', 'usual', 'genius', 'motivates', 'shown', 'sift', 'swim', 'dl', 'persistent', 'preference', 'adaptable', 'bandwidth', 'declaration', 'compiles', 'disabled', 'apart', 'workbench', 'enforced', 'screening', 'mexico', 'fails', 'enrich', 'expandable', 'lastly', 'rise', 'suspect', 'gender', 'request', 'tail', 'downloaded', 'favorite', 'nn', 'computed', 'promise', 'collaborate', 'alike', 'positively', 'jack', 'music', 'blown', 'ctrl', 'ruff', 'francisco', 'sdes', 'hallucinate', 'tactical', 'swing', 'normalisation', 'relevant', 'differing', 'historic', 'coaching', 'coherently', 'cracked', 'gx', 'comment', 'nuclear', 'depth', 'overflow', 'cpu', 'streamlined', 'visualization', 'experienceddevs', 'assistant', 'kool', 'arduous', 'disguise', 'inept', 'ffmpeg', 'hm', 'satisfactory', 'duplicating', 'practice', 'overall', 'connectorx', 'vim', 'brutal', 'tao', 'worthy', 'nevermind', 'prolific', 'road', 'coordinator', 'translator', 'autonomy', 'blew', 'suffered', 'pleased', 'ba', 'million', 'modest', 'tantrum', 'wary', 'permutation', 'commit', 'earthquake', 'unreliability', 'tremendous', 'cm', 'welcome', 'cron', 'carried', 'reconcile', 'indicator', 'html', 'chatted', 'ngl', 'ironic', 'bigquery', 'repository', 'll', 'stepping', 'japanese', 'renew', 'staggering', 'statistic', 'centric', 'configure', 'get_data', 'absurdly', 'reliability', 'wiki', 'issuing', 'monitored', 'mediator', 'triangle', 'vote', 'intuition', 'nba', 'intermediary', 'covert', 'separated', 'corrected', 'material', 'indirectly', 'liar', 'bla', 'tourist', 'airplane', 'rip', 'favour', 'focussed', 'bullshitters', 'dod', 'pixel', 'thrive', 'recommending', 'transform', 'subtract', 'populated', 'familiarity', 'fraud', 'totally', 'mental', 'compliment', 'leakage', 'capture', 'recognizes', 'encourage', 'collecting', 'firmly', 'viewing', 'normalization', 'kid', 'interfere', 'business', 'oreilly', 'comparing', 'downhill', 'cio', 'dance', 'expanding', 'looked', 'refreshing', 'installing', 'catching', 'criterion', 'tab', 'industry', 'ebook', 'tone', 'infinitely', 'property', 'nature', 'retraining', 'deploying', 'crashed', 'thankfully', 'ee', 'propagate', 'sadly', 'default', 'climate', 'mason', 'resides', 'investigating', 'field', 'fixing', 'reading', 'passing', 'abrupt', 'blunt', 'readr', 'erroneous', 'resilient', 'edge', 'necessarily', 'auditor', 'sloppy', 'seat', 'finalizing', 'fyi', 'capable', 'venture', 'roche', 'jury', 'keen', 'difficult', 'tweaking', 'pointless', 'sleep', 'strongest', 'manipulation', 'discipline', 'fizz', 'reconsider', 'standardised', 'excuse', 'filtration', 'cooler', 'monopoly', 'adf', 'width', 'designation', 'occasional', 'advert', 'requires', 'breathe', 'canada', 'ressources', 'reap', 'solver', 'researcher', 'vacation', 'predictor', 'licensing', 'phyton', 'pod', 'isolated', 'verbal', 'memorization', 'integer', 'tower', 'clipboard', 'competing', 'interact', 'way', 'collection', 'sucking', 'err', 'activity', 'trash', 'bangalore', 'leveled', 'influencers', 'mvcc', 'bud', 'happily', 'hunch', 'tiered', 'calc', 'tax', 'assist', 'rarely', 'pretend', 'matching', 'solid', 'skip', 'variability', 'iterating', 'reliably', 'mathematica', 'urgently', 'complacent', 'timeline', 'fucked', 'consequence', 'fishy', 'spark', 'edu', 'shortcut', 'swiss', 'retiring', 'abundance', 'watch', 'david', 'advise', 'africa', 'audacity', 'cookbook', 'ensure', 'option', 'pillar', 'upward', 'personality', 'geez', 'freshman', 'tbl', 'math', 'nicer', 'ice', 'jaro', 'perpetual', 'brainstorm', 'trainer', 'convention', 'willingly', 'defer', 'compensation', 'recurrence', 'semester', 'behave', 'feature', 'observation', 'succinctly', 'wall', 'cursor', 'hardcore', 'cia', 'articulate', 'managed', 'established', 'fwiw', 'great', 'tl', 'hitter', 'anomaly', 'stressful', 'avoid', 'tape', 'tb', 'wood', 'handled', 'constructed', 'blurry', 'bait', 'tfw', 'dunce', 'upvoting', 'mechanism', 'portray', 'upvoted', 'usa', 'epidemic', 'blue', 'placement', 'slow', 'taste', 'tweak', 'accessing', 'zone', 'sde', 'myspace', 'shout', 'novice', 'readable', 'leaked', 'hinder', 'minimization', 'adopting', 'gasoline', 'duped', 'hunting', 'terraform', 'pre', 'upload', 'valued', 'trouble', 'worrying', 'voila', 'dinosaur', 'implement', 'lion', 'bureaucracy', 'friendly', 'communicated', 'relative', 'circumvent', 'ooh', 'read_sql', 'attempting', 'fancier', 'newish', 'tracking', 'turnover', 'zero', 'mid', 'beneath', 'process', 'waiting', 'shoe', 'basement', 'fantasy', 'fairly', 'cfo', 'redis', 'rear', 'core', 'chart', 'executes', 'disregard', 'resembling', 'behavior', 'additional', 'staged', 'palatable', 'fuel', 'diagnosed', 'hang', 'setup', 'provides', 'consultancy', 'instructor', 'embark', 'vengeful', 'revealed', 'trying', 'cost', 'tz', 'hurting', 'undergrad', 'bearing', 'fair', 'engineer', 'recovery', 'writeup', 'operating', 'labeling', 'resin', 'rigid', 'diagram', 'battle', 'ubiquitous', 'percentile', 'productionalizing', 'graylog', 'cure', 'excluded', 'deviate', 'psycopg', 'convert', 'transformer', 'trauma', 'cashing', 'good', 'admits', 'supabase', 'actuarial', 'injected', 'succeeds', 'min', 'emotion', 'september', 'discover', 'mirage', 'disagreement', 'affair', 'ported', 'tiring', 'azure', 'busy', 'digitalocean', 'collate', 'turning', 'title', 'equating', 'tire', 'pythonoperator', 'freshly', 'proportion', 'ukraine', 'synergy', 'utilizing', 'earth', 'history', 'earned', 'prepared', 'yard', 'banning', 'accumulation', 'tremendously', 'period', 'keynote', 'dlt', 'underway', 'untangling', 'reign', 'retention', 'procs', 'reviewing', 'rot', 'dict', 'aged', 'datatype', 'expands', 'curation', 'trafficking', 'ciencia', 'stage', 'ge', 'harden', 'prepackaged', 'cmon', 'ball', 'segmentation', 'encryption', 'identification', 'needed', 'portion', 'scratched', 'physiology', 'prevent', 'shortlisted', 'conflict', 'directed', 'walkable', 'cannabis', 'ephemeral', 'tg', 'costing', 'defines', 'lifecycle', 'absolute', 'peace', 'commentary', 'simplification', 'relational', 'certification', 'decent', 'visualized', 'shop', 'laying', 'petabyte', 'relaxed', 'lb', 'hypothesis', 'restart', 'fucking', 'creep', 'direction', 'proposing', 'flashy', 'goodnight', 'replicate', 'complained', 'absorb', 'forum', 'balance', 'function', 'generalizing', 'devote', 'magically', 'mounted', 'trench', 'tangible', 'literature', 'reminding', 'start', 'gls', 'incompetence', 'paywall', 'thousand', 'unexpected', 'titan', 'prioritize', 'prof', 'willing', 'overlooking', 'encrypted', 'bootcamper', 'agreed', 'summary', 'integrity', 'silver', 'pyspark', 'grapple', 'vscode', 'happens', 'mistaken', 'undertaking', 'officially', 'walmart', 'webpage', 'stand', 'laid', 'standard', 'sysadmins', 'interacting', 'phrased', 'extension', 'customer', 'flake', 'logistics', 'youth', 'initialize', 'powerpoint', 'piece', 'megabyte', 'people', 'folk', 'insurer', 'vendor', 'incoming', 'restricted', 'orm', 'spatstat', 'await', 'fancy', 'electricity', 'professional', 'sentence', 'headhunter', 'noaa', 'analogue', 'technically', 'male', 'serf', 'deciphering', 'giving', 'heavy', 'yt', 'micro', 'finite', 'po', 'output', 'pressure', 'narrowly', 'phased', 'followed', 'contemplating', 'readme', 'reporting', 'acknowledging', 'needlessly', 'dax', 'bros', 'expired', 'downvoting', 'terry', 'faq', 'outlook', 'tos', 'autocomplete', 'upstream', 'book', 'advancing', 'form', 'dichotomy', 'lose', 'lot', 'stepped', 'bundled', 'outright', 'modularity', 'deflect', 'productionized', 'finish', 'aside', 'extending', 'fresh', 'networked', 'mentorship', 'proudly', 'freeing', 'omsa', 'table', 'derived', 'np', 'ish', 'flavour', 'stanford', 'propelled', 'finance', 'enabler', 'organizing', 'changing', 'mark', 'maxed', 'stagnant', 'imagine', 'remindme', 'sock', 'transforming', 'reflective', 'flood', 'february', 'void', 'sensical', 'imagining', 'nonstop', 'lulz', 'ethical', 'cross', 'mate', 'stop', 'like', 'completed', 'served', 'endless', 'technique', 'numpy', 'cheer', 'coolest', 'banned', 'addressing', 'offering', 'welcoming', 'mentioning', 'dreadful', 'directional', 'argued', 'blockchain', 'locating', 'instruction', 'reused', 'coinbase', 'objectively', 'require', 'conducive', 'progressing', 'innovation', 'shaped', 'allow', 'shoving', 'independent', 'acquainted', 'commits', 'professionally', 'aquire', 'notify', 'agi', 'troubleshooting', 'january', 'targeting', 'chair', 'hetzner', 'bard', 'blocking', 'overarching', 'linux', 'evident', 'debug', 'relate', 'confidence', 'compete', 'colour', 'understandable', 'presented', 'tbf', 'friday', 'bag', 'persona', 'ahh', 'diploma', 'browser', 'annoyed', 'ambitious', 'rationale', 'leaning', 'pathway', 'extract', 'want', 'fittest', 'mc', 'clean', 'lil', 'emerging', 'manila', 'salvaging', 'scrapping', 'span', 'sic', 'overwhelmingly', 'sa', 'aligning', 'chipping', 'anarchy', 'reverse', 'pulling', 'insult', 'animal', 'crank', 'dependent', 'intimidated', 'outstanding', 'section', 'va', 'uhh', 'gaming', 'wanted', 'analyzes', 'candidate', 'presenting', 'medicare', 'stone', 'depts', 'sliding', 'benefitting', 'parallelly', 'transparent', 'misleads', 'idf', 'settled', 'eur', 'headcount', 'outdated', 'steadily', 'likeable', 'schedule', 'bypass', 'considering', 'installs', 'background', 'fivetran', 'resolve', 'waste', 'mickey', 'teacher', 'retaining', 'exactly', 'si', 'record', 'worm', 'wrapped', 'anaconda', 'controlled', 'multiprocessing', 'tech', 'spider', 'chain', 'evenly', 'literacy', 'org', 'position', 'trajectory', 'showcase', 'au', 'recommended', 'complete', 'ego', 'daily', 'substituted', 'bet', 'suspicious', 'fork', 'derives', 'introductory', 'crux', 'toy', 'accelerator', 'km', 'ticking', 'express', 'cs', 'rambling', 'multitude', 'house', 'interpreting', 'bloom', 'simultaneously', 'swoop', 'mvp', 'contextual', 'depends', 'arguing', 'trendy', 'jira', 'ludicrous', 'notice', 'rev', 'youtube', 'discovery', 'invest', 'abandoning', 'grown', 'wes', 'sc', 'effective', 'subscription', 'rid', 'ineptitude', 'schema', 'warped', 'driven', 'baffling', 'theory', 'spatial', 'triage', 'ownership', 'practically', 'bias', 'underqualified', 'april', 'modularize', 'continuously', 'retrained', 'charge', 'replying', 'embarrassed', 'cert', 'pick', 'histogram', 'jet', 'adverse', 'django', 'standardize', 'trending', 'unsurprisingly', 'installed', 'mentor', 'account', 'carlo', 'convey', 'sem', 'america', 'cdc', 'carbon', 'tomato', 'elite', 'checking', 'merit', 'confused', 'burnt', 'consistent', 'beast', 'refers', 'poison', 'ago', 'manufacturing', 'paint', 'rep', 'indication', 'spoken', 'strict', 'lumped', 'intimidating', 'uat', 'cleaner', 'family', 'present', 'sharpening', 'untouched', 'traded', 'club', 'fashioned', 'vcs', '__', 'misuse', 'dictionary', 'extended', 'soon', 'loudly', 'virus', 'idempotency', 'debugger', 'archaeologist', 'extent', 'mcol', 'mbp', 'medieval', 'iffy', 'penalty', 'certainty', 'jun', 'viz', 'pedantic', 'topic', 'macbook', 'slack', 'intensity', 'style', 'porting', 'beach', 'believed', 'scrum', 'customization', 'registered', 'sun', 'reconfigure', 'horror', 'wise', 'bound', 'canadian', 'monster', 'pissed', 'exp', 'nan', 'volume', 'typical', 'dfs', 'optimally', 'punishes', 'dataframe', 'sdk', 'minimizes', 'sybase', 'assembling', 'hyped', 'paycheck', 'closer', 'debate', 'reckon', 'various', 'imposed', 'jupyter', 'nifty', 'represents', 'upwork', 'abstract', 'concentration', 'grid', 'urge', 'aircraft', 'achieved', 'obligatory', 'electronics', 'til', 'sprinkle', 'viable', 'slimy', 'impediment', 'london', 'flask', 'mint', 'sky', 'sp', 'unlucky', 'vaccine', 'review', 'hybrid', 'oops', 'spotted', 'shortened', 'delve', 'publication', 'lookerstudio', 'definitively', 'outweighs', 'amd', 'ehhh', 'pypi', 'expression', 'sd', 'dive', 'theater', 'meeting', 'signature', 'thursday', 'hunt', 'helpful', 'lasting', 'lcol', 'shittier', 'reward', 'extraction', 'executing', 'saturday', 'med', 'surprise', 'leetcode', 'browsing', 'skipping', 'chatgpt', 'oom', 'passage', 'publish', 'learn', 'yep', 'avenue', 'corrupt', 'relocation', 'fk', 'orientated', 'block', 'inhouse', 'critically', 'opposed', 'signifies', 'match', 'nexus', 'borderline', 'python', 'obtuse', 'treadmill', 'identical', 'moderate', 'criticize', 'webserver', 'pervasive', 'progressive', 'space', 'informal', 'pytorch', 'bell', 'auxiliary', 'plastic', 'command', 'ease', 'encapsulate', 'flew', 'offended', 'fluency', 'poorly', 'embarrassment', 'hurricane', 'faang', 'complexity', 'enjoyment', 'preset', 'eth', 'lay', 'dis', 'conversational', 'starter', 'russia', 'retrospect', 'fit', 'bie', 'beg', 'took', 'hammer', 'utc', 'impacted', 'log', 'inheritance', 'exploit', 'inkling', 'convenience', 'requiring', 'west', 'hot', 'beat', 'cuda', 'changer', 'playbook', 'spun', 'convenient', 'detailed', 'practicing', 'hindsight', 'pretentious', 'contrast', 'divide', 'maintenance', 'negative', 'bend', 'met', 'ia', 'creative', 'covered', 'qualification', 'going', 'squeeze', 'fat', 'girl', 'performance', 'mem', 'crystal', 'proficient', 'evaluating', 'view', 'tune', 'sort', 'ig', 'facebook', 'integrator', 'voted', 'genomics', 'notification', 'strike', 'quantity', 'persist', 'bashing', 'prepped', 'refused', 'surrogate', 'koala', 'shit', 'engagement', 'stark', 'impossible', 'men', 'resistance', 'settle', 'cancelled', 'serverless', 'identifier', 'suite', 'inconsistent', 'powerful', 'active', 'kink', 'tdd', 'aim', 'guarantee', 'invitation', 'market', 'vega', 'paradigm', 'embeddings', 'clicked', 'nautical', 'elevator', 'claw', 'username', 'openai', 'shopping', 'destroying', 'annoys', 'economic', 'investment', 'angry', 'pie', 'semantic', 'hatred', 'procrastination', 'justifiable', 'weighted', 'guiding', 'corporation', 'aud', 'eng', 'valley', 'meh', 'toolkit', 'sarcasm', 'diamond', 'approached', 'bitter', 'openness', 'circumstance', 'invalid', 'cart', 'square', 'tasked', 'teaming', 'ignoring', 'exploding', 'tackled', 'mountain', 'alongside', 'protect', 'variety', 'north', 'shiny', 'maximize', 'purposeful', 'manga', 'mth', 'billed', 'shame', 'ranting', 'knocked', 'touching', 'question', 'unwind', 'jenkins', 'skillsets', 'adequate', 'minuscule', 'oo', 'handful', 'reached', 'uncle', 'libs', 'softer', 'knowing', 'overloading', 'tie', 'trained', 'funded', 'increased', 'structural', 'scholarship', 'demo', 'spare', 'teenager', 'probing', 'insisting', 'cream', 'referred', 'connect', 'outsourcing', 'greeting', 'tiktok', 'regularly', 'laterally', 'breaking', 'processed', 'prem', 'don', 'granularity', 'relating', 'crawler', 'recognizing', 'responsible', 'concede', 'initiative', 'winter', 'summing', 'prepping', 'sla', 'respectfully', 'treat', 'centralized', 'buddy', 'experimented', 'pilot', 'theorem', 'validate', 'dangerous', 'rotation', 'barbie', 'paying', 'startup', 'conjunction', 'separation', 'gritty', 'correctness', 'workstation', 'academy', 'begging', 'smarter', 'convincing', 'busting', 'economist', 'exercise', 'nontechnical', 'undeniably', 'downvotes', 'ww', 'racist', 'chorus', 'predict', 'disparity', 'titled', 'hated', 'receive', 'agreement', 'usecases', 'proximity', 'elevated', 'gpa', 'bitcoin', 'explorer', 'sh', 'morality', 'underlying', 'gdpr', 'pretended', 'gather', 'sent', 'elt', 'belive', 'enforce', 'deleted', 'jar', 'venting', 'involves', 'separately', 'assertion', 'singaporean', 'went', 'dividend', 'original', 'high', 'fetched', 'ideal', 'destroyed', 'attend', 'counseling', 'bm', 'bert', 'minor', 'covid', 'retry', 'workload', 'monte', 'et', 'hate', 'expense', 'qualified', 'shortlist', 'llm', 'snapshot', 'excellence', 'forest', 'posed', 'travelled', 'liability', 'sci', 'inner', 'justifies', 'interoperability', 'refund', 'altair', 'argue', 'golf', 'illy', 'expert', 'brew', 'risk', 'marine', 'individual', 'enable', 'centered', 'brazil', 'wrongly', 'rat', 'gtm', 'duuude', 'hash', 'sponsor', 'fellow', 'aspiration', 'reddiquette', 'dat', 'broaden', 'consistency', 'status', 'web', 'scrolling', 'proven', 'chained', 'unblock', 'adjacent', 'pointed', 'approximate', 'tailoring', 'passive', 'saw', 'xp', 'taxing', 'expanded', 'altering', 'syncing', 'determined', 'job', 'outsourced', 'gem', 'honesty', 'honest', 'caveat', 'escalation', 'rec', 'unify', 'xd', 'abomination', 'moderately', 'carolina', 'queried', 'mixture', 'acting', 'jfc', 'acknowledged', 'coin', 'incorrect', 'java', 'gotcha', 'health', 'naively', 'loan', 'probabilistic', 'register', 'repackaged', 'disparate', 'insistent', 'hop', 'confuse', 'approve', 'sparsity', 'beautifulsoup', 'principle', 'obsessed', 'vlookup', 'plumbing', 'rope', 'ferrari', 'demonstrate', 'descriptive', 'emailing', 'ubuntu', 'analyzing', 'lied', 'constant', 'justify', 'upgrading', 'react', 'circa', 'denominator', 'camp', 'wet', 'brick', 'supercomputer', 'maintaining', 'forgotten', 'reviewer', 'reinvented', 'changed', 'mastered', 'paranoid', 'ftw', 'insanely', 'yesterday', 'weirdly', 'random', 'imagined', 'insertion', 'cartesian', 'dismiss', 'pythonista', 'myriad', 'varies', 'infra', 'expect', 'concurrent', 'recs', 'evaluated', 'exclusively', 'satire', 'focused', 'panacea', 'coffee', 'scraping', 'nbsp', 'logged', 'taken', 'walk', 'pin', 'gc', 'timely', 'connected', 'civil', 'dbx', 'allegedly', 'rollback', 'incomplete', 'antonio', 'seldon', 'sha', 'summarizing', 'argparse', 'retool', 'subset', 'rabbit', 'override', 'coming', 'fraudulent', 'turck', 'seasonality', 'nh', 'loaded', 'dark', 'restructure', 'pricey', 'seen', 'speeding', 'acumen', 'currently', 'hardest', 'committee', 'bulk', 'combine', 'fitness', 'painless', 'sizable', 'beep', 'prevents', 'smth', 'premise', 'sw', 'say', 'necessitates', 'julia', 'pragmatic', 'pandemic', 'billing', 'regarded', 'muck', 'slightly', 'medal', 'sourced', 'desirable', 'nuance', 'representative', 'geared', 'someplace', 'maintainability', 'morph', 'barbenheimer', 'sop', 'forked', 'codebase', 'lonely', 'mainly', 'minimal', 'jumbo', 'launching', 'coal', 'happy', 'impression', 'fine', 'fad', 'necessity', 'paused', 'unified', 'aspire', 'flesh', 'prioritise', 'melt', 'cdo', 'difficulty', 'limiting', 'rdbms', 'chatbots', 'huh', 'outsource', 'contracted', 'sympathize', 'accomplished', 'bookfinderbot', 'empathy', 'anatomy', 'mles', 'formulation', 'soo', 'oh', 'whining', 'falling', 'bulb', 'formula', 'theirs', 'wikipedia', 'regulation', 'hahah', 'clue', 'glory', 'imputing', 'snake', 'seamlessly', 'drivel', 'charged', 'weak', 'short', 'kedro', 'modernize', 'squad', 'hidden', 'exercising', 'rstudio', 'wifi', 'poorest', 'rewrote', 'opinion', 'achieving', 'headache', 'packaging', 'allowed', 'calculus', 'intrigued', 'mindful', 'separate', 'bright', 'additionally', 'reflect', 'sneak', 'manner', 'hoping', 'evidently', 'receives', 'meetup', 'internal', 'glad', 'incorrectly', 'perfecting', 'song', 'awesome', 'anonymize', 'tossed', 'nd', 'predicament', 'glassdoor', 'foremost', 'qq', 'calculates', 'col', 'scheduled', 'handsomely', 'reality', 'unspoken', 'cashed', 'estate', 'positioning', 'colombia', 'trim', 'compound', 'demanded', 'face', 'formal', 'grass', 'create', 'threw', 'anecdote', 'wearing', 'fall', 'wonky', 'drive', 'umbrella', 'val', 'jockey', 'plugins', 'politely', 'facilitates', 'print', 'spending', 'raising', 'deadlock', 'version', 'coordination', 'insufficient', 'foundation', 'cython', 'rank', 'topology', 'consensus', 'booster', 'deprecate', 'algo', 'lite', 'spam', 'painful', 'greatest', 'grave', 'mydata', 'thoughtful', 'query', 'decided', 'ruin', 'grok', 'skim', 'syllabus', 'teammate', 'pdfs', 'ck', 'distributing', 'doubling', 'lift', 'percentage', 'undocumented', 'airflow', 'message', 'suitable', 'refuse', 'dt', 'preserved', 'ward', 'area', 'worry', 'arch', 'inferior', 'dominated', 'hugely', 'prosperous', 'transcript', 'exists', 'clout', 'safeguard', 'dwindling', 'sue', 'parcel', 'workforce', 'bloaty', 'bid', 'learnt', 'csv', 'albert', 'nda', 'facetious', 'paced', 'national', 'zurich', 'interviewer', 'mediocrity', 'snippet', 'fashion', 'dirt', 'straightforward', 'founding', 'neural', 'pandaplyr', 'advantage', 'automatically', 'affect', 'running', 'listed', 'editor', 'lucrative', 'clarified', 'evergreen', 'zookeeper', 'proving', 'external', 'paternity', 'myth', 'apache', 'guideline', 'scope', 'ugh', 'gambling', 'varying', 'astonishingly', 'specifically', 'fluff', 'remote', 'voting', 'caput', 'inflated', 'rpc', 'dental', 'pool', 'boop', 'regulated', 'praise', 'triggered', 'trolling', 'teach', 'listing', 'arr', 'aspiring', 'hip', 'beta', 'existent', 'certified', 'grammar', 'practical', 'hella', 'skilling', 'coast', 'terrifying', 'guard', 'bacpac', 'complicates', 'applicable', 'granted', 'rag', 'xml', 'dec', 'tale', 'reputation', 'learns', 'mitigation', 'non', 'devops', 'rare', 'mounting', 'normalize', 'disorganized', 'boto', 'damn', 'accuracy', 'ist', 'updating', 'varied', 'awareness', 'pe', 'restructuring', 'uniform', 'wholeheartedly', 'metadata', 'reminder', 'hesitate', 'defect', 'sponsored', 'leisure', 'crafting', 'pointer', 'fitting', 'unit', 'stick', 'crippling', 'choosing', 'specialize', 'lagging', 'parameter', 'dedication', 'attract', 'visited', 'timeliness', 'unheard', 'attending', 'gosh', 'coincidence', 'flip', 'snapped', 'austin', 'pursue', 'quirk', 'fiscal', 'white', 'matched', 'produce', 'quants', 'seperate', 'release', 'administering', 'interactively', 'backlog', 'ticket', 'headed', 'adamant', 'connects', 'digital', 'strategically', 'sustain', 'english', 'validation', 'offs', 'logical', 'satisfies', 'profession', 'marginal', 'gift', 'offshore', 'sober', 'reminded', 'aggregating', 'unleashing', 'astronomer', 'lm', 'reinforces', 'kindergarten', 'affordable', 'world', 'contractual', 'redundancy', 'compatible', 'comeback', 'firsthand', 'philosophical', 'depicts', 'rif', 'comic', 'situation', 'pure', 'abused', 'empowers', 'buck', 'propose', 'heap', 'jealous', 'tap', 'smoother', 'complain', 'coo', 'wrote', 'silly', 'thanks', 'gauge', 'biased', 'docker', 'pension', 'overrated', 'telecommunication', 'competitive', 'blast', 'bridge', 'moot', 'prove', 'dependant', 'power', 'archaic', 'derivative', 'net', 'arc', 'valid', 'growing', 'initial', 'jaccard', 'satellite', 'adaptive', 'contacting', 'lifestyle', 'smooth', 'ring', 'surge', 'closely', 'jargon', 'recommender', 'upskilling', 'pluck', 'death', 'baby', 'alley', 'contained', 'hear', 'bass', 'eco', 'reset_index', 'western', 'counted', 'conference', 'institute', 'suboptimal', 'dramatically', 'suffers', 'lenient', 'portfolio', 'simon', 'send', 'bogged', 'site', 'fragment', 'curating', 'fell', 'think', 'reinventing', 'prebuilt', 'apt', 'expiry', 'lying', 'finger', 'encounter', 'result', 'xl', 'discern', 'tripping', 'governance', 'commerce', 'optionally', 'establish', 'team', 'ambition', 'seldom', 'gpts', 'fired', 'detailing', 'podge', 'desperate', 'highest', 'avoided', 'shiney', 'smoothly', 'abstraction', 'plotted', 'reaction', 'buried', 'crash', 'preprocess', 'thereof', 'obsolete', 'clueless', 'throw', 'skewness', 'bootstrapped', 'shallow', 'homelab', 'sole', 'suffice', 'gentleman', 'generator', 'south', 'sand', 'cricket', 'norway', 'workflow', 'pivoted', 'algos', 'cluttered', 'gained', 'exhaustive', 'zing', 'speciality', 'unfortunate', 'journal', 'scare', 'latin', 'regard', 'horizontal', 'adjusted', 'encapsulation', 'ample', 'tolerable', 'null', 'spamming', 'ace', 'directs', 'parsed', 'contain', 'alteryx', 'constrained', 'postprocessing', 'fran', 'tutorial', 'twitter', 'hards', 'goto', 'memory', 'abysmal', 'canary', 'hypothetical', 'badly', 'director', 'thrust', 'append', 'amateur', 'flying', 'hackathon', 'notation', 'overhead', 'dabbling', 'writer', 'relayed', 'plugging', 'grabbing', 'compatibility', 'apple', 'grace', 'legitimate', 'facilitate', 'overshadowed', 'text', 'wrench', 'chug', 'petty', 'upwards', 'dragged', 'replace', 'sake', 'confusing', 'coined', 'politically', 'symptomatic', 'inside', 'ubiquity', 'resonates', 'comprised', 'interconnected', 'pinch', 'democratized', 'correction', 'reliable', 'compsci', 'engg', 'butter', 'multivariable', 'commitment', 'identifies', 'country', 'employee', 'resist', 'abit', 'csvs', 'flight', 'iteration', 'freelancing', 'nominal', 'tripped', 'eyeball', 'blank', 'timeseries', 'cockroach', 'customizable', 'marry', 'prescribed', 'corpus', 'fulfill', 'cable', 'mike', 'save', 'luckily', 'claimed', 'win', 'guitar', 'criminally', 'oversold', 'warmly', 'pickup', 'furious', 'amorphous', 'holding', 'ahead', 'clone', 'official', 'manages', 'strengthen', 'displayed', 'phrasing', 'workhorse', 'introduced', 'rock', 'fallacy', 'yeah', 'afaik', 'comms', 'mariadb', 'slick', 'piss', 'reduction', 'overseas', 'guy', 'crm', 'explain', 'syndrome', 'frankly', 'whiny', 'observability', 'appending', 'shocked', 'updated', 'qc', 'fault', 'careful', 'unavoidable', 'december', 'wade', 'prospective', 'thankless', 'ooo', 'turkey', 'udf', 'technologically', 'instance', 'experimental', 'unattainable', 'estimate', 'hotel', 'cent', 'claiming', 'anxious', 'echo', 'sink', 'docstrings', 'tearing', 'inr', 'declared', 'varchar', 'incumbent', 'crumble', 'hey', 'publishes', 'subscribe', 'confuses', 'despise', 'drinking', 'legally', 'awhile', 'loosing', 'checkout', 'shipment', 'skimmed', 'alluded', 'internally', 'renewal', 'instinct', 'safety', 'essential', 'intersection', 'story', 'locate', 'tomorrow', 'new', 'dramatic', 'heuristic', 'sensible', 'developed', 'coverage', 'transformed', 'indefinitely', 'geo', 'rut', 'communicating', 'adhoc', 'endorsement', 'pipe', 'breeze', 'substance', 'dumpster', 'truncating', 'responsibility', 'july', 'bain', 'reject', 'straight', 'secret', 'scaling', 'danger', 'treated', 'phone', 'vocabulary', 'dad', 'inconvenient', 'deal', 'modeling', 'currency', 'quantitative', 'cadence', 'sum', 'conditioner', 'ugly', 'seriously', 'addressed', 'suspected', 'mind', 'mar', 'unable', 'basketball', 'newcomer', 'cto', 'severely', 'laughing', 'aviation', 'gain', 'graphql', 'home', 'mapping', 'artificially', 'overpromised', 'inherent', 'probably', 'retrieval', 'maturity', 'newb', 'refined', 'dirty', 'freaking', 'meaningless', 'etls', 'garage', 'common', 'divider', 'armed', 'folder', 'assigns', 'recall', 'tidy', 'ideally', 'push', 'foible', 'embrace', 'mathematically', 'neeed', 'corner', 'comma', 'discounted', 'role', 'thier', 'isolation', 'parametrized', 'dropping', 'str', 'arm', 'assured', 'blogger', 'sexy', 'assing', 'unpaid', 'fraction', 'governed', 'recognise', 'nifi', 'ping', 'generalisation', 'rocket', 'bespoke', 'highschool', 'misconception', 'notebook', 'reassurance', 'mv', 'violates', 'to_csv', 'thriving', 'paradox', 'skews', 'fox', 'merging', 'writes', 'iterative', 'profiling', 'stricter', 'tuned', 'misplaced', 'bite', 'mutually', 'putting', 'unhappy', 'datashader', 'slide', 'dash', 'overlook', 'stack', 'illegal', 'ambiguity', 'prematurely', 'postgresql', 'spit', 'digit', 'balanced', 'dbt', 'asymmetric', 'amen', 'future', 'cscareerquestions', 'aware', 'hill', 'begginer', 'dunk', 'international', 'precaution', 'notably', 'complimentary', 'riddled', 'gi', 'global', 'eventually', 'embraced', 'pg', 'yahoo', 'indicative', 'pendulum', 'damage', 'discussing', 'silence', 'float', 'dd', 'lt', 'moderator', 'goldman', 'peculiarity', 'intend', 'merger', 'flexible', 'dove', 'peeve', 'fu', 'taking', 'trifecta', 'aggressively', 'favourite', 'investigation', 'loyal', 'stake', 'ended', 'boggles', 'frank', 'advertisement', 'qualtrics', 'spotify', 'observed', 'research', 'eric', 'tends', 'destroy', 'bootstrap', 'glorified', 'consolidate', 'maintainable', 'crop', 'plain', 'digging', 'sending', 'rife', 'iq', 'cloud', 'offload', 'emr', 'formation', 'greedy', 'capacity', 'gotten', 'odi', 'jarring', 'disqualify', 'highway', 'optimizing', 'intuitive', 'overpowered', 'court', 'order', 'disappointed', 'roundabout', 'alive', 'defender', 'ssis', 'deploys', 'martin', 'verbiage', 'discerning', 'stink', 'damned', 'programmer', 'inducing', 'dsa', 'moved', 'derive', 'adjust', 'organize', 'fiction', 'parallelism', 'dot', 'permit', 'dumped', 'mapped', 'accommodate', 'transitional', 'france', 'increase', 'compression', 'conform', 'latency', 'chamber', 'deliberate', 'cut', 'point', 'bitbucket', 'convergence', 'performant', 'notch', 'prevalent', 'maturing', 'avoiding', 'deteriorating', 'denormalize', 'nearly', 'body', 'flair', 'lax', 'pocket', 'activate', 'junior', 'flaw', 'ordering', 'accompanied', 'criminal', 'enhanced', 'especially', 'predefine', 'extrapolation', 'enlightening', 'delayed', 'framework', 'passable', 'revenue', 'ought', 'pet', 'tar', 'piecing', 'generic', 'kibana', 'promotion', 'submitting', 'nowadays', 'header', 'sweat', 'depreciation', 'cmu', 'act', 'bus', 'loud', 'demanding', 'boss', 'persists', 'controlling', 'counting', 'buying', 'takeover', 'matrix', 'nagging', 'edits', 'theft', 'iot', 'visibility', 'competitor', 'correcting', 'guaranteed', 'hitting', 'refresher', 'possible', 'boundary', 'correctable', 'esoteric', 'renting', 'speech', 'omitted', 'pro', 'needing', 'xps', 'to_sql', 'dedicated', 'researching', 'anticipate', 'dystopia', 'follow', 'gps', 'undercut', 'ke', 'satisfied', 'ran', 'brittle', 'effed', 'concerned', 'wrapper', 'stumbled', 'chop', 'spout', 'bravo', 'png', 'swift', 'main', 'calibrate', 'sponsoring', 'mean', 'perfectly', 'seismic', 'clarify', 'clustering', 'sandbox', 'nick', 'tokyo', 'ft', 'concurrently', 'disruptive', 'definition', 'innocent', 'improving', 'defeat', 'trello', 'grouping', 'mailing', 'differ', 'salary', 'affecting', 'upgraded', 'el', 'exceeding', 'inch', 'equality', 'fence', 'entertaining', 'compressed', 'hosting', 'proxy', 'dedicate', 'mile', 'spike', 'stemmed', 'ops', 'moment', 'pretty', 'cash', 'accident', 'stated', 'open', 'pr', 'linters', 'observable', 'recommendation', 'modification', 'stratascratch', 'diversity', 'year', 'forever', 'famous', 'teething', 'budget', 'manipulating', 'wonderful', 'mysterious', 'picked', 'sample', 'renaissance', 'shortcoming', 'respiratory', 'tougher', 'sparse', 'indubitably', 'rebranded', 'documentation', 'gp', 'computation', 'rule', 'behavioural', 'forgot', 'optimizers', 'bank', 'inventing', 'obfuscate', 'key', 'awkward', 'developing', 'enjoy', 'formed', 'happening', 'enroll', 'assumed', 'haul', 'stochastic', 'admittedly', 'peripheral', 'president', 'expound', 'salesforce', 'massive', 'nod', 'exec', 'handling', 'confidently', 'cosine', 'anytime', 'gpu', 'serviced', 'biz', 'eda', 'rented', 'cybersecurity', 'nave', 'cop', 'occasionally', 'concession', 'realize', 'validating', 'sync', 'collar', 'sans', 'swe', 'convince', 'code', 'backbone', 'migration', 'worried', 'harness', 'vc', 'care', 'everytime', 'cracking', 'debugging', 'minute', 'collapse', 'prohibitive', 'progress', 'aligned', 'supporting', 'grasp', 'corporate', 'baked', 'coefficient', 'zoomcamp', 'singular', 'firing', 'actionable', 'follower', 'geographical', 'tell', 'packaged', 'opt', 'speaking', 'accountant', 'visualisation', 'come', 'cover', 'heck', 'aloud', 'filename', 'subscriber', 'temporary', 'vein', 'employer', 'diagnosis', 'segmented', 'texas', 'timeframe', 'immigrant', 'reflected', 'uncovering', 'appreciated', 'udacity', 'dialog', 'contains', 'uou', 'crude', 'formatted', 'relied', 'hopeless', 'scrape', 'pharma', 'popularized', 'uncomfortable', 'guilty', 'iirc', 'reek', 'shelf', 'enrolling', 'stable', 'impart', 'traditionally', 'databricks', 'incur', 'resident', 'stubborn', 'ypu', 'experiencing', 'governing', 'outshined', 'automate', 'pita', 'law', 'embarrassing', 'wider', 'marked', 'forgive', 'intrinsically', 'mater', 'reflects', 'juice', 'bust', 'adequately', 'banging', 'encourages', 'simplistic', 'disproportionately', 'recourse', 'traction', 'concat', 'cooking', 'deduplication', 'repulsion', 'beneficial', 'assessing', 'tertiary', 'categorising', 'forecasting', 'skillset', 'edited', 'ime', 'codified', 'outside', 'op', 'secondly', 'coupling', 'aforementioned', 'redhat', 'incorporated', 'whoop', 'income', 'stock', 'enemy', 'misinterpreted', 'cluster', 'vulnerability', 'scanned', 'whoosh', 'analysing', 'mesh', 'pinecone', 'infinite', 'cleanup', 'degradation', 'meet', 'crunching', 'funny', 'lengthy', 'precedent', 'bridging', 'overthink', 'poke', 'anonymized', 'realization', 'salesperson', 'grab', 'allocation', 'racial', 'hierarchical', 'chemistry', 'hippa', 'grow', 'making', 'serial', 'built', 'drink', 'forth', 'shifting', 'delusion', 'collaborator', 'privileged', 'dataverse', 'neighbor', 'tempted', 'grail', 'partition', 'rate', 'diving', 'loses', 'vent', 'prevented', 'buggy', 'knowledge', 'streamed', 'specially', 'sought', 'payoff', 'speaks', 'swapping', 'fte', 'optional', 'crazy', 'statistically', 'affected', 'independently', 'locale', 'mlflow', 'unpleasant', 'sorting', 'storing', 'speed', 'minded', 'drop', 'annoy', 'eternal', 'stabilize', 'reframe', 'falsehood', 'willingness', 'prune', 'impressive', 'admire', 'ceiling', 'cred', 'subsequently', 'overcome', 'forefront', 'crossover', 'proposes', 'expose', 'advertised', 'outsider', 'anticipated', 'dominate', 'try', 'scientific', 'faangs', 'hcol', 'partnering', 'accidentally', 'association', 'subpar', 'ramping', 'planning', 'parallelize', 'higher', 'gaining', 'size', 'wear', 'arbitrary', 'presence', 'underneath', 'caused', 'declaring', 'intelligently', 'defaulted', 'rewriting', 'incapable', 'gear', 'intervention', 'mgr', 'corruption', 'ansible', 'aerospace', 'interoperable', 'commenters', 'datasource', 'paired', 'lo', 'historically', 'drone', 'sagemaker', 'pound', 'joe', 'united', 'cannon', 'dare', 'battery', 'career', 'undergoing', 'catalyst', 'attach', 'hacking', 'multi', 'penetration', 'polished', 'truck', 'doctor', 'killed', 'ohhh', 'roast', 'dataset', 'mainstream', 'california', 'identifying', 'dataiku', 'sap', 'university', 'ecology', 'generative', 'blind', 'earn', 'marginally', 'programmingpals', 'aging', 'assume', 'purging', 'academic', 'composed', 'drama', 'natural', 'bastard', 'chief', 'slas', 'witch', 'collaborating', 'orms', 'underrepresented', 'bottleneck', 'customize', 'partnership', 'propensity', 'negatively', 'neoj', 'imported', 'sick', 'foundational', 'pushy', 'holy', 'drift', 'optimism', 'explained', 'reprocessing', 'presentation', 'eliminating', 'kernel', 'standalone', 'recognize', 'ye', 'harm', 'invariably', 'multithreading', 'freezing', 'gd', 'registration', 'restaurant', 'problematic', 'shite', 'pump', 'inserting', 'oder', 'savant', 'organised', 'earliest', 'actively', 'linking', 'sticking', 'siloed', 'subtle', 'knocking', 'independence', 'verbally', 'deposit', 'warn', 'wallstreetbets', 'bombarded', 'database', 'mission', 'ordinary', 'cumbersome', 'answer', 'clock', 'neglect', 'lifting', 'iii', 'student', 'passively', 'slew', 'dealt', 'tuesday', 'adept', 'uninformed', 'opportunity', 'trump', 'hyper', 'specify', 'ect', 'specialising', 'accessibility', 'modern', 'contrary', 'belong', 'belt', 'milk', 'nonsensical', 'longitude', 'aesthetic', 'stating', 'xgboost', 'fail', 'medallion', 'sftp', 'hahahah', 'similarly', 'grating', 'caution', 'switch', 'branch', 'tease', 'grad', 'templated', 'sow', 'notoriously', 'unlimited', 'improvement', 'disliked', 'hobby', 'mf', 'assigned', 'funky', 'somebody', 'predominantly', 'greatly', 'shaky', 'decision', 'pub', 'answering', 'fee', 'resourcing', 'rose', 'uncertain', 'connecting', 'modular', 'colleague', 'substantial', 'weight', 'orchestration', 'mad', 'defense', 'virtualenv', 'macroeconomic', 'redesigned', 'program', 'news', 'troubleshoot', 'heard', 'ancient', 'calendar', 'calender', 'sporadic', 'march', 'exact', 'burnout', 'obfuscates', 'insignificant', 'sign', 'conduct', 'bloody', 'peep', 'obviously', 'soup', 'sudden', 'freeware', 'onward', 'stream', 'blatant', 'consumer', 'linting', 'ad', 'mr', 'deserving', 'appropriate', 'equal', 'restricting', 'gunther', 'rhohat', 'sister', 'cbt', 'venv', 'chinese', 'reformat', 'graphic', 'slowly', 'phpmyadmin', 'blood', 'understand', 'neighborhood', 'exploiting', 'instantly', 'reveal', 'committing', 'fertilizer', 'finished', 'oftentimes', 'crawled', 'blame', 'dismissal', 'pushed', 'priority', 'purposely', 'talk', 'perk', 'fade', 'dnd', 'hurt', 'attrition', 'import', 'cp', 'th', 'ip', 'supposed', 'windmill', 'learner', 'walking', 'remaining', 'transposing', 'water', 'project', 'example', 'rack', 'shoot', 'ability', 'end', 'reverting', 'callable', 'coincide', 'fixed', 'patch', 'suggest', 'gotchas', 'pipelining', 'trading', 'curriculum', 'comparison', 'housing', 'allocated', 'read_excel', 'impacting', 'stdout', 'certainly', 'classifier', 'fledged', 'steady', 'kitchen', 'disrupt', 'misguided', 'panda', 'dislike', 'ipynb', 'termination', 'custom', 'spoon', 'encoder', 'repetition', 'onboarding', 'detected', 'memorize', 'bam', 'spectrum', 'compensate', 'lambda', 'conceptual', 'warrant', 'east', 'sphere', 'universally', 'thirty', 'innocuous', 'exporting', 'lake', 'heated', 'churned', 'arrange', 'bb', 'nail', 'nurture', 'clearly', 'dim', 'gun', 'study', 'contacted', 'trope', 'variable', 'missing', 'sleepless', 'adherence', 'favor', 'cicd', 'cute', 'cleaning', 'digitized', 'eval', 'calculator', 'intelligence', 'thread', 'hmmm', 'drastic', 'unorganized', 'data', 'tenant', 'pivot', 'appearing', 'retire', 'oop', 'fulfilling', 'age', 'pythonic', 'adopt', 'revolved', 'sps', 'combo', 'minus', 'robot', 'reversing', 'kudos', 'demonstrates', 'lad', 'context', 'advice', 'professor', 'washington', 'massage', 'lie', 'sea', 'stem', 'female', 'gitlab', 'meaning', 'pitfall', 'shark', 'preferring', 'imaginable', 'sucked', 'color', 'polars', 'pumping', 'linguistic', 'continuing', 'born', 'cheaply', 'turned', 'drum', 'unprecedented', 'administrative', 'misusing', 'operated', 'include', 'customized', 'salad', 'storage', 'aggregation', 'liking', 'facilitating', 'zillow', 'sustainable', 'horribly', 'truth', 'yk', 'constraint', 'uptake', 'grind', 'indexed', 'achieves', 'computational', 'labelled', 'strategy', 'rerunning', 'timestamps', 'verbose', 'counterpart', 'rendered', 'reasoning', 'letting', 'oversimplifying', 'agnostic', 'circular', 'farming', 'empathize', 'using', 'attendee', 'worse', 'belief', 'bankrupt', 'spss', 'clumsy', 'pen', 'reliance', 'medical', 'fumble', 'paas', 'beer', 'spade', 'db', 'advertises', 'crawl', 'ensemble', 'rubber', 'entertainment', 'aced', 'translation', 'aka', 'wondering', 'judge', 'lag', 'advisor', 'sage', 'working', 'wrt', 'handwriting', 'thoughtspot', 'toxic', 'gas', 'ambiguous', 'adjusting', 'apis', 'visit', 'registering', 'antiquated', 'raise', 'inspect', 'picture', 'collaborated', 'futile', 'hoop', 'chased', 'quarto', 'frowned', 'trivial', 'familiarize', 'button', 'outline', 'subsequent', 'terminated', 'profile', 'ensuring', 'yellow', 'computing', 'meme', 'lockdown', 'mutual', 'lick', 'grief', 'list', 'mock', 'alright', 'df', 'unparalleled', 'employ', 'loop', 'stare', 'remainder', 'outer', 'impatient', 'consisting', 'highlight', 'filter', 'fullstack', 'worn', 'applied', 'lmk', 'vertex', 'variation', 'unemployment', 'knowledgeable', 'undergo', 'internship', 'apparent', 'calculating', 'showing', 'bother', 'realistically', 'simplifies', 'demonstration', 'candy', 'exotic', 'modeller', 'play', 'decrease', 'remarkably', 'shake', 'presenter', 'unchanged', 'removing', 'ax', 'boot', 'chase', 'glue', 'outcome', 'buzzword', 'welcomed', 'spot', 'graduating', 'irritating', 'prompted', 'attacked', 'framed', 'socially', 'thankyou', 'bug', 'horrible', 'regular', 'internals', 'digress', 'exacerbated', 'terminate', 'mpp', 'excluding', 'disable', 'counterintuitive', 'hacked', 'principal', 'door', 'purchased', 'onsite', 'shenanigan', 'merged', 'reorganize', 'town', 'unofficial', 'timing', 'enums', 'ieee', 'cheat', 'abcd', 'landscape', 'esp', 'confusion', 'envelope', 'impostor', 'consideration', 'parking', 'llama', 'ending', 'prevailing', 'toronto', 'tactic', 'punctuation', 'communicates', 'rail', 'fully', 'legal', 'roadmap', 'excitement', 'slapdash', 'replacing', 'sacrificed', 'experience', 'plug', 'yyyy', 'audit', 'ticked', 'tangentially', 'downplay', 'transport', 'superiority', 'dynamically', 'spouse', 'repeated', 'verification', 'infosys', 'chose', 'mood', 'sqls', 'standpoint', 'assed', 'client', 'accreditation', 'mp', 'raster', 'implies', 'screwing', 'healthier', 'cha', 'repetitive', 'nope', 'held', 'pov', 'help', 'pickle', 'discounting', 'shill', 'slash', 'nugget', 'skill', 'disappear', 'vector', 'comp', 'sport', 'footprint', 'cherry', 'rational', 'credible', 'blocker', 'genomic', 'mac', 'unironically', 'overstaffed', 'billable', 'killing', 'likelihood', 'mio', 'smell', 'switching', 'winner', 'flawed', 'old', 'sit', 'wrangle', 'hiccup', 'payroll', 'paramters', 'frame', 'began', 'json', 'fear', 'spitting', 'sr', 'laugh', 'automation', 'nicely', 'refactoring', 'analyst', 'dead', 'cuz', 'allows', 'reasonable', 'overwhelming', 'manually', 'goodness', 'advocating', 'volunteering', 'refuted', 'close', 'loc', 'justified', 'equation', 'eventual', 'initiate', 'progression', 'appointment', 'hotshot', 'analytic', 'upper', 'backed', 'eq', 'screaming', 'host', 'rotate', 'itil', 'restriction', 'protocol', 'transformative', 'newest', 'argument', 'internet', 'en', 'employed', 'guru', 'local', 'combining', 'calculation', 'ab', 'detect', 'prowess', 'adheres', 'expand', 'collected', 'excel', 'datetime', 'compelling', 'expunged', 'noise', 'coworker', 'powerbi', 'containerization', 'mi', 'staffing', 'launch', 'compare', 'lacked', 'series', 'journey', 'retain', 'concert', 'easier', 'duration', 'engineered', 'architecturally', 'composition', 'stumble', 'chosen', 'leading', 'england', 'inability', 'manifested', 'reference', 'elasticsearch', 'guessing', 'imaging', 'compositional', 'randomforest', 'interview', 'gf', 'enter', 'potential', 'pl', 'rewarded', 'saying', 'lend', 'cassandra', 'conflicted', 'bq', 'citizen', 'unreadable', 'wire', 'organized', 'elective', 'demographic', 'nest', 'supply', 'attempt', 'commute', 'hack', 'publishing', 'yada', 'consulting', 'optimistic', 'appears', 'efs', 'apologized', 'pyodbc', 'miami', 'drained', 'regret', 'attention', 'pyarrow', 'critical', 'alternate', 'detached', 'versioning', 'walked', 'exit', 'gateway', 'location', 'helper', 'endeavor', 'enjoyed', 'smallest', 'typically', 'cook', 'parenthesis', 'carved', 'counter', 'nfl', 'academia', 'responds', 'hal', 'zoom', 'airbnb', 'decorator', 'harmonize', 'staging', 'guide', 'riddance', 'bomb', 'firstly', 'sharp', 'tag', 'telling', 'nose', 'extreme', 'redesign', 'blend', 'audience', 'traffic', 'numeric', 'excessive', 'reload', 'split', 'haha', 'late', 'pdf', 'consolidated', 'funnel', 'godsend', 'vanilla', 'tmux', 'credibility', 'faking', 'continued', 'headless', 'visualizing', 'rigour', 'haiku', 'patience', 'left', 'pass', 'pseudo', 'ag', 'cursory', 'foreign', 'satisfaction', 'crowded', 'sarimax', 'detrimental', 'participant', 'dependence', 'federal', 'enquiry', 'com', 'execution', 'func', 'regression', 'grep', 'frequency', 'largest', 'differentiates', 'dims', 'tour', 'added', 'rant', 'impact', 'testable', 'supplier', 'reassuring', 'abuse', 'pitching', 'logically', 'projection', 'lowering', 'biology', 'rated', 'tier', 'native', 'writing', 'wholesale', 'janitor', 'believer', 'misleading', 'optimum', 'ancillary', 'climb', 'ear', 'radius', 'chance', 'apology', 'anyones', 'memorized', 'feel', 'alteration', 'decay', 'decimal', 'effectiveness', 'spell', 'sharpen', 'nomenclature', 'procurement', 'happened', 'apologize', 'floppy', 'meditate', 'dig', 'behaves', 'mistake', 'compensated', 'revolution', 'easter', 'commission', 'offered', 'build', 'soul', 'ci', 'decently', 'mini', 'jaded', 'peer', 'phase', 'productionised', 'upto', 'tuple', 'creator', 'afloat', 'judging', 'planet', 'analyzed', 'worker', 'confirming', 'reason', 'embed', 'cycle', 'wound', 'immediate', 'persistence', 'la', 'reveals', 'volatile', 'promoting', 'located', 'military', 'peculiar', 'doubled', 'qualifier', 'utilizes', 'recently', 'disingenuous', 'spiral', 'complement', 'inject', 'iso', 'covering', 'nerve', 'universal', 'whatnot', 'youtubers', 'existed', 'inordinate', 'literally', 'indexing', 'cautious', 'suppose', 'infer', 'force', 'plane', 'assessment', 'quickly', 'heart', 'rough', 'arse', 'multithreaded', 'sre', 'tackle', 'implicitly', 'accelerated', 'reply', 'published', 'expansion', 'guarded', 'abbreviation', 'expects', 'integrate', 'memorizing', 'normalizing', 'compounding', 'gathered', 'workday', 'coupled', 'confined', 'farm', 'conflating', 'inefficiency', 'pycharm', 'method', 'blueprint', 'uk', 'significantly', 'vagueness', 'begining', 'gen', 'graded', 'shhh', 'understanding', 'crushed', 'factorio', 'hypothetically', 'pencil', 'institutional', 'specialisation', 'coded', 'punting', 'oppenheimer', 'comprehension', 'preferable', 'wschools', 'didnt', 'sizeable', 'weird', 'extremely', 'toe', 'plateau', 'fruit', 'abundant', 'density', 'versa', 'tuning', 'adding', 'goodwill', 'intentionally', 'pride', 'vaex', 'pinpoint', 'successfully', 'bitten', 'mandate', 'mode', 'ramped', 'usable', 'fastapi', 'unless', 'rotating', 'wrap', 'lol', 'methodology', 'canonical', 'anti', 'card', 'accurately', 'survival', 'blurred', 'lane', 'reader', 'succeeding', 'advanced', 'compliance', 'bullshit', 'bronze', 'motivator', 'esque', 'likewise', 'exposed', 'bo', 'closest', 'shore', 'articulated', 'burden', 'crud', 'resort', 'pour', 'bump', 'convinced', 'reposting', 'slippery', 'mangled', 'script', 'reboot', 'ray', 'charity', 'master', 'room', 'sound', 'golang', 'board', 'inclined', 'distraction', 'overcomplicate', 'blip', 'kafka', 'onset', 'downturn', 'popularity', 'missed', 'medicine', 'standardization', 'offloaded', 'untrue', 'leveraging', 'precedence', 'mitigate', 'occurred', 'module', 'steer', 'majored', 'joined', 'resulting', 'oracle', 'driver', 'vm', 'bothering', 'ra', 'strategic', 'permanent', 'balloon', 'vital', 'broadcast', 'prejudiced', 'pwc', 'light', 'peter', 'simple', 'catchy', 'colab', 'gang', 'deny', 'ditch', 'elastic', 'disheartened', 'sling', 'reset', 'beaten', 'romania', 'spends', 'crappy', 'designated', 'emerged', 'intensive', 'workaround', 'backup', 'overkill', 'scoping', 'article', 'beef', 'mil', 'configured', 'electric', 'liable', 'calling', 'dsl', 'larger', 'occured', 'matlab', 'reddit', 'establishing', 'cryptography', 'spirit', 'deviation', 'insist', 'hearing', 'past', 'embedding', 'husband', 'distracted', 'irl', 'persue', 'galaxy', 'lieu', 'sheet', 'plot', 'hanging', 'unstructured', 'omits', 'primarily', 'rebuilding', 'walter', 'plotting', 'perceive', 'mismatch', 'peak', 'datalakes', 'wealth', 'likert', 'restored', 'hovers', 'trickier', 'interdependency', 'happen', 'wth', 'fetching', 'categorical', 'rendering', 'snow', 'introspection', 'solves', 'australian', 'oversight', 'fascinated', 'correlate', 'dupe', 'server', 'gap', 'mmm', 'blah', 'concatenate', 'truly', 'liaison', 'devs', 'highlighting', 'mandatory', 'catalog', 'bored', 'cheaper', 'parent', 'chem', 'personalize', 'operates', 'repeatedly', 'quit', 'event', 'weekly', 'remembered', 'saas', 'boil', 'poised', 'encoding', 'elevation', 'optimised', 'conquer', 'expedite', 'center', 'grounding', 'participation', 'aplenty', 'autonomous', 'msc', 'arise', 'suggesting', 'later', 'unreasonable', 'frustrating', 'watching', 'cite', 'webdev', 'gke', 'buffer', 'cte', 'authority', 'passion', 'modeled', 'executable', 'senior', 'scipy', 'referring', 'marketed', 'iac', 'sell', 'outperform', 'creating', 'transition', 'edx', 'atleast', 'sys', 'segment', 'usefull', 'contemporary', 'clustered', 'building', 'keeping', 'progressively', 'african', 'measurable', 'surely', 'earning', 'recurring', 'rhythm', 'bucketing', 'includes', 'asks', 'delta', 'interaction', 'speak', 'arg', 'occurs', 'fiber', 'onshore', 'simpler', 'format', 'enforces', 'gtfo', 'competent', 'skin', 'throughput', 'rejection', 'territory', 'wlb', 'demand', 'perception', 'menial', 'newer', 'poor', 'trust', 'steal', 'sketchy', 'stagnated', 'ho', 'effing', 'existence', 'vpc', 'kicked', 'sentiment', 'whatsoever', 'swes', 'traverse', 'intent', 'pulse', 'sso', 'leverage', 'invent', 'invite', 'nuanced', 'offense', 'category', 'deliver', 'voice', 'nascent', 'estimating', 'weakly', 'auto', 'nasty', 'gallery', 'hole', 'stomach', 'usher', 'validates', 'advertising', 'escape', 'patent', 'bos', 'piping', 'dts', 'interchangeably', 'strip', 'og', 'prejudice', 'bragging', 'renamed', 'appreciate', 'alot', 'dj', 'inevitably', 'accomplishment', 'decreasing', 'enlighten', 'contract', 'compiler', 'da', 'easily', 'firm', 'informed', 'andrew', 'bioinfo', 'granular', 'joblib', 'resembles', 'neovim', 'organically', 'tool', 'exciting', 'guessed', 'specialized', 'entering', 'jr', 'jetbrains', 'savvy', 'canned', 'opening', 'discouraged', 'jelly', 'acquire', 'tick', 'placed', 'fortran', 'upside', 'replication', 'pragmatism', 'downright', 'central', 'slip', 'surgeon', 'parallelized', 'gmail', 'hex', 'buzz', 'decoupling', 'abandoned', 'multiply', 'freeze', 'ignored', 'unstable', 'ohk', 'drove', 'round', 'denmark', 'regex', 'visible', 'excellent', 'lab', 'normalized', 'matured', 'involve', 'momentum', 'workbook', 'fact', 'feasibility', 'weirdest', 'seasoned', 'mutation', 'wondered', 'grand', 'shape', 'randomly', 'environnement', 'doe', 'emerge', 'jupiter', 'perform', 'pioneer', 'alma', 'hazard', 'licensed', 'ask', 'worldwide', 'kaggle', 'ddr', 'considers', 'gamble', 'declined', 'drowning', 'elegant', 'stopping', 'utmost', 'touting', 'offending', 'teamwork', 'live', 'shooting', 'venn', 'approachable', 'adapt', 'emphasizes', 'musk', 'rosetta', 'sexier', 'coordinating', 'leaf', 'eff', 'summation', 'impressed', 'indicating', 'scratching', 'len', 'knock', 'purely', 'nah', 'reserve', 'amazing', 'browsed', 'transparency', 'educate', 'statistical', 'deeper', 'plotly', 'static', 'grew', 'remove', 'conscious', 'perfect', 'forecast', 'advertise', 'lenovo', 'rising', 'price', 'announcement', 'burn', 'anonymous', 'disclose', 'trail', 'numerical', 'trap', 'deep', 'novel', 'itch', 'migrating', 'dilemma', 'scream', 'edit', 'losing', 'notified', 'dentist', 'confident', 'management', 'duct', 'life', 'overusing', 'safest', 'woolly', 'bureaucratic', 'conda', 'goal', 'operate', 'intertwined', 'deck', 'love', 'dp', 'medicaid', 'flagship', 'shamelessly', 'keywords', 'draining', 'marriage', 'rug', 'honed', 'assumes', 'optimize', 'umm', 'minting', 'populate', 'alternatively', 'hq', 'steward', 'assurance', 'minimally', 'money', 'ground', 'thinkpad', 'retail', 'usage', 'iphone', 'horse', 'reserved', 'pursuit', 'dunning', 'cli', 'sideways', 'superset', 'tf', 'twice', 'exposing', 'playing', 'ammo', 'complication', 'aws', 'destructive', 'tv', 'evolution', 'marketplace', 'mother', 'dialogue', 'spring', 'rapidly', 'earns', 'recession', 'knob', 'vested', 'heat', 'sigh', 'lakehouse', 'nonlinear', 'counterpoint', 'dr', 'assembly', 'trigger', 'recreate', 'ah', 'overnight', 'altered', 'masking', 'scanning', 'political', 'adult', 'owner', 'artificial', 'response', 'occurrence', 'domo', 'nepotism', 'summer', 'accurate', 'cd', 'selfish', 'shadow', 'denial', 'base', 'abstracted', 'proper', 'evaluation', 'hero', 'minority', 'rotational', 'illustrates', 'chat', 'coercion', 'era', 'challenging', 'idealistic', 'fundamentally', 'brand', 'exclude', 'major', 'presume', 'profitability', 'contributes', 'relatively', 'draft', 'failed', 'disrupted', 'gene', 'toll', 'pushback', 'phd', 'annotation', 'raised', 'dodged', 'foo', 'hokey', 'gauntlet', 'leisurely', 'imputation', 'enormous', 'ensures', 'convoluted', 'looker', 'outage', 'assessed', 'discovering', 'emailed', 'pray', 'hoped', 'invoked', 'adhere', 'printed', 'lazy', 'contribution', 'fallback', 'write', 'grip', 'eu', 'decides', 'viewer', 'persuasion', 'ftes', 'omit', 'heaviest', 'inherently', 'banana', 'avoids', 'stephen', 'onboard', 'lib', 'hierarchy', 'executive', 'spaghetti', 'browse', 'specific', 'periodically', 'recursion', 'elts', 'doom', 'aligns', 'pull', 'bing', 'thermo', 'peanut', 'sensor', 'manpower', 'questionable', 'score', 'contributor', 'mo', 'gist', 'retirement', 'cypher', 'leveraged', 'buyer', 'intensifies', 'played', 'fme', 'chess', 'decipher', 'resistant', 'interfacing', 'college', 'condition', 'waterproof', 'cc', 'super', 'terminology', 'capitalist', 'cnn', 'crossed', 'disadvantage', 'combination', 'predecessor', 'hospitality', 'navigating', 'value', 'yaml', 'arguably', 'facial', 'earlier', 'ton', 'historical', 'dish', 'annotating', 'operator', 'sifting', 'delving', 'rampant', 'certain', 'display', 'nil', 'quoted', 'commercial', 'sacrifice', 'tighter', 'measured', 'aiml', 'effect', 'substitute', 'radio', 'pep', 'downvoted', 'immutable', 'specialization', 'simply', 'goat', 'typo', 'multiple', 'freecodecamp', 'investing', 'triaging', 'douche', 'ruby', 'entry', 'ole', 'apprentice', 'globally', 'nutshell', 'father', 'sooner', 'determine', 'vision', 'deepnote', 'difference', 'cached', 'duplicated', 'otoh', 'encouraged', 'plugin', 'analyze', 'poster', 'vastly', 'technological', 'routinely', 'quiz', 'philosophy', 'piling', 'victim', 'flipping', 'rent', 'logo', 'awful', 'dense', 'ingestion', 'tracing', 'augmentation', 'cohesive', 'medication', 'plausible', 'bi', 'admitted', 'namespaces', 'state', 'named', 'accept', 'contender', 'wander', 'modified', 'hectic', 'technician', 'label', 'nightmare', 'password', 'description', 'probability', 'threading', 'suspicion', 'trapping', 'temporal', 'exceed', 'removed', 'behaving', 'refresh', 'fe', 'transferable', 'naw', 'albeit', 'decoupled', 'michael', 'horizon', 'organic', 'advancement', 'terabyte', 'utility', 'nightly', 'vetting', 'wading', 'profitable', 'geek', 'expires', 'sus', 'ofcourse', 'inquire', 'control', 'hub', 'immaterial', 'switzerland', 'purchase', 'yelp', 'realy', 'pissing', 'breadth', 'wing', 'entirely', 'skew', 'doomed', 'cognitive', 'pique', 'exceptional', 'retrying', 'educated', 'politics', 'funding', 'clarity', 'platform', 'slave', 'ripped', 'align', 'transforms', 'spoke', 'dafuq', 'fundamental', 'chronological', 'tirelessly', 'contact', 'motivating', 'portability', 'rhetorical', 'segregated', 'maintainer', 'lunch', 'delimiter', 'sustainability', 'slog', 'according', 'pursing', 'skewing', 'ralph', 'somewhat', 'copied', 'annoyance', 'coach', 'generalized', 'microservices', 'relying', 'resultant', 'gasp', 'fastest', 'motivation', '_the', 'army', 'midsize', 'dominance', 'bin', 'inequality', 'average', 'content', 'messed', 'utilize', 'okay', 'markdown', 'lone', 'assign', 'al', 'qlik', 'grinding', 'inform', 'ssrs', 'redundant', 'hating', 'sped', 'designed', 'adopted', 'poking', 'sincerely', 'break', 'tested', 'resume', 'viral', 'trapped', 'egg', 'categorise', 'hair', 'honor', 'important', 'underserved', 'fracturing', 'piggy', 'analogous', 'tm', 'bowl', 'popcorn', 'opened', 'discord', 'variance', 'playlist', 'prefer', 'transferrable', 'reviewed', 'exceptionally', 'dinner', 'propagation', 'genuine', 'chill', 'captivating', 'donno', 'injury', 'oof', 'catch', 'steaming', 'app', 'accusation', 'balancing', 'accelerate', 'podcasts', 'normal', 'kanban', 'reusable', 'figuring', 'hurdle', 'deterministic', 'continually', 'blowing', 'dogmatic', 'performed', 'facility', 'bandwagon', 'survivorship', 'charitable', 'snob', 'lined', 'hr', 'readability', 'recognized', 'se', 'chef', 'unpopular', 'able', 'obtain', 'halt', 'commonly', 'devising', 'associated', 'cleared', 'hone', 'asia', 'classroom', 'collateral', 'adjustment', 'appealing', 'subtask', 'obligation', 'tooling', 'false', 'narrative', 'filled', 'normalising', 'yo', 'worthless', 'altogether', 'drain', 'low', 'saved', 'boomer', 'prioritizing', 'orchestrate', 'gaussian', 'recreating', 'tendency', 'instinctively', 'specialist', 'utilization', 'wildly', 'metro', 'scaler', 'introducing', 'netherlands', 'los', 'squared', 'census', 'slowing', 'exceeds', 'hahaha', 'brochure', 'clear', 'kiddie', 'available', 'ummm', 'fraudsters', 'netflix', 'par', 'conglomerate', 'functional', 'sequential', 'chip', 'catboost', 'agreeing', 'horn', 'weigh', 'dry', 'believe', 'immersing', 'blessing', 'appetite', 'entrenched', 'lately', 'vacuum', 'subqueries', 'destination', 'typescript', 'anybody', 'solidify', 'decentralized', 'doubly', 'routing', 'downloads', 'differently', 'converting', 'objection', 'stranger', 'turing', 'referral', 'hamilton', 'joining', 'preliminary', 'asynchronous', 'lmao', 'noun', 'long', 'adapting', 'deserve', 'unaware', 'barebones', 'costly', 'window', 'villain', 'grunt', 'kmeans', 'centre', 'warned', 'better', 'intelligent', 'thesis', 'dint', 'frontend', 'dave', 'deployment', 'intermediate', 'offsetting', 'bad', 'pointing', 'redirect', 'green', 'physically', 'ha', 'blow', 'humbly', 'objective', 'greener', 'strictly', 'interviewee', 'baffle', 'dm', 'just', 'repos', 'jk', 'debated', 'programmed', 'attended', 'bleeding', 'exported', 'inclination', 'na', 'tonne', 'polling', 'arcane', 'denver', 'alarm', 'bullying', 'structure', 'drastically', 'emphasis', 'statement', 'casually', 'unlike', 'revolves', 'subfields', 'bob', 'pant', 'partial', 'respective', 'subfield', 'unexpectedly', 'wrangling', 'classical', 'rockstars', 'characterization', 'did', 'grounded', 'algorithmic', 'sufficient', 'piecewise', 'selecting', 'yay', 'biden', 'plant', 'primer', 'exaggerate', 'recruitment', 'ide', 'multidimensional', 'rt', 'annoying', 'invocation', 'reach', 'spacex', 'agriculture', 'formulate', 'sn', 'tutor', 'wold', 'quality', 'corp', 'mechanic', 'optic', 'newly', 'shrink', 'authoritative', 'indistinguishable', 'reccomend', 'experienced', 'unclear', 'lpa', 'bullshittery', 'encapsulating', 'city', 'charging', 'tracked', 'abc', 'lurker', 'acknowledge', 'akin', 'dotting', 'risky', 'intriguing', 'alert', 'fluent', 'creates', 'expensive', 'bio', 'oddly', 'omg', 'incremental', 'hater', 'italy', 'appreciation', 'astrophysics', 'negotiables', 'mckinney', 'quietly', 'astype', 'stoked', 'studied', 'represent', 'tough', 'youtuber', 'quota', 'workout', 'drag', 'overloaded', 'abide', 'vms', 'magical', 'empowered', 'integral', 'targeted', 'helping', 'mention', 'ey', 'ph', 'grateful', 'benefit', 'modeler', 'refreshed', 'nursing', 'consultant', 'transactional', 'brag', 'prepare', 'sharepoint', 'furthermore', 'transact', 'blasphemous', 'repercussion', 'soil', 'concur', 'died', 'early', 'riding', 'lever', 'delighted', 'horrid', 'owned', 'stunt', 'approved', 'simplifying', 'succinct', 'union', 'consist', 'incidence', 'seed', 'pls', 'cu', 'wiggle', 'trailing', 'llc', 'elementary', 'collective', 'week', 'wow', 'dba', 'submission', 'spoiler', 'introduction', 'decide', 'realizing', 'hipaa', 'younger', 'sting', 'pivoting', 'editing', 'barrier', 'mindset', 'rad', 'thrice', 'misunderstand', 'alarming', 'largely', 'collect', 'smoking', 'true', 'monitoring', 'tip', 'garden', 'temp', 'faster', 'burning', 'xg', 'accredited', 'indicate', 'selects', 'compile', 'disillusioned', 'featured', 'corrosion', 'strength', 'away', 'manger', 'domestic', 'rounded', 'hana', 'bit', 'courage', 'compute', 'backends', 'respectively', 'freely', 'totesmessenger', 'jvm', 'monthly', 'repair', 'jesus', 'movie', 'kindle', 'tamu', 'versatile', 'needle', 'wholly', 'eating', 'rookie', 'overload', 'minimum', 'batch', 'cause', 'physic', 'fungible', 'focusing', 'enters', 'fed', 'ir', 'retailer', 'beware', 'querying', 'analysis', 'converge', 'musician', 'conflicting', 'usecase', 'duke', 'ux', 'outlining', 'remark', 'hell', 'transitioning', 'lovely', 'dbeaver', 'assumption', 'organizes', 'hallucination', 'incompetent', 'node', 'matter', 'politician', 'picking', 'exhibit', 'sympathy', 'mask', 'ttl', 'wheel', 'package', 'invoke', 'webscrapers', 'therapist', 'fathom', 'futureproofing', 'rural', 'labor', 'ranging', 'swap', 'neat', 'raw', 'presently', 'quantum', 'fending', 'unplanned', 'information_schema', 'meat', 'indictment', 'reduced', 'joy', 'generalist', 'negotiable', 'answered', 'selenium', 'unblocked', 'dreading', 'guest', 'demon', 'inference', 'disconnected', 'expressive', 'informative', 'diagnostics', 'transitioned', 'merge', 'look', 'directory', 'metal', 'orthogonal', 'belongs', 'closet', 'agree', 'vp', 'wonder', 'trip', 'occupation', 'filling', 'payment', 'essence', 'sucky', 'wake', 'unto', 'reapply', 'lighter', 'frustration', 'critic', 'uncovered', 'consists', 'defensive', 'provide', 'seemingly', 'twist', 'pas', 'berkeley', 'boat', 'shifted', 'problem', 'behaviour', 'tolerance', 'hive', 'infosec', 'little', 'dividing', 'suddenly', 'honorable', 'factored', 'prediction', 'disprove', 'fluid', 'acre', 'linear', 'essay', 'labelling', 'pyproject', 'smh', 'entered', 'devil', 'orgs', 'slice', 'probationary', 'offer', 'work', 'productive', 'deadline', 'intellectually', 'sm', 'leaking', 'helped', 'dick', 'marker', 'software', 'unfortunately', 'solving', 'model', 'threaded', 'vary', 'red', 'chatting', 'bolt', 'respectful', 'indicates', 'number', 'strange', 'advises', 'constantly', 'terribly', 'composite', 'consulted', 'extracted', 'applicant', 'unsponsored', 'rigorous', 'hooked', 'secondary', 'entirety', 'ex', 'poll', 'provider', 'pertains', 'garner', 'resulted', 'set', 'institution', 'shipping', 'concentrate', 'education', 'stay', 'tesla', 'labeled', 'fold', 'floating', 'prone', 'landing', 'disdain', 'waited', 'disciplined', 'consume', 'distinct', 'proposed', 'ecommerce', 'powershell', 'dy', 'takeaway', 'prioritized', 'strong', 'ingest', 'programme', 'smartest', 'deloitte', 'concentrating', 'accomplish', 'decomposition', 'flag', 'sensibly', 'critique', 'perl', 'duckdb', 'visualise', 'shuts', 'alphabet', 'solved', 'bought', 'threatened', 'suggested', 'bsc', 'concise', 'professionalism', 'longer', 'misnomer', 'opposing', 'lagged', 'tied', 'podcast', 'feeling', 'odds', 'discount', 'mentoring', 'thorough', 'deadly', 'advising', 'government', 'partner', 'mentally', 'pinging', 'atomic', 'copy', 'weather', 'subreddit', 'pleaser', 'secure', 'ultimate', 'maintains', 'reputable', 'chaining', 'liked', 'trustworthy', 'scalable', 'entail', 'laughed', 'neutral', 'outta', 'ipo', 'shoring', 'foresee', 'incredible', 'achievement', 'questioning', 'hungry', 'best', 'paris', 'oriented', 'wizard', 'distinguished', 'mathematician', 'sku', 'ftfy', 'throttled', 'mouse', 'accounting', 'ridiculous', 'autonomously', 'inspiring', 'influencing', 'cow', 'calculated', 'approves', 'causality', 'flex', 'game', 'forming', 'vulnerable', 'cringe', 'choice', 'explicitly', 'morally', 'postman', 'bootcamps', 'scary', 'witnessed', 'dialect', 'dashboarding', 'taxonomy', 'churn', 'dominant', 'royal', 'nitty', 'manufacturer', 'ivy', 'fast', 'pedant', 'company', 'brushing', 'overemployed', 'secured', 'clicking', 'pop', 'frugal', 'struct', 'recruit', 'organization', 'insecure', 'operationalizing', 'stipend', 'young', 'amusing', 'empowering', 'jot', 'segmenting', 'friction', 'saturated', 'member', 'providing', 'line', 'datascience', 'paper', 'cascading', 'hype', 'develop', 'culprit', 'underestimate', 'leet', 'adi', 'surgery', 'smart', 'resolved', 'hoc', 'painfully', 'attribution', 'logging', 'keyword', 'url', 'withdrawing', 'alpaca', 'pigeon', 'comet', 'explaining', 'psychology', 'attributed', 'classically', 'foil', 'archived', 'cpa', 'switched', 'air', 'vader', 'portal', 'mega', 'heading', 'big', 'failover', 'holder', 'place', 'update', 'coursera', 'adhd', 'broken', 'extracting', 'smallish', 'temperature', 'eliminated', 'connotation', 'unfamiliar', 'ecr', 'shoulda', 'revisit', 'german', 'gov', 'fragmented', 'pestering', 'foothold', 'provided', 'slight', 'simplify', 'justifying', 'mortgage', 'partitioned', 'simulate', 'anecdotal', 'refactor', 'udtfs', 'subgroup', 'confirmation', 'magazine', 'elon', 'sizing', 'estimated', 'knew', 'engage', 'dynamodb', 'manage', 'serve', 'yr', 'fairness', 'relationship', 'nielsen', 'fuss', 'circle', 'incorporating', 'impractical', 'brilliantly', 'absorbed', 'dual', 'lens', 'demonstrable', 'division', 'condescending', 'yielding', 'supposedly', 'typed', 'redo', 'survived', 'prospect', 'improves', 'eliminate', 'stripped', 'enjoys', 'collectively', 'bedroom', 'occupy', 'intricacy', 'prob', 'insensitive', 'cup', 'recognition', 'clarification', 'uphill', 'industrial', 'actuality', 'notion', 'piggyback', 'directly', 'specializes', 'regulatory', 'indirect', 'improve', 'passed', 'solely', 'paid', 'verse', 'fantastic', 'tailored', 'operation', 'burned', 'ya', 'liquid', 'specified', 'unmotivated', 'tinker', 'davinci', 'gone', 'greek', 'downloading', 'completes', 'soccer', 'conversion', 'humor', 'overcoming', 'count', 'elevate', 'temporarily', 'caching', 'acceptance', 'toml', 'demonstrated', 'corrects', 'butt', 'defined', 'unemployed', 'tricky', 'toolbox', 'brings', 'biotech', 'urban', 'planner', 'doable', 'uc', 'processing', 'outlined', 'scanner', 'yah', 'seeding', 'aug', 'tedious', 'duplicate', 'kotlin', 'required', 'messy', 'dox', 'theoretically', 'oversaturated', 'salaried', 'premium', 'distro', 'completion', 'semiconductor', 'tad', 'marketing', 'orchestrated', 'pricing', 'released', 'length', 'picky', 'continues', 'storm', 'extrapolate', 'robert', 'gray', 'bro', 'claire', 'gzip', 'properly', 'underpaid', 'scaffolding', 'proc', 'erd', 'irreplaceable', 'stressed', 'eh', 'computer', 'liner', 'represented', 'jeez', 'proceed', 'suck', 'stability', 'scala', 'party', 'indiana', 'suburban', 'webapp', 'buy', 'lure', 'dumbest', 'failure', 'ratio', 'dude', 'mongodb', 'rinse', 'brain', 'sqlserver', 'javascript', 'recipient', 'forward', 'tenured', 'pasted', 'deeply', 'stagnation', 'carefully', 'majority', 'rooted', 'infrastructure', 'interrupt', 'slower', 'step', 'nearest', 'residency', 'replacement', 'disease', 'gb', 'illustrate', 'define', 'report', 'neetcode', 'older', 'heaven', 'doubting', 'colored', 'heroku', 'night', 'reproduced', 'thumb', 'smile', 'fang', 'plan', 'scheduling', 'confirmed', 'profit', 'store', 'quick', 'deemed', 'bolted', 'asinine', 'modal', 'template', 'environmental', 'meal', 'treatment', 'letter', 'cranking', 'blog', 'stereotypical', 'felt', 'quarterly', 'thinker', 'success', 'snarky', 'branching', 'sidebar', 'gate', '_csv', 'inefficiently', 'criticality', 'movement', 'selling', 'expressed', 'warning', 'safely', 'psych', 'verified', 'gud', 'quitting', 'lateral', 'included', 'interacted', 'roll', 'french', 'imaginary', 'shipped', 'depot', 'studio', 'hbase', 'financial', 'provisioned', 'hard', 'overpriced', 'quickest', 'scenario', 'told', 'matplotlib', 'weed', 'freedom', 'translates', 'written', 'searched', 'rage', 'specie', 'miraculously', 'depend', 'scroll', 'gathering', 'polite', 'height', 'unglamorous', 'vue', 'head', 'plumber', 'expiring', 'bone', 'fuckin', 'outlet', 'frantically', 'hostile', 'wonderfully', 'pto', 'strive', 'occam', 'env', 'prestigious', 'registry', 'partake', 'identified', 'focal', 'conducting', 'graduation', 'numb', 'listens', 'mph', 'personally', 'remorse', 'wit', 'monetize', 'mislabeled', 'fund', '_in', 'handy', 'razor', 'sword', 'ibm', 'myopic', 'conversation', 'insisted', 'visually', 'dbms', 'importing', 'grade', 'aa', 'uniquely', 'woman', 'autocorrection', 'afraid', 'whim', 'repl', 'leaving', 'conclude', 'wish', 'terminator', 'overly', 'cudf', 'ctes', 'corpo', 'highly', 'ups', 'milestone', 'auditing', 'said', 'droplet', 'marketable', 'select', 'nike', 'leader', 'responded', 'mirror', 'juggling', 'inertia', 'insists', 'dependable', 'curate', 'hook', 'intro', 'racing', 'underrated', 'quo', 'aisle', 'beam', 'conceived', 'afternoon', 'class', 'def', 'curious', 'obtained', 'cope', 'boy', 'trusting', 'hacker', 'lady', 'spend', 'carrying', 'berkley', 'denormalized', 'requesting', 'whichever', 'sudo', 'promising', 'check', 'office', 'preventing', 'striving', 'habit', 'transformation', 'salt', '_also_', 'divided', 'streamlit', 'bothered', 'springboard', 'negotiating', 'betting', 'binary', 'collegues', 'kinematics', 'presumably', 'weakness', 'hall', 'conditionals', 'worked', 'irony', 'ballpark', 'yolo', 'karma', 'winded', 'messier', 'generates', 'bull', 'cutting', 'microservice', 'showed', 'persuasive', 'frequently', 'remember', 'maintain', 'preserving', 'supersede', 'ymmv', 'astounding', 'exhausting', 'dumb', 'checkpoint', 'degreed', 'median', 'rolled', 'europe', 'hire', 'exposure', 'compress', 'thank', 'automl', 'degrade', 'metric', 'cancel', 'evaluate', 'wife', 'implying', 'ridiculously', 'som', 'managerial', 'jeff', 'rust', 'follows', 'spec', 'likely', 'onus', 'pig', 'moon', 'gradient', 'maven', 'society', 'orange', 'numbering', 'fulltime', 'seniority', 'multivariate', 'shitpost', 'exploitative', 'standardizing', 'viewpoint', 'damaged', 'endure', 'ron', 'daunting', 'infected', 'sold', 'fulfilled', 'explode', 'combing', 'streaming', 'illiterate', 'cv', 'frustrated', 'underperform', 'suffer', 'thrown', 'synced', 'differenciation', 'unbelievably', 'nextflow', 'asleep', 'rainbow', 'stress', 'susceptible', 'seminar', 'scikitlearn', 'disruption', 'redesigning', 'cking', 'referenced', 'diluted', 'consistently', 'statquest', 'grouped', 'resourceful', 'eager', 'realtime', 'partially', 'lacking', 'worsen', 'dream', 'joke', 'annual', 'unicorn', 'quicker', 'massively', 'muppet', 'lean', 'easy', 'ram', 'influencer', 'functionally', 'bore', 'prototype', 'suit', 'transfer', 'diminishing', 'birth', 'localized', 'fight', 'architecture', 'naturally', 'checklist', 'resorted', 'utilized', 'linter', 'pose', 'adventure', 'reproduce', 'remembers', 'characterizing', 'generous', 'workspace', 'bangkok', 'allocate', 'earner', 'mobile', 'mapreduce', 'contribute', 'formally', 'fi', 'excels', 'bundle', 'ssh', 'technical', 'realistic', 'lurking', 'succeeded', 'bigger', 'rental', 'exponentially', 'economics', 'ml', 'basket', 'calm', 'prototyping', 'reuse', 'tried', 'funerary', 'exaggerating', 'misery', 'cultural', 'grinded', 'informational', 'stupidity', 'powered', 'angel', 'nonexistent', 'second', 'biological', 'layer', 'download', 'adapted', 'gave', 'powerhouse', 'dear', 'person', 'insane', 'pooping', 'generating', 'productivity', 'duplication', 'introduces', 'kpis', 'asked', 'technology', 'hbo', 'tradeoff', 'realise', 'influence', 'compared', 'breakthrough', 'essentially', 'imperfectly', 'bugged', 'discussion', 'cumulative', 'unusable', 'flatten', 'parse', 'feeding', 'talked', 'stole', 'garbage', 'sunday', 'scaled', 'boeing', 'bat', 'ritual', 'rtfm', 'alcohol', 'heavier', 'moron', 'far', 'hmo', 'luck', 'exploratory', 'aiming', 'escalate', 'rival', 'dump', 'man', 'yield', 'webservers', 'paragraph', 'kick', 'shade', 'actor', 'population', 'opinionated', 'disk', 'dip', 'wa', 'stopper', 'equivalent', 'scam', 'bootstrapping', 'loose', 'bounded', 'hah', 'cube', 'dept', 'midwest', 'approach', 'beautiful', 'steeper', 'steven', 'silo', 'groupby', 'penalizes', 'trader', 'doing', 'footer', 'unlocking', 'textual', 'exploited', 'prioritization', 'pygwalker', 'type', 'recover', 'firehose', 'recommend', 'video', 'hindering', 'mlb', 'enhancing', 'bane', 'incrementally', 'inspire', 'doordash', 'completely', 'satisfying', 'florida', 'administrator', 'quantified', 'interning', 'garnered', 'hodge', 'newbie', 'eta', 'iota', 'wisdom', 'training', 'understaffed', 'infers', 'naval', 'excited', 'necessary', 'dismissive', 'revolutionary', 'telemetry', 'louisiana', 'paste', 'concentrated', 'vouch', 'vba', 'warranty', 'educator', 'resolution', 'stood', 'regardless', 'substack', 'fiddling', 'compromise', 'posit', 'track', 'feedback', 'mojo', 'pair', 'explosive', 'realm', 'network', 'bleak', 'delaying', 'piplines', 'splunk', 'vietnam', 'severance', 'undergraduate', 'plethora', 'desperately', 'phenomenal', 'unsophisticated', 'nitpick', 'mastery', 'opensearch', 'dashbording', 'ides', 'overview', 'robustness', 'proposition', 'vetted', 'compiling', 'relatable', '_name', 'reminds', 'meticulous', 'measurement', 'primary', 'kpi', 'laundry', 'misaligned', 'waking', 'pushing', 'shuffle', 'valuation', 'proof', 'allocating', 'scraper', 'parade', 'approval', 'whiteboarding', 'mundane', 'moocs', 'rewarding', 'installation', 'parser', 'mae', 'echoing', 'lifetime', 'unfair', 'seller', 'congrats', 'driverless', 'conclusion', 'eb', 'mix', 'selection', 'benchmarking', 'correlated', 'syntax', 'inspired', 'gui', 'perplexed', 'claim', 'differentiate', 'idea', 'suited', 'bottle', 'loosely', 'mm', 'cast', 'consumes', 'miracle', 'broad', 'hamper', 'accepting', 'alias', 'boost', 'affiliated', 'soooo', 'respond', 'wasting', 'excalidraw', 'arranged', 'le', 'opaque', 'proficiency', 'virtually', 'train', 'inflate', 'depressed', 'bonkers', 'sad', 'fish', 'michigan', 'baffled', 'classify', 'dw', 'episode', 'aha', 'image', 'chromebook', 'insecurity', 'sex', 'grill', 'boarding', 'graduate', 'dabble', 'allowing', 'gdp', 'horizontally', 'delete', 'brilliant', 'invoice', 'stateful', 'linkedin', 'eod', 'salty', 'implementing', 'lack', 'loading', 'editable', 'deleting', 'significant', 'dallas', 'surrounding', 'responsive', 'practised', 'endlessly', 'instant', 'absurd', 'downside', 'builder', 'development', 'concrete', 'ocr', 'ing', 'came', 'chasing', 'availability', 'ranking', 'dell', 'disposal', 'happiness', 'sends', 'warehousing', 'stealth', 'pole', 'verify', 'british', 'prague', 'palantir', 'attracting', 'optimizer', 'questioned', 'noticing', 'driving', 'rebrand', 'beginner', 'elk', 'overlooked', 'accross', 'habe', 'cog', 'definite', 'flowing', 'plus', 'seven', 'mixing', 'wgu', 'makelike', 'fellowship', 'definitive', 'gpc', 'aptitude', 'booth', 'successful', 'tenure', 'dust', 'narrower', 'atmosphere', 'relay', 'public', 'reaching', 'consumption', 'immense', 'skeptical', 'afford', 'dickhead', 'computationally', 'connectivity', 'pulled', 'xx', 'motion', 'revolutionize', 'pytest', 'tyre', 'noting', 'prep', 'adapter', 'mysql', 'ssd', 'algebraic', 'linguistics', 'really', 'chapter', 'enterprise', 'honestly', 'performative', 'click', 'qol', 'incredibly', 'ultra', 'superficial', 'inevitable', 'reconciliation', 'shall', 'counsel', 'billion', 'categorized', 'rmse', 'maybe', 'century', 'discussed', 'supervisor', 'shaping', 'containing', 'wine', 'referencing', 'achieve', 'preferred', 'crypto', 'latitude', 'stealing', '_at', 'agility', 'hide', 'epic', 'entrepreneur', 'dysfunctional', 'miss', 'leadership', 'os', 'error', 'mattered', 'noisy', 'tablet', 'talent', 'wording', 'pad', 'respected', 'kept', 'dumping', 'objectivley', 'sorry', 'zip', 'credit', 'hilarious', 'extend', 'richer', 'assuming', 'chuck', 'deprecated', 'compiled', 'usually', 'asset', 'incorporate', 'giant', 'degraded', 'integrates', 'journeyman', 'slacking', 'sanctioned', 'advocate', 'sequentially', 'disclaimer', 'overdeliver', 'hadoop', 'bucket', 'bloat', 'stupidly', 'contracting', 'wednesday', 'star', 'parallel', 'conditional', 'dont', 'panel', 'completing', 'runner', 'syntactic', 'productionizing', 'blazing', 'basically', 'credential', 'twisted', 'pace', 'shove', 'idle', 'patient', 'rapport', 'upcoming', 'validated', 'measure', 'qualm', 'retrieve', 'pharmacy', 'callback', 'lang', 'sexiest', 'neuron', 'laptop', 'reduce', 'arrow', 'everybody', 'lightning', 'predicted', 'purpose', 'popular', 'mbb', 'hit', 'incumbency', 'guid', 'perspective', 'cursed', 'gut', 'elaborating', 'tackling', 'foolish', 'hope', 'arrogant', 'incentivized', 'burst', 'sided', 'doer', 'electrical', 'practicum', 'chore', 'die', 'skillwise', 'mechanical', 'capped', 'frequent', 'tenet', 'comprehend', 'hand', 'explainer', 'overuse', 'uploaded', 'analogy', 'snap', 'lore', 'googled', 'harvesting', 'frontier', 'mildly', 'monetization', 'soft', 'understood', 'sachs', 'exploration', 'inspiration', 'proactive', 'situated', 'tiny', 'reworking', 'seo', 'target', 'dumbass', 'conceptually', 'laughable', 'swimming', 'dask', 'phrase', 'recognizable', 'latest', 'wind', 'sharing', 'projected', 'remained', 'broader', 'shady', 'hi', 'ware', 'wave', 'booked', 'wasteful', 'disrupting', 'inherited', 'sitting', 'accenture', 'translated', 'finalised', 'sugar', 'guess', 'android', 'posted', 'concerning', 'equipment', 'preparation', 'wrapping', 'financially', 'consolidation', 'amazed', 'unnecessarily', 'migrated', 'expertise', 'sensitive', 'translate', 'unlocks', 'naming', 'skewed', 'underperforming', 'clinical', 'copilot', 'concatenating', 'oc', 'subject', 'survey', 'shooter', 'playground', 'gpus', 'replaceable', 'magnitude', 'fictional', 'scene', 'accountability', 'insight', 'suggestion', 'outgrown', 'vehicle', 'boulder', 'entire', 'introduce', 'escaping', 'tabular', 'sibling', 'aid', 'kill', 'inbuilt', 'sized', 'steam', 'tweet', 'characteristic', 'cisco', 'acc', 'ptsd', 'datalemur', 'applies', 'federation', 'provision', 'renewable', 'abnormal', 'distance', 'stayed', 'stat', 'beginning', 'negotiate', 'harsh', 'requisite', 'tree', 'opted', 'itching', 'wad', 'sits', 'guardrail', 'address', 'lineup', 'eat', 'fighting', 'motivated', 'resilience', 'esteemed', 'squander', 'engaged', 'overqualified', 'revolving', 'tightly', 'identify', 'praying', 'brian', 'demotivated', 'poverty', 'retrieving', 'classic', 'naive', 'st', 'recognised', 'instagram', 'leg', 'fortunately', 'ligma', 'language', 'extensible', 'standups', 'general', 'rehearsed', 'cobol', 'reinforcement', 'citing', 'afterthought', 'gatekeep', 'aggregator', 'inadequate', 'decline', 'economy', 'fleet', 'specification', 'napkin', 'staffed', 'ctos', 'crunch', 'disqualified', 'charlatan', 'stacking', 'originally', 'bot', 'universe', 'choose', 'particular', 'cold', 'accountable', 'qa', 'american', 'efficiently', 'jumped', 'related', 'blacklist', 'circuit', 'newborn', 'functioning', 'geometric', 'mystery', 'upselling', 'angela', 'interval', 'solo', 'cheese', 'powerquery', 'beautifully', 'rapid', 'iceberg', 'tableu', 'accessed', 'slim', 'vitamin', 'tolerate', 'ffs', 'communicate', 'dedupe', 'bootcamp', 'plague', 'econ', 'dimension', 'attack', 'to_excel', 'govt', 'worthwhile', 'fool', 'discourage', 'assure', 'astronomical', 'evangelize', 'sparksql', 'dipping', 'exhaustion', 'meetups', 'multiplier', 'cumsum', 'thought', 'confluence', 'chime', 'explains', 'discreet', 'information', 'scoring', 'fuck', 'circus', 'seeking', 'stab', 'chew', 'procedure', 'broadly', 'epoch', 'limbo', 'pizza', 'appeal', 'interactive', 'disparaging', 'deliverable', 'settling', 'equate', 'ec', 'maker', 'rereading', 'documented', 'haikusbot', 'revise', 'routine', 'showcasing', 'attraction', 'gratifying', 'realised', 'usd', 'feasible', 'positive', 'dull', 'energy', 'copying', 'comfort', 'subnets', 'tha', 'task', 'coder', 'pacific', 'cock', 'purist', 'curve', 'screenshots', 'known', 'philippine', 'sight', 'wolf', 'carve', 'pave', 'fidelity', 'vaguely', 'jumping', 'improper', 'vice', 'workarounds', 'invested', 'puzzled', 'sourcing', 'vicious', 'concatenated', 'know', 'exclusive', 'accepted', 'encouraging', 'embedded', 'delegating', 'degree', 'service', 'notepad', 'crack', 'groundwork', 'recap', 'apply', 'evolve', 'determination', 'specialise', 'trend', 'dime', 'scalability', 'deployed', 'continuous', 'deploy', 'entity', 'modifying', 'dbdemos', 'morning', 'layout', 'intersect', 'grumpy', 'biggest', 'examining', 'iam', 'specialty', 'walkthrough', 'deciding', 'stronger', 'certificate', 'embarrassingly', 'thrilled', 'threshold', 'accustomed', 'seattle', 'correctly', 'graduated', 'lecture', 'transportation', 'alignment', 'upset', 'unethical', 'wage', 'parquet', 'pile', 'car', 'shift', 'ship', 'breaker', 'groove', 'dimensional', 'underappreciated', 'root', 'wide', 'beefing', 'nurse', 'joking', 'actual', 'categorize', 'interface', 'return', 'occurring', 'clearer', 'pearl', 'ummmm', 'granting', 'numerous', 'inter', 'tinkering', 'scatter', 'brazilian', 'estimation', 'explored', 'conspiracy', 'linkage', 'yup', 'scoped', 'renaming', 'requirement', 'application', 'lesson', 'potato', 'responding', 'migrate', 'gross', 'capability', 'chicago', 'anecdotical', 'downgrade', 'describing', 'rejected', 'lingo', 'rest', 'unreasonably', 'generally', 'listen', 'atom', 'omitting', 'ssl', 'inclusive', 'connector', 'proliferation', 'mgmt', 'pot', 'silently', 'graph', 'rude', 'authentication', 'followup', 'achievable', 'forgetting', 'snakemake', 'kind', 'expected', 'bee', 'previously', 'simplicity', 'jest', 'sprint', 'scammy', 'dataframes', 'launched', 'puzzle', 'pouring', 'simplest', 'defining', 'effectively', 'tend', 'pun', 'poop', 'flat', 'realized', 'torture', 'merely', 'predefined', 'intake', 'lived', 'mssql', 'incurring', 'scrap', 'scraped', 'fetch', 'adobe', 'distribute', 'hefty', 'alternative', 'department', 'disagree', 'laziness', 'detecting', 'breach', 'sweden', 'interviewed', 'park', 'tank', 'saving', 'structured', 'hardcoding', 'synonymous', 'resource', 'machine', 'regulator', 'windowing', 'prerequisite', 'load', 'udemy', 'hood', 'icing', 'apex', 'stata', 'loving', 'holiday', 'diverse', 'unix', 'bleep', 'actually', 'hospitalization', 'row', 'rewrite', 'polish', 'implemented', 'healthcare', 'tired', 'wager', 'trial', 'brevity', 'mckinsey', 'arrived', 'coalesce', 'viceversa', 'plate', 'maintained', 'ca', 'flagged', 'lent', 'bar', 'porsche', 'beverage', 'supermarket', 'themself', 'monitor', 'struggling', 'splitting', 'lowest', 'equip', 'screwed', 'sympathetic', 'reputed', 'datos', 'familiarized', 'nonsense', 'formality', 'resolving', 'bold', 'struggle', 'construct', 'delineation', 'cache', 'attitude', 'subscribed', 'assert', 'alumnus', 'expedia', 'improved', 'membership', 'doin', 'maximizing', 'use', 'tc', 'desire', 'nextjs', 'incentive', 'displaying', 'indicated', 'nosql', 'rooting', 'device', 'finding', 'science', 'defers', 'intricate', 'bracket', 'cuff', 'forget', 'unsuccessful', 'testing', 'prominent', 'emphasizing', 'lower', 'begun', 'reduces', 'sounding', 'traditional', 'algorithm', 'pinned', 'downfall', 'recruiter', 'overworked', 'tile', 'enforcing', 'foot', 'stripe', 'eternity', 'mamagement', 'ny', 'rewritten', 'read_csv', 'spinning', 'strongly', 'figured', 'captured', 'regressing', 'basis', 'sanity', 'sacred', 'involving', 'cookie', 'throwing', 'lost', 'ghost', 'reoccurring', 'assigning', 'scored', 'exploded', 'gouging', 'nesting', 'chrome', 'biomechanical', 'mouth', 'whistle', 'corresponding', 'prefect', 'visualize', 'alt', 'xlsx', 'bizarre', 'rollout', 'van', 'sklearn', 'digest', 'repeating', 'orientation', 'notifs', 'suggests', 'founder', 'salesman', 'deserved', 'supplementary', 'judgment', 'syntactically', 'unreliable', 'cheater', 'route', 'mediocre', 'observe', 'gleaned', 'stint', 'briefing', 'hp', 'special', 'io', 'jerk', 'coiled', 'based', 'pedagogy', 'interestingly', 'envision', 'prefers', 'proud', 'inline', 'dope', 'san', 'grain', 'smaller', 'locked', 'omscs', 'interesting', 'retake', 'confidentiality', 'submitted', 'delay', 'uis', 'terminal', 'autoscale', 'unintuitive', 'fix', 'dying', 'straw', 'args', 'rationalize', 'june', 'intimately', 'usability', 'drill', 'raspberry', 'bread', 'excelled', 'qualifies', 'revision', 'given', 'homework', 'peeking', 'noticed', 'den', 'lead', 'curated', 'rds', 'refusing', 'differs', 'structs', 'cared', 'single', 'crutch', 'measuring', 'approximately', 'informs', 'golden', 'combined', 'immensely', 'attribute', 'proceeding', 'lookup', 'debt', 'smug', 'shared', 'filtered', 'lover', 'mon', 'security', 'pursuing', 'prism', 'froze', 'nice', 'sse', 'portable', 'lucky', 'disgusting', 'mlops', 'misconfigured', 'dated', 'basing', 'pde', 'viability', 'mindlessly', 'reasonably', 'stuck', 'admins', 'lat', 'dataproc', 'plenty', 'relegated', 'opensource', 'erp', 'partly', 'band', 'file', 'truncate', 'slot', 'macro', 'mb', 'aes', 'repo', 'visuals', 'hung', 'webscraping', 'finest', 'unforeseen', 'preferably', 'fo', 'apprenticeship', 'turnaround', 'christ', 'community', 'distilled', 'wasted', 'talking', 'licence', 'sparked', 'tunnel', 'floor', 'inflation', 'illustrative', 'thanking', 'architect', 'surrounded', 'faith', 'neck', 'trick', 'obvious', 'reliant', 'teradata', 'employability', 'broke', 'encompasses', 'checked', 'bench', 'dwh', 'executed', 'percent', 'emergency', 'interested', 'port', 'concern', 'amass', 'exe', 'aggregate', 'params', 'column', 'baggage', 'screwdriver', 'hat', 'hpc', 'occupied', 'implicit', 'chronically', 'proclaimed', 'destroyer', 'sooo', 'parameterize', 'run', 'supportive', 'pruning', 'depression', 'agent', 'delivers', 'proposal', 'dag', 'expectation', 'glance', 'investor', 'noted', 'ohh', 'land', 'performer', 'admitting', 'leeway', 'superior', '_not_', 'congratulation', 'skillet', 'reconstruction', 'mentored', 'txt', 'capstone', 'throat', 'moral', 'envious', 'stance', 'communication', 'including', 'search', 'implied', 'sponsorship', 'product', 'durable', 'relates', 'document', 'uniqueness', 'prison', 'forced', 'factory', 'attest', 'confirms', 'structuring', 'diligence', 'unusual', 'following', 'promised', 'inputted', 'extraneous', 'fan', 'extensively', 'pretending', 'raft', 'standing', 'limited', 'selectively', 'monument', 'promote', 'theatre', 'violation', 'obstacle', 'columnar', 'unique', 'construction', 'similarity', 'separating', 'hold', 'efficiency', 'obtaining', 'term', 'exploring', 'john', 'lock', 'gatekeeping', 'retained', 'ingested', 'arrival', 'link', 'returning', 'offset', 'intention', 'path', 'artifact', 'mentioned', 'god', 'modelling', 'preprocessing', 'kong', 'replied', 'discovered', 'insert', 'possibility', 'execute', 'refer', 'school', 'reported', 'evidence', 'handed', 'parsing', 'doubt', 'king', 've', 'vet', 'metaphorically', 'human', 'differentiating', 'desk', 'total', 'barbarian', 'commented', 'alpha', 'intense', 'guided', 'endorse', 'fewer', 'equally', 'reflecting', 'hopefully', 'trifacta', 'tit', 'wrangler', 'identity', 'breath', 'develops', 'clarifying', 'seeing', 'privilege', 'survivor', 'practiced', 'bitch', 'finalized', 'limit', 'boring', 'happier', 'backfill', 'camel', 'double', 'oversee', 'silicon', 'expecting', 'gcloud', 'backward', 'solar', 'pending', 'asshole', 'manipulate', 'meant', 'travel', 'scheme', 'cram', 'documenting', 'coworkers', 'encountered', 'olap', 'page', 'reorg', 'adjustable', 'personnel', 'experiment', 'accumulated', 'differentiation', 'transferred', 'impossibly', 'source', 'vanacker', 'linked', 'generically', 'rushed', 'queue', 'mail', 'level', 'fuzzy', 'gig', 'complicated', 'positioned', 'externally', 'humongous', 'accelerating', 'glaring', 'prescription', 'blindsided', 'weighing', 'rub', 'handicap', 'pain', 'gold', 'briefly', 'grafana', 'curb', 'deliberately', 'optimization', 'talented', 'website', 'organizational', 'cat', 'revoke', 'enjoying', 'entangled', 'living', 'anymore', 'urgent', 'silent', 'processor', 'converging', 'posting', 'luxury', 'inviting', 'dockerize', 'hopping', 'commander', 'matt', 'agency', 'understands', 'season', 'seconded', 'nearing', 'flyte', 'instruct', 'consult', 'revisiting', 'rerun', 'nowdays', 'shortage', 'need', 'webinar', 'time', 'yea', 'polymorphism', 'stupid', 'teaching', 'spitballing', 'sql', 'advance', 'collaborative', 'conducted', 'wrong', 'inefficient', 'broadcasting', 'decade', 'setting', 'skilled', 'boiled', 'looping', 'let', 'genetic', 'limitation', 'purchasing', 'optimise', 'ro', 'outing', 'smes', 'compact', 'magic', 'extensibility', 'accomplishing', 'large', 'ddl', 'nutrition', 'rusty', 'food', 'note', 'posse', 'apps', 'recommends', 'describes', 'intended', 'box', 'gibberish', 'admin', 'ghosted', 'quantify', 'unlikely', 'credentialism', 'admirable', 'enthusiast', 'bail', 'keyboard', 'mutable', 'subjective', 'specialised', 'uncover', 'correct', 'behavioral', 'mass', 'bruh', 'wait', 'cse', 'hospital', 'nailed', 'distribution', 'bleed', 'dir', 'dishonest', 'shouting', 'terrible', 'used', 'classifying', 'contributed', 'disappeared', 'near', 'rfc', 'struggled', 'richness', 'humble', 'sampling', 'uploading', 'insanity', 'snag', 'judgement', 'extra', 'engaging', 'applying', 'armchair', 'mle', 'oil', 'bmw', 'insider', 'yikes', 'downwards', 'differentiator', 'augmented', 'previous', 'recording', 'ignorant', '_want_', 'caring', 'sandwich', 'encountering', 'online', 'tight', 'searching', 'stats', 'gym', 'instrument', 'player', 'arrive', 'loved', 'imply', 'lame', 'perpetually', 'interpreter', 'fined', 'pursued', 'jump', 'kruger', 'arriving', 'evening', 'prince', 'recalculate', 'remain', 'rsus', 'makeup', 'horrendous', 'revert', 'drawback', 'scikit', 'breed', 'simulation', 'self', 'pairing', 'revised', 'planned', 'securely', 'pressed', 'boon', 'shower', 'fingertip', 'month', 'purview', 'fueled', 'generated', 'fortune', 'reprocess', 'mom', 'ingredient', 'pondering', 'specifies', 'controversial', 'kiddy', 'sir', 'angle', 'boston', 'af', 'iteratively', 'generalised', 'confusingly', 'noob', 'insurance', 'velocity', 'holed', 'prior', 'blocked', 'evil', 'unbeatable', 'visa', 'loser', 'premature', 'learned', 'complaint', 'formatting', 'ivory', 'progressed', 'datamarts', 'vomit', 'watered', 'founded', 'repeatable', 'pc', 'beauty', 'nested', 'li', 'horrific', 'foster', 'gladly', 'janky', 'guidance', 'widely', 'touched', 'delivery', 'australia', 'retrieved', 'relevance', 'pm', 'personalized', 'er', 'scheduler', 'absolutely', 'compounded', 'struck', 'ok', 'casting', 'different', 'ds', 'stackoverflow', 'longest', 'champion', 'inaccurate', 'concurrency', 'feeder', 'git', 'threatening', 'nuisance', 'predicting', 'redditors', 'protected', 'gt', 'undestand', 'tear', 'tensorflow', 'classification', 'assisted', 'pill', 'exceedingly', 'max', 'mentality', 'direct', 'info', 'pay', 'relies', 'dicts', 'hedge', 'uncertainty', 'dial', 'stan', 'inverse', 'chicken', 'replicated', 'representation', 'trillion', 'rating', 'washing', 'namespace', 'rudimentary', 'compose', 'timezones', 'occur', 'nc', 'rhyme', 'complex', 'sysadmin', 'securing', 'acquired', 'imposes', 'interpret', 'solr', 'saa', 'farther', 'map', 'admit', 'scrutiny', 'initialization', 'enthusiasm', 'ban', 'deployable', 'pattern', 'asserts', 'manageable', 'noticeable', 'reread', 'anyting', 'slightest', 'ocean', 'unsuitable', 'genuinely', 'sour', 'conventional', 'epitome', 'focus', 'anxiety', 'combat', 'consider', 'approximated', 'ma', 'bazillion', 'reflection', 'wanting', 'shun', 'interned', 'alleviate', 'meter', 'brief', 'worth', 'preach', 'origin', 'cynical', 'int', 'holistic', 'enabling', 'breakfast', 'contributing', 'unrealistic', 'unhelpful', 'sunk'}\n"
     ]
    }
   ],
   "source": [
    "# Read the feature words from the files into Python sets\n",
    "with open(\"../data/feature_words_dsc.txt\", \"r\", encoding=\"utf-8\") as file_dsc:\n",
    "    feature_words_dsc = set([line.strip() for line in file_dsc])\n",
    "\n",
    "with open(\"../data/feature_words_dengr.txt\", \"r\", encoding=\"utf-8\") as file_dengr:\n",
    "    feature_words_dengr = set([line.strip() for line in file_dengr])\n",
    "\n",
    "# Find the similar words between d_sc and d_engr\n",
    "similar_words = feature_words_dsc.intersection(feature_words_dengr)\n",
    "print(len(similar_words))\n",
    "print(similar_words)"
   ]
  },
  {
   "cell_type": "markdown",
   "id": "1d346331-6e6e-4040-b698-45b3170d3dd0",
   "metadata": {},
   "source": [
    "Was considering to add these in the stop word list, since these words that appear in both subreddits will not help us in classification. However, upon adding the entire set of words to my stop list, my base model score test score fell by 0.12. This is probably because omitting the large amount of similar words would mean that we have quite alot of data loss. Also, this would lead to alot of crucial two-gram or three-gram words being lost."
   ]
  },
  {
   "cell_type": "markdown",
   "id": "30b5c42b-c79a-45ca-a395-dc79da46f5eb",
   "metadata": {},
   "source": [
    "---\n",
    "#### Editing stop word list\n",
    "To improve the above list of top 20 words, I appended some additional words to the original list of english stopwords. Stop words are commonly used in NLP to eliminate words that are so widely used that they carry very little useful information."
   ]
  },
  {
   "cell_type": "code",
   "execution_count": 83,
   "id": "fc1022da-1454-4960-996e-72e84519b14e",
   "metadata": {
    "scrolled": true
   },
   "outputs": [
    {
     "data": {
      "text/plain": [
       "179"
      ]
     },
     "execution_count": 83,
     "metadata": {},
     "output_type": "execute_result"
    }
   ],
   "source": [
    "# Print original list of English stopwords.\n",
    "og_stopwords = stopwords.words(\"english\")\n",
    "og_stopwords = [word.replace(\"'\", \"\") for word in og_stopwords]\n",
    "len(og_stopwords)"
   ]
  },
  {
   "cell_type": "code",
   "execution_count": 84,
   "id": "e927f03a-65a3-4323-a453-e4f45d1af899",
   "metadata": {},
   "outputs": [],
   "source": [
    "#Add on new stopwords + similar_words to list\n",
    "new_stopwords = ['wa', 'year', 'want', 'know', 'use', 'need', 'like', 'im', 'would', 'get', 'also',\n",
    "                'one', 'using', 'ive', 'ha', 'de', 'even', 'lot', 'data', 'company', 'work', 'time', 'job'\n",
    "                'python', 'make', 'think', 'thing', 'could', 'experience', 'really', 'much', 'way', 'doe'] \n",
    "final_stopwords = og_stopwords + new_stopwords"
   ]
  },
  {
   "cell_type": "code",
   "execution_count": 85,
   "id": "edde161c-8030-4000-88c9-fdb3f5521b00",
   "metadata": {
    "scrolled": true
   },
   "outputs": [
    {
     "data": {
      "text/plain": [
       "211"
      ]
     },
     "execution_count": 85,
     "metadata": {},
     "output_type": "execute_result"
    }
   ],
   "source": [
    "len(final_stopwords)"
   ]
  },
  {
   "cell_type": "markdown",
   "id": "0e5b9617-ca8c-49c1-b83d-b66d063926c0",
   "metadata": {},
   "source": [
    "After several rounds of running the feature function and adding on to stopwords. We arrive at a revised feature words function, to help us plot the top feature words:"
   ]
  },
  {
   "cell_type": "code",
   "execution_count": 86,
   "id": "9ba7f6c5-d6ac-4af8-8ef5-463e681bf43e",
   "metadata": {},
   "outputs": [],
   "source": [
    "def feat_plot(array, plt_title, file_path):\n",
    "    # Convert non-string elements to strings\n",
    "    array = [str(item) for item in array]\n",
    "\n",
    "    # Setting the vectorizer\n",
    "    cvec = CountVectorizer(binary=False, stop_words=final_stopwords)\n",
    "\n",
    "    # Fitting the vectorizer on lemmatized data\n",
    "    cvec.fit(array)\n",
    "\n",
    "    # Transform the corpus.\n",
    "    array_transformed = cvec.transform(array)\n",
    "\n",
    "    # Features with stopwords removed\n",
    "    feature_words = cvec.get_feature_names_out()\n",
    "    print(f\"No: of Feature Words: {len(feature_words)}\")\n",
    "\n",
    "    # File path where you want to save the feature words\n",
    "    file_path = file_path\n",
    "\n",
    "    # Open the file in write mode with utf-8 encoding and write the feature words\n",
    "    with open(file_path, \"w\", encoding=\"utf-8\") as file:\n",
    "        for word in feature_words:\n",
    "            file.write(word + \"\\n\")\n",
    "\n",
    "    # Create DataFrame with document-term matrix\n",
    "    array_df = pd.DataFrame(array_transformed.todense(), columns=feature_words)\n",
    "\n",
    "    # Calculate word frequencies and plot top occurring words\n",
    "    word_frequencies = array_df.sum().sort_values(ascending=False)\n",
    "    print(word_frequencies.head(20))\n",
    "    word_frequencies.head(20).plot(kind='barh')\n",
    "    plt.title(plt_title);"
   ]
  },
  {
   "cell_type": "code",
   "execution_count": 87,
   "id": "1422e0f6-ae9f-4b0c-b803-86f59d993800",
   "metadata": {},
   "outputs": [
    {
     "name": "stdout",
     "output_type": "stream",
     "text": [
      "No: of Feature Words: 17236\n",
      "job          3057\n",
      "science      2279\n",
      "people       1997\n",
      "model        1869\n",
      "good         1733\n",
      "python       1698\n",
      "scientist    1169\n",
      "role         1139\n",
      "project      1128\n",
      "learning     1094\n",
      "going        1064\n",
      "better       1024\n",
      "code          969\n",
      "take          964\n",
      "well          963\n",
      "something     952\n",
      "learn         933\n",
      "go            924\n",
      "find          902\n",
      "problem       877\n",
      "dtype: int64\n"
     ]
    },
    {
     "data": {
      "image/png": "[encoded data removed]",
      "text/plain": [
       "<Figure size 640x480 with 1 Axes>"
      ]
     },
     "metadata": {},
     "output_type": "display_data"
    }
   ],
   "source": [
    "#ROUND 2\n",
    "#use my earlier function to plot top 20 words for r/dataengineering\n",
    "feat_plot(d_sc, 'Top 20 words for r/datascience (cvec)', \"../data/feature_words_dsc.txt\")"
   ]
  },
  {
   "cell_type": "code",
   "execution_count": 88,
   "id": "e62f256c-5797-4d2d-9cd8-3e9cecf3cd94",
   "metadata": {},
   "outputs": [
    {
     "name": "stdout",
     "output_type": "stream",
     "text": [
      "No: of Feature Words: 15690\n",
      "sql            1918\n",
      "job            1761\n",
      "tool           1426\n",
      "engineer       1410\n",
      "table          1377\n",
      "good           1324\n",
      "python         1250\n",
      "code           1247\n",
      "engineering    1233\n",
      "people         1204\n",
      "pipeline       1186\n",
      "team           1114\n",
      "file            963\n",
      "project         948\n",
      "database        941\n",
      "something       939\n",
      "source          889\n",
      "cloud           881\n",
      "new             865\n",
      "well            858\n",
      "dtype: int64\n"
     ]
    },
    {
     "data": {
      "image/png": "[encoded data removed]",
      "text/plain": [
       "<Figure size 640x480 with 1 Axes>"
      ]
     },
     "metadata": {},
     "output_type": "display_data"
    }
   ],
   "source": [
    "#use my earlier function to plot top 20 words for r/dataengineering\n",
    "feat_plot(d_engr, 'Top 20 words for r/dataengineering (cvec)', \"../data/feature_words_dengr.txt\")"
   ]
  },
  {
   "cell_type": "markdown",
   "id": "2413fd1f-ded4-4484-a028-4b99d197e49b",
   "metadata": {},
   "source": [
    "#### Findings\n",
    "Regeneration of top words after filtering out stopwords allowed us to see a greater variety of text that of relevance. For data engineering especially, we see more terms specific to the specialization itself - 'cloud', 'database', 'pipeline' etc. This would be relevant to distinguishing both roles."
   ]
  },
  {
   "cell_type": "markdown",
   "id": "367057bf-6c61-45be-86e6-166b06d933a3",
   "metadata": {},
   "source": [
    "---\n",
    "### 2.2.6 Explore n-grams\n",
    "Create a function to get top words-groups for various n-grams"
   ]
  },
  {
   "cell_type": "code",
   "execution_count": 89,
   "id": "188f04b0-5700-4602-a058-32c06d1bbd61",
   "metadata": {},
   "outputs": [],
   "source": [
    "#Define the function for 2grams\n",
    "def two_gram(array):\n",
    "    # Setting the vectorizer\n",
    "    cvec = CountVectorizer(stop_words=final_stopwords, ngram_range=(2, 2))  # Missing closing parenthesis here\n",
    "    cvec.fit(array)\n",
    "    array_transformed = cvec.transform(array)\n",
    "\n",
    "    # Features with stopwords removed\n",
    "    feature_twograms = cvec.get_feature_names_out()\n",
    "\n",
    "    # File path where you want to save the feature words\n",
    "    file_path = f\"../data/feature_twograms.txt\"\n",
    "\n",
    "    # Create DataFrame with document-term matrix\n",
    "    array_df = pd.DataFrame(array_transformed.todense(), columns=feature_twograms)\n",
    "\n",
    "    # Calculate word frequencies and plot top occurring words\n",
    "    twogram_freq = array_df.sum().sort_values(ascending=False)\n",
    "    print(twogram_freq.head(20))\n",
    "    twogram_freq.head(20).plot(kind='barh')"
   ]
  },
  {
   "cell_type": "markdown",
   "id": "98e577bb-92db-4c52-b768-5bf70159fab3",
   "metadata": {},
   "source": [
    "#### r/datascience"
   ]
  },
  {
   "cell_type": "code",
   "execution_count": 90,
   "id": "2e307558-2e9c-4ae7-9683-811939c2a350",
   "metadata": {},
   "outputs": [],
   "source": [
    "d_sc_twogram = df_text[df_text['subreddit'] == 1]['lemmatized']"
   ]
  },
  {
   "cell_type": "code",
   "execution_count": 91,
   "id": "f3d54f35-6acd-45ef-afa4-23afa0970581",
   "metadata": {},
   "outputs": [
    {
     "name": "stdout",
     "output_type": "stream",
     "text": [
      "machine learning       371\n",
      "entry level            175\n",
      "job market             152\n",
      "computer science       148\n",
      "master degree          120\n",
      "deep learning          117\n",
      "linear algebra         115\n",
      "hiring manager         112\n",
      "good luck              108\n",
      "confidence interval    104\n",
      "open source             89\n",
      "real world              85\n",
      "neural network          81\n",
      "grad school             80\n",
      "power bi                79\n",
      "many people             79\n",
      "linear regression       76\n",
      "find job                75\n",
      "master program          74\n",
      "domain knowledge        73\n",
      "dtype: int64\n"
     ]
    },
    {
     "data": {
      "image/png": "[encoded data removed]",
      "text/plain": [
       "<Figure size 640x480 with 1 Axes>"
      ]
     },
     "metadata": {},
     "output_type": "display_data"
    }
   ],
   "source": [
    "#use function to get top twograms\n",
    "two_gram(d_sc_twogram)"
   ]
  },
  {
   "cell_type": "markdown",
   "id": "371f3495-aa66-4747-81aa-d3bb34cc384a",
   "metadata": {},
   "source": [
    "#### r/dataengineering"
   ]
  },
  {
   "cell_type": "code",
   "execution_count": 92,
   "id": "1279503f-2851-4506-9300-24428452aaee",
   "metadata": {},
   "outputs": [
    {
     "name": "stdout",
     "output_type": "stream",
     "text": [
      "open source             279\n",
      "power bi                186\n",
      "sql server              131\n",
      "ci cd                   126\n",
      "software engineering    117\n",
      "best practice           114\n",
      "software engineer       111\n",
      "tech stack              109\n",
      "python sql              108\n",
      "delta lake              101\n",
      "sql python               98\n",
      "star schema              83\n",
      "window function          81\n",
      "entry level              80\n",
      "bi tool                  80\n",
      "parquet file             79\n",
      "python script            78\n",
      "low code                 75\n",
      "sql query                74\n",
      "machine learning         69\n",
      "dtype: int64\n"
     ]
    },
    {
     "data": {
      "image/png": "[encoded data removed]",
      "text/plain": [
       "<Figure size 640x480 with 1 Axes>"
      ]
     },
     "metadata": {},
     "output_type": "display_data"
    }
   ],
   "source": [
    "d_engr_twogram = df_text[df_text['subreddit'] == 0]['lemmatized']\n",
    "two_gram(d_engr_twogram)"
   ]
  },
  {
   "cell_type": "markdown",
   "id": "632f9576-c7a9-4dd6-99a5-6b66b3a83987",
   "metadata": {},
   "source": [
    "The two-grams analysis of text proved to be interesting, it is able to highlight even more relevant pair-words. We see an increase in technical phrases that are specific to r/datascience and r/dataengineering. Examples are \"confidence interval\", \"linear regression\", \"power bi\", etc for data science, and \"ci cd\", \"parquet file\", \"star schema\", etc for data engineering. This would be useful to filter comments from people who have some idea of either roles, who participate in GA's future open discussion platform. This could help highlight people of higher interest, since they have done additional reading on their own to even know these terminologies.\n",
    "\n",
    "Additionally, in the plots above, we also see more generic phrases that would be useful to GA too."
   ]
  },
  {
   "cell_type": "markdown",
   "id": "80c6585d-30a3-4a1f-9bb4-5a1bc63ab8ef",
   "metadata": {},
   "source": [
    "---\n",
    "### 2.2.7 Adding on to stopwords list\n",
    "Based on reviewing the top words / twograms and making comparisen between subreddits, we can then select words which are irrelevant or too common between both subreddits and add these words to stopwords:"
   ]
  },
  {
   "cell_type": "code",
   "execution_count": 93,
   "id": "4d66c9db-8d69-470a-b549-46a9a647df1d",
   "metadata": {
    "scrolled": true
   },
   "outputs": [
    {
     "data": {
      "text/plain": [
       "179"
      ]
     },
     "execution_count": 93,
     "metadata": {},
     "output_type": "execute_result"
    }
   ],
   "source": [
    "# Print original list of English stopwords.\n",
    "og_stopwords = stopwords.words(\"english\")\n",
    "og_stopwords = [word.replace(\"'\", \"\") for word in og_stopwords]\n",
    "len(og_stopwords)"
   ]
  },
  {
   "cell_type": "code",
   "execution_count": 94,
   "id": "c2d0b7e3-17e8-42dd-985f-444bd40516f6",
   "metadata": {},
   "outputs": [],
   "source": [
    "#Add on new stopwords + similar_words to list\n",
    "new_stopwords = ['wa', 'year', 'want', 'know', 'use', 'need', 'like', 'im', 'would', 'get', 'also',\n",
    "                'one', 'using', 'ive', 'ha', 'de', 'even', 'lot', 'data', 'company', 'work', 'time', 'job'\n",
    "                'python', 'make', 'think', 'thing', 'could', 'engineer', 'engineering', 'science', 'wa', 'like', 'just',\n",
    "                'project', 'doe', 'experience', 'really', 'much', 'way'] "
   ]
  },
  {
   "cell_type": "code",
   "execution_count": 95,
   "id": "c6ffbac0-5bab-4070-8cd8-52652fc2c6de",
   "metadata": {},
   "outputs": [],
   "source": [
    "final_stopwords = og_stopwords + new_stopwords"
   ]
  },
  {
   "cell_type": "code",
   "execution_count": 96,
   "id": "04a6d39c-aa8f-4389-93e0-5ccab0a76455",
   "metadata": {
    "scrolled": true
   },
   "outputs": [
    {
     "data": {
      "text/plain": [
       "218"
      ]
     },
     "execution_count": 96,
     "metadata": {},
     "output_type": "execute_result"
    }
   ],
   "source": [
    "len(final_stopwords)"
   ]
  },
  {
   "cell_type": "code",
   "execution_count": 97,
   "id": "8f0b1160-eb9f-4607-869f-b3355decced7",
   "metadata": {},
   "outputs": [],
   "source": [
    "# Save the array of stopwords to txt file\n",
    "file_path = \"../data/final_stopwords.txt\"\n",
    "np.savetxt(file_path, final_stopwords, fmt=\"%s\", delimiter=\" \")"
   ]
  },
  {
   "cell_type": "markdown",
   "id": "dd8d9e1b-1ca5-4e3c-923c-1eeda4d60408",
   "metadata": {},
   "source": [
    "---\n",
    "## 2.3 Sentiment Analysis"
   ]
  },
  {
   "cell_type": "code",
   "execution_count": 98,
   "id": "1d7d2d2e-8625-4516-8136-cdbdbcc0e066",
   "metadata": {
    "scrolled": true
   },
   "outputs": [
    {
     "name": "stdout",
     "output_type": "stream",
     "text": [
      "(1000, 2)\n"
     ]
    },
    {
     "data": {
      "text/html": [
       "<div>\n",
       "<style scoped>\n",
       "    .dataframe tbody tr th:only-of-type {\n",
       "        vertical-align: middle;\n",
       "    }\n",
       "\n",
       "    .dataframe tbody tr th {\n",
       "        vertical-align: top;\n",
       "    }\n",
       "\n",
       "    .dataframe thead th {\n",
       "        text-align: right;\n",
       "    }\n",
       "</style>\n",
       "<table border=\"1\" class=\"dataframe\">\n",
       "  <thead>\n",
       "    <tr style=\"text-align: right;\">\n",
       "      <th></th>\n",
       "      <th>subreddit</th>\n",
       "      <th>title_selftext</th>\n",
       "    </tr>\n",
       "  </thead>\n",
       "  <tbody>\n",
       "    <tr>\n",
       "      <th>2938</th>\n",
       "      <td>1</td>\n",
       "      <td>you will go far with that attitude</td>\n",
       "    </tr>\n",
       "    <tr>\n",
       "      <th>364</th>\n",
       "      <td>1</td>\n",
       "      <td>best resources to learn about etl pipelines  i...</td>\n",
       "    </tr>\n",
       "    <tr>\n",
       "      <th>9</th>\n",
       "      <td>1</td>\n",
       "      <td>disaster job or imposter syndrome  hi all  for...</td>\n",
       "    </tr>\n",
       "    <tr>\n",
       "      <th>6515</th>\n",
       "      <td>1</td>\n",
       "      <td>is great as long as you leave it out of any pr...</td>\n",
       "    </tr>\n",
       "    <tr>\n",
       "      <th>293</th>\n",
       "      <td>1</td>\n",
       "      <td>harnham released their data salary findings fo...</td>\n",
       "    </tr>\n",
       "  </tbody>\n",
       "</table>\n",
       "</div>"
      ],
      "text/plain": [
       "      subreddit                                     title_selftext\n",
       "2938          1                 you will go far with that attitude\n",
       "364           1  best resources to learn about etl pipelines  i...\n",
       "9             1  disaster job or imposter syndrome  hi all  for...\n",
       "6515          1  is great as long as you leave it out of any pr...\n",
       "293           1  harnham released their data salary findings fo..."
      ]
     },
     "execution_count": 98,
     "metadata": {},
     "output_type": "execute_result"
    }
   ],
   "source": [
    "sentm_analysis_dsc = df_text[df_text['subreddit'] == 1][['subreddit', 'title_selftext']].sample(n=1000, random_state=42)\n",
    "print(sentm_analysis_dsc.shape)\n",
    "sentm_analysis_dsc.head()"
   ]
  },
  {
   "cell_type": "code",
   "execution_count": 99,
   "id": "a59b917b-8d6e-4490-adb0-8d3e70cd6761",
   "metadata": {
    "scrolled": true
   },
   "outputs": [
    {
     "name": "stdout",
     "output_type": "stream",
     "text": [
      "(1000, 2)\n"
     ]
    },
    {
     "data": {
      "text/html": [
       "<div>\n",
       "<style scoped>\n",
       "    .dataframe tbody tr th:only-of-type {\n",
       "        vertical-align: middle;\n",
       "    }\n",
       "\n",
       "    .dataframe tbody tr th {\n",
       "        vertical-align: top;\n",
       "    }\n",
       "\n",
       "    .dataframe thead th {\n",
       "        text-align: right;\n",
       "    }\n",
       "</style>\n",
       "<table border=\"1\" class=\"dataframe\">\n",
       "  <thead>\n",
       "    <tr style=\"text-align: right;\">\n",
       "      <th></th>\n",
       "      <th>subreddit</th>\n",
       "      <th>title_selftext</th>\n",
       "    </tr>\n",
       "  </thead>\n",
       "  <tbody>\n",
       "    <tr>\n",
       "      <th>5621</th>\n",
       "      <td>0</td>\n",
       "      <td>no you are right mike  guessed that by your us...</td>\n",
       "    </tr>\n",
       "    <tr>\n",
       "      <th>5527</th>\n",
       "      <td>0</td>\n",
       "      <td>noted  do you suggest any reasons please</td>\n",
       "    </tr>\n",
       "    <tr>\n",
       "      <th>7515</th>\n",
       "      <td>0</td>\n",
       "      <td>i enjoy coding and building real software muc...</td>\n",
       "    </tr>\n",
       "    <tr>\n",
       "      <th>1213</th>\n",
       "      <td>0</td>\n",
       "      <td>yeah probablythe same i had faced in the past ...</td>\n",
       "    </tr>\n",
       "    <tr>\n",
       "      <th>9422</th>\n",
       "      <td>0</td>\n",
       "      <td>love that there is a term for this</td>\n",
       "    </tr>\n",
       "  </tbody>\n",
       "</table>\n",
       "</div>"
      ],
      "text/plain": [
       "      subreddit                                     title_selftext\n",
       "5621          0  no you are right mike  guessed that by your us...\n",
       "5527          0          noted  do you suggest any reasons please \n",
       "7515          0   i enjoy coding and building real software muc...\n",
       "1213          0  yeah probablythe same i had faced in the past ...\n",
       "9422          0              love that there is a term for this   "
      ]
     },
     "execution_count": 99,
     "metadata": {},
     "output_type": "execute_result"
    }
   ],
   "source": [
    "sentm_analysis_dengr = df_text[df_text['subreddit'] == 0][['subreddit', 'title_selftext']].sample(n=1000, random_state=42)\n",
    "print(sentm_analysis_dengr.shape)\n",
    "sentm_analysis_dengr.head()"
   ]
  },
  {
   "cell_type": "code",
   "execution_count": 100,
   "id": "6f8b18ba-51b2-4062-bbd6-855b3883f5cc",
   "metadata": {},
   "outputs": [],
   "source": [
    "analyzer = SentimentIntensityAnalyzer()"
   ]
  },
  {
   "cell_type": "code",
   "execution_count": 101,
   "id": "b0d4eba0-9a5e-4dce-ab79-fbb8c415025a",
   "metadata": {},
   "outputs": [],
   "source": [
    "# Function to calculate sentiment compound score\n",
    "def calc_sentiment(text):\n",
    "    scores = analyzer.polarity_scores(text)\n",
    "    return scores['compound']"
   ]
  },
  {
   "cell_type": "code",
   "execution_count": 102,
   "id": "b74aad62-b11e-4eea-9dc6-9ad59cbaeb3f",
   "metadata": {},
   "outputs": [],
   "source": [
    "#feature engineer a column for sentiment score\n",
    "sentm_analysis_dsc['sentiment_score'] = sentm_analysis_dsc['title_selftext'].apply(calc_sentiment)\n",
    "sentm_analysis_dengr['sentiment_score'] = sentm_analysis_dengr['title_selftext'].apply(calc_sentiment)"
   ]
  },
  {
   "cell_type": "code",
   "execution_count": 103,
   "id": "a43b38ad-fb50-4dcd-b5b7-8200b3d8f207",
   "metadata": {},
   "outputs": [],
   "source": [
    "def is_positive(df):\n",
    "    threshold = 0.05\n",
    "    df['is_positive'] = df['sentiment_score'].apply(lambda score: 1 if score > threshold else 0)"
   ]
  },
  {
   "cell_type": "code",
   "execution_count": 104,
   "id": "810a7661-8b0d-4314-a567-5b386312319d",
   "metadata": {},
   "outputs": [],
   "source": [
    "is_positive(sentm_analysis_dsc)\n",
    "is_positive(sentm_analysis_dengr)"
   ]
  },
  {
   "cell_type": "code",
   "execution_count": 105,
   "id": "8836d7d2-da2c-4d50-aee7-2b7d615d8ba7",
   "metadata": {},
   "outputs": [
    {
     "data": {
      "text/html": [
       "<div>\n",
       "<style scoped>\n",
       "    .dataframe tbody tr th:only-of-type {\n",
       "        vertical-align: middle;\n",
       "    }\n",
       "\n",
       "    .dataframe tbody tr th {\n",
       "        vertical-align: top;\n",
       "    }\n",
       "\n",
       "    .dataframe thead th {\n",
       "        text-align: right;\n",
       "    }\n",
       "</style>\n",
       "<table border=\"1\" class=\"dataframe\">\n",
       "  <thead>\n",
       "    <tr style=\"text-align: right;\">\n",
       "      <th></th>\n",
       "      <th>subreddit</th>\n",
       "      <th>title_selftext</th>\n",
       "      <th>sentiment_score</th>\n",
       "      <th>is_positive</th>\n",
       "    </tr>\n",
       "  </thead>\n",
       "  <tbody>\n",
       "    <tr>\n",
       "      <th>2938</th>\n",
       "      <td>1</td>\n",
       "      <td>you will go far with that attitude</td>\n",
       "      <td>0.0000</td>\n",
       "      <td>0</td>\n",
       "    </tr>\n",
       "    <tr>\n",
       "      <th>364</th>\n",
       "      <td>1</td>\n",
       "      <td>best resources to learn about etl pipelines  i...</td>\n",
       "      <td>0.9601</td>\n",
       "      <td>1</td>\n",
       "    </tr>\n",
       "    <tr>\n",
       "      <th>9</th>\n",
       "      <td>1</td>\n",
       "      <td>disaster job or imposter syndrome  hi all  for...</td>\n",
       "      <td>0.9932</td>\n",
       "      <td>1</td>\n",
       "    </tr>\n",
       "    <tr>\n",
       "      <th>6515</th>\n",
       "      <td>1</td>\n",
       "      <td>is great as long as you leave it out of any pr...</td>\n",
       "      <td>0.5994</td>\n",
       "      <td>1</td>\n",
       "    </tr>\n",
       "    <tr>\n",
       "      <th>293</th>\n",
       "      <td>1</td>\n",
       "      <td>harnham released their data salary findings fo...</td>\n",
       "      <td>0.7783</td>\n",
       "      <td>1</td>\n",
       "    </tr>\n",
       "  </tbody>\n",
       "</table>\n",
       "</div>"
      ],
      "text/plain": [
       "      subreddit                                     title_selftext  \\\n",
       "2938          1                 you will go far with that attitude   \n",
       "364           1  best resources to learn about etl pipelines  i...   \n",
       "9             1  disaster job or imposter syndrome  hi all  for...   \n",
       "6515          1  is great as long as you leave it out of any pr...   \n",
       "293           1  harnham released their data salary findings fo...   \n",
       "\n",
       "      sentiment_score  is_positive  \n",
       "2938           0.0000            0  \n",
       "364            0.9601            1  \n",
       "9              0.9932            1  \n",
       "6515           0.5994            1  \n",
       "293            0.7783            1  "
      ]
     },
     "execution_count": 105,
     "metadata": {},
     "output_type": "execute_result"
    }
   ],
   "source": [
    "sentm_analysis_dsc.head()"
   ]
  },
  {
   "cell_type": "code",
   "execution_count": 106,
   "id": "e8d73b1f-3bd2-4746-8d99-de71d24b723d",
   "metadata": {},
   "outputs": [
    {
     "data": {
      "text/html": [
       "<div>\n",
       "<style scoped>\n",
       "    .dataframe tbody tr th:only-of-type {\n",
       "        vertical-align: middle;\n",
       "    }\n",
       "\n",
       "    .dataframe tbody tr th {\n",
       "        vertical-align: top;\n",
       "    }\n",
       "\n",
       "    .dataframe thead th {\n",
       "        text-align: right;\n",
       "    }\n",
       "</style>\n",
       "<table border=\"1\" class=\"dataframe\">\n",
       "  <thead>\n",
       "    <tr style=\"text-align: right;\">\n",
       "      <th></th>\n",
       "      <th>subreddit</th>\n",
       "      <th>title_selftext</th>\n",
       "      <th>sentiment_score</th>\n",
       "      <th>is_positive</th>\n",
       "    </tr>\n",
       "  </thead>\n",
       "  <tbody>\n",
       "    <tr>\n",
       "      <th>5621</th>\n",
       "      <td>0</td>\n",
       "      <td>no you are right mike  guessed that by your us...</td>\n",
       "      <td>-0.7096</td>\n",
       "      <td>0</td>\n",
       "    </tr>\n",
       "    <tr>\n",
       "      <th>5527</th>\n",
       "      <td>0</td>\n",
       "      <td>noted  do you suggest any reasons please</td>\n",
       "      <td>0.3182</td>\n",
       "      <td>1</td>\n",
       "    </tr>\n",
       "    <tr>\n",
       "      <th>7515</th>\n",
       "      <td>0</td>\n",
       "      <td>i enjoy coding and building real software muc...</td>\n",
       "      <td>0.3353</td>\n",
       "      <td>1</td>\n",
       "    </tr>\n",
       "    <tr>\n",
       "      <th>1213</th>\n",
       "      <td>0</td>\n",
       "      <td>yeah probablythe same i had faced in the past ...</td>\n",
       "      <td>0.7003</td>\n",
       "      <td>1</td>\n",
       "    </tr>\n",
       "    <tr>\n",
       "      <th>9422</th>\n",
       "      <td>0</td>\n",
       "      <td>love that there is a term for this</td>\n",
       "      <td>0.6369</td>\n",
       "      <td>1</td>\n",
       "    </tr>\n",
       "  </tbody>\n",
       "</table>\n",
       "</div>"
      ],
      "text/plain": [
       "      subreddit                                     title_selftext  \\\n",
       "5621          0  no you are right mike  guessed that by your us...   \n",
       "5527          0          noted  do you suggest any reasons please    \n",
       "7515          0   i enjoy coding and building real software muc...   \n",
       "1213          0  yeah probablythe same i had faced in the past ...   \n",
       "9422          0              love that there is a term for this      \n",
       "\n",
       "      sentiment_score  is_positive  \n",
       "5621          -0.7096            0  \n",
       "5527           0.3182            1  \n",
       "7515           0.3353            1  \n",
       "1213           0.7003            1  \n",
       "9422           0.6369            1  "
      ]
     },
     "execution_count": 106,
     "metadata": {},
     "output_type": "execute_result"
    }
   ],
   "source": [
    "sentm_analysis_dengr.head()"
   ]
  },
  {
   "cell_type": "code",
   "execution_count": 107,
   "id": "3d0cd3e5-aa76-4912-a10c-b871de598577",
   "metadata": {},
   "outputs": [
    {
     "data": {
      "text/html": [
       "<div>\n",
       "<style scoped>\n",
       "    .dataframe tbody tr th:only-of-type {\n",
       "        vertical-align: middle;\n",
       "    }\n",
       "\n",
       "    .dataframe tbody tr th {\n",
       "        vertical-align: top;\n",
       "    }\n",
       "\n",
       "    .dataframe thead th {\n",
       "        text-align: right;\n",
       "    }\n",
       "</style>\n",
       "<table border=\"1\" class=\"dataframe\">\n",
       "  <thead>\n",
       "    <tr style=\"text-align: right;\">\n",
       "      <th></th>\n",
       "      <th>subreddit</th>\n",
       "      <th>sentiment_score</th>\n",
       "      <th>is_positive</th>\n",
       "    </tr>\n",
       "  </thead>\n",
       "  <tbody>\n",
       "    <tr>\n",
       "      <th>count</th>\n",
       "      <td>1000.0</td>\n",
       "      <td>1000.000000</td>\n",
       "      <td>1000.00000</td>\n",
       "    </tr>\n",
       "    <tr>\n",
       "      <th>mean</th>\n",
       "      <td>1.0</td>\n",
       "      <td>0.314766</td>\n",
       "      <td>0.64000</td>\n",
       "    </tr>\n",
       "    <tr>\n",
       "      <th>std</th>\n",
       "      <td>0.0</td>\n",
       "      <td>0.466378</td>\n",
       "      <td>0.48024</td>\n",
       "    </tr>\n",
       "    <tr>\n",
       "      <th>min</th>\n",
       "      <td>1.0</td>\n",
       "      <td>-0.990200</td>\n",
       "      <td>0.00000</td>\n",
       "    </tr>\n",
       "    <tr>\n",
       "      <th>25%</th>\n",
       "      <td>1.0</td>\n",
       "      <td>0.000000</td>\n",
       "      <td>0.00000</td>\n",
       "    </tr>\n",
       "    <tr>\n",
       "      <th>50%</th>\n",
       "      <td>1.0</td>\n",
       "      <td>0.364450</td>\n",
       "      <td>1.00000</td>\n",
       "    </tr>\n",
       "    <tr>\n",
       "      <th>75%</th>\n",
       "      <td>1.0</td>\n",
       "      <td>0.726900</td>\n",
       "      <td>1.00000</td>\n",
       "    </tr>\n",
       "    <tr>\n",
       "      <th>max</th>\n",
       "      <td>1.0</td>\n",
       "      <td>0.999600</td>\n",
       "      <td>1.00000</td>\n",
       "    </tr>\n",
       "  </tbody>\n",
       "</table>\n",
       "</div>"
      ],
      "text/plain": [
       "       subreddit  sentiment_score  is_positive\n",
       "count     1000.0      1000.000000   1000.00000\n",
       "mean         1.0         0.314766      0.64000\n",
       "std          0.0         0.466378      0.48024\n",
       "min          1.0        -0.990200      0.00000\n",
       "25%          1.0         0.000000      0.00000\n",
       "50%          1.0         0.364450      1.00000\n",
       "75%          1.0         0.726900      1.00000\n",
       "max          1.0         0.999600      1.00000"
      ]
     },
     "execution_count": 107,
     "metadata": {},
     "output_type": "execute_result"
    }
   ],
   "source": [
    "sentm_analysis_dsc.describe()"
   ]
  },
  {
   "cell_type": "code",
   "execution_count": 108,
   "id": "fd6d8ecc-a082-4835-b3e2-c18907a55967",
   "metadata": {},
   "outputs": [
    {
     "data": {
      "text/html": [
       "<div>\n",
       "<style scoped>\n",
       "    .dataframe tbody tr th:only-of-type {\n",
       "        vertical-align: middle;\n",
       "    }\n",
       "\n",
       "    .dataframe tbody tr th {\n",
       "        vertical-align: top;\n",
       "    }\n",
       "\n",
       "    .dataframe thead th {\n",
       "        text-align: right;\n",
       "    }\n",
       "</style>\n",
       "<table border=\"1\" class=\"dataframe\">\n",
       "  <thead>\n",
       "    <tr style=\"text-align: right;\">\n",
       "      <th></th>\n",
       "      <th>subreddit</th>\n",
       "      <th>sentiment_score</th>\n",
       "      <th>is_positive</th>\n",
       "    </tr>\n",
       "  </thead>\n",
       "  <tbody>\n",
       "    <tr>\n",
       "      <th>count</th>\n",
       "      <td>1000.0</td>\n",
       "      <td>1000.000000</td>\n",
       "      <td>1000.000000</td>\n",
       "    </tr>\n",
       "    <tr>\n",
       "      <th>mean</th>\n",
       "      <td>0.0</td>\n",
       "      <td>0.309614</td>\n",
       "      <td>0.633000</td>\n",
       "    </tr>\n",
       "    <tr>\n",
       "      <th>std</th>\n",
       "      <td>0.0</td>\n",
       "      <td>0.462803</td>\n",
       "      <td>0.482228</td>\n",
       "    </tr>\n",
       "    <tr>\n",
       "      <th>min</th>\n",
       "      <td>0.0</td>\n",
       "      <td>-0.959200</td>\n",
       "      <td>0.000000</td>\n",
       "    </tr>\n",
       "    <tr>\n",
       "      <th>25%</th>\n",
       "      <td>0.0</td>\n",
       "      <td>0.000000</td>\n",
       "      <td>0.000000</td>\n",
       "    </tr>\n",
       "    <tr>\n",
       "      <th>50%</th>\n",
       "      <td>0.0</td>\n",
       "      <td>0.361200</td>\n",
       "      <td>1.000000</td>\n",
       "    </tr>\n",
       "    <tr>\n",
       "      <th>75%</th>\n",
       "      <td>0.0</td>\n",
       "      <td>0.712125</td>\n",
       "      <td>1.000000</td>\n",
       "    </tr>\n",
       "    <tr>\n",
       "      <th>max</th>\n",
       "      <td>0.0</td>\n",
       "      <td>0.995500</td>\n",
       "      <td>1.000000</td>\n",
       "    </tr>\n",
       "  </tbody>\n",
       "</table>\n",
       "</div>"
      ],
      "text/plain": [
       "       subreddit  sentiment_score  is_positive\n",
       "count     1000.0      1000.000000  1000.000000\n",
       "mean         0.0         0.309614     0.633000\n",
       "std          0.0         0.462803     0.482228\n",
       "min          0.0        -0.959200     0.000000\n",
       "25%          0.0         0.000000     0.000000\n",
       "50%          0.0         0.361200     1.000000\n",
       "75%          0.0         0.712125     1.000000\n",
       "max          0.0         0.995500     1.000000"
      ]
     },
     "execution_count": 108,
     "metadata": {},
     "output_type": "execute_result"
    }
   ],
   "source": [
    "sentm_analysis_dengr.describe()"
   ]
  },
  {
   "cell_type": "markdown",
   "id": "bd60f38b-9319-4a52-b583-14d409fc7f0e",
   "metadata": {},
   "source": [
    "##### Findings"
   ]
  },
  {
   "cell_type": "markdown",
   "id": "f837a1ea-43f8-47cd-88e6-14a305abba86",
   "metadata": {},
   "source": [
    "While our problem statement only requires us to develop a natural language processing (NLP) model that can automatically classify comments into two distinct categories of Data Science and Data Engineering, sentiment analysis would be able to provide further insights on the demand for a new data engineering course. <br>\n",
    "\n",
    "This quick sentiment analysis study shows that the comments and posts in the subreddits had an average sentiment of 64% and 63% positive sentiments for data science and engineering respectively. This is good for GA, as it shows that people currently working or are planning to work in these fields are positive about the roles as a whole (as compared to other industries where subreddits are visibly and mostly negative). <br>\n",
    "\n",
    "However, this quick study was just to provide an idea on sentiments, a more detailed sentiment analysis should be done. Reliability of VADER has to be established, possibly by manually reviewing a sample of VADER's classifications to ensure accuracy."
   ]
  },
  {
   "cell_type": "markdown",
   "id": "1aa8ce3c-bda4-42fb-9532-51144c5679c6",
   "metadata": {},
   "source": [
    "---\n",
    "## 2.4 Notebook Summary"
   ]
  },
  {
   "cell_type": "markdown",
   "id": "29d848b4-8d43-4993-8b5d-c4c971a8c508",
   "metadata": {},
   "source": [
    "#### Data Inspection and Cleaning\n",
    "* In notebook 2, data inspection and cleaning was done first. General cleaning (missing values, duplicates) and text-based cleaning was done. Some of the text-based cleaning includes lowercasing the data, removing Puncuatations, removing Numbers, removing extra space, replacing the repetitions of punctations, removing emojis, emoticons, removing http links, converting contractions.\n",
    "* These cleaning processes are crucial to remove as much noise as possible, to allow our model to identify stronger text relationships to our subreddits. At the end of cleaning, we arrived at a dataset of 25502 posts/comments (datascience: 13052, dataengineering: 12450).\n",
    "\n",
    "#### EDA\n",
    "* EDA was split into 3 main sections: Post Attributes-related, Text-related, Sentiment Analysis. Below are some insights gained from the respective sections.\n",
    "  \n",
    "##### Post Attributes-related\n",
    "* r/dataengineering seems to have slightly more recent activity (more edited, saved, stickied posts) - As data engineering is the newer branch of data science, there could be more interest and discussion around it.\n",
    "* r/datascience has more unique authors than r/dataengineering (852 users vs 776 users) - likely because data science is the more established field which people would be more familiar with.\n",
    "* r/datascience seems to have more posts with higher scores than r/dataengineering. But r/dataengineering has a larger proportion of posts with upvote ratio above 0.5, meaning more posts have scores > 0.\n",
    "* For both r/datascience and r/dataengineering, the top category was 'Discussion'. This reinforces the GA team's plans to set up a discussion channel to gather feedback and queries from potential students, since there is interest to have further discussions on both r/datascience and r/dataengineering.\n",
    "\n",
    "\n",
    "##### Text-related\n",
    "* Top 20 words, and two-grams were extracted for both subreddits\n",
    "* We see some technical terms being highlighted for each subreddit's text, examples are \"python\", \"confidence interval\", \"linear regression\", \"power bi\", etc for data science, and \"sql\", \"ci cd\", \"parquet file\", \"star schema\", etc for data engineering. This could help GA highlight people of higher interest, since we can infer that people who use these words on GA's discussion platform are likely to have done additional reading on their own to even know these terminologies.\n",
    "* We also analysed for similar words between both subreddits, these words were added to stopwords to reduce noise during training of our model later on.\n",
    "\n",
    "##### Sentiment Analysis\n",
    "* Comments and posts in the subreddits had an average sentiment of 64% and 63% positive sentiments for data science and engineering respectively\n",
    "* This is good for GA, as it shows that people currently working or are planning to work in these fields are positive about the roles as a whole (as compared to other industries where subreddits are visibly and mostly negative). We can expect an increase in people interested to do a bootcamp to enter these roles.\n",
    "\n",
    "\n",
    "*Is EDA enough to address our problem statement?*<br>\n",
    "Upon concluding EDA, we have gained initial insights into the levels of interest in data science and data engineering. This aids General Assembly in solidifying the value proposition of establishing a discussion platform for existing students and prospective individuals keen on enrolling in GA bootcamps. However, in order to fully address the root concern that sorting and categorizing comments from the discussion platform would be time-consuming and impractical if done manually, we would still need to develop a natural language processing (NLP) model that can automatically classify the comments into two distinct categories: Data Science and Data Engineering. Only after modelling would we be able to meet the main objective of the problem statement."
   ]
  },
  {
   "cell_type": "code",
   "execution_count": null,
   "id": "134d8423-a0fb-4d67-82d5-d799df69f603",
   "metadata": {},
   "outputs": [],
   "source": []
  }
 ],
 "metadata": {
  "kernelspec": {
   "display_name": "Python 3 (ipykernel)",
   "language": "python",
   "name": "python3"
  },
  "language_info": {
   "codemirror_mode": {
    "name": "ipython",
    "version": 3
   },
   "file_extension": ".py",
   "mimetype": "text/x-python",
   "name": "python",
   "nbconvert_exporter": "python",
   "pygments_lexer": "ipython3",
   "version": "3.8.17"
  }
 },
 "nbformat": 4,
 "nbformat_minor": 5
}
