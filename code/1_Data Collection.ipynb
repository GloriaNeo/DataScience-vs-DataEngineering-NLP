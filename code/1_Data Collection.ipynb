{
 "cells": [
  {
   "cell_type": "markdown",
   "id": "691d10ec-3073-4d4c-8db8-882990bdf735",
   "metadata": {},
   "source": [
    "# Project 3: Web APIs & NLP"
   ]
  },
  {
   "cell_type": "markdown",
   "id": "a3a910b2-de62-4c03-ba4b-3e3b3da71295",
   "metadata": {},
   "source": [
    "---\n",
    "# Part 1 - Data Collection\n",
    "### Notebook 1 - Contents:\n",
    "[1.1 Context](#1.1-Context)<br>\n",
    "[1.2 Problem Statement](#1.2-Problem-Statement)<br>\n",
    "[1.3 Data Dictionary](#1.3-Data-Dictionary)<br>\n",
    "[1.4 Data Collection](#1.4-Data-Collection)<br>\n",
    "[1.5 Notebook Summary](#1.5-Notebook-Summary)"
   ]
  },
  {
   "cell_type": "markdown",
   "id": "0f27e745-1956-4cfb-9e77-281c155b292c",
   "metadata": {},
   "source": [
    "---\n",
    "# 1.1 Context"
   ]
  },
  {
   "cell_type": "markdown",
   "id": "06c3f356-f6f3-48fd-961c-3e5f45b47efc",
   "metadata": {},
   "source": [
    "The field of data science has witnessed remarkable growth and popularity as organizations increasingly rely on data-driven decision-making across diverse industries. This surge has led to the [emergence of new roles and specializations](https://www.datacamp.com/blog/data-scientist-vs-data-engineer) within the data domain, including data engineering. Data engineering is a critical function that involves the collection, processing, and organization of vast volumes of data, facilitating data scientists in extracting valuable insights and building impactful models.\n",
    "\n",
    "However, there is a growing challenge in distinguishing between data science and data engineering roles, as their job requirements, skills, and educational qualifications often overlap. Job postings for these roles may present confusion, making it difficult for individuals to accurately classify data science and data engineering responsibilities. [The lines between these two roles are often blurred](https://datascience.virginia.edu/news/data-science-vs-data-engineering), leading to a lack of clarity for both job seekers and employers. Additionally, it is worse for people new to the industry, trying to enter the field of data."
   ]
  },
  {
   "cell_type": "markdown",
   "id": "867b73ca-dab6-4c66-9b2b-8b7a4f2586df",
   "metadata": {},
   "source": [
    "# 1.2 Problem Statement\n"
   ]
  },
  {
   "cell_type": "markdown",
   "id": "a8443bb8-33ae-4b59-bca9-01a0b57c27ab",
   "metadata": {},
   "source": [
    "You are a member of the General Assembly (GA) team, responsible for evaluating the need for a new Data Engineering Immersive Course. To gain valuable insights and understand the demand for such a program, GA has plans to set up a discussion channel to gather feedback and queries from potential students. For internal analysis, the team hopes to categorize the comments and queries into the categories of data science or data engineering. This sorting and categorizing could be time-consuming and impractical if done manually.\n",
    "\n",
    "To address this challenge, your objective is to **develop a natural language processing (NLP) model that can automatically classify the comments into two distinct categories: Data Science and Data Engineering**. This could help the team gain insights on the demand for each specialization and guide your decision-making process in setting up the new Data Engineering Immersive Course. We will be training and testing our NLP models using Reddit, through 2 subreddits r/datascience and r/dataengineering. Further investigations - **sentiment analysis** on the comments would also allow us to gain insights into the attitudes and perceptions of potential students towards each specialization. "
   ]
  },
  {
   "cell_type": "markdown",
   "id": "3595611a-a0e8-4b7c-84ee-2f448436be47",
   "metadata": {},
   "source": [
    "### Model and Success Evaluation"
   ]
  },
  {
   "cell_type": "markdown",
   "id": "6981616b-aba7-4463-8cab-e010c9a24a4e",
   "metadata": {},
   "source": [
    "In order to sort text-based comments/queries into two distinct categories, we will be using several models that are appropriate for binary classification of text. The model selection process involves weighing the trade-offs between simplicity and complexity, considering factors like interpretability and computational efficiency. Various models, such as Logistic Regression, Naive Bayes, Random Forests, ADABoost and Support Vector Machines will be used for this task. <br>\n",
    "\n",
    "We will then use accuracy and F1 score to evaluate the models. Model and success evaluation will be further discussed in notebook 3."
   ]
  },
  {
   "cell_type": "markdown",
   "id": "f68764fd-5d4f-4c88-b3c1-4a9f3ed02b95",
   "metadata": {},
   "source": [
    "---\n",
    "# 1.3 Data Dictionary"
   ]
  },
  {
   "cell_type": "markdown",
   "id": "b0cf7e5c-a7fc-452b-8a6f-44fccc2235f5",
   "metadata": {},
   "source": [
    "Two subreddits:\n",
    "\n",
    "* [Subreddit: r/datascience](https://www.reddit.com/r/datascience/)\n",
    "* [Subreddit: r/dataengineering](https://www.reddit.com/r/dataengineering/)\n",
    "\n",
    "\n",
    "The posts and comments were scraped separately for each subreddit, and exported into 4 csv files in total:\n",
    "* [`data_sc.csv`](./data/data_sc.csv): Posts from subreddit r/datascience\n",
    "* [`data_sc_comm.csv`](./data/data_sc_comm.csv): Comments from subreddit r/datascience\n",
    "* [`data_engr.csv`](./data/data_engr.csv): Posts from subreddit r/dataengineering\n",
    "* [`data_engr_comm.csv`](./data/data_engr_comm.csv): Comments from subreddit r/dataengineering\n",
    "\n",
    "The cleaned data (from both subreddits) was exported for modelling:\n",
    "* [`df_text.csv`](./data/df_text.csv): Cleaned and combined text data\n",
    "\n",
    "From the subreddits, these were the attributes that were pulled to conduct EDA and modelling:\n",
    "|**Attributes**|Description|\n",
    "|----|----|\n",
    "|title|The title of the submission.|\n",
    "|id|ID of the submission.|\n",
    "|author|Provides an instance of Redditor.|\n",
    "|created_utc|Time the submission was created, represented in Unix Time.|\n",
    "|edited|Whether or not the submission has been edited.|\n",
    "|is_self|Whether or not the submission is a selfpost (text-only).|\n",
    "|link_flair_text|The link flair’s text content, or None if not flaired.|\n",
    "|num_comments|The number of comments on the submission.|\n",
    "|saved|Whether or not the submission is saved.|\n",
    "|score|The number of upvotes for the submission.|\n",
    "|selftext|The submissions’ selftext - an empty string if a link post.|\n",
    "|stickied|Whether or not the submission is stickied.|\n",
    "|upvote_ratio|The percentage of upvotes from all votes on the submission.|\n",
    "|url|The URL the submission links to, or the permalink if a selfpost.|\n",
    "|subreddit|Provides an instance of Subreddit.|\n",
    "|title_selftext|Feature Engineered column merging title and selftext.|\n",
    "\n",
    "---"
   ]
  },
  {
   "cell_type": "markdown",
   "id": "8daa04db-4ed3-4fee-a495-d8df337aa790",
   "metadata": {},
   "source": [
    "# 1.4 Data Collection\n",
    " PRAW: The Python Reddit API Wrapper\n",
    "---"
   ]
  },
  {
   "cell_type": "markdown",
   "id": "6694c209-20eb-40f4-9a0a-adda6ca31fd9",
   "metadata": {},
   "source": [
    "PRAW is a Python library that provides a simple and convenient way to interact with the Reddit API. Praw allows developers to access various functionalities of Reddit, such as retrieving posts and comments, submitting new posts, voting on content, and more.\n",
    "\n",
    "For data collection, a function was created to pull all posts from r/datascience and r/dataengineering. Later on, it was realised that reddit had limited post availability of each subreddit to max 1000 posts. I managed to pull 961 and 963 posts respectively.<br>\n",
    "Another function was then created to pull comments from both subreddits. 12403 and 11740 comments were pulled for r/datascience and r/dataengineering respectively."
   ]
  },
  {
   "cell_type": "markdown",
   "id": "044c9e3c-72f7-4864-806a-e38d30d3b916",
   "metadata": {},
   "source": [
    "Import the libraries required for Data pulling:"
   ]
  },
  {
   "cell_type": "code",
   "execution_count": 1,
   "id": "4c63a7f3-c107-4949-8d68-a59188ad963b",
   "metadata": {},
   "outputs": [],
   "source": [
    "import requests\n",
    "import pandas as pd\n",
    "import numpy as np\n",
    "import time\n",
    "import praw\n",
    "from bs4 import BeautifulSoup\n",
    "from tqdm import tqdm"
   ]
  },
  {
   "cell_type": "markdown",
   "id": "1ca7a7b2-08aa-4ea4-947a-041b495e0d0a",
   "metadata": {},
   "source": [
    "Input Reddit API details for PRAW:"
   ]
  },
  {
   "cell_type": "code",
   "execution_count": 2,
   "id": "fbdf5278-1fe8-442c-a042-ad30148c97f3",
   "metadata": {},
   "outputs": [],
   "source": [
    "user_agent = 'Scraper 1.0 by /u/glori-aaa'\n",
    "reddit = praw.Reddit(\n",
    "    client_id = 'MnnRTwZWB9K875i2gBQXAw',\n",
    "    client_secret = 'SjvzB5aH1PIMRgly6Kx38JbjAdgH-g',\n",
    "    user_agent = user_agent\n",
    ")"
   ]
  },
  {
   "cell_type": "markdown",
   "id": "1d7e2e72-3749-4cad-8c05-45433380ce1d",
   "metadata": {},
   "source": [
    "---\n",
    "## Subreddit - Column Selection"
   ]
  },
  {
   "cell_type": "markdown",
   "id": "30999fda-fcdc-43ba-9279-8b2186174755",
   "metadata": {},
   "source": [
    "From the the reddit submission data dictionary (see https://praw.readthedocs.io/en/stable/code_overview/models/submission.html), I selected a preliminary round of attributes to be extracted. Later on, upon extracting one batch of sample data, then we can further refine the information we would like to keep."
   ]
  },
  {
   "cell_type": "code",
   "execution_count": 3,
   "id": "fe7f309d-a22c-4723-9e83-277e864825d9",
   "metadata": {},
   "outputs": [],
   "source": [
    "titles = ['title', 'id', 'author', 'author_flair_text', 'created_utc', 'comments', 'distinguished', 'edited', 'id', 'is_original_content', 'is_self', 'link_flair_text', 'name', 'num_comments', 'saved', \n",
    "          'score', 'selftext', 'stickied', 'upvote_ratio', 'url', 'subreddit']"
   ]
  },
  {
   "cell_type": "markdown",
   "id": "fc133240-0479-460c-b809-322ca3dc10c4",
   "metadata": {},
   "source": [
    "Create a dataframe with headings from the reddit submission data dictionary:"
   ]
  },
  {
   "cell_type": "code",
   "execution_count": 4,
   "id": "113f84c5-d761-460b-95d8-239c77aff263",
   "metadata": {},
   "outputs": [
    {
     "data": {
      "text/html": [
       "<div>\n",
       "<style scoped>\n",
       "    .dataframe tbody tr th:only-of-type {\n",
       "        vertical-align: middle;\n",
       "    }\n",
       "\n",
       "    .dataframe tbody tr th {\n",
       "        vertical-align: top;\n",
       "    }\n",
       "\n",
       "    .dataframe thead th {\n",
       "        text-align: right;\n",
       "    }\n",
       "</style>\n",
       "<table border=\"1\" class=\"dataframe\">\n",
       "  <thead>\n",
       "    <tr style=\"text-align: right;\">\n",
       "      <th></th>\n",
       "      <th>title</th>\n",
       "      <th>id</th>\n",
       "      <th>author</th>\n",
       "      <th>author_flair_text</th>\n",
       "      <th>created_utc</th>\n",
       "      <th>comments</th>\n",
       "      <th>distinguished</th>\n",
       "      <th>edited</th>\n",
       "      <th>id</th>\n",
       "      <th>is_original_content</th>\n",
       "      <th>...</th>\n",
       "      <th>link_flair_text</th>\n",
       "      <th>name</th>\n",
       "      <th>num_comments</th>\n",
       "      <th>saved</th>\n",
       "      <th>score</th>\n",
       "      <th>selftext</th>\n",
       "      <th>stickied</th>\n",
       "      <th>upvote_ratio</th>\n",
       "      <th>url</th>\n",
       "      <th>subreddit</th>\n",
       "    </tr>\n",
       "  </thead>\n",
       "  <tbody>\n",
       "  </tbody>\n",
       "</table>\n",
       "<p>0 rows × 21 columns</p>\n",
       "</div>"
      ],
      "text/plain": [
       "Empty DataFrame\n",
       "Columns: [title, id, author, author_flair_text, created_utc, comments, distinguished, edited, id, is_original_content, is_self, link_flair_text, name, num_comments, saved, score, selftext, stickied, upvote_ratio, url, subreddit]\n",
       "Index: []\n",
       "\n",
       "[0 rows x 21 columns]"
      ]
     },
     "execution_count": 4,
     "metadata": {},
     "output_type": "execute_result"
    }
   ],
   "source": [
    "data_sc = pd.DataFrame(columns = titles)\n",
    "data_sc"
   ]
  },
  {
   "cell_type": "code",
   "execution_count": 5,
   "id": "623d464b-5e1e-4e9c-9016-14fddc1a9acb",
   "metadata": {},
   "outputs": [],
   "source": [
    "# Create an empty list to store the submissions data\n",
    "data_sc = []\n",
    "\n",
    "# Extract the attributes ive selected in \"titles\" from each submission and store them in a dictionary\n",
    "for submission in reddit.subreddit('datascience').hot(limit=5):\n",
    "    submission_data = {attr: getattr(submission, attr) for attr in titles}\n",
    "    data_sc.append(submission_data)\n",
    "\n",
    "# Convert the list of dictionaries into a DataFrame\n",
    "data_sc = pd.DataFrame(data_sc)"
   ]
  },
  {
   "cell_type": "code",
   "execution_count": 6,
   "id": "2ad2e505-71e8-4094-bd47-f6291a9ee4dd",
   "metadata": {},
   "outputs": [
    {
     "data": {
      "text/html": [
       "<div>\n",
       "<style scoped>\n",
       "    .dataframe tbody tr th:only-of-type {\n",
       "        vertical-align: middle;\n",
       "    }\n",
       "\n",
       "    .dataframe tbody tr th {\n",
       "        vertical-align: top;\n",
       "    }\n",
       "\n",
       "    .dataframe thead th {\n",
       "        text-align: right;\n",
       "    }\n",
       "</style>\n",
       "<table border=\"1\" class=\"dataframe\">\n",
       "  <thead>\n",
       "    <tr style=\"text-align: right;\">\n",
       "      <th></th>\n",
       "      <th>title</th>\n",
       "      <th>id</th>\n",
       "      <th>author</th>\n",
       "      <th>author_flair_text</th>\n",
       "      <th>created_utc</th>\n",
       "      <th>comments</th>\n",
       "      <th>distinguished</th>\n",
       "      <th>edited</th>\n",
       "      <th>is_original_content</th>\n",
       "      <th>is_self</th>\n",
       "      <th>link_flair_text</th>\n",
       "      <th>name</th>\n",
       "      <th>num_comments</th>\n",
       "      <th>saved</th>\n",
       "      <th>score</th>\n",
       "      <th>selftext</th>\n",
       "      <th>stickied</th>\n",
       "      <th>upvote_ratio</th>\n",
       "      <th>url</th>\n",
       "      <th>subreddit</th>\n",
       "    </tr>\n",
       "  </thead>\n",
       "  <tbody>\n",
       "    <tr>\n",
       "      <th>0</th>\n",
       "      <td>Weekly Entering &amp; Transitioning - Thread 31 Ju...</td>\n",
       "      <td>15e5iw6</td>\n",
       "      <td>AutoModerator</td>\n",
       "      <td>None</td>\n",
       "      <td>1.690776e+09</td>\n",
       "      <td>(juawerx, jugdppb, ju6k0p5, ju7yvce, ju8lv71, ...</td>\n",
       "      <td>None</td>\n",
       "      <td>False</td>\n",
       "      <td>False</td>\n",
       "      <td>True</td>\n",
       "      <td>None</td>\n",
       "      <td>t3_15e5iw6</td>\n",
       "      <td>28</td>\n",
       "      <td>False</td>\n",
       "      <td>2</td>\n",
       "      <td>\\n\\nWelcome to this week's entering &amp; transit...</td>\n",
       "      <td>True</td>\n",
       "      <td>1.00</td>\n",
       "      <td>https://www.reddit.com/r/datascience/comments/...</td>\n",
       "      <td>datascience</td>\n",
       "    </tr>\n",
       "    <tr>\n",
       "      <th>1</th>\n",
       "      <td>R programmers, what are the greatest issues yo...</td>\n",
       "      <td>15g96dc</td>\n",
       "      <td>joaoareias</td>\n",
       "      <td>None</td>\n",
       "      <td>1.690984e+09</td>\n",
       "      <td>(juhf0fy, juhmgan, juhe94q, juhnzx5, juhi6gh, ...</td>\n",
       "      <td>None</td>\n",
       "      <td>False</td>\n",
       "      <td>False</td>\n",
       "      <td>True</td>\n",
       "      <td>Education</td>\n",
       "      <td>t3_15g96dc</td>\n",
       "      <td>262</td>\n",
       "      <td>False</td>\n",
       "      <td>171</td>\n",
       "      <td>I'm a Data Scientist with a computer science b...</td>\n",
       "      <td>False</td>\n",
       "      <td>0.96</td>\n",
       "      <td>https://www.reddit.com/r/datascience/comments/...</td>\n",
       "      <td>datascience</td>\n",
       "    </tr>\n",
       "  </tbody>\n",
       "</table>\n",
       "</div>"
      ],
      "text/plain": [
       "                                               title       id         author  \\\n",
       "0  Weekly Entering & Transitioning - Thread 31 Ju...  15e5iw6  AutoModerator   \n",
       "1  R programmers, what are the greatest issues yo...  15g96dc     joaoareias   \n",
       "\n",
       "  author_flair_text   created_utc  \\\n",
       "0              None  1.690776e+09   \n",
       "1              None  1.690984e+09   \n",
       "\n",
       "                                            comments distinguished  edited  \\\n",
       "0  (juawerx, jugdppb, ju6k0p5, ju7yvce, ju8lv71, ...          None   False   \n",
       "1  (juhf0fy, juhmgan, juhe94q, juhnzx5, juhi6gh, ...          None   False   \n",
       "\n",
       "   is_original_content  is_self link_flair_text        name  num_comments  \\\n",
       "0                False     True            None  t3_15e5iw6            28   \n",
       "1                False     True       Education  t3_15g96dc           262   \n",
       "\n",
       "   saved  score                                           selftext  stickied  \\\n",
       "0  False      2   \\n\\nWelcome to this week's entering & transit...      True   \n",
       "1  False    171  I'm a Data Scientist with a computer science b...     False   \n",
       "\n",
       "   upvote_ratio                                                url  \\\n",
       "0          1.00  https://www.reddit.com/r/datascience/comments/...   \n",
       "1          0.96  https://www.reddit.com/r/datascience/comments/...   \n",
       "\n",
       "     subreddit  \n",
       "0  datascience  \n",
       "1  datascience  "
      ]
     },
     "execution_count": 6,
     "metadata": {},
     "output_type": "execute_result"
    }
   ],
   "source": [
    "data_sc.head(2)"
   ]
  },
  {
   "cell_type": "markdown",
   "id": "2412b312-df9f-43da-b2f3-041c251b35d0",
   "metadata": {},
   "source": [
    "Have a quick further look at some of the columns to further refine my column selection:"
   ]
  },
  {
   "cell_type": "code",
   "execution_count": 7,
   "id": "6aa20afe-63ff-476d-ab3f-0feba3212480",
   "metadata": {},
   "outputs": [
    {
     "data": {
      "text/plain": [
       "0    (juawerx, jugdppb, ju6k0p5, ju7yvce, ju8lv71, ...\n",
       "1    (juhf0fy, juhmgan, juhe94q, juhnzx5, juhi6gh, ...\n",
       "2    (juih9u5, juiepcp, jujgtxw, juivus3, juijms6, ...\n",
       "3                          (jujsjmz, jujtngo, jujspge)\n",
       "4    (jujftd1, jujgols, jujlc1b, jujc0bb, jujamvi, ...\n",
       "Name: comments, dtype: object"
      ]
     },
     "execution_count": 7,
     "metadata": {},
     "output_type": "execute_result"
    }
   ],
   "source": [
    "data_sc['comments']"
   ]
  },
  {
   "cell_type": "markdown",
   "id": "fe315cb5-5212-4e6b-b0b0-d58c1008f3e1",
   "metadata": {},
   "source": [
    "I decided to drop a first batch of columns which I believe will not be useful for further analysis (to cut down time on the pulling process):\n",
    "* comments - only gives the ID/name of the comments. We will drop this and use another function to extract comments later.\n",
    "* author_flair_text - information is too detailed, not relevant to our study\n",
    "* is_original_content - does not matter to us\n",
    "* name - seems to have somewhat repeated info from id"
   ]
  },
  {
   "cell_type": "markdown",
   "id": "4b5bd509-0dc5-4e72-8f8c-cb18084fda84",
   "metadata": {},
   "source": [
    "**Final list of columns to export for EDA:**"
   ]
  },
  {
   "cell_type": "code",
   "execution_count": 8,
   "id": "5f758c68-bb9a-4aed-a443-15871649dd7e",
   "metadata": {},
   "outputs": [],
   "source": [
    "titles_export = ['title', 'id', 'author', 'created_utc', 'distinguished', 'edited', 'id', 'is_self', 'link_flair_text', 'num_comments', 'saved', \n",
    "          'score', 'selftext', 'stickied', 'upvote_ratio', 'url', 'subreddit']"
   ]
  },
  {
   "cell_type": "markdown",
   "id": "e0c0dd45-7aa6-47f5-ab28-86a7d35c4b4d",
   "metadata": {},
   "source": [
    "---"
   ]
  },
  {
   "cell_type": "markdown",
   "id": "e2f471aa-9517-4eb0-bd13-47988f578824",
   "metadata": {},
   "source": [
    "## Create PRAW function\n",
    "Create a function that we can use on both our subreddits to extract required data:"
   ]
  },
  {
   "cell_type": "code",
   "execution_count": 9,
   "id": "a76d9d11-4af8-4fee-9939-58a3b16ef913",
   "metadata": {},
   "outputs": [],
   "source": [
    "def webscr_data(subreddit_name, titles_export, limit=5000):\n",
    "    df = pd.DataFrame(columns=titles_export)\n",
    "    data_list = []\n",
    "\n",
    "    # Extract the attributes specified in \"titles_export\" from each submission and store them in a dictionary\n",
    "    for submission in reddit.subreddit(subreddit_name).hot(limit=limit):\n",
    "        submission_data = {attr: getattr(submission, attr) for attr in titles_export}\n",
    "        data_list.append(submission_data)\n",
    "\n",
    "    # Convert the list of dictionaries into a DataFrame\n",
    "    df = pd.DataFrame(data_list)\n",
    "\n",
    "    return df"
   ]
  },
  {
   "cell_type": "markdown",
   "id": "570e3c00-0558-4402-b68e-a4f45ae06a2d",
   "metadata": {},
   "source": [
    "Try creating another function to scrape comments:\n",
    "\n",
    "* A time.sleep(delay) of 2seconds was added to the code, as I received a \"HTTP 429 Too Many Requests\" response code. This delay allows us to fulfil the reddit API rate limit."
   ]
  },
  {
   "cell_type": "code",
   "execution_count": 10,
   "id": "dc905f31-35d3-4acc-88be-a5145a76ba23",
   "metadata": {},
   "outputs": [],
   "source": [
    "titles_comm_export = ['body', 'body_html', 'subreddit_id', 'author', 'created_utc', 'distinguished', 'edited', 'id', 'saved', \n",
    "          'score', 'stickied', 'submission', 'subreddit']"
   ]
  },
  {
   "cell_type": "code",
   "execution_count": 11,
   "id": "c810621e-9b72-4fcd-86ba-3b705e67ad0a",
   "metadata": {},
   "outputs": [],
   "source": [
    "def webscr_comment(subreddit_name, titles_comm_export, limit=8000, delay=2):\n",
    "    df = pd.DataFrame(columns=titles_comm_export)\n",
    "    comment_list = []\n",
    "\n",
    "    # Extract the attributes specified in \"titles_comm_export\" from each comment and store them in a dictionary\n",
    "    for submission in reddit.subreddit(subreddit_name).hot(limit=limit):\n",
    "        submission.comments.replace_more(limit=0)  # Ensure all comments are loaded\n",
    "        for comment in submission.comments.list():\n",
    "            comment_data = {attr: getattr(comment, attr) for attr in titles_comm_export}\n",
    "            comment_list.append(comment_data)\n",
    "\n",
    "            time.sleep(delay)\n",
    "\n",
    "    # Convert the list of dictionaries into a DataFrame\n",
    "    df = pd.DataFrame(comment_list)\n",
    "\n",
    "    return df"
   ]
  },
  {
   "cell_type": "code",
   "execution_count": null,
   "id": "35911946-2ed6-41ee-ad47-7193cac6f873",
   "metadata": {},
   "outputs": [],
   "source": []
  },
  {
   "cell_type": "markdown",
   "id": "f2b12c9a-920b-4dfb-b3bd-8488b4bccec1",
   "metadata": {},
   "source": [
    "---\n",
    "## Subreddit r/datascience"
   ]
  },
  {
   "cell_type": "code",
   "execution_count": 12,
   "id": "c8def5c0-1670-4ba4-a57d-cc59b8d8abe9",
   "metadata": {},
   "outputs": [],
   "source": [
    "data_sc = webscr_data('datascience', titles_export)"
   ]
  },
  {
   "cell_type": "code",
   "execution_count": 13,
   "id": "c57ab0f8-fec7-49da-a63b-407430fb3453",
   "metadata": {},
   "outputs": [
    {
     "name": "stdout",
     "output_type": "stream",
     "text": [
      "(961, 16)\n"
     ]
    },
    {
     "data": {
      "text/html": [
       "<div>\n",
       "<style scoped>\n",
       "    .dataframe tbody tr th:only-of-type {\n",
       "        vertical-align: middle;\n",
       "    }\n",
       "\n",
       "    .dataframe tbody tr th {\n",
       "        vertical-align: top;\n",
       "    }\n",
       "\n",
       "    .dataframe thead th {\n",
       "        text-align: right;\n",
       "    }\n",
       "</style>\n",
       "<table border=\"1\" class=\"dataframe\">\n",
       "  <thead>\n",
       "    <tr style=\"text-align: right;\">\n",
       "      <th></th>\n",
       "      <th>title</th>\n",
       "      <th>id</th>\n",
       "      <th>author</th>\n",
       "      <th>created_utc</th>\n",
       "      <th>distinguished</th>\n",
       "      <th>edited</th>\n",
       "      <th>is_self</th>\n",
       "      <th>link_flair_text</th>\n",
       "      <th>num_comments</th>\n",
       "      <th>saved</th>\n",
       "      <th>score</th>\n",
       "      <th>selftext</th>\n",
       "      <th>stickied</th>\n",
       "      <th>upvote_ratio</th>\n",
       "      <th>url</th>\n",
       "      <th>subreddit</th>\n",
       "    </tr>\n",
       "  </thead>\n",
       "  <tbody>\n",
       "    <tr>\n",
       "      <th>0</th>\n",
       "      <td>Weekly Entering &amp; Transitioning - Thread 31 Ju...</td>\n",
       "      <td>15e5iw6</td>\n",
       "      <td>AutoModerator</td>\n",
       "      <td>1.690776e+09</td>\n",
       "      <td>None</td>\n",
       "      <td>False</td>\n",
       "      <td>True</td>\n",
       "      <td>None</td>\n",
       "      <td>28</td>\n",
       "      <td>False</td>\n",
       "      <td>2</td>\n",
       "      <td>\\n\\nWelcome to this week's entering &amp; transit...</td>\n",
       "      <td>True</td>\n",
       "      <td>1.00</td>\n",
       "      <td>https://www.reddit.com/r/datascience/comments/...</td>\n",
       "      <td>datascience</td>\n",
       "    </tr>\n",
       "    <tr>\n",
       "      <th>1</th>\n",
       "      <td>R programmers, what are the greatest issues yo...</td>\n",
       "      <td>15g96dc</td>\n",
       "      <td>joaoareias</td>\n",
       "      <td>1.690984e+09</td>\n",
       "      <td>None</td>\n",
       "      <td>False</td>\n",
       "      <td>True</td>\n",
       "      <td>Education</td>\n",
       "      <td>262</td>\n",
       "      <td>False</td>\n",
       "      <td>169</td>\n",
       "      <td>I'm a Data Scientist with a computer science b...</td>\n",
       "      <td>False</td>\n",
       "      <td>0.96</td>\n",
       "      <td>https://www.reddit.com/r/datascience/comments/...</td>\n",
       "      <td>datascience</td>\n",
       "    </tr>\n",
       "    <tr>\n",
       "      <th>2</th>\n",
       "      <td>U.S. Hiring Managers: how diverse is your appl...</td>\n",
       "      <td>15gezo5</td>\n",
       "      <td>dantzigismyhero</td>\n",
       "      <td>1.690997e+09</td>\n",
       "      <td>None</td>\n",
       "      <td>False</td>\n",
       "      <td>True</td>\n",
       "      <td>Discussion</td>\n",
       "      <td>42</td>\n",
       "      <td>False</td>\n",
       "      <td>38</td>\n",
       "      <td>We are currently hiring for a mid-level DS and...</td>\n",
       "      <td>False</td>\n",
       "      <td>0.89</td>\n",
       "      <td>https://www.reddit.com/r/datascience/comments/...</td>\n",
       "      <td>datascience</td>\n",
       "    </tr>\n",
       "    <tr>\n",
       "      <th>3</th>\n",
       "      <td>Do I need a masters?</td>\n",
       "      <td>15gmte5</td>\n",
       "      <td>Odd-Company-1440</td>\n",
       "      <td>1.691017e+09</td>\n",
       "      <td>None</td>\n",
       "      <td>False</td>\n",
       "      <td>True</td>\n",
       "      <td>Education</td>\n",
       "      <td>4</td>\n",
       "      <td>False</td>\n",
       "      <td>5</td>\n",
       "      <td>I am going into my second year as a statistics...</td>\n",
       "      <td>False</td>\n",
       "      <td>1.00</td>\n",
       "      <td>https://www.reddit.com/r/datascience/comments/...</td>\n",
       "      <td>datascience</td>\n",
       "    </tr>\n",
       "    <tr>\n",
       "      <th>4</th>\n",
       "      <td>How do you describe your job when someone asks...</td>\n",
       "      <td>15gkc1y</td>\n",
       "      <td>briannalynn24</td>\n",
       "      <td>1.691009e+09</td>\n",
       "      <td>None</td>\n",
       "      <td>False</td>\n",
       "      <td>True</td>\n",
       "      <td>Discussion</td>\n",
       "      <td>24</td>\n",
       "      <td>False</td>\n",
       "      <td>5</td>\n",
       "      <td>I recently got a job as a data scientist and I...</td>\n",
       "      <td>False</td>\n",
       "      <td>0.86</td>\n",
       "      <td>https://www.reddit.com/r/datascience/comments/...</td>\n",
       "      <td>datascience</td>\n",
       "    </tr>\n",
       "  </tbody>\n",
       "</table>\n",
       "</div>"
      ],
      "text/plain": [
       "                                               title       id  \\\n",
       "0  Weekly Entering & Transitioning - Thread 31 Ju...  15e5iw6   \n",
       "1  R programmers, what are the greatest issues yo...  15g96dc   \n",
       "2  U.S. Hiring Managers: how diverse is your appl...  15gezo5   \n",
       "3                               Do I need a masters?  15gmte5   \n",
       "4  How do you describe your job when someone asks...  15gkc1y   \n",
       "\n",
       "             author   created_utc distinguished edited  is_self  \\\n",
       "0     AutoModerator  1.690776e+09          None  False     True   \n",
       "1        joaoareias  1.690984e+09          None  False     True   \n",
       "2   dantzigismyhero  1.690997e+09          None  False     True   \n",
       "3  Odd-Company-1440  1.691017e+09          None  False     True   \n",
       "4     briannalynn24  1.691009e+09          None  False     True   \n",
       "\n",
       "  link_flair_text  num_comments  saved  score  \\\n",
       "0            None            28  False      2   \n",
       "1       Education           262  False    169   \n",
       "2      Discussion            42  False     38   \n",
       "3       Education             4  False      5   \n",
       "4      Discussion            24  False      5   \n",
       "\n",
       "                                            selftext  stickied  upvote_ratio  \\\n",
       "0   \\n\\nWelcome to this week's entering & transit...      True          1.00   \n",
       "1  I'm a Data Scientist with a computer science b...     False          0.96   \n",
       "2  We are currently hiring for a mid-level DS and...     False          0.89   \n",
       "3  I am going into my second year as a statistics...     False          1.00   \n",
       "4  I recently got a job as a data scientist and I...     False          0.86   \n",
       "\n",
       "                                                 url    subreddit  \n",
       "0  https://www.reddit.com/r/datascience/comments/...  datascience  \n",
       "1  https://www.reddit.com/r/datascience/comments/...  datascience  \n",
       "2  https://www.reddit.com/r/datascience/comments/...  datascience  \n",
       "3  https://www.reddit.com/r/datascience/comments/...  datascience  \n",
       "4  https://www.reddit.com/r/datascience/comments/...  datascience  "
      ]
     },
     "execution_count": 13,
     "metadata": {},
     "output_type": "execute_result"
    }
   ],
   "source": [
    "print(data_sc.shape)\n",
    "data_sc.head()"
   ]
  },
  {
   "cell_type": "markdown",
   "id": "b7c7232c-2fa0-4bf2-b14e-5cc5eb8644f2",
   "metadata": {},
   "source": [
    "Export to csv:"
   ]
  },
  {
   "cell_type": "code",
   "execution_count": 14,
   "id": "5a1242a1-4ddf-4d26-a1ae-a1a2b281320c",
   "metadata": {},
   "outputs": [],
   "source": [
    "import os # to work with files/directories\n",
    "if not os.path.exists('../data'): \n",
    "    os.makedirs('../data') \n",
    "\n",
    "# Save the DataFrame to a CSV file\n",
    "data_sc.to_csv('../data/data_sc.csv', index=False)"
   ]
  },
  {
   "cell_type": "code",
   "execution_count": null,
   "id": "b0e15b5d-78c5-4d58-b719-2e6731bdddf1",
   "metadata": {},
   "outputs": [],
   "source": []
  },
  {
   "cell_type": "markdown",
   "id": "c3102a3e-eef4-44b0-b997-9efdf9272511",
   "metadata": {},
   "source": [
    "Try to export comments from posts:"
   ]
  },
  {
   "cell_type": "code",
   "execution_count": 15,
   "id": "abf9cd3f-2b15-4546-b000-19df93afac40",
   "metadata": {},
   "outputs": [],
   "source": [
    "data_sc_comm = webscr_comment('datascience', titles_comm_export)"
   ]
  },
  {
   "cell_type": "code",
   "execution_count": 16,
   "id": "08b6dd7d-dda1-4717-85fb-4245c041e227",
   "metadata": {},
   "outputs": [
    {
     "name": "stdout",
     "output_type": "stream",
     "text": [
      "(12403, 13)\n"
     ]
    },
    {
     "data": {
      "text/html": [
       "<div>\n",
       "<style scoped>\n",
       "    .dataframe tbody tr th:only-of-type {\n",
       "        vertical-align: middle;\n",
       "    }\n",
       "\n",
       "    .dataframe tbody tr th {\n",
       "        vertical-align: top;\n",
       "    }\n",
       "\n",
       "    .dataframe thead th {\n",
       "        text-align: right;\n",
       "    }\n",
       "</style>\n",
       "<table border=\"1\" class=\"dataframe\">\n",
       "  <thead>\n",
       "    <tr style=\"text-align: right;\">\n",
       "      <th></th>\n",
       "      <th>body</th>\n",
       "      <th>body_html</th>\n",
       "      <th>subreddit_id</th>\n",
       "      <th>author</th>\n",
       "      <th>created_utc</th>\n",
       "      <th>distinguished</th>\n",
       "      <th>edited</th>\n",
       "      <th>id</th>\n",
       "      <th>saved</th>\n",
       "      <th>score</th>\n",
       "      <th>stickied</th>\n",
       "      <th>submission</th>\n",
       "      <th>subreddit</th>\n",
       "    </tr>\n",
       "  </thead>\n",
       "  <tbody>\n",
       "    <tr>\n",
       "      <th>0</th>\n",
       "      <td>Hello.\\n\\nI’m about to start my BS in Data Sci...</td>\n",
       "      <td>&lt;div class=\"md\"&gt;&lt;p&gt;Hello.&lt;/p&gt;\\n\\n&lt;p&gt;I’m about ...</td>\n",
       "      <td>t5_2sptq</td>\n",
       "      <td>Competitive_Pay_9117</td>\n",
       "      <td>1.690864e+09</td>\n",
       "      <td>None</td>\n",
       "      <td>False</td>\n",
       "      <td>juawerx</td>\n",
       "      <td>False</td>\n",
       "      <td>2</td>\n",
       "      <td>False</td>\n",
       "      <td>15e5iw6</td>\n",
       "      <td>datascience</td>\n",
       "    </tr>\n",
       "    <tr>\n",
       "      <th>1</th>\n",
       "      <td>Hey guys, I'm graduating from my bachelor's in...</td>\n",
       "      <td>&lt;div class=\"md\"&gt;&lt;p&gt;Hey guys, I&amp;#39;m graduatin...</td>\n",
       "      <td>t5_2sptq</td>\n",
       "      <td>Emperorofweirdos</td>\n",
       "      <td>1.690962e+09</td>\n",
       "      <td>None</td>\n",
       "      <td>False</td>\n",
       "      <td>jugdppb</td>\n",
       "      <td>False</td>\n",
       "      <td>2</td>\n",
       "      <td>False</td>\n",
       "      <td>15e5iw6</td>\n",
       "      <td>datascience</td>\n",
       "    </tr>\n",
       "    <tr>\n",
       "      <th>2</th>\n",
       "      <td>Can I get a job as a fresher in data science?\\...</td>\n",
       "      <td>&lt;div class=\"md\"&gt;&lt;p&gt;Can I get a job as a freshe...</td>\n",
       "      <td>t5_2sptq</td>\n",
       "      <td>Luo-yi-</td>\n",
       "      <td>1.690796e+09</td>\n",
       "      <td>None</td>\n",
       "      <td>False</td>\n",
       "      <td>ju6k0p5</td>\n",
       "      <td>False</td>\n",
       "      <td>1</td>\n",
       "      <td>False</td>\n",
       "      <td>15e5iw6</td>\n",
       "      <td>datascience</td>\n",
       "    </tr>\n",
       "    <tr>\n",
       "      <th>3</th>\n",
       "      <td>Is it a good idea and possible to get a MS in ...</td>\n",
       "      <td>&lt;div class=\"md\"&gt;&lt;p&gt;Is it a good idea and possi...</td>\n",
       "      <td>t5_2sptq</td>\n",
       "      <td>slimjimmy1928</td>\n",
       "      <td>1.690821e+09</td>\n",
       "      <td>None</td>\n",
       "      <td>False</td>\n",
       "      <td>ju7yvce</td>\n",
       "      <td>False</td>\n",
       "      <td>0</td>\n",
       "      <td>False</td>\n",
       "      <td>15e5iw6</td>\n",
       "      <td>datascience</td>\n",
       "    </tr>\n",
       "    <tr>\n",
       "      <th>4</th>\n",
       "      <td>I am finishing my PhD program in which I did ~...</td>\n",
       "      <td>&lt;div class=\"md\"&gt;&lt;p&gt;I am finishing my PhD progr...</td>\n",
       "      <td>t5_2sptq</td>\n",
       "      <td>tunamouse</td>\n",
       "      <td>1.690829e+09</td>\n",
       "      <td>None</td>\n",
       "      <td>False</td>\n",
       "      <td>ju8lv71</td>\n",
       "      <td>False</td>\n",
       "      <td>0</td>\n",
       "      <td>False</td>\n",
       "      <td>15e5iw6</td>\n",
       "      <td>datascience</td>\n",
       "    </tr>\n",
       "  </tbody>\n",
       "</table>\n",
       "</div>"
      ],
      "text/plain": [
       "                                                body  \\\n",
       "0  Hello.\\n\\nI’m about to start my BS in Data Sci...   \n",
       "1  Hey guys, I'm graduating from my bachelor's in...   \n",
       "2  Can I get a job as a fresher in data science?\\...   \n",
       "3  Is it a good idea and possible to get a MS in ...   \n",
       "4  I am finishing my PhD program in which I did ~...   \n",
       "\n",
       "                                           body_html subreddit_id  \\\n",
       "0  <div class=\"md\"><p>Hello.</p>\\n\\n<p>I’m about ...     t5_2sptq   \n",
       "1  <div class=\"md\"><p>Hey guys, I&#39;m graduatin...     t5_2sptq   \n",
       "2  <div class=\"md\"><p>Can I get a job as a freshe...     t5_2sptq   \n",
       "3  <div class=\"md\"><p>Is it a good idea and possi...     t5_2sptq   \n",
       "4  <div class=\"md\"><p>I am finishing my PhD progr...     t5_2sptq   \n",
       "\n",
       "                 author   created_utc distinguished edited       id  saved  \\\n",
       "0  Competitive_Pay_9117  1.690864e+09          None  False  juawerx  False   \n",
       "1      Emperorofweirdos  1.690962e+09          None  False  jugdppb  False   \n",
       "2               Luo-yi-  1.690796e+09          None  False  ju6k0p5  False   \n",
       "3         slimjimmy1928  1.690821e+09          None  False  ju7yvce  False   \n",
       "4             tunamouse  1.690829e+09          None  False  ju8lv71  False   \n",
       "\n",
       "   score  stickied submission    subreddit  \n",
       "0      2     False    15e5iw6  datascience  \n",
       "1      2     False    15e5iw6  datascience  \n",
       "2      1     False    15e5iw6  datascience  \n",
       "3      0     False    15e5iw6  datascience  \n",
       "4      0     False    15e5iw6  datascience  "
      ]
     },
     "execution_count": 16,
     "metadata": {},
     "output_type": "execute_result"
    }
   ],
   "source": [
    "print(data_sc_comm.shape)\n",
    "data_sc_comm.head()"
   ]
  },
  {
   "cell_type": "markdown",
   "id": "a3ce6340-0561-4c6e-a0ed-cb8765d5493b",
   "metadata": {},
   "source": [
    "Export to csv:"
   ]
  },
  {
   "cell_type": "code",
   "execution_count": 17,
   "id": "a61ff2ec-25e5-4ea3-a83c-0abfee626d74",
   "metadata": {},
   "outputs": [],
   "source": [
    "import os # to work with files/directories\n",
    "if not os.path.exists('../data'): \n",
    "    os.makedirs('../data') \n",
    "\n",
    "# Save the DataFrame to a CSV file\n",
    "data_sc_comm.to_csv('../data/data_sc_comm.csv', index=False)"
   ]
  },
  {
   "cell_type": "code",
   "execution_count": null,
   "id": "e6d04069-7969-458b-a8cd-3e82470c946e",
   "metadata": {},
   "outputs": [],
   "source": []
  },
  {
   "cell_type": "markdown",
   "id": "e35d9202-3c11-4ee0-832d-279067e9bee0",
   "metadata": {},
   "source": [
    "---\n",
    "## Subreddit r/dataengineering"
   ]
  },
  {
   "cell_type": "code",
   "execution_count": 18,
   "id": "fbd1b11c-7e4e-49e4-b878-15f4bc8e6702",
   "metadata": {},
   "outputs": [],
   "source": [
    "data_engr = webscr_data('dataengineering', titles_export)"
   ]
  },
  {
   "cell_type": "code",
   "execution_count": 19,
   "id": "c4116098-afed-4ed6-b3af-62950833f747",
   "metadata": {},
   "outputs": [
    {
     "name": "stdout",
     "output_type": "stream",
     "text": [
      "(963, 16)\n"
     ]
    },
    {
     "data": {
      "text/html": [
       "<div>\n",
       "<style scoped>\n",
       "    .dataframe tbody tr th:only-of-type {\n",
       "        vertical-align: middle;\n",
       "    }\n",
       "\n",
       "    .dataframe tbody tr th {\n",
       "        vertical-align: top;\n",
       "    }\n",
       "\n",
       "    .dataframe thead th {\n",
       "        text-align: right;\n",
       "    }\n",
       "</style>\n",
       "<table border=\"1\" class=\"dataframe\">\n",
       "  <thead>\n",
       "    <tr style=\"text-align: right;\">\n",
       "      <th></th>\n",
       "      <th>title</th>\n",
       "      <th>id</th>\n",
       "      <th>author</th>\n",
       "      <th>created_utc</th>\n",
       "      <th>distinguished</th>\n",
       "      <th>edited</th>\n",
       "      <th>is_self</th>\n",
       "      <th>link_flair_text</th>\n",
       "      <th>num_comments</th>\n",
       "      <th>saved</th>\n",
       "      <th>score</th>\n",
       "      <th>selftext</th>\n",
       "      <th>stickied</th>\n",
       "      <th>upvote_ratio</th>\n",
       "      <th>url</th>\n",
       "      <th>subreddit</th>\n",
       "    </tr>\n",
       "  </thead>\n",
       "  <tbody>\n",
       "    <tr>\n",
       "      <th>0</th>\n",
       "      <td>Monthly General Discussion - Aug 2023</td>\n",
       "      <td>15fgn9y</td>\n",
       "      <td>AutoModerator</td>\n",
       "      <td>1.690906e+09</td>\n",
       "      <td>None</td>\n",
       "      <td>False</td>\n",
       "      <td>True</td>\n",
       "      <td>Discussion</td>\n",
       "      <td>2</td>\n",
       "      <td>False</td>\n",
       "      <td>3</td>\n",
       "      <td>This thread is a place where you can share thi...</td>\n",
       "      <td>True</td>\n",
       "      <td>1.00</td>\n",
       "      <td>https://www.reddit.com/r/dataengineering/comme...</td>\n",
       "      <td>dataengineering</td>\n",
       "    </tr>\n",
       "    <tr>\n",
       "      <th>1</th>\n",
       "      <td>Quarterly Salary Discussion - Jun 2023</td>\n",
       "      <td>13xldpd</td>\n",
       "      <td>AutoModerator</td>\n",
       "      <td>1.685635e+09</td>\n",
       "      <td>None</td>\n",
       "      <td>False</td>\n",
       "      <td>True</td>\n",
       "      <td>Career</td>\n",
       "      <td>213</td>\n",
       "      <td>False</td>\n",
       "      <td>83</td>\n",
       "      <td>This is a recurring thread that happens quarte...</td>\n",
       "      <td>True</td>\n",
       "      <td>1.00</td>\n",
       "      <td>https://www.reddit.com/r/dataengineering/comme...</td>\n",
       "      <td>dataengineering</td>\n",
       "    </tr>\n",
       "    <tr>\n",
       "      <th>2</th>\n",
       "      <td>What replaced cubes?</td>\n",
       "      <td>15gnctu</td>\n",
       "      <td>leaky_shrew</td>\n",
       "      <td>1.691018e+09</td>\n",
       "      <td>None</td>\n",
       "      <td>False</td>\n",
       "      <td>True</td>\n",
       "      <td>Discussion</td>\n",
       "      <td>31</td>\n",
       "      <td>False</td>\n",
       "      <td>32</td>\n",
       "      <td>I’m fairly old school with lots of on prem and...</td>\n",
       "      <td>False</td>\n",
       "      <td>0.95</td>\n",
       "      <td>https://www.reddit.com/r/dataengineering/comme...</td>\n",
       "      <td>dataengineering</td>\n",
       "    </tr>\n",
       "    <tr>\n",
       "      <th>3</th>\n",
       "      <td>Is traditional data modeling dead?</td>\n",
       "      <td>15gf97e</td>\n",
       "      <td>New-Ship-5404</td>\n",
       "      <td>1.690998e+09</td>\n",
       "      <td>None</td>\n",
       "      <td>False</td>\n",
       "      <td>True</td>\n",
       "      <td>Discussion</td>\n",
       "      <td>46</td>\n",
       "      <td>False</td>\n",
       "      <td>66</td>\n",
       "      <td>As someone who has worked in the data field fo...</td>\n",
       "      <td>False</td>\n",
       "      <td>0.90</td>\n",
       "      <td>https://www.reddit.com/r/dataengineering/comme...</td>\n",
       "      <td>dataengineering</td>\n",
       "    </tr>\n",
       "    <tr>\n",
       "      <th>4</th>\n",
       "      <td>Lots of people seem to hate data engineering. ...</td>\n",
       "      <td>15gizw0</td>\n",
       "      <td>InevitableTraining69</td>\n",
       "      <td>1.691006e+09</td>\n",
       "      <td>None</td>\n",
       "      <td>False</td>\n",
       "      <td>True</td>\n",
       "      <td>Discussion</td>\n",
       "      <td>37</td>\n",
       "      <td>False</td>\n",
       "      <td>30</td>\n",
       "      <td>There are a lot of engineering positions avail...</td>\n",
       "      <td>False</td>\n",
       "      <td>0.81</td>\n",
       "      <td>https://www.reddit.com/r/dataengineering/comme...</td>\n",
       "      <td>dataengineering</td>\n",
       "    </tr>\n",
       "  </tbody>\n",
       "</table>\n",
       "</div>"
      ],
      "text/plain": [
       "                                               title       id  \\\n",
       "0              Monthly General Discussion - Aug 2023  15fgn9y   \n",
       "1             Quarterly Salary Discussion - Jun 2023  13xldpd   \n",
       "2                               What replaced cubes?  15gnctu   \n",
       "3                 Is traditional data modeling dead?  15gf97e   \n",
       "4  Lots of people seem to hate data engineering. ...  15gizw0   \n",
       "\n",
       "                 author   created_utc distinguished edited  is_self  \\\n",
       "0         AutoModerator  1.690906e+09          None  False     True   \n",
       "1         AutoModerator  1.685635e+09          None  False     True   \n",
       "2           leaky_shrew  1.691018e+09          None  False     True   \n",
       "3         New-Ship-5404  1.690998e+09          None  False     True   \n",
       "4  InevitableTraining69  1.691006e+09          None  False     True   \n",
       "\n",
       "  link_flair_text  num_comments  saved  score  \\\n",
       "0      Discussion             2  False      3   \n",
       "1          Career           213  False     83   \n",
       "2      Discussion            31  False     32   \n",
       "3      Discussion            46  False     66   \n",
       "4      Discussion            37  False     30   \n",
       "\n",
       "                                            selftext  stickied  upvote_ratio  \\\n",
       "0  This thread is a place where you can share thi...      True          1.00   \n",
       "1  This is a recurring thread that happens quarte...      True          1.00   \n",
       "2  I’m fairly old school with lots of on prem and...     False          0.95   \n",
       "3  As someone who has worked in the data field fo...     False          0.90   \n",
       "4  There are a lot of engineering positions avail...     False          0.81   \n",
       "\n",
       "                                                 url        subreddit  \n",
       "0  https://www.reddit.com/r/dataengineering/comme...  dataengineering  \n",
       "1  https://www.reddit.com/r/dataengineering/comme...  dataengineering  \n",
       "2  https://www.reddit.com/r/dataengineering/comme...  dataengineering  \n",
       "3  https://www.reddit.com/r/dataengineering/comme...  dataengineering  \n",
       "4  https://www.reddit.com/r/dataengineering/comme...  dataengineering  "
      ]
     },
     "execution_count": 19,
     "metadata": {},
     "output_type": "execute_result"
    }
   ],
   "source": [
    "print(data_engr.shape)\n",
    "data_engr.head()"
   ]
  },
  {
   "cell_type": "markdown",
   "id": "72687a98-d379-4ce9-a969-cff32f4710d0",
   "metadata": {},
   "source": [
    "Export to csv:"
   ]
  },
  {
   "cell_type": "code",
   "execution_count": 20,
   "id": "54184d8c-ece4-42f2-a759-5abcc37aab57",
   "metadata": {},
   "outputs": [],
   "source": [
    "import os # to work with files/directories\n",
    "if not os.path.exists('../data'): \n",
    "    os.makedirs('../data') \n",
    "\n",
    "# Save the DataFrame to a CSV file\n",
    "data_engr.to_csv('../data/data_engr.csv', index=False)"
   ]
  },
  {
   "cell_type": "code",
   "execution_count": null,
   "id": "9789db08-3b5a-4b6f-af03-394f34f2dd52",
   "metadata": {},
   "outputs": [],
   "source": []
  },
  {
   "cell_type": "markdown",
   "id": "0bb216a9-853e-458f-b259-3dca76dab973",
   "metadata": {},
   "source": [
    "Try to export comments from posts:"
   ]
  },
  {
   "cell_type": "code",
   "execution_count": null,
   "id": "7ade6248-53e8-4898-b65d-260627b2c2e2",
   "metadata": {
    "scrolled": true
   },
   "outputs": [],
   "source": [
    "data_engr_comm = webscr_comment('dataengineering', titles_comm_export)"
   ]
  },
  {
   "cell_type": "code",
   "execution_count": null,
   "id": "b364dbd8-6b0c-4d44-acdd-8d26aa7b5907",
   "metadata": {},
   "outputs": [],
   "source": [
    "print(data_engr_comm.shape)\n",
    "data_engr_comm.head()"
   ]
  },
  {
   "cell_type": "markdown",
   "id": "797fe007-6048-46d1-9c97-f10a30c29b75",
   "metadata": {},
   "source": [
    "Export to csv:"
   ]
  },
  {
   "cell_type": "code",
   "execution_count": null,
   "id": "33de4b72-2297-4dc1-8f0c-7778855ea88f",
   "metadata": {},
   "outputs": [],
   "source": [
    "import os # to work with files/directories\n",
    "if not os.path.exists('../data'): \n",
    "    os.makedirs('../data') \n",
    "\n",
    "# Save the DataFrame to a CSV file\n",
    "data_engr_comm.to_csv('../data/data_engr_comm.csv', index=False)"
   ]
  },
  {
   "cell_type": "markdown",
   "id": "7d814f13-36a0-4afe-8608-a177cfc5d09c",
   "metadata": {},
   "source": [
    "---\n",
    "# 1.5 Notebook Summary"
   ]
  },
  {
   "cell_type": "markdown",
   "id": "a7c44f6d-aec2-4c5f-b46b-91dd4f1a04d3",
   "metadata": {},
   "source": [
    "In notebook 1, we used PRAW: The Python Reddit API Wrapper to pull all available posts and comments from subreddits r/datascience and r/dataengineering. We managed to pull the following:\n",
    "* `r/datascience`\n",
    "    * 961 posts\n",
    "    * 12403 comments\n",
    "* `r/dataengineering`\n",
    "    * 963 posts\n",
    "    * 11740 comments\n",
    " \n",
    "This provides ample rows of data for us to further analyse + use to train our model."
   ]
  },
  {
   "cell_type": "code",
   "execution_count": null,
   "id": "6b68624a-ec2d-4f81-b539-1af859954b90",
   "metadata": {},
   "outputs": [],
   "source": []
  }
 ],
 "metadata": {
  "kernelspec": {
   "display_name": "Python 3 (ipykernel)",
   "language": "python",
   "name": "python3"
  },
  "language_info": {
   "codemirror_mode": {
    "name": "ipython",
    "version": 3
   },
   "file_extension": ".py",
   "mimetype": "text/x-python",
   "name": "python",
   "nbconvert_exporter": "python",
   "pygments_lexer": "ipython3",
   "version": "3.8.17"
  }
 },
 "nbformat": 4,
 "nbformat_minor": 5
}
