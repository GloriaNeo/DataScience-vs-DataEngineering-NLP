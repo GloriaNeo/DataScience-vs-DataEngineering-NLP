{
 "cells": [
  {
   "cell_type": "markdown",
   "id": "db2d612c-3eac-42de-aadf-4cc84ed05065",
   "metadata": {},
   "source": [
    "# Project 3: Web APIs & NLP"
   ]
  },
  {
   "cell_type": "markdown",
   "id": "a1db34ac-9a19-4229-9ed2-fcd02c37b469",
   "metadata": {},
   "source": [
    "---\n",
    "# Part 3 - Preprocessing, Modelling\n",
    "### Notebook 3 - Contents:\n",
    "\n",
    "**[3.1 Preprocessing](#3.1-Preprocessing)** <br>\n",
    "\n",
    "[3.1.1 Stopwords](#3.1.1-Stopwords)\n",
    "[3.1.2 Train Test Split](#3.1.2-Train-Test-Split)<br>\n",
    "    \n",
    "**[3.2 Modelling](#3.2-Modelling)** <br>\n",
    "\n",
    "[3.2.1 Logistic Regression](#3.2.1-Logistic-Regression)<br>\n",
    "        - [Base Model - CVEC, LogReg](#Base-Model---CVEC,-LogReg)<br>\n",
    "\n",
    "[3.2.2 Model Evaluation Metrics](#3.2.2-Model-Evaluation-Metrics)<br>\n",
    "\n",
    "[3.2.3 Naive Bayes](#3.2.3-Naive-Bayes)<br>\n",
    "    - [Model 1A - CVEC, NB](#Model-1A---CVEC,-NB)<br>\n",
    "    - [Model 1B - TF-IDF, NB](#Model-1B---TF-IDF,-NB)<br>\n",
    "    \n",
    "[3.2.4 Random Forests](#3.2.4-Random-Forests)<br>\n",
    "    - [Model 2A - CVEC, Random Forests](#Model-2A---CVEC,-Random-Forests)<br>\n",
    "    - [Model 2B - TF-IDF, Random Forests](#Model-2B---TF-IDF,-Random-Forests)<br>\n",
    "    \n",
    "[3.2.5 ADABoost](#3.2.5-ADABoost)<br>\n",
    "    - [Model 3 - TF-IDF, ADAboost](#Model-3---TF-IDF,-ADAboost)<br>\n",
    "    \n",
    "[3.2.6 Support Vector Machines](#3.2.6-Support-Vector-Machines)<br>\n",
    "    - [Model 4 - TF-IDF, SVM](#Model-4---TF-IDF,-SVM)<br>\n",
    "\n",
    "[3.2.7 Summary of Model Performance](#3.2.7-Summary-of-Model-Performance)<br>\n",
    "\n",
    "[3.2.8 Analysis of NB model's Coefficients](#3.2.8-Analysis-of-NB-model's-Coefficients) <br>\n",
    "\n",
    "**[3.3 Conclusion](#3.3-Conclusion)** <br>\n",
    "\n",
    "[3.3.1 Addressing the Problem Statement](#3.3.1-Addressing-the-Problem-Statement)<br>\n",
    "[3.3.2 Limitations and Recommendations](#3.3.2-Limitations-and-Recommendations)<br>\n",
    "\n",
    "---"
   ]
  },
  {
   "cell_type": "code",
   "execution_count": 353,
   "id": "6e73cd34-e756-468c-9e62-b43d099e78bb",
   "metadata": {
    "scrolled": true
   },
   "outputs": [],
   "source": [
    "import pandas as pd\n",
    "import numpy as np\n",
    "import matplotlib.pyplot as plt\n",
    "import seaborn as sns\n",
    "\n",
    "import sklearn\n",
    "from sklearn.model_selection import train_test_split, GridSearchCV\n",
    "from sklearn.pipeline import Pipeline\n",
    "from sklearn.naive_bayes import MultinomialNB\n",
    "from sklearn.linear_model import LogisticRegression\n",
    "from wordcloud import WordCloud, STOPWORDS\n",
    "from nltk.stem import WordNetLemmatizer\n",
    "lemmatizer = WordNetLemmatizer()\n",
    "from sklearn.metrics import confusion_matrix, ConfusionMatrixDisplay, precision_recall_curve\n",
    "from sklearn.metrics import PrecisionRecallDisplay\n",
    "from sklearn.ensemble import RandomForestClassifier, ExtraTreesClassifier\n",
    "from sklearn.metrics import accuracy_score,recall_score,precision_score,f1_score, roc_auc_score\n",
    "from sklearn.ensemble import AdaBoostClassifier\n",
    "from sklearn.svm import LinearSVC, SVC\n",
    "\n",
    "import nltk\n",
    "from nltk.tokenize import sent_tokenize, word_tokenize, RegexpTokenizer\n",
    "from nltk.stem import WordNetLemmatizer\n",
    "from nltk.stem.porter import PorterStemmer\n",
    "from nltk.corpus import stopwords\n",
    "from nltk.sentiment.vader import SentimentIntensityAnalyzer\n",
    "import re\n",
    "import string\n",
    "import pickle\n",
    "\n",
    "from sklearn.feature_extraction.text import CountVectorizer, TfidfVectorizer"
   ]
  },
  {
   "cell_type": "code",
   "execution_count": 349,
   "id": "4cf2cab3-f5a6-49a3-8607-48e380eeb71f",
   "metadata": {},
   "outputs": [],
   "source": [
    "#load picked df\n",
    "df_text = pickle.load(open('../model/df_text.pkl', 'rb'))"
   ]
  },
  {
   "cell_type": "code",
   "execution_count": 350,
   "id": "9b1f787e-2f71-4e0d-b3f8-918ba1102879",
   "metadata": {},
   "outputs": [
    {
     "name": "stdout",
     "output_type": "stream",
     "text": [
      "(24874, 2)\n"
     ]
    },
    {
     "data": {
      "text/html": [
       "<div>\n",
       "<style scoped>\n",
       "    .dataframe tbody tr th:only-of-type {\n",
       "        vertical-align: middle;\n",
       "    }\n",
       "\n",
       "    .dataframe tbody tr th {\n",
       "        vertical-align: top;\n",
       "    }\n",
       "\n",
       "    .dataframe thead th {\n",
       "        text-align: right;\n",
       "    }\n",
       "</style>\n",
       "<table border=\"1\" class=\"dataframe\">\n",
       "  <thead>\n",
       "    <tr style=\"text-align: right;\">\n",
       "      <th></th>\n",
       "      <th>subreddit</th>\n",
       "      <th>title_selftext</th>\n",
       "    </tr>\n",
       "  </thead>\n",
       "  <tbody>\n",
       "    <tr>\n",
       "      <th>1</th>\n",
       "      <td>1</td>\n",
       "      <td>programmers  what are the greatest issues you ...</td>\n",
       "    </tr>\n",
       "    <tr>\n",
       "      <th>2</th>\n",
       "      <td>1</td>\n",
       "      <td>you s  hiring managers  how diverse is your ap...</td>\n",
       "    </tr>\n",
       "    <tr>\n",
       "      <th>3</th>\n",
       "      <td>1</td>\n",
       "      <td>do i need a masters  i am going into my second...</td>\n",
       "    </tr>\n",
       "    <tr>\n",
       "      <th>4</th>\n",
       "      <td>1</td>\n",
       "      <td>how do you describe your job when someone asks...</td>\n",
       "    </tr>\n",
       "    <tr>\n",
       "      <th>5</th>\n",
       "      <td>1</td>\n",
       "      <td>how i quickly rose to senior data scientist an...</td>\n",
       "    </tr>\n",
       "  </tbody>\n",
       "</table>\n",
       "</div>"
      ],
      "text/plain": [
       "   subreddit                                     title_selftext\n",
       "1          1  programmers  what are the greatest issues you ...\n",
       "2          1  you s  hiring managers  how diverse is your ap...\n",
       "3          1  do i need a masters  i am going into my second...\n",
       "4          1  how do you describe your job when someone asks...\n",
       "5          1  how i quickly rose to senior data scientist an..."
      ]
     },
     "execution_count": 350,
     "metadata": {},
     "output_type": "execute_result"
    }
   ],
   "source": [
    "print(df_text.shape)\n",
    "df_text.head()"
   ]
  },
  {
   "cell_type": "markdown",
   "id": "6100f681-a417-4acf-a3e3-217d0c27867b",
   "metadata": {},
   "source": [
    "# 3.1 Preprocessing"
   ]
  },
  {
   "cell_type": "markdown",
   "id": "396ae9cb-83c1-4959-a1ee-93d37bc3353c",
   "metadata": {},
   "source": [
    "## 3.1.1 Stopwords\n",
    "The dataset that is brought in, has already undergone one round of cleaning, tokenization and lemmatization in notebook_2. However, as we further refine the model, we can continue to improve on the function below to cleanup more observed errors in the text."
   ]
  },
  {
   "cell_type": "code",
   "execution_count": 328,
   "id": "6609cd25-8de8-4296-b70f-630d01c9a427",
   "metadata": {},
   "outputs": [],
   "source": [
    "#import stopwords from notebook 2\n",
    "file_path = \"../data/final_stopwords.txt\"\n",
    "final_stopwords = np.loadtxt(file_path, dtype=str)"
   ]
  },
  {
   "cell_type": "code",
   "execution_count": 329,
   "id": "c277d07e-4632-4dbc-90c4-6cfd3c219f5a",
   "metadata": {
    "scrolled": true
   },
   "outputs": [
    {
     "data": {
      "text/plain": [
       "218"
      ]
     },
     "execution_count": 329,
     "metadata": {},
     "output_type": "execute_result"
    }
   ],
   "source": [
    "len(final_stopwords)"
   ]
  },
  {
   "cell_type": "markdown",
   "id": "c4207d78-d133-45ed-ad5d-c4ec9ad13fe4",
   "metadata": {},
   "source": [
    "Various sets of blanket stopwords were tried out with the base model (CVEC, LogReg) to see which set could yield a better preliminary score. Ultimately, these blanket sets were too aggressive and this probably caused data loss and led to alot of crucial two-gram or three-gram words being lost. As a result, the blanket sets with larger numbers of stop words resulted in worse accuracy test scores.\n",
    "\n",
    "|  | Stopwords Description | No of stopwords | Base model Testscore |\n",
    "|----|----|----|----|\n",
    "| **1)** | NLTK English stopwords + <br> handpicked stopwords | 208 | 0.7516 |\n",
    "| **2)** | NLTK English stopwords + <br> handpicked stopwords + <br>bottom 5 percentile of feature words from each subreddit  | 12000+ | 0.7511 |\n",
    "| **3)** | NLTK English stopwords + <br> handpicked stopwords + <br>all common words between both subreddits  | 12000+ | 0.6436 |\n",
    "\n",
    "It was concluded that we should proceed with option 1 - the NLTK 'english' stopwords, together with some additional handpicked stopwords from our EDA in notebook 2."
   ]
  },
  {
   "cell_type": "markdown",
   "id": "ca36cae5-d371-498f-ac49-451be80fc528",
   "metadata": {},
   "source": [
    "---\n",
    "## 3.1.2 Train Test Split"
   ]
  },
  {
   "cell_type": "code",
   "execution_count": 330,
   "id": "5a722866-4efe-4ceb-9a57-2da49e10dff7",
   "metadata": {},
   "outputs": [
    {
     "data": {
      "text/html": [
       "<div>\n",
       "<style scoped>\n",
       "    .dataframe tbody tr th:only-of-type {\n",
       "        vertical-align: middle;\n",
       "    }\n",
       "\n",
       "    .dataframe tbody tr th {\n",
       "        vertical-align: top;\n",
       "    }\n",
       "\n",
       "    .dataframe thead th {\n",
       "        text-align: right;\n",
       "    }\n",
       "</style>\n",
       "<table border=\"1\" class=\"dataframe\">\n",
       "  <thead>\n",
       "    <tr style=\"text-align: right;\">\n",
       "      <th></th>\n",
       "      <th>subreddit</th>\n",
       "      <th>title_selftext</th>\n",
       "    </tr>\n",
       "  </thead>\n",
       "  <tbody>\n",
       "    <tr>\n",
       "      <th>11735</th>\n",
       "      <td>0</td>\n",
       "      <td>no  i am sorry  i did not think like that  i a...</td>\n",
       "    </tr>\n",
       "    <tr>\n",
       "      <th>11736</th>\n",
       "      <td>0</td>\n",
       "      <td>used it  it is pretty nice  already have tools...</td>\n",
       "    </tr>\n",
       "    <tr>\n",
       "      <th>11737</th>\n",
       "      <td>0</td>\n",
       "      <td>i am struggling to see what this adds that i c...</td>\n",
       "    </tr>\n",
       "    <tr>\n",
       "      <th>11738</th>\n",
       "      <td>0</td>\n",
       "      <td>thanks for giving it a shot  it is a great wor...</td>\n",
       "    </tr>\n",
       "    <tr>\n",
       "      <th>11739</th>\n",
       "      <td>0</td>\n",
       "      <td>of course  there is a lot of overlap with othe...</td>\n",
       "    </tr>\n",
       "  </tbody>\n",
       "</table>\n",
       "</div>"
      ],
      "text/plain": [
       "       subreddit                                     title_selftext\n",
       "11735          0  no  i am sorry  i did not think like that  i a...\n",
       "11736          0  used it  it is pretty nice  already have tools...\n",
       "11737          0  i am struggling to see what this adds that i c...\n",
       "11738          0  thanks for giving it a shot  it is a great wor...\n",
       "11739          0  of course  there is a lot of overlap with othe..."
      ]
     },
     "execution_count": 330,
     "metadata": {},
     "output_type": "execute_result"
    }
   ],
   "source": [
    "df_text.tail()"
   ]
  },
  {
   "cell_type": "code",
   "execution_count": 331,
   "id": "5a7faf07-a9e1-47a8-a338-c9d9825b16cc",
   "metadata": {},
   "outputs": [],
   "source": [
    "X = df_text['title_selftext']\n",
    "y = df_text['subreddit']"
   ]
  },
  {
   "cell_type": "code",
   "execution_count": 332,
   "id": "c7d8fc4e-4251-4a73-8e4d-faecb0b76735",
   "metadata": {},
   "outputs": [
    {
     "data": {
      "text/plain": [
       "1    0.517247\n",
       "0    0.482753\n",
       "Name: subreddit, dtype: float64"
      ]
     },
     "execution_count": 332,
     "metadata": {},
     "output_type": "execute_result"
    }
   ],
   "source": [
    "# Check y proportions\n",
    "y.value_counts(normalize = True)"
   ]
  },
  {
   "cell_type": "markdown",
   "id": "81bec70d-a9bd-48af-8073-d7b0a49b4a1e",
   "metadata": {},
   "source": [
    "From the value counts, we can see that our model has a rather balanced class distribution, with ratio being almost 0.5. This is ideal, as there is less bias, and a higher chance that evaluation metrics are more reliable. Balanced classes help the model learn patterns from both classes, leading to better generalization and performance. Nevertheless, we should still use stratify=y to account for the slight imbalance."
   ]
  },
  {
   "cell_type": "markdown",
   "id": "21af2844-064b-4e7c-b2bd-a4727076ba4e",
   "metadata": {},
   "source": [
    "---\n",
    "Train-test-split:"
   ]
  },
  {
   "cell_type": "code",
   "execution_count": 333,
   "id": "d4ea00df-0757-45c3-8ecf-99cc5b76f0e0",
   "metadata": {},
   "outputs": [],
   "source": [
    "# Split the data into the training and testing sets.\n",
    "X_train, X_test, y_train, y_test = train_test_split(X,\n",
    "                                                    y,\n",
    "                                                    test_size=0.33,\n",
    "                                                    stratify=y,\n",
    "                                                    random_state=42)"
   ]
  },
  {
   "cell_type": "markdown",
   "id": "a38e6636-7eb4-49e0-ae91-db538082971d",
   "metadata": {},
   "source": [
    "---\n",
    "# 3.2 Modelling\n",
    "## 3.2.1 Logistic Regression\n",
    "### Base Model - CVEC, LogReg\n",
    "As our base model, the logistic regression model was used as it is computationally efficient and works well on all sized datasets. This is allows us to do quicker tests (like when trying to see if certain feature cleaning techniques or stopwords, etc can improve accuracy). Logistic Regression also provides interpretable results. "
   ]
  },
  {
   "cell_type": "raw",
   "id": "d0a3dc27-f57c-4cbc-8870-a9bb4995e39e",
   "metadata": {},
   "source": [
    "# Create a Porter Stemmer object\n",
    "stemmer = PorterStemmer()\n",
    "\n",
    "def tokenize_and_stem(text):\n",
    "    tokens = nltk.word_tokenize(text)\n",
    "    stemmed_tokens = [stemmer.stem(token) for token in tokens]\n",
    "    return stemmed_tokens"
   ]
  },
  {
   "cell_type": "code",
   "execution_count": 334,
   "id": "de2a7b7b-005c-44ae-9b9f-200664ee892b",
   "metadata": {},
   "outputs": [],
   "source": [
    "# Create a WordNet Lemmatizer object\n",
    "lemmatizer = WordNetLemmatizer()\n",
    "\n",
    "def tokenize_and_lemmatize(text):\n",
    "    tokens = nltk.word_tokenize(text)\n",
    "    lemmatized_tokens = [lemmatizer.lemmatize(token) for token in tokens]\n",
    "    return lemmatized_tokens\n"
   ]
  },
  {
   "cell_type": "markdown",
   "id": "e382d569-3af0-4d9f-a377-bed979efeb4e",
   "metadata": {},
   "source": [
    "##### Lemmatization vs Stemming\n",
    "Between lemmatizing and stemming, there is only a slight difference in scores. I decided to stick to using lemmatization as it was used earlier in notebook 2 to determine the stopwords. Lemmatization also retains the interpretibility of words.<br>\n",
    "Additionally, running stopwords (which are not stemmed) now with the stemmer leads to warning errors. This is something to take note of in future."
   ]
  },
  {
   "cell_type": "code",
   "execution_count": 335,
   "id": "618460fb-9a51-4aca-bab0-2893860c3731",
   "metadata": {},
   "outputs": [],
   "source": [
    "pipe = Pipeline([\n",
    "    ('cvec', CountVectorizer(tokenizer=tokenize_and_lemmatize, stop_words=list(final_stopwords), token_pattern=None)),\n",
    "    ('lr', LogisticRegression(solver='liblinear'))\n",
    "])"
   ]
  },
  {
   "cell_type": "code",
   "execution_count": 336,
   "id": "d7c50dea-e700-4d26-b50f-6b3016ee5c4b",
   "metadata": {},
   "outputs": [
    {
     "data": {
      "text/html": [
       "<style>#sk-container-id-31 {color: black;}#sk-container-id-31 pre{padding: 0;}#sk-container-id-31 div.sk-toggleable {background-color: white;}#sk-container-id-31 label.sk-toggleable__label {cursor: pointer;display: block;width: 100%;margin-bottom: 0;padding: 0.3em;box-sizing: border-box;text-align: center;}#sk-container-id-31 label.sk-toggleable__label-arrow:before {content: \"▸\";float: left;margin-right: 0.25em;color: #696969;}#sk-container-id-31 label.sk-toggleable__label-arrow:hover:before {color: black;}#sk-container-id-31 div.sk-estimator:hover label.sk-toggleable__label-arrow:before {color: black;}#sk-container-id-31 div.sk-toggleable__content {max-height: 0;max-width: 0;overflow: hidden;text-align: left;background-color: #f0f8ff;}#sk-container-id-31 div.sk-toggleable__content pre {margin: 0.2em;color: black;border-radius: 0.25em;background-color: #f0f8ff;}#sk-container-id-31 input.sk-toggleable__control:checked~div.sk-toggleable__content {max-height: 200px;max-width: 100%;overflow: auto;}#sk-container-id-31 input.sk-toggleable__control:checked~label.sk-toggleable__label-arrow:before {content: \"▾\";}#sk-container-id-31 div.sk-estimator input.sk-toggleable__control:checked~label.sk-toggleable__label {background-color: #d4ebff;}#sk-container-id-31 div.sk-label input.sk-toggleable__control:checked~label.sk-toggleable__label {background-color: #d4ebff;}#sk-container-id-31 input.sk-hidden--visually {border: 0;clip: rect(1px 1px 1px 1px);clip: rect(1px, 1px, 1px, 1px);height: 1px;margin: -1px;overflow: hidden;padding: 0;position: absolute;width: 1px;}#sk-container-id-31 div.sk-estimator {font-family: monospace;background-color: #f0f8ff;border: 1px dotted black;border-radius: 0.25em;box-sizing: border-box;margin-bottom: 0.5em;}#sk-container-id-31 div.sk-estimator:hover {background-color: #d4ebff;}#sk-container-id-31 div.sk-parallel-item::after {content: \"\";width: 100%;border-bottom: 1px solid gray;flex-grow: 1;}#sk-container-id-31 div.sk-label:hover label.sk-toggleable__label {background-color: #d4ebff;}#sk-container-id-31 div.sk-serial::before {content: \"\";position: absolute;border-left: 1px solid gray;box-sizing: border-box;top: 0;bottom: 0;left: 50%;z-index: 0;}#sk-container-id-31 div.sk-serial {display: flex;flex-direction: column;align-items: center;background-color: white;padding-right: 0.2em;padding-left: 0.2em;position: relative;}#sk-container-id-31 div.sk-item {position: relative;z-index: 1;}#sk-container-id-31 div.sk-parallel {display: flex;align-items: stretch;justify-content: center;background-color: white;position: relative;}#sk-container-id-31 div.sk-item::before, #sk-container-id-31 div.sk-parallel-item::before {content: \"\";position: absolute;border-left: 1px solid gray;box-sizing: border-box;top: 0;bottom: 0;left: 50%;z-index: -1;}#sk-container-id-31 div.sk-parallel-item {display: flex;flex-direction: column;z-index: 1;position: relative;background-color: white;}#sk-container-id-31 div.sk-parallel-item:first-child::after {align-self: flex-end;width: 50%;}#sk-container-id-31 div.sk-parallel-item:last-child::after {align-self: flex-start;width: 50%;}#sk-container-id-31 div.sk-parallel-item:only-child::after {width: 0;}#sk-container-id-31 div.sk-dashed-wrapped {border: 1px dashed gray;margin: 0 0.4em 0.5em 0.4em;box-sizing: border-box;padding-bottom: 0.4em;background-color: white;}#sk-container-id-31 div.sk-label label {font-family: monospace;font-weight: bold;display: inline-block;line-height: 1.2em;}#sk-container-id-31 div.sk-label-container {text-align: center;}#sk-container-id-31 div.sk-container {/* jupyter's `normalize.less` sets `[hidden] { display: none; }` but bootstrap.min.css set `[hidden] { display: none !important; }` so we also need the `!important` here to be able to override the default hidden behavior on the sphinx rendered scikit-learn.org. See: https://github.com/scikit-learn/scikit-learn/issues/21755 */display: inline-block !important;position: relative;}#sk-container-id-31 div.sk-text-repr-fallback {display: none;}</style><div id=\"sk-container-id-31\" class=\"sk-top-container\"><div class=\"sk-text-repr-fallback\"><pre>Pipeline(steps=[(&#x27;cvec&#x27;,\n",
       "                 CountVectorizer(stop_words=[&#x27;i&#x27;, &#x27;me&#x27;, &#x27;my&#x27;, &#x27;myself&#x27;, &#x27;we&#x27;,\n",
       "                                             &#x27;our&#x27;, &#x27;ours&#x27;, &#x27;ourselves&#x27;, &#x27;you&#x27;,\n",
       "                                             &#x27;youre&#x27;, &#x27;youve&#x27;, &#x27;youll&#x27;, &#x27;youd&#x27;,\n",
       "                                             &#x27;your&#x27;, &#x27;yours&#x27;, &#x27;yourself&#x27;,\n",
       "                                             &#x27;yourselves&#x27;, &#x27;he&#x27;, &#x27;him&#x27;, &#x27;his&#x27;,\n",
       "                                             &#x27;himself&#x27;, &#x27;she&#x27;, &#x27;shes&#x27;, &#x27;her&#x27;,\n",
       "                                             &#x27;hers&#x27;, &#x27;herself&#x27;, &#x27;it&#x27;, &#x27;its&#x27;,\n",
       "                                             &#x27;its&#x27;, &#x27;itself&#x27;, ...],\n",
       "                                 token_pattern=None,\n",
       "                                 tokenizer=&lt;function tokenize_and_lemmatize at 0x00000190025DC3A0&gt;)),\n",
       "                (&#x27;lr&#x27;, LogisticRegression(solver=&#x27;liblinear&#x27;))])</pre><b>In a Jupyter environment, please rerun this cell to show the HTML representation or trust the notebook. <br />On GitHub, the HTML representation is unable to render, please try loading this page with nbviewer.org.</b></div><div class=\"sk-container\" hidden><div class=\"sk-item sk-dashed-wrapped\"><div class=\"sk-label-container\"><div class=\"sk-label sk-toggleable\"><input class=\"sk-toggleable__control sk-hidden--visually\" id=\"sk-estimator-id-95\" type=\"checkbox\" ><label for=\"sk-estimator-id-95\" class=\"sk-toggleable__label sk-toggleable__label-arrow\">Pipeline</label><div class=\"sk-toggleable__content\"><pre>Pipeline(steps=[(&#x27;cvec&#x27;,\n",
       "                 CountVectorizer(stop_words=[&#x27;i&#x27;, &#x27;me&#x27;, &#x27;my&#x27;, &#x27;myself&#x27;, &#x27;we&#x27;,\n",
       "                                             &#x27;our&#x27;, &#x27;ours&#x27;, &#x27;ourselves&#x27;, &#x27;you&#x27;,\n",
       "                                             &#x27;youre&#x27;, &#x27;youve&#x27;, &#x27;youll&#x27;, &#x27;youd&#x27;,\n",
       "                                             &#x27;your&#x27;, &#x27;yours&#x27;, &#x27;yourself&#x27;,\n",
       "                                             &#x27;yourselves&#x27;, &#x27;he&#x27;, &#x27;him&#x27;, &#x27;his&#x27;,\n",
       "                                             &#x27;himself&#x27;, &#x27;she&#x27;, &#x27;shes&#x27;, &#x27;her&#x27;,\n",
       "                                             &#x27;hers&#x27;, &#x27;herself&#x27;, &#x27;it&#x27;, &#x27;its&#x27;,\n",
       "                                             &#x27;its&#x27;, &#x27;itself&#x27;, ...],\n",
       "                                 token_pattern=None,\n",
       "                                 tokenizer=&lt;function tokenize_and_lemmatize at 0x00000190025DC3A0&gt;)),\n",
       "                (&#x27;lr&#x27;, LogisticRegression(solver=&#x27;liblinear&#x27;))])</pre></div></div></div><div class=\"sk-serial\"><div class=\"sk-item\"><div class=\"sk-estimator sk-toggleable\"><input class=\"sk-toggleable__control sk-hidden--visually\" id=\"sk-estimator-id-96\" type=\"checkbox\" ><label for=\"sk-estimator-id-96\" class=\"sk-toggleable__label sk-toggleable__label-arrow\">CountVectorizer</label><div class=\"sk-toggleable__content\"><pre>CountVectorizer(stop_words=[&#x27;i&#x27;, &#x27;me&#x27;, &#x27;my&#x27;, &#x27;myself&#x27;, &#x27;we&#x27;, &#x27;our&#x27;, &#x27;ours&#x27;,\n",
       "                            &#x27;ourselves&#x27;, &#x27;you&#x27;, &#x27;youre&#x27;, &#x27;youve&#x27;, &#x27;youll&#x27;,\n",
       "                            &#x27;youd&#x27;, &#x27;your&#x27;, &#x27;yours&#x27;, &#x27;yourself&#x27;, &#x27;yourselves&#x27;,\n",
       "                            &#x27;he&#x27;, &#x27;him&#x27;, &#x27;his&#x27;, &#x27;himself&#x27;, &#x27;she&#x27;, &#x27;shes&#x27;, &#x27;her&#x27;,\n",
       "                            &#x27;hers&#x27;, &#x27;herself&#x27;, &#x27;it&#x27;, &#x27;its&#x27;, &#x27;its&#x27;, &#x27;itself&#x27;, ...],\n",
       "                token_pattern=None,\n",
       "                tokenizer=&lt;function tokenize_and_lemmatize at 0x00000190025DC3A0&gt;)</pre></div></div></div><div class=\"sk-item\"><div class=\"sk-estimator sk-toggleable\"><input class=\"sk-toggleable__control sk-hidden--visually\" id=\"sk-estimator-id-97\" type=\"checkbox\" ><label for=\"sk-estimator-id-97\" class=\"sk-toggleable__label sk-toggleable__label-arrow\">LogisticRegression</label><div class=\"sk-toggleable__content\"><pre>LogisticRegression(solver=&#x27;liblinear&#x27;)</pre></div></div></div></div></div></div></div>"
      ],
      "text/plain": [
       "Pipeline(steps=[('cvec',\n",
       "                 CountVectorizer(stop_words=['i', 'me', 'my', 'myself', 'we',\n",
       "                                             'our', 'ours', 'ourselves', 'you',\n",
       "                                             'youre', 'youve', 'youll', 'youd',\n",
       "                                             'your', 'yours', 'yourself',\n",
       "                                             'yourselves', 'he', 'him', 'his',\n",
       "                                             'himself', 'she', 'shes', 'her',\n",
       "                                             'hers', 'herself', 'it', 'its',\n",
       "                                             'its', 'itself', ...],\n",
       "                                 token_pattern=None,\n",
       "                                 tokenizer=<function tokenize_and_lemmatize at 0x00000190025DC3A0>)),\n",
       "                ('lr', LogisticRegression(solver='liblinear'))])"
      ]
     },
     "execution_count": 336,
     "metadata": {},
     "output_type": "execute_result"
    }
   ],
   "source": [
    "#Fit the model\n",
    "pipe.fit(X_train, y_train)"
   ]
  },
  {
   "cell_type": "code",
   "execution_count": 337,
   "id": "3355fc99-7cb2-4470-8087-cc8acab10567",
   "metadata": {},
   "outputs": [
    {
     "name": "stdout",
     "output_type": "stream",
     "text": [
      "Train Accuracy Score: 0.9112\n"
     ]
    }
   ],
   "source": [
    "#Train score\n",
    "acc_tr = pipe.score(X_train, y_train)\n",
    "print(f'Train Accuracy Score: {round(acc_tr, 4)}')"
   ]
  },
  {
   "cell_type": "code",
   "execution_count": 338,
   "id": "9082ea47-3408-4837-ba1f-476cc5cc4247",
   "metadata": {},
   "outputs": [
    {
     "name": "stdout",
     "output_type": "stream",
     "text": [
      "Test Accuracy Score: 0.7481\n"
     ]
    }
   ],
   "source": [
    "#Test score\n",
    "acc_te = pipe.score(X_test, y_test)\n",
    "print(f'Test Accuracy Score: {round(acc_te, 4)}')"
   ]
  },
  {
   "cell_type": "markdown",
   "id": "b648b3fe-9510-4c49-801f-0637052a1e84",
   "metadata": {},
   "source": [
    "### Findings - Log Reg\n",
    "From our logreg base model, we can see quite drastic overfitting in the model. For later models, we should use grid search to help us narrow down on the ideal hyperparameters to be used to reduce overfitting.<br>Parameters like max feature selection, regularisation could help us reduce overfitting."
   ]
  },
  {
   "cell_type": "markdown",
   "id": "711061b1-748d-470d-a5c3-c1d1d1a43c1d",
   "metadata": {},
   "source": [
    "---\n",
    "## 3.2.2 Model Evaluation Metrics\n",
    "To evaluate the models, the metrics of **Accuracy** and **F1 Score** will be used.\n",
    "\n",
    "* **Accuracy**: Since the goal is to classify comments and queries into data science or data engineering categories, an accurate measure of how often the model is correct is of primary importance. Our dataset used for the training model is also relatively balanced.\n",
    "\n",
    "* **F1 Score**: (the harmonic mean of precision and recall) As my model is just slightly imbalanced (0.51:0.48 ratio), i decided to consider F1 score as it is a good overall measure to balance precision and recall. Since the model would be used to categorize the comments and queries from the GA open discussion platform into the categories of data science or data engineering, we do not need to prioritize predicting of positives or negatives. This metric is hence useful when the consequences of false positives and false negatives are not heavily skewed.\n",
    "\n",
    "* Specificity measures the proportion of actual negatives that are correctly predicted as negatives. Sensitivity measures the proportion of actual positives that are correctly predicted as positives. Precision measures the proportion of predicted positives that are actually positive. <br>Since we have no priority in predicting positive or negative cases as we are mainly sorting comments/queries, we do not particularly need to evaluate specificity, sensitivity or precision.\n",
    "\n",
    "* In essence, the combined use of accuracy and the F1 Score offers a comprehensive evaluation strategy that considers both the balanced nature of the dataset and the specific nuances of the categorization task, ensuring a robust assessment of the model's performance.\n"
   ]
  },
  {
   "cell_type": "markdown",
   "id": "7d6a4537-0fdf-4b5d-8657-c9edff9b1aaa",
   "metadata": {},
   "source": [
    "### Performance Metrics Functions"
   ]
  },
  {
   "cell_type": "markdown",
   "id": "28465ed2-261d-420f-8c1c-dcbd7c940e96",
   "metadata": {},
   "source": [
    "Create a function that prints all the performance metrics for our models (TRAIN), as well as the confusion matrix:"
   ]
  },
  {
   "cell_type": "code",
   "execution_count": 339,
   "id": "1422e059-ff75-4d53-9d62-24b67a317562",
   "metadata": {},
   "outputs": [],
   "source": [
    "def perf_measure_train(model, X_train, y_train):\n",
    "    \n",
    "    #Input model, X_test and y_test -- Output Accuracy, Sensitibity, Specificity, Precision, F1 Score\n",
    "    y_pred_tr = model.predict(X_train)\n",
    "    tn, fp, fn, tp = confusion_matrix(y_train, y_pred_tr).ravel()\n",
    "    cm = confusion_matrix(y_train, y_pred_tr)\n",
    "    \n",
    "    print('MODEL PERFORMANCE:')\n",
    "    # accuracy = (tn + tp) / (tn + fp + fn + tp) \n",
    "    accuracy = accuracy_score(y_train, y_pred_tr) \n",
    "    print(f'Accuracy: {round(accuracy, 4)}')\n",
    "    \n",
    "    # f1score = 2 * (precision*sensitivity) / (precision + sensitivity)\n",
    "    f1score = f1_score(y_train, y_pred_tr)\n",
    "    print(f'F1 score: {round(f1score, 4)}')\n",
    "    "
   ]
  },
  {
   "cell_type": "markdown",
   "id": "4c883b9f-0b43-465d-8f4f-12d96851e6ca",
   "metadata": {},
   "source": [
    "Create a function that prints all the performance metrics for our models (TEST), as well as the confusion matrix:"
   ]
  },
  {
   "cell_type": "code",
   "execution_count": 340,
   "id": "8b3a3a11-063b-49ca-9957-0888adbd6022",
   "metadata": {},
   "outputs": [],
   "source": [
    "def perf_measure_test(model, X_test, y_test):\n",
    "    \n",
    "    #Input model, X_test and y_test -- Output Accuracy, Sensitibity, Specificity, Precision, F1 Score\n",
    "    y_pred = model.predict(X_test)\n",
    "    tn, fp, fn, tp = confusion_matrix(y_test, y_pred).ravel()\n",
    "    cm = confusion_matrix(y_test, y_pred)\n",
    "    disp = ConfusionMatrixDisplay(confusion_matrix=cm,\n",
    "                              display_labels=model.classes_)\n",
    "    disp.plot();\n",
    "    \n",
    "    print('MODEL PERFORMANCE:')\n",
    "    # accuracy = (tn + tp) / (tn + fp + fn + tp) \n",
    "    accuracy = accuracy_score(y_test, y_pred) \n",
    "    print(f'Accuracy: {round(accuracy, 4)}')\n",
    "    \n",
    "    # f1score = 2 * (precision*sensitivity) / (precision + sensitivity)\n",
    "    f1score = f1_score(y_test, y_pred)\n",
    "    print(f'F1 score: {round(f1score, 4)}')\n"
   ]
  },
  {
   "cell_type": "markdown",
   "id": "f5912ac6-28a7-4fb7-ae5c-2727d8a30e76",
   "metadata": {},
   "source": [
    "Create a function to plot precision-recall curve:"
   ]
  },
  {
   "cell_type": "code",
   "execution_count": 363,
   "id": "6b3fe9ee-0da1-49f8-ba1f-b48da30ffd13",
   "metadata": {},
   "outputs": [],
   "source": [
    "def plot_precision_recall_curve(model, X_test, y_test):\n",
    "    y_scores = model.predict_proba(X_test)[:, 1]\n",
    "    precision, recall, _ = precision_recall_curve(y_test, y_scores)\n",
    "\n",
    "    # Plot Precision-Recall curve\n",
    "    plt.figure(figsize=(6, 4))\n",
    "    plt.plot(recall, precision, color='blue', marker='o', markersize=1)\n",
    "    plt.xlabel('Recall')\n",
    "    plt.ylabel('Precision')\n",
    "    plt.title('Precision-Recall Curve')\n",
    "    plt.grid(True)\n",
    "    plt.show()\n"
   ]
  },
  {
   "cell_type": "markdown",
   "id": "4b453d14-b099-4623-8fa2-3dbbe6dcb843",
   "metadata": {},
   "source": [
    "---\n",
    "## 3.2.3 Naive Bayes\n",
    "Next, Naive Bayes model was explored. This model is selected as it is relatively fast to train and make predictions, making it suitable for real-time or large-scale applications like the open discussion platform that GA plans to implement. Naive Bayes is also good for Text Classification - it is commonly used for text classification tasks due to its efficiency and ability to handle high-dimensional, sparse data like word frequencies.\n",
    "\n",
    "### Model 1A - CVEC, NB"
   ]
  },
  {
   "cell_type": "code",
   "execution_count": 344,
   "id": "a4be9e61-159c-48a4-8a44-acad09900f0b",
   "metadata": {},
   "outputs": [],
   "source": [
    "#load picked models\n",
    "gs_cvecnb = pickle.load(open('../model/gs_cvecnb.pkl', 'rb'))\n",
    "best_model_cvecnb = pickle.load(open('../model/best_model_cvecnb.pkl', 'rb'))"
   ]
  },
  {
   "cell_type": "code",
   "execution_count": 343,
   "id": "777a0326-0706-4a11-98b4-a4f094ef9c35",
   "metadata": {},
   "outputs": [],
   "source": [
    "pipe = Pipeline([\n",
    "    ('cvec', CountVectorizer(tokenizer=tokenize_and_lemmatize, stop_words = list(final_stopwords), token_pattern=None)),\n",
    "    ('nb', MultinomialNB())\n",
    "])"
   ]
  },
  {
   "cell_type": "code",
   "execution_count": null,
   "id": "62d1fd62-eac6-4df2-88f6-ee6d20707109",
   "metadata": {},
   "outputs": [],
   "source": [
    "pipe_params = {\n",
    "    'cvec__max_features': [5_000],\n",
    "    'cvec__min_df': [2, 3],\n",
    "    'cvec__max_df': [.9, .95],\n",
    "    'cvec__ngram_range': [(1,1), (1,2)],\n",
    "}"
   ]
  },
  {
   "cell_type": "code",
   "execution_count": null,
   "id": "c740f3cf-b904-43bc-b9f8-f46a5c950a8a",
   "metadata": {},
   "outputs": [],
   "source": [
    "gs_cvecnb = GridSearchCV(pipe,\n",
    "                  param_grid=pipe_params, \n",
    "                  cv=5,\n",
    "                  error_score='raise') "
   ]
  },
  {
   "cell_type": "code",
   "execution_count": null,
   "id": "d75e9b38-f930-4c0b-834f-084dc18eecba",
   "metadata": {},
   "outputs": [],
   "source": [
    "#Train pipeline on training data\n",
    "gs_cvecnb.fit(X_train, y_train)"
   ]
  },
  {
   "cell_type": "code",
   "execution_count": 345,
   "id": "2043ff3b-a67c-4177-9315-94c8e62daaf0",
   "metadata": {},
   "outputs": [
    {
     "name": "stdout",
     "output_type": "stream",
     "text": [
      "0.762112717615816\n",
      "{'cvec__max_df': 0.9, 'cvec__max_features': 5000, 'cvec__min_df': 3, 'cvec__ngram_range': (1, 1)}\n",
      "Pipeline(steps=[('cvec',\n",
      "                 CountVectorizer(max_df=0.9, max_features=5000, min_df=3,\n",
      "                                 stop_words=['i', 'me', 'my', 'myself', 'we',\n",
      "                                             'our', 'ours', 'ourselves', 'you',\n",
      "                                             'youre', 'youve', 'youll', 'youd',\n",
      "                                             'your', 'yours', 'yourself',\n",
      "                                             'yourselves', 'he', 'him', 'his',\n",
      "                                             'himself', 'she', 'shes', 'her',\n",
      "                                             'hers', 'herself', 'it', 'its',\n",
      "                                             'its', 'itself', ...],\n",
      "                                 token_pattern=None,\n",
      "                                 tokenizer=<function tokenize_and_lemmatize at 0x00000190025DC3A0>)),\n",
      "                ('nb', MultinomialNB())])\n"
     ]
    }
   ],
   "source": [
    "best_score_cvecnb = gs_cvecnb.best_score_\n",
    "best_params_cvecnb = gs_cvecnb.best_params_\n",
    "best_model_cvecnb = gs_cvecnb.best_estimator_\n",
    "\n",
    "print(best_score_cvecnb)\n",
    "print(best_params_cvecnb)\n",
    "print(best_model_cvecnb)"
   ]
  },
  {
   "cell_type": "code",
   "execution_count": null,
   "id": "58e9e66e-8e70-4d64-b618-b7db4f2f2f55",
   "metadata": {},
   "outputs": [],
   "source": [
    "# Train the best model on the full training data\n",
    "best_model_cvecnb.fit(X_train, y_train)"
   ]
  },
  {
   "cell_type": "raw",
   "id": "c136e701-f5c7-4f43-936d-94e668057c30",
   "metadata": {},
   "source": [
    "#pickle the models\n",
    "pickle.dump(gs_cvecnb, open('../model/gs_cvecnb.pkl', 'wb'))\n",
    "pickle.dump(best_model_cvecnb, open('../model/best_model_cvecnb.pkl', 'wb'))"
   ]
  },
  {
   "cell_type": "code",
   "execution_count": 346,
   "id": "aa368b41-d9cc-47a0-bebe-ae4d2d9ff24a",
   "metadata": {},
   "outputs": [
    {
     "name": "stdout",
     "output_type": "stream",
     "text": [
      "MODEL PERFORMANCE:\n",
      "Accuracy: 0.7793\n",
      "F1 score: 0.8002\n"
     ]
    }
   ],
   "source": [
    "# Score model on training set.\n",
    "perf_measure_train(best_model_cvecnb, X_train, y_train)"
   ]
  },
  {
   "cell_type": "code",
   "execution_count": 347,
   "id": "964bd3fb-8c2d-4cd0-aed8-94ebf1f64d81",
   "metadata": {},
   "outputs": [
    {
     "name": "stdout",
     "output_type": "stream",
     "text": [
      "MODEL PERFORMANCE:\n",
      "Accuracy: 0.7752\n",
      "F1 score: 0.7973\n"
     ]
    },
    {
     "data": {
      "image/png": "[encoded data removed]",
      "text/plain": [
       "<Figure size 640x480 with 2 Axes>"
      ]
     },
     "metadata": {},
     "output_type": "display_data"
    }
   ],
   "source": [
    "# Score model on testing set.\n",
    "perf_measure_test(best_model_cvecnb, X_test, y_test)"
   ]
  },
  {
   "cell_type": "code",
   "execution_count": 364,
   "id": "f4c4f90a-db32-44bd-9f3b-08a0240e8744",
   "metadata": {},
   "outputs": [
    {
     "data": {
      "image/png": "[encoded data removed]",
      "text/plain": [
       "<Figure size 600x400 with 1 Axes>"
      ]
     },
     "metadata": {},
     "output_type": "display_data"
    }
   ],
   "source": [
    "plot_precision_recall_curve(best_model_cvecnb, X_test, y_test)"
   ]
  },
  {
   "cell_type": "markdown",
   "id": "22b0bbe4-a41e-40e0-b73b-23ae0be0b475",
   "metadata": {},
   "source": [
    "---\n",
    "### Model 1B - TF-IDF, NB"
   ]
  },
  {
   "cell_type": "code",
   "execution_count": 237,
   "id": "498fcef6-6370-4f85-bd29-ab03778ccb5b",
   "metadata": {},
   "outputs": [],
   "source": [
    "#load picked models\n",
    "gs_tvecnb = pickle.load(open('../model/gs_tvecnb.pkl', 'rb'))\n",
    "best_model_tvecnb = pickle.load(open('../model/best_model_tvecnb.pkl', 'rb'))"
   ]
  },
  {
   "cell_type": "code",
   "execution_count": 243,
   "id": "98bc5644-734d-4fce-be83-0f074e159075",
   "metadata": {},
   "outputs": [],
   "source": [
    "# Instantiate and fit the transformer.\n",
    "tvec = TfidfVectorizer()\n",
    "\n",
    "# Set up a pipeline with tf-idf vectorizer and multinomial naive bayes\n",
    "\n",
    "pipe_tvecnb = Pipeline([\n",
    "    ('tvec', TfidfVectorizer(tokenizer=tokenize_and_lemmatize, stop_words = list(final_stopwords), token_pattern=None)),\n",
    "    ('nb', MultinomialNB())\n",
    "])\n",
    "\n",
    "# Search over the following values of hyperparameters:\n",
    "pipe_tvecnb_params = {\n",
    "    'tvec__max_features': [5_000],\n",
    "    'tvec__min_df': [2, 3],\n",
    "    'tvec__max_df': [.9],\n",
    "    'tvec__ngram_range': [(1,1), (1,2)]\n",
    "}"
   ]
  },
  {
   "cell_type": "code",
   "execution_count": 244,
   "id": "27db64db-6968-46cd-aff0-3b6684b3f953",
   "metadata": {},
   "outputs": [],
   "source": [
    "gs_tvecnb = GridSearchCV(pipe_tvecnb, \n",
    "                        param_grid = pipe_tvecnb_params, \n",
    "                        cv=3,\n",
    "                       error_score='raise')"
   ]
  },
  {
   "cell_type": "code",
   "execution_count": 245,
   "id": "08831c11-72d1-4ba1-ae2b-e444fe7f42a1",
   "metadata": {},
   "outputs": [
    {
     "data": {
      "text/html": [
       "<style>#sk-container-id-29 {color: black;}#sk-container-id-29 pre{padding: 0;}#sk-container-id-29 div.sk-toggleable {background-color: white;}#sk-container-id-29 label.sk-toggleable__label {cursor: pointer;display: block;width: 100%;margin-bottom: 0;padding: 0.3em;box-sizing: border-box;text-align: center;}#sk-container-id-29 label.sk-toggleable__label-arrow:before {content: \"▸\";float: left;margin-right: 0.25em;color: #696969;}#sk-container-id-29 label.sk-toggleable__label-arrow:hover:before {color: black;}#sk-container-id-29 div.sk-estimator:hover label.sk-toggleable__label-arrow:before {color: black;}#sk-container-id-29 div.sk-toggleable__content {max-height: 0;max-width: 0;overflow: hidden;text-align: left;background-color: #f0f8ff;}#sk-container-id-29 div.sk-toggleable__content pre {margin: 0.2em;color: black;border-radius: 0.25em;background-color: #f0f8ff;}#sk-container-id-29 input.sk-toggleable__control:checked~div.sk-toggleable__content {max-height: 200px;max-width: 100%;overflow: auto;}#sk-container-id-29 input.sk-toggleable__control:checked~label.sk-toggleable__label-arrow:before {content: \"▾\";}#sk-container-id-29 div.sk-estimator input.sk-toggleable__control:checked~label.sk-toggleable__label {background-color: #d4ebff;}#sk-container-id-29 div.sk-label input.sk-toggleable__control:checked~label.sk-toggleable__label {background-color: #d4ebff;}#sk-container-id-29 input.sk-hidden--visually {border: 0;clip: rect(1px 1px 1px 1px);clip: rect(1px, 1px, 1px, 1px);height: 1px;margin: -1px;overflow: hidden;padding: 0;position: absolute;width: 1px;}#sk-container-id-29 div.sk-estimator {font-family: monospace;background-color: #f0f8ff;border: 1px dotted black;border-radius: 0.25em;box-sizing: border-box;margin-bottom: 0.5em;}#sk-container-id-29 div.sk-estimator:hover {background-color: #d4ebff;}#sk-container-id-29 div.sk-parallel-item::after {content: \"\";width: 100%;border-bottom: 1px solid gray;flex-grow: 1;}#sk-container-id-29 div.sk-label:hover label.sk-toggleable__label {background-color: #d4ebff;}#sk-container-id-29 div.sk-serial::before {content: \"\";position: absolute;border-left: 1px solid gray;box-sizing: border-box;top: 0;bottom: 0;left: 50%;z-index: 0;}#sk-container-id-29 div.sk-serial {display: flex;flex-direction: column;align-items: center;background-color: white;padding-right: 0.2em;padding-left: 0.2em;position: relative;}#sk-container-id-29 div.sk-item {position: relative;z-index: 1;}#sk-container-id-29 div.sk-parallel {display: flex;align-items: stretch;justify-content: center;background-color: white;position: relative;}#sk-container-id-29 div.sk-item::before, #sk-container-id-29 div.sk-parallel-item::before {content: \"\";position: absolute;border-left: 1px solid gray;box-sizing: border-box;top: 0;bottom: 0;left: 50%;z-index: -1;}#sk-container-id-29 div.sk-parallel-item {display: flex;flex-direction: column;z-index: 1;position: relative;background-color: white;}#sk-container-id-29 div.sk-parallel-item:first-child::after {align-self: flex-end;width: 50%;}#sk-container-id-29 div.sk-parallel-item:last-child::after {align-self: flex-start;width: 50%;}#sk-container-id-29 div.sk-parallel-item:only-child::after {width: 0;}#sk-container-id-29 div.sk-dashed-wrapped {border: 1px dashed gray;margin: 0 0.4em 0.5em 0.4em;box-sizing: border-box;padding-bottom: 0.4em;background-color: white;}#sk-container-id-29 div.sk-label label {font-family: monospace;font-weight: bold;display: inline-block;line-height: 1.2em;}#sk-container-id-29 div.sk-label-container {text-align: center;}#sk-container-id-29 div.sk-container {/* jupyter's `normalize.less` sets `[hidden] { display: none; }` but bootstrap.min.css set `[hidden] { display: none !important; }` so we also need the `!important` here to be able to override the default hidden behavior on the sphinx rendered scikit-learn.org. See: https://github.com/scikit-learn/scikit-learn/issues/21755 */display: inline-block !important;position: relative;}#sk-container-id-29 div.sk-text-repr-fallback {display: none;}</style><div id=\"sk-container-id-29\" class=\"sk-top-container\"><div class=\"sk-text-repr-fallback\"><pre>GridSearchCV(cv=3, error_score=&#x27;raise&#x27;,\n",
       "             estimator=Pipeline(steps=[(&#x27;tvec&#x27;,\n",
       "                                        TfidfVectorizer(stop_words=[&#x27;i&#x27;, &#x27;me&#x27;,\n",
       "                                                                    &#x27;my&#x27;,\n",
       "                                                                    &#x27;myself&#x27;,\n",
       "                                                                    &#x27;we&#x27;, &#x27;our&#x27;,\n",
       "                                                                    &#x27;ours&#x27;,\n",
       "                                                                    &#x27;ourselves&#x27;,\n",
       "                                                                    &#x27;you&#x27;,\n",
       "                                                                    &#x27;youre&#x27;,\n",
       "                                                                    &#x27;youve&#x27;,\n",
       "                                                                    &#x27;youll&#x27;,\n",
       "                                                                    &#x27;youd&#x27;,\n",
       "                                                                    &#x27;your&#x27;,\n",
       "                                                                    &#x27;yours&#x27;,\n",
       "                                                                    &#x27;yourself&#x27;,\n",
       "                                                                    &#x27;yourselves&#x27;,\n",
       "                                                                    &#x27;he&#x27;, &#x27;him&#x27;,\n",
       "                                                                    &#x27;his&#x27;,\n",
       "                                                                    &#x27;himself&#x27;,\n",
       "                                                                    &#x27;she&#x27;,\n",
       "                                                                    &#x27;shes&#x27;,\n",
       "                                                                    &#x27;her&#x27;,\n",
       "                                                                    &#x27;hers&#x27;,\n",
       "                                                                    &#x27;herself&#x27;,\n",
       "                                                                    &#x27;it&#x27;, &#x27;its&#x27;,\n",
       "                                                                    &#x27;its&#x27;,\n",
       "                                                                    &#x27;itself&#x27;, ...],\n",
       "                                                        token_pattern=None,\n",
       "                                                        tokenizer=&lt;function tokenize_and_lemmatize at 0x0000019078B72820&gt;)),\n",
       "                                       (&#x27;nb&#x27;, MultinomialNB())]),\n",
       "             param_grid={&#x27;tvec__max_df&#x27;: [0.9], &#x27;tvec__max_features&#x27;: [5000],\n",
       "                         &#x27;tvec__min_df&#x27;: [2, 3],\n",
       "                         &#x27;tvec__ngram_range&#x27;: [(1, 1), (1, 2)]})</pre><b>In a Jupyter environment, please rerun this cell to show the HTML representation or trust the notebook. <br />On GitHub, the HTML representation is unable to render, please try loading this page with nbviewer.org.</b></div><div class=\"sk-container\" hidden><div class=\"sk-item sk-dashed-wrapped\"><div class=\"sk-label-container\"><div class=\"sk-label sk-toggleable\"><input class=\"sk-toggleable__control sk-hidden--visually\" id=\"sk-estimator-id-88\" type=\"checkbox\" ><label for=\"sk-estimator-id-88\" class=\"sk-toggleable__label sk-toggleable__label-arrow\">GridSearchCV</label><div class=\"sk-toggleable__content\"><pre>GridSearchCV(cv=3, error_score=&#x27;raise&#x27;,\n",
       "             estimator=Pipeline(steps=[(&#x27;tvec&#x27;,\n",
       "                                        TfidfVectorizer(stop_words=[&#x27;i&#x27;, &#x27;me&#x27;,\n",
       "                                                                    &#x27;my&#x27;,\n",
       "                                                                    &#x27;myself&#x27;,\n",
       "                                                                    &#x27;we&#x27;, &#x27;our&#x27;,\n",
       "                                                                    &#x27;ours&#x27;,\n",
       "                                                                    &#x27;ourselves&#x27;,\n",
       "                                                                    &#x27;you&#x27;,\n",
       "                                                                    &#x27;youre&#x27;,\n",
       "                                                                    &#x27;youve&#x27;,\n",
       "                                                                    &#x27;youll&#x27;,\n",
       "                                                                    &#x27;youd&#x27;,\n",
       "                                                                    &#x27;your&#x27;,\n",
       "                                                                    &#x27;yours&#x27;,\n",
       "                                                                    &#x27;yourself&#x27;,\n",
       "                                                                    &#x27;yourselves&#x27;,\n",
       "                                                                    &#x27;he&#x27;, &#x27;him&#x27;,\n",
       "                                                                    &#x27;his&#x27;,\n",
       "                                                                    &#x27;himself&#x27;,\n",
       "                                                                    &#x27;she&#x27;,\n",
       "                                                                    &#x27;shes&#x27;,\n",
       "                                                                    &#x27;her&#x27;,\n",
       "                                                                    &#x27;hers&#x27;,\n",
       "                                                                    &#x27;herself&#x27;,\n",
       "                                                                    &#x27;it&#x27;, &#x27;its&#x27;,\n",
       "                                                                    &#x27;its&#x27;,\n",
       "                                                                    &#x27;itself&#x27;, ...],\n",
       "                                                        token_pattern=None,\n",
       "                                                        tokenizer=&lt;function tokenize_and_lemmatize at 0x0000019078B72820&gt;)),\n",
       "                                       (&#x27;nb&#x27;, MultinomialNB())]),\n",
       "             param_grid={&#x27;tvec__max_df&#x27;: [0.9], &#x27;tvec__max_features&#x27;: [5000],\n",
       "                         &#x27;tvec__min_df&#x27;: [2, 3],\n",
       "                         &#x27;tvec__ngram_range&#x27;: [(1, 1), (1, 2)]})</pre></div></div></div><div class=\"sk-parallel\"><div class=\"sk-parallel-item\"><div class=\"sk-item\"><div class=\"sk-label-container\"><div class=\"sk-label sk-toggleable\"><input class=\"sk-toggleable__control sk-hidden--visually\" id=\"sk-estimator-id-89\" type=\"checkbox\" ><label for=\"sk-estimator-id-89\" class=\"sk-toggleable__label sk-toggleable__label-arrow\">estimator: Pipeline</label><div class=\"sk-toggleable__content\"><pre>Pipeline(steps=[(&#x27;tvec&#x27;,\n",
       "                 TfidfVectorizer(stop_words=[&#x27;i&#x27;, &#x27;me&#x27;, &#x27;my&#x27;, &#x27;myself&#x27;, &#x27;we&#x27;,\n",
       "                                             &#x27;our&#x27;, &#x27;ours&#x27;, &#x27;ourselves&#x27;, &#x27;you&#x27;,\n",
       "                                             &#x27;youre&#x27;, &#x27;youve&#x27;, &#x27;youll&#x27;, &#x27;youd&#x27;,\n",
       "                                             &#x27;your&#x27;, &#x27;yours&#x27;, &#x27;yourself&#x27;,\n",
       "                                             &#x27;yourselves&#x27;, &#x27;he&#x27;, &#x27;him&#x27;, &#x27;his&#x27;,\n",
       "                                             &#x27;himself&#x27;, &#x27;she&#x27;, &#x27;shes&#x27;, &#x27;her&#x27;,\n",
       "                                             &#x27;hers&#x27;, &#x27;herself&#x27;, &#x27;it&#x27;, &#x27;its&#x27;,\n",
       "                                             &#x27;its&#x27;, &#x27;itself&#x27;, ...],\n",
       "                                 token_pattern=None,\n",
       "                                 tokenizer=&lt;function tokenize_and_lemmatize at 0x0000019078B72820&gt;)),\n",
       "                (&#x27;nb&#x27;, MultinomialNB())])</pre></div></div></div><div class=\"sk-serial\"><div class=\"sk-item\"><div class=\"sk-serial\"><div class=\"sk-item\"><div class=\"sk-estimator sk-toggleable\"><input class=\"sk-toggleable__control sk-hidden--visually\" id=\"sk-estimator-id-90\" type=\"checkbox\" ><label for=\"sk-estimator-id-90\" class=\"sk-toggleable__label sk-toggleable__label-arrow\">TfidfVectorizer</label><div class=\"sk-toggleable__content\"><pre>TfidfVectorizer(stop_words=[&#x27;i&#x27;, &#x27;me&#x27;, &#x27;my&#x27;, &#x27;myself&#x27;, &#x27;we&#x27;, &#x27;our&#x27;, &#x27;ours&#x27;,\n",
       "                            &#x27;ourselves&#x27;, &#x27;you&#x27;, &#x27;youre&#x27;, &#x27;youve&#x27;, &#x27;youll&#x27;,\n",
       "                            &#x27;youd&#x27;, &#x27;your&#x27;, &#x27;yours&#x27;, &#x27;yourself&#x27;, &#x27;yourselves&#x27;,\n",
       "                            &#x27;he&#x27;, &#x27;him&#x27;, &#x27;his&#x27;, &#x27;himself&#x27;, &#x27;she&#x27;, &#x27;shes&#x27;, &#x27;her&#x27;,\n",
       "                            &#x27;hers&#x27;, &#x27;herself&#x27;, &#x27;it&#x27;, &#x27;its&#x27;, &#x27;its&#x27;, &#x27;itself&#x27;, ...],\n",
       "                token_pattern=None,\n",
       "                tokenizer=&lt;function tokenize_and_lemmatize at 0x0000019078B72820&gt;)</pre></div></div></div><div class=\"sk-item\"><div class=\"sk-estimator sk-toggleable\"><input class=\"sk-toggleable__control sk-hidden--visually\" id=\"sk-estimator-id-91\" type=\"checkbox\" ><label for=\"sk-estimator-id-91\" class=\"sk-toggleable__label sk-toggleable__label-arrow\">MultinomialNB</label><div class=\"sk-toggleable__content\"><pre>MultinomialNB()</pre></div></div></div></div></div></div></div></div></div></div></div></div>"
      ],
      "text/plain": [
       "GridSearchCV(cv=3, error_score='raise',\n",
       "             estimator=Pipeline(steps=[('tvec',\n",
       "                                        TfidfVectorizer(stop_words=['i', 'me',\n",
       "                                                                    'my',\n",
       "                                                                    'myself',\n",
       "                                                                    'we', 'our',\n",
       "                                                                    'ours',\n",
       "                                                                    'ourselves',\n",
       "                                                                    'you',\n",
       "                                                                    'youre',\n",
       "                                                                    'youve',\n",
       "                                                                    'youll',\n",
       "                                                                    'youd',\n",
       "                                                                    'your',\n",
       "                                                                    'yours',\n",
       "                                                                    'yourself',\n",
       "                                                                    'yourselves',\n",
       "                                                                    'he', 'him',\n",
       "                                                                    'his',\n",
       "                                                                    'himself',\n",
       "                                                                    'she',\n",
       "                                                                    'shes',\n",
       "                                                                    'her',\n",
       "                                                                    'hers',\n",
       "                                                                    'herself',\n",
       "                                                                    'it', 'its',\n",
       "                                                                    'its',\n",
       "                                                                    'itself', ...],\n",
       "                                                        token_pattern=None,\n",
       "                                                        tokenizer=<function tokenize_and_lemmatize at 0x0000019078B72820>)),\n",
       "                                       ('nb', MultinomialNB())]),\n",
       "             param_grid={'tvec__max_df': [0.9], 'tvec__max_features': [5000],\n",
       "                         'tvec__min_df': [2, 3],\n",
       "                         'tvec__ngram_range': [(1, 1), (1, 2)]})"
      ]
     },
     "execution_count": 245,
     "metadata": {},
     "output_type": "execute_result"
    }
   ],
   "source": [
    "#Train pipeline on training data\n",
    "gs_tvecnb.fit(X_train, y_train)"
   ]
  },
  {
   "cell_type": "code",
   "execution_count": 246,
   "id": "766dc5c5-dad9-4569-9df3-85e07d6c0892",
   "metadata": {},
   "outputs": [
    {
     "name": "stdout",
     "output_type": "stream",
     "text": [
      "0.762016201620162\n",
      "{'tvec__max_df': 0.9, 'tvec__max_features': 5000, 'tvec__min_df': 3, 'tvec__ngram_range': (1, 2)}\n",
      "Pipeline(steps=[('tvec',\n",
      "                 TfidfVectorizer(max_df=0.9, max_features=5000, min_df=3,\n",
      "                                 ngram_range=(1, 2),\n",
      "                                 stop_words=['i', 'me', 'my', 'myself', 'we',\n",
      "                                             'our', 'ours', 'ourselves', 'you',\n",
      "                                             'youre', 'youve', 'youll', 'youd',\n",
      "                                             'your', 'yours', 'yourself',\n",
      "                                             'yourselves', 'he', 'him', 'his',\n",
      "                                             'himself', 'she', 'shes', 'her',\n",
      "                                             'hers', 'herself', 'it', 'its',\n",
      "                                             'its', 'itself', ...],\n",
      "                                 token_pattern=None,\n",
      "                                 tokenizer=<function tokenize_and_lemmatize at 0x0000019078B72820>)),\n",
      "                ('nb', MultinomialNB())])\n"
     ]
    }
   ],
   "source": [
    "best_score_tvecnb = gs_tvecnb.best_score_\n",
    "best_params_tvecnb = gs_tvecnb.best_params_\n",
    "best_model_tvecnb = gs_tvecnb.best_estimator_\n",
    "\n",
    "print(best_score_tvecnb)\n",
    "print(best_params_tvecnb)\n",
    "print(best_model_tvecnb)"
   ]
  },
  {
   "cell_type": "code",
   "execution_count": 247,
   "id": "7c418279-6c46-43b3-ae6c-7bd8326eaf4d",
   "metadata": {},
   "outputs": [
    {
     "data": {
      "text/html": [
       "<style>#sk-container-id-30 {color: black;}#sk-container-id-30 pre{padding: 0;}#sk-container-id-30 div.sk-toggleable {background-color: white;}#sk-container-id-30 label.sk-toggleable__label {cursor: pointer;display: block;width: 100%;margin-bottom: 0;padding: 0.3em;box-sizing: border-box;text-align: center;}#sk-container-id-30 label.sk-toggleable__label-arrow:before {content: \"▸\";float: left;margin-right: 0.25em;color: #696969;}#sk-container-id-30 label.sk-toggleable__label-arrow:hover:before {color: black;}#sk-container-id-30 div.sk-estimator:hover label.sk-toggleable__label-arrow:before {color: black;}#sk-container-id-30 div.sk-toggleable__content {max-height: 0;max-width: 0;overflow: hidden;text-align: left;background-color: #f0f8ff;}#sk-container-id-30 div.sk-toggleable__content pre {margin: 0.2em;color: black;border-radius: 0.25em;background-color: #f0f8ff;}#sk-container-id-30 input.sk-toggleable__control:checked~div.sk-toggleable__content {max-height: 200px;max-width: 100%;overflow: auto;}#sk-container-id-30 input.sk-toggleable__control:checked~label.sk-toggleable__label-arrow:before {content: \"▾\";}#sk-container-id-30 div.sk-estimator input.sk-toggleable__control:checked~label.sk-toggleable__label {background-color: #d4ebff;}#sk-container-id-30 div.sk-label input.sk-toggleable__control:checked~label.sk-toggleable__label {background-color: #d4ebff;}#sk-container-id-30 input.sk-hidden--visually {border: 0;clip: rect(1px 1px 1px 1px);clip: rect(1px, 1px, 1px, 1px);height: 1px;margin: -1px;overflow: hidden;padding: 0;position: absolute;width: 1px;}#sk-container-id-30 div.sk-estimator {font-family: monospace;background-color: #f0f8ff;border: 1px dotted black;border-radius: 0.25em;box-sizing: border-box;margin-bottom: 0.5em;}#sk-container-id-30 div.sk-estimator:hover {background-color: #d4ebff;}#sk-container-id-30 div.sk-parallel-item::after {content: \"\";width: 100%;border-bottom: 1px solid gray;flex-grow: 1;}#sk-container-id-30 div.sk-label:hover label.sk-toggleable__label {background-color: #d4ebff;}#sk-container-id-30 div.sk-serial::before {content: \"\";position: absolute;border-left: 1px solid gray;box-sizing: border-box;top: 0;bottom: 0;left: 50%;z-index: 0;}#sk-container-id-30 div.sk-serial {display: flex;flex-direction: column;align-items: center;background-color: white;padding-right: 0.2em;padding-left: 0.2em;position: relative;}#sk-container-id-30 div.sk-item {position: relative;z-index: 1;}#sk-container-id-30 div.sk-parallel {display: flex;align-items: stretch;justify-content: center;background-color: white;position: relative;}#sk-container-id-30 div.sk-item::before, #sk-container-id-30 div.sk-parallel-item::before {content: \"\";position: absolute;border-left: 1px solid gray;box-sizing: border-box;top: 0;bottom: 0;left: 50%;z-index: -1;}#sk-container-id-30 div.sk-parallel-item {display: flex;flex-direction: column;z-index: 1;position: relative;background-color: white;}#sk-container-id-30 div.sk-parallel-item:first-child::after {align-self: flex-end;width: 50%;}#sk-container-id-30 div.sk-parallel-item:last-child::after {align-self: flex-start;width: 50%;}#sk-container-id-30 div.sk-parallel-item:only-child::after {width: 0;}#sk-container-id-30 div.sk-dashed-wrapped {border: 1px dashed gray;margin: 0 0.4em 0.5em 0.4em;box-sizing: border-box;padding-bottom: 0.4em;background-color: white;}#sk-container-id-30 div.sk-label label {font-family: monospace;font-weight: bold;display: inline-block;line-height: 1.2em;}#sk-container-id-30 div.sk-label-container {text-align: center;}#sk-container-id-30 div.sk-container {/* jupyter's `normalize.less` sets `[hidden] { display: none; }` but bootstrap.min.css set `[hidden] { display: none !important; }` so we also need the `!important` here to be able to override the default hidden behavior on the sphinx rendered scikit-learn.org. See: https://github.com/scikit-learn/scikit-learn/issues/21755 */display: inline-block !important;position: relative;}#sk-container-id-30 div.sk-text-repr-fallback {display: none;}</style><div id=\"sk-container-id-30\" class=\"sk-top-container\"><div class=\"sk-text-repr-fallback\"><pre>Pipeline(steps=[(&#x27;tvec&#x27;,\n",
       "                 TfidfVectorizer(max_df=0.9, max_features=5000, min_df=3,\n",
       "                                 ngram_range=(1, 2),\n",
       "                                 stop_words=[&#x27;i&#x27;, &#x27;me&#x27;, &#x27;my&#x27;, &#x27;myself&#x27;, &#x27;we&#x27;,\n",
       "                                             &#x27;our&#x27;, &#x27;ours&#x27;, &#x27;ourselves&#x27;, &#x27;you&#x27;,\n",
       "                                             &#x27;youre&#x27;, &#x27;youve&#x27;, &#x27;youll&#x27;, &#x27;youd&#x27;,\n",
       "                                             &#x27;your&#x27;, &#x27;yours&#x27;, &#x27;yourself&#x27;,\n",
       "                                             &#x27;yourselves&#x27;, &#x27;he&#x27;, &#x27;him&#x27;, &#x27;his&#x27;,\n",
       "                                             &#x27;himself&#x27;, &#x27;she&#x27;, &#x27;shes&#x27;, &#x27;her&#x27;,\n",
       "                                             &#x27;hers&#x27;, &#x27;herself&#x27;, &#x27;it&#x27;, &#x27;its&#x27;,\n",
       "                                             &#x27;its&#x27;, &#x27;itself&#x27;, ...],\n",
       "                                 token_pattern=None,\n",
       "                                 tokenizer=&lt;function tokenize_and_lemmatize at 0x0000019078B72820&gt;)),\n",
       "                (&#x27;nb&#x27;, MultinomialNB())])</pre><b>In a Jupyter environment, please rerun this cell to show the HTML representation or trust the notebook. <br />On GitHub, the HTML representation is unable to render, please try loading this page with nbviewer.org.</b></div><div class=\"sk-container\" hidden><div class=\"sk-item sk-dashed-wrapped\"><div class=\"sk-label-container\"><div class=\"sk-label sk-toggleable\"><input class=\"sk-toggleable__control sk-hidden--visually\" id=\"sk-estimator-id-92\" type=\"checkbox\" ><label for=\"sk-estimator-id-92\" class=\"sk-toggleable__label sk-toggleable__label-arrow\">Pipeline</label><div class=\"sk-toggleable__content\"><pre>Pipeline(steps=[(&#x27;tvec&#x27;,\n",
       "                 TfidfVectorizer(max_df=0.9, max_features=5000, min_df=3,\n",
       "                                 ngram_range=(1, 2),\n",
       "                                 stop_words=[&#x27;i&#x27;, &#x27;me&#x27;, &#x27;my&#x27;, &#x27;myself&#x27;, &#x27;we&#x27;,\n",
       "                                             &#x27;our&#x27;, &#x27;ours&#x27;, &#x27;ourselves&#x27;, &#x27;you&#x27;,\n",
       "                                             &#x27;youre&#x27;, &#x27;youve&#x27;, &#x27;youll&#x27;, &#x27;youd&#x27;,\n",
       "                                             &#x27;your&#x27;, &#x27;yours&#x27;, &#x27;yourself&#x27;,\n",
       "                                             &#x27;yourselves&#x27;, &#x27;he&#x27;, &#x27;him&#x27;, &#x27;his&#x27;,\n",
       "                                             &#x27;himself&#x27;, &#x27;she&#x27;, &#x27;shes&#x27;, &#x27;her&#x27;,\n",
       "                                             &#x27;hers&#x27;, &#x27;herself&#x27;, &#x27;it&#x27;, &#x27;its&#x27;,\n",
       "                                             &#x27;its&#x27;, &#x27;itself&#x27;, ...],\n",
       "                                 token_pattern=None,\n",
       "                                 tokenizer=&lt;function tokenize_and_lemmatize at 0x0000019078B72820&gt;)),\n",
       "                (&#x27;nb&#x27;, MultinomialNB())])</pre></div></div></div><div class=\"sk-serial\"><div class=\"sk-item\"><div class=\"sk-estimator sk-toggleable\"><input class=\"sk-toggleable__control sk-hidden--visually\" id=\"sk-estimator-id-93\" type=\"checkbox\" ><label for=\"sk-estimator-id-93\" class=\"sk-toggleable__label sk-toggleable__label-arrow\">TfidfVectorizer</label><div class=\"sk-toggleable__content\"><pre>TfidfVectorizer(max_df=0.9, max_features=5000, min_df=3, ngram_range=(1, 2),\n",
       "                stop_words=[&#x27;i&#x27;, &#x27;me&#x27;, &#x27;my&#x27;, &#x27;myself&#x27;, &#x27;we&#x27;, &#x27;our&#x27;, &#x27;ours&#x27;,\n",
       "                            &#x27;ourselves&#x27;, &#x27;you&#x27;, &#x27;youre&#x27;, &#x27;youve&#x27;, &#x27;youll&#x27;,\n",
       "                            &#x27;youd&#x27;, &#x27;your&#x27;, &#x27;yours&#x27;, &#x27;yourself&#x27;, &#x27;yourselves&#x27;,\n",
       "                            &#x27;he&#x27;, &#x27;him&#x27;, &#x27;his&#x27;, &#x27;himself&#x27;, &#x27;she&#x27;, &#x27;shes&#x27;, &#x27;her&#x27;,\n",
       "                            &#x27;hers&#x27;, &#x27;herself&#x27;, &#x27;it&#x27;, &#x27;its&#x27;, &#x27;its&#x27;, &#x27;itself&#x27;, ...],\n",
       "                token_pattern=None,\n",
       "                tokenizer=&lt;function tokenize_and_lemmatize at 0x0000019078B72820&gt;)</pre></div></div></div><div class=\"sk-item\"><div class=\"sk-estimator sk-toggleable\"><input class=\"sk-toggleable__control sk-hidden--visually\" id=\"sk-estimator-id-94\" type=\"checkbox\" ><label for=\"sk-estimator-id-94\" class=\"sk-toggleable__label sk-toggleable__label-arrow\">MultinomialNB</label><div class=\"sk-toggleable__content\"><pre>MultinomialNB()</pre></div></div></div></div></div></div></div>"
      ],
      "text/plain": [
       "Pipeline(steps=[('tvec',\n",
       "                 TfidfVectorizer(max_df=0.9, max_features=5000, min_df=3,\n",
       "                                 ngram_range=(1, 2),\n",
       "                                 stop_words=['i', 'me', 'my', 'myself', 'we',\n",
       "                                             'our', 'ours', 'ourselves', 'you',\n",
       "                                             'youre', 'youve', 'youll', 'youd',\n",
       "                                             'your', 'yours', 'yourself',\n",
       "                                             'yourselves', 'he', 'him', 'his',\n",
       "                                             'himself', 'she', 'shes', 'her',\n",
       "                                             'hers', 'herself', 'it', 'its',\n",
       "                                             'its', 'itself', ...],\n",
       "                                 token_pattern=None,\n",
       "                                 tokenizer=<function tokenize_and_lemmatize at 0x0000019078B72820>)),\n",
       "                ('nb', MultinomialNB())])"
      ]
     },
     "execution_count": 247,
     "metadata": {},
     "output_type": "execute_result"
    }
   ],
   "source": [
    "# Train the best model on the full training data\n",
    "best_model_tvecnb.fit(X_train, y_train)"
   ]
  },
  {
   "cell_type": "raw",
   "id": "90bffbd4-388a-41ca-b15e-371b04201a4f",
   "metadata": {},
   "source": [
    "#pickle the models\n",
    "pickle.dump(gs_tvecnb, open('../model/gs_tvecnb.pkl', 'wb'))\n",
    "pickle.dump(best_model_tvecnb, open('../model/best_model_tvecnb.pkl', 'wb'))"
   ]
  },
  {
   "cell_type": "code",
   "execution_count": 248,
   "id": "7f1d5690-a55d-4c7c-b844-bd03443fc4b9",
   "metadata": {},
   "outputs": [
    {
     "name": "stdout",
     "output_type": "stream",
     "text": [
      "MODEL PERFORMANCE:\n",
      "Accuracy: 0.8041\n",
      "F1 score: 0.8226\n"
     ]
    }
   ],
   "source": [
    "# Score model on training set.\n",
    "perf_measure_train(best_model_tvecnb, X_train, y_train)"
   ]
  },
  {
   "cell_type": "code",
   "execution_count": 45,
   "id": "1dfde3dd-f0da-4c78-81c5-21ff38acf3ba",
   "metadata": {},
   "outputs": [
    {
     "name": "stdout",
     "output_type": "stream",
     "text": [
      "MODEL PERFORMANCE:\n",
      "Accuracy: 0.7868\n",
      "F1 score: 0.8075\n"
     ]
    },
    {
     "data": {
      "image/png": "[encoded data removed]",
      "text/plain": [
       "<Figure size 640x480 with 2 Axes>"
      ]
     },
     "metadata": {},
     "output_type": "display_data"
    }
   ],
   "source": [
    "# Score model on testing set.\n",
    "perf_measure_test(best_model_tvecnb, X_test, y_test)"
   ]
  },
  {
   "cell_type": "code",
   "execution_count": 365,
   "id": "438917dc-a90f-4244-915f-6b42cdc72dd3",
   "metadata": {},
   "outputs": [
    {
     "data": {
      "image/png": "[encoded data removed]",
      "text/plain": [
       "<Figure size 600x400 with 1 Axes>"
      ]
     },
     "metadata": {},
     "output_type": "display_data"
    }
   ],
   "source": [
    "plot_precision_recall_curve(best_model_tvecnb, X_test, y_test)"
   ]
  },
  {
   "cell_type": "markdown",
   "id": "684c983b-3a7b-454e-bda6-7cfc71a166f7",
   "metadata": {},
   "source": [
    "### Findings - Naive Bayes\n",
    "The Naive Bayes model seems quite stable with minimal overfitting. Between the count vectorizer and TF-IDF vectorizer, TVEC appears slightly more effective.\n"
   ]
  },
  {
   "cell_type": "markdown",
   "id": "83cff85b-633b-4849-9a8c-1cbd2115907c",
   "metadata": {},
   "source": [
    "---\n",
    "## 3.2.4 Random Forests\n",
    "Next, the Random Forests model was explored. This model typically delivers high predictive performance, as it consists of an ensemble of multiple decision trees to reduce overfitting and increase generalization, leading to robust and accurate predictions. With that being said, overfitting is still common so we had to tweak the parameters to avoid major overfitting.\n",
    "\n",
    "### Model 2A - CVEC, Random Forests"
   ]
  },
  {
   "cell_type": "raw",
   "id": "2d533462-e1bd-49ed-b66a-c30730ccfac6",
   "metadata": {},
   "source": [
    "#load pickled models\n",
    "gs_cvec_rf = pickle.load(open('../model/gs_cvec_rf.pkl', 'rb'))\n",
    "best_model_cvecrf = pickle.load(open('../model/best_model_cvecrf.pkl', 'rb'))"
   ]
  },
  {
   "cell_type": "code",
   "execution_count": 192,
   "id": "fc247487-e273-4a4a-9034-a7fd620ee2a2",
   "metadata": {},
   "outputs": [],
   "source": [
    "pipe_cvec_rf = Pipeline([\n",
    "    ('cvec', CountVectorizer(tokenizer=tokenize_and_lemmatize, stop_words = list(final_stopwords), token_pattern=None)),\n",
    "    ('rf', RandomForestClassifier())\n",
    "])"
   ]
  },
  {
   "cell_type": "code",
   "execution_count": 193,
   "id": "23d83aaf-60a3-4342-888e-37d4050437bd",
   "metadata": {},
   "outputs": [],
   "source": [
    "pipe_cvecrf_params = {\n",
    "    'cvec__max_features': [5_000],\n",
    "    'cvec__min_df': [1],\n",
    "    'cvec__max_df': [.90],\n",
    "    'cvec__ngram_range': [(1,2)],\n",
    "    'rf__n_estimators': [100],\n",
    "    'rf__max_depth': [30],\n",
    "    'rf__min_samples_split':[2]  # Adding regularization\n",
    "}"
   ]
  },
  {
   "cell_type": "code",
   "execution_count": 194,
   "id": "aa6b15e2-8964-436c-bc9b-dcbec9dc61e5",
   "metadata": {},
   "outputs": [],
   "source": [
    "gs_cvec_rf = GridSearchCV(pipe_cvec_rf,\n",
    "                  param_grid=pipe_cvecrf_params,\n",
    "                  cv=3,\n",
    "                  error_score='raise') "
   ]
  },
  {
   "cell_type": "code",
   "execution_count": 195,
   "id": "e3ccb8d6-9328-4fef-8dde-a669c2a99323",
   "metadata": {
    "scrolled": true
   },
   "outputs": [
    {
     "name": "stdout",
     "output_type": "stream",
     "text": [
      "0.7240924092409241\n",
      "{'cvec__max_df': 0.9, 'cvec__max_features': 5000, 'cvec__min_df': 1, 'cvec__ngram_range': (1, 2), 'rf__max_depth': 30, 'rf__min_samples_split': 2, 'rf__n_estimators': 100}\n",
      "Pipeline(steps=[('cvec',\n",
      "                 CountVectorizer(max_df=0.9, max_features=5000,\n",
      "                                 ngram_range=(1, 2),\n",
      "                                 stop_words=['i', 'me', 'my', 'myself', 'we',\n",
      "                                             'our', 'ours', 'ourselves', 'you',\n",
      "                                             'youre', 'youve', 'youll', 'youd',\n",
      "                                             'your', 'yours', 'yourself',\n",
      "                                             'yourselves', 'he', 'him', 'his',\n",
      "                                             'himself', 'she', 'shes', 'her',\n",
      "                                             'hers', 'herself', 'it', 'its',\n",
      "                                             'its', 'itself', ...],\n",
      "                                 token_pattern=None,\n",
      "                                 tokenizer=<function tokenize_and_lemmatize at 0x0000019078B72820>)),\n",
      "                ('rf', RandomForestClassifier(max_depth=30))])\n"
     ]
    }
   ],
   "source": [
    "#Train pipeline on training data\n",
    "gs_cvec_rf.fit(X_train, y_train)\n",
    "\n",
    "best_score_cvecrf = gs_cvec_rf.best_score_\n",
    "best_params_cvecrf = gs_cvec_rf.best_params_\n",
    "\n",
    "best_model_cvecrf = gs_cvec_rf.best_estimator_\n",
    "\n",
    "print(best_score_cvecrf)\n",
    "print(best_params_cvecrf)\n",
    "print(best_model_cvecrf)"
   ]
  },
  {
   "cell_type": "code",
   "execution_count": 196,
   "id": "9445965d-dcdd-4db1-9472-77cb80015b7d",
   "metadata": {},
   "outputs": [
    {
     "data": {
      "text/html": [
       "<style>#sk-container-id-20 {color: black;}#sk-container-id-20 pre{padding: 0;}#sk-container-id-20 div.sk-toggleable {background-color: white;}#sk-container-id-20 label.sk-toggleable__label {cursor: pointer;display: block;width: 100%;margin-bottom: 0;padding: 0.3em;box-sizing: border-box;text-align: center;}#sk-container-id-20 label.sk-toggleable__label-arrow:before {content: \"▸\";float: left;margin-right: 0.25em;color: #696969;}#sk-container-id-20 label.sk-toggleable__label-arrow:hover:before {color: black;}#sk-container-id-20 div.sk-estimator:hover label.sk-toggleable__label-arrow:before {color: black;}#sk-container-id-20 div.sk-toggleable__content {max-height: 0;max-width: 0;overflow: hidden;text-align: left;background-color: #f0f8ff;}#sk-container-id-20 div.sk-toggleable__content pre {margin: 0.2em;color: black;border-radius: 0.25em;background-color: #f0f8ff;}#sk-container-id-20 input.sk-toggleable__control:checked~div.sk-toggleable__content {max-height: 200px;max-width: 100%;overflow: auto;}#sk-container-id-20 input.sk-toggleable__control:checked~label.sk-toggleable__label-arrow:before {content: \"▾\";}#sk-container-id-20 div.sk-estimator input.sk-toggleable__control:checked~label.sk-toggleable__label {background-color: #d4ebff;}#sk-container-id-20 div.sk-label input.sk-toggleable__control:checked~label.sk-toggleable__label {background-color: #d4ebff;}#sk-container-id-20 input.sk-hidden--visually {border: 0;clip: rect(1px 1px 1px 1px);clip: rect(1px, 1px, 1px, 1px);height: 1px;margin: -1px;overflow: hidden;padding: 0;position: absolute;width: 1px;}#sk-container-id-20 div.sk-estimator {font-family: monospace;background-color: #f0f8ff;border: 1px dotted black;border-radius: 0.25em;box-sizing: border-box;margin-bottom: 0.5em;}#sk-container-id-20 div.sk-estimator:hover {background-color: #d4ebff;}#sk-container-id-20 div.sk-parallel-item::after {content: \"\";width: 100%;border-bottom: 1px solid gray;flex-grow: 1;}#sk-container-id-20 div.sk-label:hover label.sk-toggleable__label {background-color: #d4ebff;}#sk-container-id-20 div.sk-serial::before {content: \"\";position: absolute;border-left: 1px solid gray;box-sizing: border-box;top: 0;bottom: 0;left: 50%;z-index: 0;}#sk-container-id-20 div.sk-serial {display: flex;flex-direction: column;align-items: center;background-color: white;padding-right: 0.2em;padding-left: 0.2em;position: relative;}#sk-container-id-20 div.sk-item {position: relative;z-index: 1;}#sk-container-id-20 div.sk-parallel {display: flex;align-items: stretch;justify-content: center;background-color: white;position: relative;}#sk-container-id-20 div.sk-item::before, #sk-container-id-20 div.sk-parallel-item::before {content: \"\";position: absolute;border-left: 1px solid gray;box-sizing: border-box;top: 0;bottom: 0;left: 50%;z-index: -1;}#sk-container-id-20 div.sk-parallel-item {display: flex;flex-direction: column;z-index: 1;position: relative;background-color: white;}#sk-container-id-20 div.sk-parallel-item:first-child::after {align-self: flex-end;width: 50%;}#sk-container-id-20 div.sk-parallel-item:last-child::after {align-self: flex-start;width: 50%;}#sk-container-id-20 div.sk-parallel-item:only-child::after {width: 0;}#sk-container-id-20 div.sk-dashed-wrapped {border: 1px dashed gray;margin: 0 0.4em 0.5em 0.4em;box-sizing: border-box;padding-bottom: 0.4em;background-color: white;}#sk-container-id-20 div.sk-label label {font-family: monospace;font-weight: bold;display: inline-block;line-height: 1.2em;}#sk-container-id-20 div.sk-label-container {text-align: center;}#sk-container-id-20 div.sk-container {/* jupyter's `normalize.less` sets `[hidden] { display: none; }` but bootstrap.min.css set `[hidden] { display: none !important; }` so we also need the `!important` here to be able to override the default hidden behavior on the sphinx rendered scikit-learn.org. See: https://github.com/scikit-learn/scikit-learn/issues/21755 */display: inline-block !important;position: relative;}#sk-container-id-20 div.sk-text-repr-fallback {display: none;}</style><div id=\"sk-container-id-20\" class=\"sk-top-container\"><div class=\"sk-text-repr-fallback\"><pre>Pipeline(steps=[(&#x27;cvec&#x27;,\n",
       "                 CountVectorizer(max_df=0.9, max_features=5000,\n",
       "                                 ngram_range=(1, 2),\n",
       "                                 stop_words=[&#x27;i&#x27;, &#x27;me&#x27;, &#x27;my&#x27;, &#x27;myself&#x27;, &#x27;we&#x27;,\n",
       "                                             &#x27;our&#x27;, &#x27;ours&#x27;, &#x27;ourselves&#x27;, &#x27;you&#x27;,\n",
       "                                             &#x27;youre&#x27;, &#x27;youve&#x27;, &#x27;youll&#x27;, &#x27;youd&#x27;,\n",
       "                                             &#x27;your&#x27;, &#x27;yours&#x27;, &#x27;yourself&#x27;,\n",
       "                                             &#x27;yourselves&#x27;, &#x27;he&#x27;, &#x27;him&#x27;, &#x27;his&#x27;,\n",
       "                                             &#x27;himself&#x27;, &#x27;she&#x27;, &#x27;shes&#x27;, &#x27;her&#x27;,\n",
       "                                             &#x27;hers&#x27;, &#x27;herself&#x27;, &#x27;it&#x27;, &#x27;its&#x27;,\n",
       "                                             &#x27;its&#x27;, &#x27;itself&#x27;, ...],\n",
       "                                 token_pattern=None,\n",
       "                                 tokenizer=&lt;function tokenize_and_lemmatize at 0x0000019078B72820&gt;)),\n",
       "                (&#x27;rf&#x27;, RandomForestClassifier(max_depth=30))])</pre><b>In a Jupyter environment, please rerun this cell to show the HTML representation or trust the notebook. <br />On GitHub, the HTML representation is unable to render, please try loading this page with nbviewer.org.</b></div><div class=\"sk-container\" hidden><div class=\"sk-item sk-dashed-wrapped\"><div class=\"sk-label-container\"><div class=\"sk-label sk-toggleable\"><input class=\"sk-toggleable__control sk-hidden--visually\" id=\"sk-estimator-id-58\" type=\"checkbox\" ><label for=\"sk-estimator-id-58\" class=\"sk-toggleable__label sk-toggleable__label-arrow\">Pipeline</label><div class=\"sk-toggleable__content\"><pre>Pipeline(steps=[(&#x27;cvec&#x27;,\n",
       "                 CountVectorizer(max_df=0.9, max_features=5000,\n",
       "                                 ngram_range=(1, 2),\n",
       "                                 stop_words=[&#x27;i&#x27;, &#x27;me&#x27;, &#x27;my&#x27;, &#x27;myself&#x27;, &#x27;we&#x27;,\n",
       "                                             &#x27;our&#x27;, &#x27;ours&#x27;, &#x27;ourselves&#x27;, &#x27;you&#x27;,\n",
       "                                             &#x27;youre&#x27;, &#x27;youve&#x27;, &#x27;youll&#x27;, &#x27;youd&#x27;,\n",
       "                                             &#x27;your&#x27;, &#x27;yours&#x27;, &#x27;yourself&#x27;,\n",
       "                                             &#x27;yourselves&#x27;, &#x27;he&#x27;, &#x27;him&#x27;, &#x27;his&#x27;,\n",
       "                                             &#x27;himself&#x27;, &#x27;she&#x27;, &#x27;shes&#x27;, &#x27;her&#x27;,\n",
       "                                             &#x27;hers&#x27;, &#x27;herself&#x27;, &#x27;it&#x27;, &#x27;its&#x27;,\n",
       "                                             &#x27;its&#x27;, &#x27;itself&#x27;, ...],\n",
       "                                 token_pattern=None,\n",
       "                                 tokenizer=&lt;function tokenize_and_lemmatize at 0x0000019078B72820&gt;)),\n",
       "                (&#x27;rf&#x27;, RandomForestClassifier(max_depth=30))])</pre></div></div></div><div class=\"sk-serial\"><div class=\"sk-item\"><div class=\"sk-estimator sk-toggleable\"><input class=\"sk-toggleable__control sk-hidden--visually\" id=\"sk-estimator-id-59\" type=\"checkbox\" ><label for=\"sk-estimator-id-59\" class=\"sk-toggleable__label sk-toggleable__label-arrow\">CountVectorizer</label><div class=\"sk-toggleable__content\"><pre>CountVectorizer(max_df=0.9, max_features=5000, ngram_range=(1, 2),\n",
       "                stop_words=[&#x27;i&#x27;, &#x27;me&#x27;, &#x27;my&#x27;, &#x27;myself&#x27;, &#x27;we&#x27;, &#x27;our&#x27;, &#x27;ours&#x27;,\n",
       "                            &#x27;ourselves&#x27;, &#x27;you&#x27;, &#x27;youre&#x27;, &#x27;youve&#x27;, &#x27;youll&#x27;,\n",
       "                            &#x27;youd&#x27;, &#x27;your&#x27;, &#x27;yours&#x27;, &#x27;yourself&#x27;, &#x27;yourselves&#x27;,\n",
       "                            &#x27;he&#x27;, &#x27;him&#x27;, &#x27;his&#x27;, &#x27;himself&#x27;, &#x27;she&#x27;, &#x27;shes&#x27;, &#x27;her&#x27;,\n",
       "                            &#x27;hers&#x27;, &#x27;herself&#x27;, &#x27;it&#x27;, &#x27;its&#x27;, &#x27;its&#x27;, &#x27;itself&#x27;, ...],\n",
       "                token_pattern=None,\n",
       "                tokenizer=&lt;function tokenize_and_lemmatize at 0x0000019078B72820&gt;)</pre></div></div></div><div class=\"sk-item\"><div class=\"sk-estimator sk-toggleable\"><input class=\"sk-toggleable__control sk-hidden--visually\" id=\"sk-estimator-id-60\" type=\"checkbox\" ><label for=\"sk-estimator-id-60\" class=\"sk-toggleable__label sk-toggleable__label-arrow\">RandomForestClassifier</label><div class=\"sk-toggleable__content\"><pre>RandomForestClassifier(max_depth=30)</pre></div></div></div></div></div></div></div>"
      ],
      "text/plain": [
       "Pipeline(steps=[('cvec',\n",
       "                 CountVectorizer(max_df=0.9, max_features=5000,\n",
       "                                 ngram_range=(1, 2),\n",
       "                                 stop_words=['i', 'me', 'my', 'myself', 'we',\n",
       "                                             'our', 'ours', 'ourselves', 'you',\n",
       "                                             'youre', 'youve', 'youll', 'youd',\n",
       "                                             'your', 'yours', 'yourself',\n",
       "                                             'yourselves', 'he', 'him', 'his',\n",
       "                                             'himself', 'she', 'shes', 'her',\n",
       "                                             'hers', 'herself', 'it', 'its',\n",
       "                                             'its', 'itself', ...],\n",
       "                                 token_pattern=None,\n",
       "                                 tokenizer=<function tokenize_and_lemmatize at 0x0000019078B72820>)),\n",
       "                ('rf', RandomForestClassifier(max_depth=30))])"
      ]
     },
     "execution_count": 196,
     "metadata": {},
     "output_type": "execute_result"
    }
   ],
   "source": [
    "# Train the best model on the full training data\n",
    "best_model_cvecrf.fit(X_train, y_train)"
   ]
  },
  {
   "cell_type": "code",
   "execution_count": 197,
   "id": "f576cb9d-4669-4390-9fe9-b3c46ba3793e",
   "metadata": {},
   "outputs": [],
   "source": [
    "#pickle the models\n",
    "pickle.dump(gs_cvec_rf, open('../model/gs_cvec_rf.pkl', 'wb'))\n",
    "pickle.dump(best_model_cvecrf, open('../model/best_model_cvecrf.pkl', 'wb'))"
   ]
  },
  {
   "cell_type": "code",
   "execution_count": 198,
   "id": "a10e180c-a22f-4427-8ce4-f603a90470f8",
   "metadata": {
    "scrolled": true
   },
   "outputs": [
    {
     "name": "stdout",
     "output_type": "stream",
     "text": [
      "MODEL PERFORMANCE:\n",
      "Accuracy: 0.7749\n",
      "F1 score: 0.8158\n"
     ]
    }
   ],
   "source": [
    "# Score model on training set.\n",
    "perf_measure_train(best_model_cvecrf, X_train, y_train)"
   ]
  },
  {
   "cell_type": "code",
   "execution_count": 199,
   "id": "a2773ff7-e8cf-49a4-8d43-540b13ae557e",
   "metadata": {},
   "outputs": [
    {
     "name": "stdout",
     "output_type": "stream",
     "text": [
      "MODEL PERFORMANCE:\n",
      "Accuracy: 0.7168\n",
      "F1 score: 0.7683\n"
     ]
    },
    {
     "data": {
      "image/png": "[encoded data removed]",
      "text/plain": [
       "<Figure size 640x480 with 2 Axes>"
      ]
     },
     "metadata": {},
     "output_type": "display_data"
    }
   ],
   "source": [
    "# Score model on testing set.\n",
    "perf_measure_test(best_model_cvecrf, X_test, y_test)"
   ]
  },
  {
   "cell_type": "code",
   "execution_count": 366,
   "id": "8b98d5fe-d7bd-4db5-8b36-1eedf55e01f8",
   "metadata": {},
   "outputs": [
    {
     "data": {
      "image/png": "[encoded data removed]",
      "text/plain": [
       "<Figure size 600x400 with 1 Axes>"
      ]
     },
     "metadata": {},
     "output_type": "display_data"
    }
   ],
   "source": [
    "plot_precision_recall_curve(best_model_cvecrf, X_test, y_test)"
   ]
  },
  {
   "cell_type": "markdown",
   "id": "adc7cb4b-f27c-4ce9-85a4-cdae638ecbeb",
   "metadata": {},
   "source": [
    "---\n",
    "### Model 2B - TF-IDF, Random Forests"
   ]
  },
  {
   "cell_type": "code",
   "execution_count": null,
   "id": "08dbde2c-33c9-4cba-82b7-fd7b0c5bf340",
   "metadata": {},
   "outputs": [],
   "source": [
    "#load picked models\n",
    "gs_tvecrf = pickle.load(open('../model/gs_tvecrf.pkl', 'rb'))\n",
    "best_model_cvecrf = pickle.load(open('../model/best_model_cvecrf.pkl', 'rb'))"
   ]
  },
  {
   "cell_type": "code",
   "execution_count": 200,
   "id": "fbfbccf5-b4a9-4067-ac0d-13fdd62d2dfc",
   "metadata": {},
   "outputs": [],
   "source": [
    "# Set up a pipeline with tf-idf vectorizer and multinomial naive bayes\n",
    "\n",
    "pipe_tvec_rf = Pipeline([\n",
    "    ('tvec', TfidfVectorizer(tokenizer=tokenize_and_lemmatize, stop_words = list(final_stopwords), token_pattern=None)),\n",
    "    ('rf', RandomForestClassifier())\n",
    "])\n",
    "\n",
    "# Search over the following values of hyperparameters:\n",
    "pipe_tvec_rf_params = {\n",
    "    'tvec__max_features': [5_000],\n",
    "    'tvec__min_df': [1],\n",
    "    'tvec__max_df': [.9],\n",
    "    'tvec__ngram_range': [(1,2)],\n",
    "    'rf__n_estimators': [100],\n",
    "    'rf__max_depth': [30],\n",
    "    'rf__min_samples_split': [2]\n",
    "}"
   ]
  },
  {
   "cell_type": "code",
   "execution_count": 201,
   "id": "f3071968-fe9e-4d64-b25d-86e562bf8406",
   "metadata": {},
   "outputs": [],
   "source": [
    "gs_tvecrf = GridSearchCV(pipe_tvec_rf,\n",
    "                  param_grid=pipe_tvec_rf_params,\n",
    "                  cv=3,\n",
    "                  error_score='raise') "
   ]
  },
  {
   "cell_type": "code",
   "execution_count": 202,
   "id": "fd40d469-bb6f-419b-82a5-695ca407224e",
   "metadata": {},
   "outputs": [
    {
     "name": "stdout",
     "output_type": "stream",
     "text": [
      "0.722952295229523\n",
      "{'rf__max_depth': 30, 'rf__min_samples_split': 2, 'rf__n_estimators': 100, 'tvec__max_df': 0.9, 'tvec__max_features': 5000, 'tvec__min_df': 1, 'tvec__ngram_range': (1, 2)}\n",
      "Pipeline(steps=[('tvec',\n",
      "                 TfidfVectorizer(max_df=0.9, max_features=5000,\n",
      "                                 ngram_range=(1, 2),\n",
      "                                 stop_words=['i', 'me', 'my', 'myself', 'we',\n",
      "                                             'our', 'ours', 'ourselves', 'you',\n",
      "                                             'youre', 'youve', 'youll', 'youd',\n",
      "                                             'your', 'yours', 'yourself',\n",
      "                                             'yourselves', 'he', 'him', 'his',\n",
      "                                             'himself', 'she', 'shes', 'her',\n",
      "                                             'hers', 'herself', 'it', 'its',\n",
      "                                             'its', 'itself', ...],\n",
      "                                 token_pattern=None,\n",
      "                                 tokenizer=<function tokenize_and_lemmatize at 0x0000019078B72820>)),\n",
      "                ('rf', RandomForestClassifier(max_depth=30))])\n"
     ]
    }
   ],
   "source": [
    "#Train pipeline on training data\n",
    "gs_tvecrf.fit(X_train, y_train)\n",
    "\n",
    "best_score_tvecrf = gs_tvecrf.best_score_\n",
    "best_params_tvecrf = gs_tvecrf.best_params_\n",
    "best_model_tvecrf = gs_tvecrf.best_estimator_\n",
    "\n",
    "print(best_score_tvecrf)\n",
    "print(best_params_tvecrf)\n",
    "print(best_model_tvecrf)"
   ]
  },
  {
   "cell_type": "code",
   "execution_count": 203,
   "id": "6660e0e5-541c-46ef-b301-2fcbb5fa6615",
   "metadata": {},
   "outputs": [
    {
     "data": {
      "text/html": [
       "<style>#sk-container-id-21 {color: black;}#sk-container-id-21 pre{padding: 0;}#sk-container-id-21 div.sk-toggleable {background-color: white;}#sk-container-id-21 label.sk-toggleable__label {cursor: pointer;display: block;width: 100%;margin-bottom: 0;padding: 0.3em;box-sizing: border-box;text-align: center;}#sk-container-id-21 label.sk-toggleable__label-arrow:before {content: \"▸\";float: left;margin-right: 0.25em;color: #696969;}#sk-container-id-21 label.sk-toggleable__label-arrow:hover:before {color: black;}#sk-container-id-21 div.sk-estimator:hover label.sk-toggleable__label-arrow:before {color: black;}#sk-container-id-21 div.sk-toggleable__content {max-height: 0;max-width: 0;overflow: hidden;text-align: left;background-color: #f0f8ff;}#sk-container-id-21 div.sk-toggleable__content pre {margin: 0.2em;color: black;border-radius: 0.25em;background-color: #f0f8ff;}#sk-container-id-21 input.sk-toggleable__control:checked~div.sk-toggleable__content {max-height: 200px;max-width: 100%;overflow: auto;}#sk-container-id-21 input.sk-toggleable__control:checked~label.sk-toggleable__label-arrow:before {content: \"▾\";}#sk-container-id-21 div.sk-estimator input.sk-toggleable__control:checked~label.sk-toggleable__label {background-color: #d4ebff;}#sk-container-id-21 div.sk-label input.sk-toggleable__control:checked~label.sk-toggleable__label {background-color: #d4ebff;}#sk-container-id-21 input.sk-hidden--visually {border: 0;clip: rect(1px 1px 1px 1px);clip: rect(1px, 1px, 1px, 1px);height: 1px;margin: -1px;overflow: hidden;padding: 0;position: absolute;width: 1px;}#sk-container-id-21 div.sk-estimator {font-family: monospace;background-color: #f0f8ff;border: 1px dotted black;border-radius: 0.25em;box-sizing: border-box;margin-bottom: 0.5em;}#sk-container-id-21 div.sk-estimator:hover {background-color: #d4ebff;}#sk-container-id-21 div.sk-parallel-item::after {content: \"\";width: 100%;border-bottom: 1px solid gray;flex-grow: 1;}#sk-container-id-21 div.sk-label:hover label.sk-toggleable__label {background-color: #d4ebff;}#sk-container-id-21 div.sk-serial::before {content: \"\";position: absolute;border-left: 1px solid gray;box-sizing: border-box;top: 0;bottom: 0;left: 50%;z-index: 0;}#sk-container-id-21 div.sk-serial {display: flex;flex-direction: column;align-items: center;background-color: white;padding-right: 0.2em;padding-left: 0.2em;position: relative;}#sk-container-id-21 div.sk-item {position: relative;z-index: 1;}#sk-container-id-21 div.sk-parallel {display: flex;align-items: stretch;justify-content: center;background-color: white;position: relative;}#sk-container-id-21 div.sk-item::before, #sk-container-id-21 div.sk-parallel-item::before {content: \"\";position: absolute;border-left: 1px solid gray;box-sizing: border-box;top: 0;bottom: 0;left: 50%;z-index: -1;}#sk-container-id-21 div.sk-parallel-item {display: flex;flex-direction: column;z-index: 1;position: relative;background-color: white;}#sk-container-id-21 div.sk-parallel-item:first-child::after {align-self: flex-end;width: 50%;}#sk-container-id-21 div.sk-parallel-item:last-child::after {align-self: flex-start;width: 50%;}#sk-container-id-21 div.sk-parallel-item:only-child::after {width: 0;}#sk-container-id-21 div.sk-dashed-wrapped {border: 1px dashed gray;margin: 0 0.4em 0.5em 0.4em;box-sizing: border-box;padding-bottom: 0.4em;background-color: white;}#sk-container-id-21 div.sk-label label {font-family: monospace;font-weight: bold;display: inline-block;line-height: 1.2em;}#sk-container-id-21 div.sk-label-container {text-align: center;}#sk-container-id-21 div.sk-container {/* jupyter's `normalize.less` sets `[hidden] { display: none; }` but bootstrap.min.css set `[hidden] { display: none !important; }` so we also need the `!important` here to be able to override the default hidden behavior on the sphinx rendered scikit-learn.org. See: https://github.com/scikit-learn/scikit-learn/issues/21755 */display: inline-block !important;position: relative;}#sk-container-id-21 div.sk-text-repr-fallback {display: none;}</style><div id=\"sk-container-id-21\" class=\"sk-top-container\"><div class=\"sk-text-repr-fallback\"><pre>Pipeline(steps=[(&#x27;tvec&#x27;,\n",
       "                 TfidfVectorizer(max_df=0.9, max_features=5000,\n",
       "                                 ngram_range=(1, 2),\n",
       "                                 stop_words=[&#x27;i&#x27;, &#x27;me&#x27;, &#x27;my&#x27;, &#x27;myself&#x27;, &#x27;we&#x27;,\n",
       "                                             &#x27;our&#x27;, &#x27;ours&#x27;, &#x27;ourselves&#x27;, &#x27;you&#x27;,\n",
       "                                             &#x27;youre&#x27;, &#x27;youve&#x27;, &#x27;youll&#x27;, &#x27;youd&#x27;,\n",
       "                                             &#x27;your&#x27;, &#x27;yours&#x27;, &#x27;yourself&#x27;,\n",
       "                                             &#x27;yourselves&#x27;, &#x27;he&#x27;, &#x27;him&#x27;, &#x27;his&#x27;,\n",
       "                                             &#x27;himself&#x27;, &#x27;she&#x27;, &#x27;shes&#x27;, &#x27;her&#x27;,\n",
       "                                             &#x27;hers&#x27;, &#x27;herself&#x27;, &#x27;it&#x27;, &#x27;its&#x27;,\n",
       "                                             &#x27;its&#x27;, &#x27;itself&#x27;, ...],\n",
       "                                 token_pattern=None,\n",
       "                                 tokenizer=&lt;function tokenize_and_lemmatize at 0x0000019078B72820&gt;)),\n",
       "                (&#x27;rf&#x27;, RandomForestClassifier(max_depth=30))])</pre><b>In a Jupyter environment, please rerun this cell to show the HTML representation or trust the notebook. <br />On GitHub, the HTML representation is unable to render, please try loading this page with nbviewer.org.</b></div><div class=\"sk-container\" hidden><div class=\"sk-item sk-dashed-wrapped\"><div class=\"sk-label-container\"><div class=\"sk-label sk-toggleable\"><input class=\"sk-toggleable__control sk-hidden--visually\" id=\"sk-estimator-id-61\" type=\"checkbox\" ><label for=\"sk-estimator-id-61\" class=\"sk-toggleable__label sk-toggleable__label-arrow\">Pipeline</label><div class=\"sk-toggleable__content\"><pre>Pipeline(steps=[(&#x27;tvec&#x27;,\n",
       "                 TfidfVectorizer(max_df=0.9, max_features=5000,\n",
       "                                 ngram_range=(1, 2),\n",
       "                                 stop_words=[&#x27;i&#x27;, &#x27;me&#x27;, &#x27;my&#x27;, &#x27;myself&#x27;, &#x27;we&#x27;,\n",
       "                                             &#x27;our&#x27;, &#x27;ours&#x27;, &#x27;ourselves&#x27;, &#x27;you&#x27;,\n",
       "                                             &#x27;youre&#x27;, &#x27;youve&#x27;, &#x27;youll&#x27;, &#x27;youd&#x27;,\n",
       "                                             &#x27;your&#x27;, &#x27;yours&#x27;, &#x27;yourself&#x27;,\n",
       "                                             &#x27;yourselves&#x27;, &#x27;he&#x27;, &#x27;him&#x27;, &#x27;his&#x27;,\n",
       "                                             &#x27;himself&#x27;, &#x27;she&#x27;, &#x27;shes&#x27;, &#x27;her&#x27;,\n",
       "                                             &#x27;hers&#x27;, &#x27;herself&#x27;, &#x27;it&#x27;, &#x27;its&#x27;,\n",
       "                                             &#x27;its&#x27;, &#x27;itself&#x27;, ...],\n",
       "                                 token_pattern=None,\n",
       "                                 tokenizer=&lt;function tokenize_and_lemmatize at 0x0000019078B72820&gt;)),\n",
       "                (&#x27;rf&#x27;, RandomForestClassifier(max_depth=30))])</pre></div></div></div><div class=\"sk-serial\"><div class=\"sk-item\"><div class=\"sk-estimator sk-toggleable\"><input class=\"sk-toggleable__control sk-hidden--visually\" id=\"sk-estimator-id-62\" type=\"checkbox\" ><label for=\"sk-estimator-id-62\" class=\"sk-toggleable__label sk-toggleable__label-arrow\">TfidfVectorizer</label><div class=\"sk-toggleable__content\"><pre>TfidfVectorizer(max_df=0.9, max_features=5000, ngram_range=(1, 2),\n",
       "                stop_words=[&#x27;i&#x27;, &#x27;me&#x27;, &#x27;my&#x27;, &#x27;myself&#x27;, &#x27;we&#x27;, &#x27;our&#x27;, &#x27;ours&#x27;,\n",
       "                            &#x27;ourselves&#x27;, &#x27;you&#x27;, &#x27;youre&#x27;, &#x27;youve&#x27;, &#x27;youll&#x27;,\n",
       "                            &#x27;youd&#x27;, &#x27;your&#x27;, &#x27;yours&#x27;, &#x27;yourself&#x27;, &#x27;yourselves&#x27;,\n",
       "                            &#x27;he&#x27;, &#x27;him&#x27;, &#x27;his&#x27;, &#x27;himself&#x27;, &#x27;she&#x27;, &#x27;shes&#x27;, &#x27;her&#x27;,\n",
       "                            &#x27;hers&#x27;, &#x27;herself&#x27;, &#x27;it&#x27;, &#x27;its&#x27;, &#x27;its&#x27;, &#x27;itself&#x27;, ...],\n",
       "                token_pattern=None,\n",
       "                tokenizer=&lt;function tokenize_and_lemmatize at 0x0000019078B72820&gt;)</pre></div></div></div><div class=\"sk-item\"><div class=\"sk-estimator sk-toggleable\"><input class=\"sk-toggleable__control sk-hidden--visually\" id=\"sk-estimator-id-63\" type=\"checkbox\" ><label for=\"sk-estimator-id-63\" class=\"sk-toggleable__label sk-toggleable__label-arrow\">RandomForestClassifier</label><div class=\"sk-toggleable__content\"><pre>RandomForestClassifier(max_depth=30)</pre></div></div></div></div></div></div></div>"
      ],
      "text/plain": [
       "Pipeline(steps=[('tvec',\n",
       "                 TfidfVectorizer(max_df=0.9, max_features=5000,\n",
       "                                 ngram_range=(1, 2),\n",
       "                                 stop_words=['i', 'me', 'my', 'myself', 'we',\n",
       "                                             'our', 'ours', 'ourselves', 'you',\n",
       "                                             'youre', 'youve', 'youll', 'youd',\n",
       "                                             'your', 'yours', 'yourself',\n",
       "                                             'yourselves', 'he', 'him', 'his',\n",
       "                                             'himself', 'she', 'shes', 'her',\n",
       "                                             'hers', 'herself', 'it', 'its',\n",
       "                                             'its', 'itself', ...],\n",
       "                                 token_pattern=None,\n",
       "                                 tokenizer=<function tokenize_and_lemmatize at 0x0000019078B72820>)),\n",
       "                ('rf', RandomForestClassifier(max_depth=30))])"
      ]
     },
     "execution_count": 203,
     "metadata": {},
     "output_type": "execute_result"
    }
   ],
   "source": [
    "# Train the best model on the full training data\n",
    "best_model_tvecrf.fit(X_train, y_train)"
   ]
  },
  {
   "cell_type": "code",
   "execution_count": 204,
   "id": "3931d648-01d3-4d68-92cd-8e056ccf458d",
   "metadata": {},
   "outputs": [],
   "source": [
    "#pickle the models\n",
    "pickle.dump(gs_tvecrf, open('../model/gs_tvecrf.pkl', 'wb'))\n",
    "pickle.dump(best_model_tvecrf, open('../model/best_model_tvecrf.pkl', 'wb'))"
   ]
  },
  {
   "cell_type": "code",
   "execution_count": 205,
   "id": "59658974-d241-4dc5-ae7a-8c54ae190cee",
   "metadata": {},
   "outputs": [
    {
     "name": "stdout",
     "output_type": "stream",
     "text": [
      "MODEL PERFORMANCE:\n",
      "Accuracy: 0.7858\n",
      "F1 score: 0.8245\n"
     ]
    }
   ],
   "source": [
    "# Score model on training set.\n",
    "perf_measure_train(best_model_tvecrf, X_train, y_train)"
   ]
  },
  {
   "cell_type": "code",
   "execution_count": 249,
   "id": "b25e6b7e-454b-4126-96ae-71032278b2d9",
   "metadata": {},
   "outputs": [
    {
     "name": "stdout",
     "output_type": "stream",
     "text": [
      "MODEL PERFORMANCE:\n",
      "Accuracy: 0.7192\n",
      "F1 score: 0.7698\n"
     ]
    },
    {
     "data": {
      "image/png": "[encoded data removed]",
      "text/plain": [
       "<Figure size 640x480 with 2 Axes>"
      ]
     },
     "metadata": {},
     "output_type": "display_data"
    }
   ],
   "source": [
    "# Score model on testing set.\n",
    "perf_measure_test(best_model_tvecrf, X_test, y_test)"
   ]
  },
  {
   "cell_type": "code",
   "execution_count": 367,
   "id": "9b458d4d-4071-4580-9d7d-432667fb6cf9",
   "metadata": {},
   "outputs": [
    {
     "data": {
      "image/png": "[encoded data removed]",
      "text/plain": [
       "<Figure size 600x400 with 1 Axes>"
      ]
     },
     "metadata": {},
     "output_type": "display_data"
    }
   ],
   "source": [
    "plot_precision_recall_curve(best_model_tvecrf, X_test, y_test)"
   ]
  },
  {
   "cell_type": "markdown",
   "id": "1901cae2-deea-40ac-a7e8-193b03e52317",
   "metadata": {},
   "source": [
    "### Findings - Random Forests\n",
    "The random forests models, which were originally severely overfitted, managed to be tweaked till train and test scores were relatively similar. While this has resulted in a slightly lower accuracy and F1 score, the trade-off in accuracy and F1 scores result in a more stable model where train and test scores are similar. Between Count Vectorizer and TF-IDF vectorizer, again TVEC appears slightly more effective."
   ]
  },
  {
   "cell_type": "markdown",
   "id": "1008f581-7878-468e-958c-269075fcaf8a",
   "metadata": {},
   "source": [
    "---\n",
    "After fitting both model 1 (naive bayes) and model 2 (random forests) on both count vectorizer (CVEC) and TF-IDF vectorizer (TVEC), from the scores we can safely say that TVEC is more effective. This is likely to be because TVEC assigns a weight to each term based on its frequency in a specific document and its inverse frequency across all documents. This weighting helps emphasize terms that are important in a specific document while downplaying common terms that appear frequently across all documents. CVEC, on the other hand, simply counts the occurrences of terms in each document without considering their importance across the entire corpus. Hence for remaining models, we will just be using TVEC as our vectorizer."
   ]
  },
  {
   "cell_type": "markdown",
   "id": "ad7ceb04-bbef-4a3d-b170-ade8c34635bd",
   "metadata": {},
   "source": [
    "## 3.2.5 ADABoost\n",
    "### Model 3 - TF-IDF, ADAboost\n",
    "Since the models we have tried so far (Logistic Regression, Naive Bayes, Random Forests) do not seem to be working well enough - our \n",
    "\n",
    "let's try a more complicated model ADABoost instead.\n",
    "\n",
    "Theoretically, ADABoost could be an appropriate model due to its characteristics:\n",
    "* Versatility: AdaBoost can be used with various base classifiers (weak learners), making it applicable to different NLP tasks.\n",
    "* Can handle high-dimensional data: AdaBoost is effective in handling high-dimensional feature spaces often encountered in text data.\n",
    "* Could avoid overfitting: Hopefully AdaBoost can help reduce overfitting since it combines multiple weak learners."
   ]
  },
  {
   "cell_type": "code",
   "execution_count": 250,
   "id": "f952ba05-6032-424a-967b-3fb3684ed597",
   "metadata": {},
   "outputs": [],
   "source": [
    "#load picked models\n",
    "gs_ada = pickle.load(open('../model/gs_ada.pkl', 'rb'))\n",
    "best_model_ada = pickle.load(open('../model/best_model_ada.pkl', 'rb'))"
   ]
  },
  {
   "cell_type": "code",
   "execution_count": 251,
   "id": "9eb3e5e1-e0d9-477c-843b-bac94142d635",
   "metadata": {},
   "outputs": [],
   "source": [
    "pipe_ada = Pipeline([\n",
    "    ('tfidf', TfidfVectorizer(tokenizer=tokenize_and_lemmatize, stop_words = list(final_stopwords), token_pattern=None)),\n",
    "    ('ada', AdaBoostClassifier())\n",
    "])\n",
    "\n",
    "pipe_ada_params = {\n",
    "    'tfidf__max_df': [5_000, 6_000],          \n",
    "    'tfidf__min_df': [2],                 \n",
    "    'tfidf__ngram_range': [(1, 1), (1, 2)],      \n",
    "    'ada__n_estimators': [100, 150],   \n",
    "    'ada__learning_rate': [0.5]  \n",
    "}"
   ]
  },
  {
   "cell_type": "code",
   "execution_count": 213,
   "id": "23adaa78-ca91-4fbd-86b7-bc6b57410861",
   "metadata": {},
   "outputs": [],
   "source": [
    "gs_ada = GridSearchCV(pipe_ada,\n",
    "                  param_grid=pipe_ada_params,\n",
    "                  cv=3,\n",
    "                  error_score='raise') "
   ]
  },
  {
   "cell_type": "code",
   "execution_count": 214,
   "id": "0cb75540-358a-4878-b87a-724119a6b6af",
   "metadata": {},
   "outputs": [
    {
     "data": {
      "text/html": [
       "<style>#sk-container-id-23 {color: black;}#sk-container-id-23 pre{padding: 0;}#sk-container-id-23 div.sk-toggleable {background-color: white;}#sk-container-id-23 label.sk-toggleable__label {cursor: pointer;display: block;width: 100%;margin-bottom: 0;padding: 0.3em;box-sizing: border-box;text-align: center;}#sk-container-id-23 label.sk-toggleable__label-arrow:before {content: \"▸\";float: left;margin-right: 0.25em;color: #696969;}#sk-container-id-23 label.sk-toggleable__label-arrow:hover:before {color: black;}#sk-container-id-23 div.sk-estimator:hover label.sk-toggleable__label-arrow:before {color: black;}#sk-container-id-23 div.sk-toggleable__content {max-height: 0;max-width: 0;overflow: hidden;text-align: left;background-color: #f0f8ff;}#sk-container-id-23 div.sk-toggleable__content pre {margin: 0.2em;color: black;border-radius: 0.25em;background-color: #f0f8ff;}#sk-container-id-23 input.sk-toggleable__control:checked~div.sk-toggleable__content {max-height: 200px;max-width: 100%;overflow: auto;}#sk-container-id-23 input.sk-toggleable__control:checked~label.sk-toggleable__label-arrow:before {content: \"▾\";}#sk-container-id-23 div.sk-estimator input.sk-toggleable__control:checked~label.sk-toggleable__label {background-color: #d4ebff;}#sk-container-id-23 div.sk-label input.sk-toggleable__control:checked~label.sk-toggleable__label {background-color: #d4ebff;}#sk-container-id-23 input.sk-hidden--visually {border: 0;clip: rect(1px 1px 1px 1px);clip: rect(1px, 1px, 1px, 1px);height: 1px;margin: -1px;overflow: hidden;padding: 0;position: absolute;width: 1px;}#sk-container-id-23 div.sk-estimator {font-family: monospace;background-color: #f0f8ff;border: 1px dotted black;border-radius: 0.25em;box-sizing: border-box;margin-bottom: 0.5em;}#sk-container-id-23 div.sk-estimator:hover {background-color: #d4ebff;}#sk-container-id-23 div.sk-parallel-item::after {content: \"\";width: 100%;border-bottom: 1px solid gray;flex-grow: 1;}#sk-container-id-23 div.sk-label:hover label.sk-toggleable__label {background-color: #d4ebff;}#sk-container-id-23 div.sk-serial::before {content: \"\";position: absolute;border-left: 1px solid gray;box-sizing: border-box;top: 0;bottom: 0;left: 50%;z-index: 0;}#sk-container-id-23 div.sk-serial {display: flex;flex-direction: column;align-items: center;background-color: white;padding-right: 0.2em;padding-left: 0.2em;position: relative;}#sk-container-id-23 div.sk-item {position: relative;z-index: 1;}#sk-container-id-23 div.sk-parallel {display: flex;align-items: stretch;justify-content: center;background-color: white;position: relative;}#sk-container-id-23 div.sk-item::before, #sk-container-id-23 div.sk-parallel-item::before {content: \"\";position: absolute;border-left: 1px solid gray;box-sizing: border-box;top: 0;bottom: 0;left: 50%;z-index: -1;}#sk-container-id-23 div.sk-parallel-item {display: flex;flex-direction: column;z-index: 1;position: relative;background-color: white;}#sk-container-id-23 div.sk-parallel-item:first-child::after {align-self: flex-end;width: 50%;}#sk-container-id-23 div.sk-parallel-item:last-child::after {align-self: flex-start;width: 50%;}#sk-container-id-23 div.sk-parallel-item:only-child::after {width: 0;}#sk-container-id-23 div.sk-dashed-wrapped {border: 1px dashed gray;margin: 0 0.4em 0.5em 0.4em;box-sizing: border-box;padding-bottom: 0.4em;background-color: white;}#sk-container-id-23 div.sk-label label {font-family: monospace;font-weight: bold;display: inline-block;line-height: 1.2em;}#sk-container-id-23 div.sk-label-container {text-align: center;}#sk-container-id-23 div.sk-container {/* jupyter's `normalize.less` sets `[hidden] { display: none; }` but bootstrap.min.css set `[hidden] { display: none !important; }` so we also need the `!important` here to be able to override the default hidden behavior on the sphinx rendered scikit-learn.org. See: https://github.com/scikit-learn/scikit-learn/issues/21755 */display: inline-block !important;position: relative;}#sk-container-id-23 div.sk-text-repr-fallback {display: none;}</style><div id=\"sk-container-id-23\" class=\"sk-top-container\"><div class=\"sk-text-repr-fallback\"><pre>GridSearchCV(cv=3, error_score=&#x27;raise&#x27;,\n",
       "             estimator=Pipeline(steps=[(&#x27;tfidf&#x27;,\n",
       "                                        TfidfVectorizer(stop_words=[&#x27;i&#x27;, &#x27;me&#x27;,\n",
       "                                                                    &#x27;my&#x27;,\n",
       "                                                                    &#x27;myself&#x27;,\n",
       "                                                                    &#x27;we&#x27;, &#x27;our&#x27;,\n",
       "                                                                    &#x27;ours&#x27;,\n",
       "                                                                    &#x27;ourselves&#x27;,\n",
       "                                                                    &#x27;you&#x27;,\n",
       "                                                                    &#x27;youre&#x27;,\n",
       "                                                                    &#x27;youve&#x27;,\n",
       "                                                                    &#x27;youll&#x27;,\n",
       "                                                                    &#x27;youd&#x27;,\n",
       "                                                                    &#x27;your&#x27;,\n",
       "                                                                    &#x27;yours&#x27;,\n",
       "                                                                    &#x27;yourself&#x27;,\n",
       "                                                                    &#x27;yourselves&#x27;,\n",
       "                                                                    &#x27;he&#x27;, &#x27;him&#x27;,\n",
       "                                                                    &#x27;his&#x27;,\n",
       "                                                                    &#x27;himself&#x27;,\n",
       "                                                                    &#x27;she&#x27;,\n",
       "                                                                    &#x27;shes&#x27;,\n",
       "                                                                    &#x27;her&#x27;,\n",
       "                                                                    &#x27;hers&#x27;,\n",
       "                                                                    &#x27;herself&#x27;,\n",
       "                                                                    &#x27;it&#x27;, &#x27;its&#x27;,\n",
       "                                                                    &#x27;its&#x27;,\n",
       "                                                                    &#x27;itself&#x27;, ...],\n",
       "                                                        token_pattern=None,\n",
       "                                                        tokenizer=&lt;function tokenize_and_lemmatize at 0x0000019078B72820&gt;)),\n",
       "                                       (&#x27;ada&#x27;, AdaBoostClassifier())]),\n",
       "             param_grid={&#x27;ada__learning_rate&#x27;: [0.1, 0.5, 1.0],\n",
       "                         &#x27;ada__n_estimators&#x27;: [100], &#x27;tfidf__max_df&#x27;: [5000],\n",
       "                         &#x27;tfidf__min_df&#x27;: [1, 2],\n",
       "                         &#x27;tfidf__ngram_range&#x27;: [(1, 1), (1, 2)]})</pre><b>In a Jupyter environment, please rerun this cell to show the HTML representation or trust the notebook. <br />On GitHub, the HTML representation is unable to render, please try loading this page with nbviewer.org.</b></div><div class=\"sk-container\" hidden><div class=\"sk-item sk-dashed-wrapped\"><div class=\"sk-label-container\"><div class=\"sk-label sk-toggleable\"><input class=\"sk-toggleable__control sk-hidden--visually\" id=\"sk-estimator-id-68\" type=\"checkbox\" ><label for=\"sk-estimator-id-68\" class=\"sk-toggleable__label sk-toggleable__label-arrow\">GridSearchCV</label><div class=\"sk-toggleable__content\"><pre>GridSearchCV(cv=3, error_score=&#x27;raise&#x27;,\n",
       "             estimator=Pipeline(steps=[(&#x27;tfidf&#x27;,\n",
       "                                        TfidfVectorizer(stop_words=[&#x27;i&#x27;, &#x27;me&#x27;,\n",
       "                                                                    &#x27;my&#x27;,\n",
       "                                                                    &#x27;myself&#x27;,\n",
       "                                                                    &#x27;we&#x27;, &#x27;our&#x27;,\n",
       "                                                                    &#x27;ours&#x27;,\n",
       "                                                                    &#x27;ourselves&#x27;,\n",
       "                                                                    &#x27;you&#x27;,\n",
       "                                                                    &#x27;youre&#x27;,\n",
       "                                                                    &#x27;youve&#x27;,\n",
       "                                                                    &#x27;youll&#x27;,\n",
       "                                                                    &#x27;youd&#x27;,\n",
       "                                                                    &#x27;your&#x27;,\n",
       "                                                                    &#x27;yours&#x27;,\n",
       "                                                                    &#x27;yourself&#x27;,\n",
       "                                                                    &#x27;yourselves&#x27;,\n",
       "                                                                    &#x27;he&#x27;, &#x27;him&#x27;,\n",
       "                                                                    &#x27;his&#x27;,\n",
       "                                                                    &#x27;himself&#x27;,\n",
       "                                                                    &#x27;she&#x27;,\n",
       "                                                                    &#x27;shes&#x27;,\n",
       "                                                                    &#x27;her&#x27;,\n",
       "                                                                    &#x27;hers&#x27;,\n",
       "                                                                    &#x27;herself&#x27;,\n",
       "                                                                    &#x27;it&#x27;, &#x27;its&#x27;,\n",
       "                                                                    &#x27;its&#x27;,\n",
       "                                                                    &#x27;itself&#x27;, ...],\n",
       "                                                        token_pattern=None,\n",
       "                                                        tokenizer=&lt;function tokenize_and_lemmatize at 0x0000019078B72820&gt;)),\n",
       "                                       (&#x27;ada&#x27;, AdaBoostClassifier())]),\n",
       "             param_grid={&#x27;ada__learning_rate&#x27;: [0.1, 0.5, 1.0],\n",
       "                         &#x27;ada__n_estimators&#x27;: [100], &#x27;tfidf__max_df&#x27;: [5000],\n",
       "                         &#x27;tfidf__min_df&#x27;: [1, 2],\n",
       "                         &#x27;tfidf__ngram_range&#x27;: [(1, 1), (1, 2)]})</pre></div></div></div><div class=\"sk-parallel\"><div class=\"sk-parallel-item\"><div class=\"sk-item\"><div class=\"sk-label-container\"><div class=\"sk-label sk-toggleable\"><input class=\"sk-toggleable__control sk-hidden--visually\" id=\"sk-estimator-id-69\" type=\"checkbox\" ><label for=\"sk-estimator-id-69\" class=\"sk-toggleable__label sk-toggleable__label-arrow\">estimator: Pipeline</label><div class=\"sk-toggleable__content\"><pre>Pipeline(steps=[(&#x27;tfidf&#x27;,\n",
       "                 TfidfVectorizer(stop_words=[&#x27;i&#x27;, &#x27;me&#x27;, &#x27;my&#x27;, &#x27;myself&#x27;, &#x27;we&#x27;,\n",
       "                                             &#x27;our&#x27;, &#x27;ours&#x27;, &#x27;ourselves&#x27;, &#x27;you&#x27;,\n",
       "                                             &#x27;youre&#x27;, &#x27;youve&#x27;, &#x27;youll&#x27;, &#x27;youd&#x27;,\n",
       "                                             &#x27;your&#x27;, &#x27;yours&#x27;, &#x27;yourself&#x27;,\n",
       "                                             &#x27;yourselves&#x27;, &#x27;he&#x27;, &#x27;him&#x27;, &#x27;his&#x27;,\n",
       "                                             &#x27;himself&#x27;, &#x27;she&#x27;, &#x27;shes&#x27;, &#x27;her&#x27;,\n",
       "                                             &#x27;hers&#x27;, &#x27;herself&#x27;, &#x27;it&#x27;, &#x27;its&#x27;,\n",
       "                                             &#x27;its&#x27;, &#x27;itself&#x27;, ...],\n",
       "                                 token_pattern=None,\n",
       "                                 tokenizer=&lt;function tokenize_and_lemmatize at 0x0000019078B72820&gt;)),\n",
       "                (&#x27;ada&#x27;, AdaBoostClassifier())])</pre></div></div></div><div class=\"sk-serial\"><div class=\"sk-item\"><div class=\"sk-serial\"><div class=\"sk-item\"><div class=\"sk-estimator sk-toggleable\"><input class=\"sk-toggleable__control sk-hidden--visually\" id=\"sk-estimator-id-70\" type=\"checkbox\" ><label for=\"sk-estimator-id-70\" class=\"sk-toggleable__label sk-toggleable__label-arrow\">TfidfVectorizer</label><div class=\"sk-toggleable__content\"><pre>TfidfVectorizer(stop_words=[&#x27;i&#x27;, &#x27;me&#x27;, &#x27;my&#x27;, &#x27;myself&#x27;, &#x27;we&#x27;, &#x27;our&#x27;, &#x27;ours&#x27;,\n",
       "                            &#x27;ourselves&#x27;, &#x27;you&#x27;, &#x27;youre&#x27;, &#x27;youve&#x27;, &#x27;youll&#x27;,\n",
       "                            &#x27;youd&#x27;, &#x27;your&#x27;, &#x27;yours&#x27;, &#x27;yourself&#x27;, &#x27;yourselves&#x27;,\n",
       "                            &#x27;he&#x27;, &#x27;him&#x27;, &#x27;his&#x27;, &#x27;himself&#x27;, &#x27;she&#x27;, &#x27;shes&#x27;, &#x27;her&#x27;,\n",
       "                            &#x27;hers&#x27;, &#x27;herself&#x27;, &#x27;it&#x27;, &#x27;its&#x27;, &#x27;its&#x27;, &#x27;itself&#x27;, ...],\n",
       "                token_pattern=None,\n",
       "                tokenizer=&lt;function tokenize_and_lemmatize at 0x0000019078B72820&gt;)</pre></div></div></div><div class=\"sk-item\"><div class=\"sk-estimator sk-toggleable\"><input class=\"sk-toggleable__control sk-hidden--visually\" id=\"sk-estimator-id-71\" type=\"checkbox\" ><label for=\"sk-estimator-id-71\" class=\"sk-toggleable__label sk-toggleable__label-arrow\">AdaBoostClassifier</label><div class=\"sk-toggleable__content\"><pre>AdaBoostClassifier()</pre></div></div></div></div></div></div></div></div></div></div></div></div>"
      ],
      "text/plain": [
       "GridSearchCV(cv=3, error_score='raise',\n",
       "             estimator=Pipeline(steps=[('tfidf',\n",
       "                                        TfidfVectorizer(stop_words=['i', 'me',\n",
       "                                                                    'my',\n",
       "                                                                    'myself',\n",
       "                                                                    'we', 'our',\n",
       "                                                                    'ours',\n",
       "                                                                    'ourselves',\n",
       "                                                                    'you',\n",
       "                                                                    'youre',\n",
       "                                                                    'youve',\n",
       "                                                                    'youll',\n",
       "                                                                    'youd',\n",
       "                                                                    'your',\n",
       "                                                                    'yours',\n",
       "                                                                    'yourself',\n",
       "                                                                    'yourselves',\n",
       "                                                                    'he', 'him',\n",
       "                                                                    'his',\n",
       "                                                                    'himself',\n",
       "                                                                    'she',\n",
       "                                                                    'shes',\n",
       "                                                                    'her',\n",
       "                                                                    'hers',\n",
       "                                                                    'herself',\n",
       "                                                                    'it', 'its',\n",
       "                                                                    'its',\n",
       "                                                                    'itself', ...],\n",
       "                                                        token_pattern=None,\n",
       "                                                        tokenizer=<function tokenize_and_lemmatize at 0x0000019078B72820>)),\n",
       "                                       ('ada', AdaBoostClassifier())]),\n",
       "             param_grid={'ada__learning_rate': [0.1, 0.5, 1.0],\n",
       "                         'ada__n_estimators': [100], 'tfidf__max_df': [5000],\n",
       "                         'tfidf__min_df': [1, 2],\n",
       "                         'tfidf__ngram_range': [(1, 1), (1, 2)]})"
      ]
     },
     "execution_count": 214,
     "metadata": {},
     "output_type": "execute_result"
    }
   ],
   "source": [
    "#Train pipeline on training data\n",
    "gs_ada.fit(X_train, y_train)"
   ]
  },
  {
   "cell_type": "code",
   "execution_count": 215,
   "id": "3009ba58-5b0c-4fa3-ae96-8ebaf33bec15",
   "metadata": {},
   "outputs": [
    {
     "name": "stdout",
     "output_type": "stream",
     "text": [
      "0.7133513351335133\n",
      "{'ada__learning_rate': 0.5, 'ada__n_estimators': 100, 'tfidf__max_df': 5000, 'tfidf__min_df': 2, 'tfidf__ngram_range': (1, 2)}\n",
      "Pipeline(steps=[('tfidf',\n",
      "                 TfidfVectorizer(max_df=5000, min_df=2, ngram_range=(1, 2),\n",
      "                                 stop_words=['i', 'me', 'my', 'myself', 'we',\n",
      "                                             'our', 'ours', 'ourselves', 'you',\n",
      "                                             'youre', 'youve', 'youll', 'youd',\n",
      "                                             'your', 'yours', 'yourself',\n",
      "                                             'yourselves', 'he', 'him', 'his',\n",
      "                                             'himself', 'she', 'shes', 'her',\n",
      "                                             'hers', 'herself', 'it', 'its',\n",
      "                                             'its', 'itself', ...],\n",
      "                                 token_pattern=None,\n",
      "                                 tokenizer=<function tokenize_and_lemmatize at 0x0000019078B72820>)),\n",
      "                ('ada',\n",
      "                 AdaBoostClassifier(learning_rate=0.5, n_estimators=100))])\n"
     ]
    }
   ],
   "source": [
    "best_score_ada = gs_ada.best_score_\n",
    "best_params_ada = gs_ada.best_params_\n",
    "best_model_ada = gs_ada.best_estimator_\n",
    "\n",
    "print(best_score_ada)\n",
    "print(best_params_ada)\n",
    "print(best_model_ada)"
   ]
  },
  {
   "cell_type": "code",
   "execution_count": 216,
   "id": "c10e6c80-6417-4631-bacf-eea59d3b8522",
   "metadata": {},
   "outputs": [
    {
     "data": {
      "text/html": [
       "<style>#sk-container-id-24 {color: black;}#sk-container-id-24 pre{padding: 0;}#sk-container-id-24 div.sk-toggleable {background-color: white;}#sk-container-id-24 label.sk-toggleable__label {cursor: pointer;display: block;width: 100%;margin-bottom: 0;padding: 0.3em;box-sizing: border-box;text-align: center;}#sk-container-id-24 label.sk-toggleable__label-arrow:before {content: \"▸\";float: left;margin-right: 0.25em;color: #696969;}#sk-container-id-24 label.sk-toggleable__label-arrow:hover:before {color: black;}#sk-container-id-24 div.sk-estimator:hover label.sk-toggleable__label-arrow:before {color: black;}#sk-container-id-24 div.sk-toggleable__content {max-height: 0;max-width: 0;overflow: hidden;text-align: left;background-color: #f0f8ff;}#sk-container-id-24 div.sk-toggleable__content pre {margin: 0.2em;color: black;border-radius: 0.25em;background-color: #f0f8ff;}#sk-container-id-24 input.sk-toggleable__control:checked~div.sk-toggleable__content {max-height: 200px;max-width: 100%;overflow: auto;}#sk-container-id-24 input.sk-toggleable__control:checked~label.sk-toggleable__label-arrow:before {content: \"▾\";}#sk-container-id-24 div.sk-estimator input.sk-toggleable__control:checked~label.sk-toggleable__label {background-color: #d4ebff;}#sk-container-id-24 div.sk-label input.sk-toggleable__control:checked~label.sk-toggleable__label {background-color: #d4ebff;}#sk-container-id-24 input.sk-hidden--visually {border: 0;clip: rect(1px 1px 1px 1px);clip: rect(1px, 1px, 1px, 1px);height: 1px;margin: -1px;overflow: hidden;padding: 0;position: absolute;width: 1px;}#sk-container-id-24 div.sk-estimator {font-family: monospace;background-color: #f0f8ff;border: 1px dotted black;border-radius: 0.25em;box-sizing: border-box;margin-bottom: 0.5em;}#sk-container-id-24 div.sk-estimator:hover {background-color: #d4ebff;}#sk-container-id-24 div.sk-parallel-item::after {content: \"\";width: 100%;border-bottom: 1px solid gray;flex-grow: 1;}#sk-container-id-24 div.sk-label:hover label.sk-toggleable__label {background-color: #d4ebff;}#sk-container-id-24 div.sk-serial::before {content: \"\";position: absolute;border-left: 1px solid gray;box-sizing: border-box;top: 0;bottom: 0;left: 50%;z-index: 0;}#sk-container-id-24 div.sk-serial {display: flex;flex-direction: column;align-items: center;background-color: white;padding-right: 0.2em;padding-left: 0.2em;position: relative;}#sk-container-id-24 div.sk-item {position: relative;z-index: 1;}#sk-container-id-24 div.sk-parallel {display: flex;align-items: stretch;justify-content: center;background-color: white;position: relative;}#sk-container-id-24 div.sk-item::before, #sk-container-id-24 div.sk-parallel-item::before {content: \"\";position: absolute;border-left: 1px solid gray;box-sizing: border-box;top: 0;bottom: 0;left: 50%;z-index: -1;}#sk-container-id-24 div.sk-parallel-item {display: flex;flex-direction: column;z-index: 1;position: relative;background-color: white;}#sk-container-id-24 div.sk-parallel-item:first-child::after {align-self: flex-end;width: 50%;}#sk-container-id-24 div.sk-parallel-item:last-child::after {align-self: flex-start;width: 50%;}#sk-container-id-24 div.sk-parallel-item:only-child::after {width: 0;}#sk-container-id-24 div.sk-dashed-wrapped {border: 1px dashed gray;margin: 0 0.4em 0.5em 0.4em;box-sizing: border-box;padding-bottom: 0.4em;background-color: white;}#sk-container-id-24 div.sk-label label {font-family: monospace;font-weight: bold;display: inline-block;line-height: 1.2em;}#sk-container-id-24 div.sk-label-container {text-align: center;}#sk-container-id-24 div.sk-container {/* jupyter's `normalize.less` sets `[hidden] { display: none; }` but bootstrap.min.css set `[hidden] { display: none !important; }` so we also need the `!important` here to be able to override the default hidden behavior on the sphinx rendered scikit-learn.org. See: https://github.com/scikit-learn/scikit-learn/issues/21755 */display: inline-block !important;position: relative;}#sk-container-id-24 div.sk-text-repr-fallback {display: none;}</style><div id=\"sk-container-id-24\" class=\"sk-top-container\"><div class=\"sk-text-repr-fallback\"><pre>Pipeline(steps=[(&#x27;tfidf&#x27;,\n",
       "                 TfidfVectorizer(max_df=5000, min_df=2, ngram_range=(1, 2),\n",
       "                                 stop_words=[&#x27;i&#x27;, &#x27;me&#x27;, &#x27;my&#x27;, &#x27;myself&#x27;, &#x27;we&#x27;,\n",
       "                                             &#x27;our&#x27;, &#x27;ours&#x27;, &#x27;ourselves&#x27;, &#x27;you&#x27;,\n",
       "                                             &#x27;youre&#x27;, &#x27;youve&#x27;, &#x27;youll&#x27;, &#x27;youd&#x27;,\n",
       "                                             &#x27;your&#x27;, &#x27;yours&#x27;, &#x27;yourself&#x27;,\n",
       "                                             &#x27;yourselves&#x27;, &#x27;he&#x27;, &#x27;him&#x27;, &#x27;his&#x27;,\n",
       "                                             &#x27;himself&#x27;, &#x27;she&#x27;, &#x27;shes&#x27;, &#x27;her&#x27;,\n",
       "                                             &#x27;hers&#x27;, &#x27;herself&#x27;, &#x27;it&#x27;, &#x27;its&#x27;,\n",
       "                                             &#x27;its&#x27;, &#x27;itself&#x27;, ...],\n",
       "                                 token_pattern=None,\n",
       "                                 tokenizer=&lt;function tokenize_and_lemmatize at 0x0000019078B72820&gt;)),\n",
       "                (&#x27;ada&#x27;,\n",
       "                 AdaBoostClassifier(learning_rate=0.5, n_estimators=100))])</pre><b>In a Jupyter environment, please rerun this cell to show the HTML representation or trust the notebook. <br />On GitHub, the HTML representation is unable to render, please try loading this page with nbviewer.org.</b></div><div class=\"sk-container\" hidden><div class=\"sk-item sk-dashed-wrapped\"><div class=\"sk-label-container\"><div class=\"sk-label sk-toggleable\"><input class=\"sk-toggleable__control sk-hidden--visually\" id=\"sk-estimator-id-72\" type=\"checkbox\" ><label for=\"sk-estimator-id-72\" class=\"sk-toggleable__label sk-toggleable__label-arrow\">Pipeline</label><div class=\"sk-toggleable__content\"><pre>Pipeline(steps=[(&#x27;tfidf&#x27;,\n",
       "                 TfidfVectorizer(max_df=5000, min_df=2, ngram_range=(1, 2),\n",
       "                                 stop_words=[&#x27;i&#x27;, &#x27;me&#x27;, &#x27;my&#x27;, &#x27;myself&#x27;, &#x27;we&#x27;,\n",
       "                                             &#x27;our&#x27;, &#x27;ours&#x27;, &#x27;ourselves&#x27;, &#x27;you&#x27;,\n",
       "                                             &#x27;youre&#x27;, &#x27;youve&#x27;, &#x27;youll&#x27;, &#x27;youd&#x27;,\n",
       "                                             &#x27;your&#x27;, &#x27;yours&#x27;, &#x27;yourself&#x27;,\n",
       "                                             &#x27;yourselves&#x27;, &#x27;he&#x27;, &#x27;him&#x27;, &#x27;his&#x27;,\n",
       "                                             &#x27;himself&#x27;, &#x27;she&#x27;, &#x27;shes&#x27;, &#x27;her&#x27;,\n",
       "                                             &#x27;hers&#x27;, &#x27;herself&#x27;, &#x27;it&#x27;, &#x27;its&#x27;,\n",
       "                                             &#x27;its&#x27;, &#x27;itself&#x27;, ...],\n",
       "                                 token_pattern=None,\n",
       "                                 tokenizer=&lt;function tokenize_and_lemmatize at 0x0000019078B72820&gt;)),\n",
       "                (&#x27;ada&#x27;,\n",
       "                 AdaBoostClassifier(learning_rate=0.5, n_estimators=100))])</pre></div></div></div><div class=\"sk-serial\"><div class=\"sk-item\"><div class=\"sk-estimator sk-toggleable\"><input class=\"sk-toggleable__control sk-hidden--visually\" id=\"sk-estimator-id-73\" type=\"checkbox\" ><label for=\"sk-estimator-id-73\" class=\"sk-toggleable__label sk-toggleable__label-arrow\">TfidfVectorizer</label><div class=\"sk-toggleable__content\"><pre>TfidfVectorizer(max_df=5000, min_df=2, ngram_range=(1, 2),\n",
       "                stop_words=[&#x27;i&#x27;, &#x27;me&#x27;, &#x27;my&#x27;, &#x27;myself&#x27;, &#x27;we&#x27;, &#x27;our&#x27;, &#x27;ours&#x27;,\n",
       "                            &#x27;ourselves&#x27;, &#x27;you&#x27;, &#x27;youre&#x27;, &#x27;youve&#x27;, &#x27;youll&#x27;,\n",
       "                            &#x27;youd&#x27;, &#x27;your&#x27;, &#x27;yours&#x27;, &#x27;yourself&#x27;, &#x27;yourselves&#x27;,\n",
       "                            &#x27;he&#x27;, &#x27;him&#x27;, &#x27;his&#x27;, &#x27;himself&#x27;, &#x27;she&#x27;, &#x27;shes&#x27;, &#x27;her&#x27;,\n",
       "                            &#x27;hers&#x27;, &#x27;herself&#x27;, &#x27;it&#x27;, &#x27;its&#x27;, &#x27;its&#x27;, &#x27;itself&#x27;, ...],\n",
       "                token_pattern=None,\n",
       "                tokenizer=&lt;function tokenize_and_lemmatize at 0x0000019078B72820&gt;)</pre></div></div></div><div class=\"sk-item\"><div class=\"sk-estimator sk-toggleable\"><input class=\"sk-toggleable__control sk-hidden--visually\" id=\"sk-estimator-id-74\" type=\"checkbox\" ><label for=\"sk-estimator-id-74\" class=\"sk-toggleable__label sk-toggleable__label-arrow\">AdaBoostClassifier</label><div class=\"sk-toggleable__content\"><pre>AdaBoostClassifier(learning_rate=0.5, n_estimators=100)</pre></div></div></div></div></div></div></div>"
      ],
      "text/plain": [
       "Pipeline(steps=[('tfidf',\n",
       "                 TfidfVectorizer(max_df=5000, min_df=2, ngram_range=(1, 2),\n",
       "                                 stop_words=['i', 'me', 'my', 'myself', 'we',\n",
       "                                             'our', 'ours', 'ourselves', 'you',\n",
       "                                             'youre', 'youve', 'youll', 'youd',\n",
       "                                             'your', 'yours', 'yourself',\n",
       "                                             'yourselves', 'he', 'him', 'his',\n",
       "                                             'himself', 'she', 'shes', 'her',\n",
       "                                             'hers', 'herself', 'it', 'its',\n",
       "                                             'its', 'itself', ...],\n",
       "                                 token_pattern=None,\n",
       "                                 tokenizer=<function tokenize_and_lemmatize at 0x0000019078B72820>)),\n",
       "                ('ada',\n",
       "                 AdaBoostClassifier(learning_rate=0.5, n_estimators=100))])"
      ]
     },
     "execution_count": 216,
     "metadata": {},
     "output_type": "execute_result"
    }
   ],
   "source": [
    "# Train the best model on the full training data\n",
    "best_model_ada.fit(X_train, y_train)"
   ]
  },
  {
   "cell_type": "code",
   "execution_count": 217,
   "id": "9804c931-dfbe-4f02-bf47-e7001ccb0eca",
   "metadata": {},
   "outputs": [],
   "source": [
    "#pickle the models\n",
    "pickle.dump(gs_ada, open('../model/gs_ada.pkl', 'wb'))\n",
    "pickle.dump(best_model_ada, open('../model/best_model_ada.pkl', 'wb'))"
   ]
  },
  {
   "cell_type": "code",
   "execution_count": 218,
   "id": "c3ca1ea1-3783-42ef-b07a-fdda332db9b4",
   "metadata": {},
   "outputs": [
    {
     "name": "stdout",
     "output_type": "stream",
     "text": [
      "MODEL PERFORMANCE:\n",
      "Accuracy: 0.7228\n",
      "F1 score: 0.7746\n"
     ]
    }
   ],
   "source": [
    "# Score model on training set.\n",
    "perf_measure_train(best_model_ada, X_train, y_train)"
   ]
  },
  {
   "cell_type": "code",
   "execution_count": 219,
   "id": "e80ae7d5-1a1e-4b49-9cc3-9d270fec1ecc",
   "metadata": {},
   "outputs": [
    {
     "name": "stdout",
     "output_type": "stream",
     "text": [
      "MODEL PERFORMANCE:\n",
      "Accuracy: 0.704\n",
      "F1 score: 0.7606\n"
     ]
    },
    {
     "data": {
      "image/png": "[encoded data removed]",
      "text/plain": [
       "<Figure size 640x480 with 2 Axes>"
      ]
     },
     "metadata": {},
     "output_type": "display_data"
    }
   ],
   "source": [
    "# Score model on testing set.\n",
    "perf_measure_test(best_model_ada, X_test, y_test)"
   ]
  },
  {
   "cell_type": "code",
   "execution_count": 368,
   "id": "3491ec91-4cab-497b-a0d1-8ef62f511845",
   "metadata": {},
   "outputs": [
    {
     "data": {
      "image/png": "[encoded data removed]",
      "text/plain": [
       "<Figure size 600x400 with 1 Axes>"
      ]
     },
     "metadata": {},
     "output_type": "display_data"
    }
   ],
   "source": [
    "plot_precision_recall_curve(best_model_ada, X_test, y_test)"
   ]
  },
  {
   "cell_type": "markdown",
   "id": "4e2f204f-cd0e-482f-ab39-50a3a8af3859",
   "metadata": {},
   "source": [
    "### Findings - ADABoost"
   ]
  },
  {
   "cell_type": "markdown",
   "id": "503fc85e-a2f6-4c5f-ab66-2d2c144d1459",
   "metadata": {},
   "source": [
    "Due to our limited time and computational power, we managed to tweak the parameters to minimise overfitting. However, the final model accuracy score is not ideal, with a test accuracy of 0.704 and test F1 score of 0.7606. \n",
    "\n",
    "There are also some cons of using ADAboost, including ADABoost being:\n",
    "* Computationally Intensive: AdaBoost requires multiple rounds of training and updating, which can be computationally intensive and time-consuming, especially when dealing with a large number of weak learners.\r",
    "* \r\n",
    "Bias towards Easy Examples: AdaBoost may focus on misclassifying examples that are initially easy to classify correctly, which can limit its performance when dealing with more complex or ambiguous data."
   ]
  },
  {
   "cell_type": "markdown",
   "id": "75d87a18-7b3f-473f-8184-b4d22ae79e91",
   "metadata": {},
   "source": [
    "---\n",
    "## 3.2.6 Support Vector Machines (SVM)\n",
    "### Model 4 - TF-IDF, SVM\n",
    "Theoretically, SVM should also yield us a better score due to its characteristics of being:\n",
    "* Effective in high-dimensional spaces\n",
    "* Able to handle large feature sets like bag-of-words representations\n"
   ]
  },
  {
   "cell_type": "code",
   "execution_count": null,
   "id": "33a17a79-70fe-4ebc-875c-2ef149f6ba3d",
   "metadata": {},
   "outputs": [],
   "source": [
    "#load picked models\n",
    "gs_tvecsvc = pickle.load(open('../model/gs_tvecsvc.pkl', 'rb'))\n",
    "best_model_tvecsvc = pickle.load(open('../model/best_model_tvecsvc.pkl', 'rb'))"
   ]
  },
  {
   "cell_type": "code",
   "execution_count": 220,
   "id": "56434212-4e77-4b7c-8a9a-cf8c56335e37",
   "metadata": {},
   "outputs": [],
   "source": [
    "pipe_tvecsvc = Pipeline([\n",
    "    ('tvec', TfidfVectorizer()),\n",
    "    ('svm', SVC())\n",
    "])\n",
    "\n",
    "# Define parameter grid for grid search\n",
    "param_tvecsvc = {\n",
    "    'tvec__max_df': [5_000],          \n",
    "    'tvec__min_df': [1, 2],                 \n",
    "    'tvec__ngram_range': [(1, 1), (1, 2)],     \n",
    "    'svm__C': [1.0, 10.0, 100.0],               \n",
    "    'svm__kernel': ['rbf']\n",
    "}"
   ]
  },
  {
   "cell_type": "code",
   "execution_count": 221,
   "id": "015ecd62-d1ae-4248-8125-47b91ad01151",
   "metadata": {},
   "outputs": [],
   "source": [
    "gs_tvecsvc = GridSearchCV(pipe_tvecsvc,\n",
    "                  param_grid=param_tvecsvc,\n",
    "                  cv=3,\n",
    "                  error_score='raise') "
   ]
  },
  {
   "cell_type": "code",
   "execution_count": 222,
   "id": "44ce4198-8abf-4541-8c33-ce932ecedde6",
   "metadata": {},
   "outputs": [
    {
     "data": {
      "text/html": [
       "<style>#sk-container-id-25 {color: black;}#sk-container-id-25 pre{padding: 0;}#sk-container-id-25 div.sk-toggleable {background-color: white;}#sk-container-id-25 label.sk-toggleable__label {cursor: pointer;display: block;width: 100%;margin-bottom: 0;padding: 0.3em;box-sizing: border-box;text-align: center;}#sk-container-id-25 label.sk-toggleable__label-arrow:before {content: \"▸\";float: left;margin-right: 0.25em;color: #696969;}#sk-container-id-25 label.sk-toggleable__label-arrow:hover:before {color: black;}#sk-container-id-25 div.sk-estimator:hover label.sk-toggleable__label-arrow:before {color: black;}#sk-container-id-25 div.sk-toggleable__content {max-height: 0;max-width: 0;overflow: hidden;text-align: left;background-color: #f0f8ff;}#sk-container-id-25 div.sk-toggleable__content pre {margin: 0.2em;color: black;border-radius: 0.25em;background-color: #f0f8ff;}#sk-container-id-25 input.sk-toggleable__control:checked~div.sk-toggleable__content {max-height: 200px;max-width: 100%;overflow: auto;}#sk-container-id-25 input.sk-toggleable__control:checked~label.sk-toggleable__label-arrow:before {content: \"▾\";}#sk-container-id-25 div.sk-estimator input.sk-toggleable__control:checked~label.sk-toggleable__label {background-color: #d4ebff;}#sk-container-id-25 div.sk-label input.sk-toggleable__control:checked~label.sk-toggleable__label {background-color: #d4ebff;}#sk-container-id-25 input.sk-hidden--visually {border: 0;clip: rect(1px 1px 1px 1px);clip: rect(1px, 1px, 1px, 1px);height: 1px;margin: -1px;overflow: hidden;padding: 0;position: absolute;width: 1px;}#sk-container-id-25 div.sk-estimator {font-family: monospace;background-color: #f0f8ff;border: 1px dotted black;border-radius: 0.25em;box-sizing: border-box;margin-bottom: 0.5em;}#sk-container-id-25 div.sk-estimator:hover {background-color: #d4ebff;}#sk-container-id-25 div.sk-parallel-item::after {content: \"\";width: 100%;border-bottom: 1px solid gray;flex-grow: 1;}#sk-container-id-25 div.sk-label:hover label.sk-toggleable__label {background-color: #d4ebff;}#sk-container-id-25 div.sk-serial::before {content: \"\";position: absolute;border-left: 1px solid gray;box-sizing: border-box;top: 0;bottom: 0;left: 50%;z-index: 0;}#sk-container-id-25 div.sk-serial {display: flex;flex-direction: column;align-items: center;background-color: white;padding-right: 0.2em;padding-left: 0.2em;position: relative;}#sk-container-id-25 div.sk-item {position: relative;z-index: 1;}#sk-container-id-25 div.sk-parallel {display: flex;align-items: stretch;justify-content: center;background-color: white;position: relative;}#sk-container-id-25 div.sk-item::before, #sk-container-id-25 div.sk-parallel-item::before {content: \"\";position: absolute;border-left: 1px solid gray;box-sizing: border-box;top: 0;bottom: 0;left: 50%;z-index: -1;}#sk-container-id-25 div.sk-parallel-item {display: flex;flex-direction: column;z-index: 1;position: relative;background-color: white;}#sk-container-id-25 div.sk-parallel-item:first-child::after {align-self: flex-end;width: 50%;}#sk-container-id-25 div.sk-parallel-item:last-child::after {align-self: flex-start;width: 50%;}#sk-container-id-25 div.sk-parallel-item:only-child::after {width: 0;}#sk-container-id-25 div.sk-dashed-wrapped {border: 1px dashed gray;margin: 0 0.4em 0.5em 0.4em;box-sizing: border-box;padding-bottom: 0.4em;background-color: white;}#sk-container-id-25 div.sk-label label {font-family: monospace;font-weight: bold;display: inline-block;line-height: 1.2em;}#sk-container-id-25 div.sk-label-container {text-align: center;}#sk-container-id-25 div.sk-container {/* jupyter's `normalize.less` sets `[hidden] { display: none; }` but bootstrap.min.css set `[hidden] { display: none !important; }` so we also need the `!important` here to be able to override the default hidden behavior on the sphinx rendered scikit-learn.org. See: https://github.com/scikit-learn/scikit-learn/issues/21755 */display: inline-block !important;position: relative;}#sk-container-id-25 div.sk-text-repr-fallback {display: none;}</style><div id=\"sk-container-id-25\" class=\"sk-top-container\"><div class=\"sk-text-repr-fallback\"><pre>GridSearchCV(cv=3, error_score=&#x27;raise&#x27;,\n",
       "             estimator=Pipeline(steps=[(&#x27;tvec&#x27;, TfidfVectorizer()),\n",
       "                                       (&#x27;svm&#x27;, SVC())]),\n",
       "             param_grid={&#x27;svm__C&#x27;: [1.0, 10.0, 100.0], &#x27;svm__kernel&#x27;: [&#x27;rbf&#x27;],\n",
       "                         &#x27;tvec__max_df&#x27;: [5000], &#x27;tvec__min_df&#x27;: [1, 2],\n",
       "                         &#x27;tvec__ngram_range&#x27;: [(1, 1), (1, 2)]})</pre><b>In a Jupyter environment, please rerun this cell to show the HTML representation or trust the notebook. <br />On GitHub, the HTML representation is unable to render, please try loading this page with nbviewer.org.</b></div><div class=\"sk-container\" hidden><div class=\"sk-item sk-dashed-wrapped\"><div class=\"sk-label-container\"><div class=\"sk-label sk-toggleable\"><input class=\"sk-toggleable__control sk-hidden--visually\" id=\"sk-estimator-id-75\" type=\"checkbox\" ><label for=\"sk-estimator-id-75\" class=\"sk-toggleable__label sk-toggleable__label-arrow\">GridSearchCV</label><div class=\"sk-toggleable__content\"><pre>GridSearchCV(cv=3, error_score=&#x27;raise&#x27;,\n",
       "             estimator=Pipeline(steps=[(&#x27;tvec&#x27;, TfidfVectorizer()),\n",
       "                                       (&#x27;svm&#x27;, SVC())]),\n",
       "             param_grid={&#x27;svm__C&#x27;: [1.0, 10.0, 100.0], &#x27;svm__kernel&#x27;: [&#x27;rbf&#x27;],\n",
       "                         &#x27;tvec__max_df&#x27;: [5000], &#x27;tvec__min_df&#x27;: [1, 2],\n",
       "                         &#x27;tvec__ngram_range&#x27;: [(1, 1), (1, 2)]})</pre></div></div></div><div class=\"sk-parallel\"><div class=\"sk-parallel-item\"><div class=\"sk-item\"><div class=\"sk-label-container\"><div class=\"sk-label sk-toggleable\"><input class=\"sk-toggleable__control sk-hidden--visually\" id=\"sk-estimator-id-76\" type=\"checkbox\" ><label for=\"sk-estimator-id-76\" class=\"sk-toggleable__label sk-toggleable__label-arrow\">estimator: Pipeline</label><div class=\"sk-toggleable__content\"><pre>Pipeline(steps=[(&#x27;tvec&#x27;, TfidfVectorizer()), (&#x27;svm&#x27;, SVC())])</pre></div></div></div><div class=\"sk-serial\"><div class=\"sk-item\"><div class=\"sk-serial\"><div class=\"sk-item\"><div class=\"sk-estimator sk-toggleable\"><input class=\"sk-toggleable__control sk-hidden--visually\" id=\"sk-estimator-id-77\" type=\"checkbox\" ><label for=\"sk-estimator-id-77\" class=\"sk-toggleable__label sk-toggleable__label-arrow\">TfidfVectorizer</label><div class=\"sk-toggleable__content\"><pre>TfidfVectorizer()</pre></div></div></div><div class=\"sk-item\"><div class=\"sk-estimator sk-toggleable\"><input class=\"sk-toggleable__control sk-hidden--visually\" id=\"sk-estimator-id-78\" type=\"checkbox\" ><label for=\"sk-estimator-id-78\" class=\"sk-toggleable__label sk-toggleable__label-arrow\">SVC</label><div class=\"sk-toggleable__content\"><pre>SVC()</pre></div></div></div></div></div></div></div></div></div></div></div></div>"
      ],
      "text/plain": [
       "GridSearchCV(cv=3, error_score='raise',\n",
       "             estimator=Pipeline(steps=[('tvec', TfidfVectorizer()),\n",
       "                                       ('svm', SVC())]),\n",
       "             param_grid={'svm__C': [1.0, 10.0, 100.0], 'svm__kernel': ['rbf'],\n",
       "                         'tvec__max_df': [5000], 'tvec__min_df': [1, 2],\n",
       "                         'tvec__ngram_range': [(1, 1), (1, 2)]})"
      ]
     },
     "execution_count": 222,
     "metadata": {},
     "output_type": "execute_result"
    }
   ],
   "source": [
    "#Train pipeline on training data\n",
    "gs_tvecsvc.fit(X_train, y_train)"
   ]
  },
  {
   "cell_type": "code",
   "execution_count": 223,
   "id": "fbff1f8a-aa6a-41f9-bb59-0584816e17bf",
   "metadata": {},
   "outputs": [
    {
     "name": "stdout",
     "output_type": "stream",
     "text": [
      "0.7761776177617762\n",
      "{'svm__C': 100.0, 'svm__kernel': 'rbf', 'tvec__max_df': 5000, 'tvec__min_df': 1, 'tvec__ngram_range': (1, 1)}\n",
      "Pipeline(steps=[('tvec', TfidfVectorizer(max_df=5000)), ('svm', SVC(C=100.0))])\n"
     ]
    }
   ],
   "source": [
    "best_score_tvecsvc = gs_tvecsvc.best_score_\n",
    "best_params_tvecsvc = gs_tvecsvc.best_params_\n",
    "best_model_tvecsvc = gs_tvecsvc.best_estimator_\n",
    "\n",
    "print(best_score_tvecsvc)\n",
    "print(best_params_tvecsvc)\n",
    "print(best_model_tvecsvc)"
   ]
  },
  {
   "cell_type": "code",
   "execution_count": 224,
   "id": "ee28bd96-ecf2-4060-9ce6-e297ec54ab4e",
   "metadata": {},
   "outputs": [
    {
     "data": {
      "text/html": [
       "<style>#sk-container-id-26 {color: black;}#sk-container-id-26 pre{padding: 0;}#sk-container-id-26 div.sk-toggleable {background-color: white;}#sk-container-id-26 label.sk-toggleable__label {cursor: pointer;display: block;width: 100%;margin-bottom: 0;padding: 0.3em;box-sizing: border-box;text-align: center;}#sk-container-id-26 label.sk-toggleable__label-arrow:before {content: \"▸\";float: left;margin-right: 0.25em;color: #696969;}#sk-container-id-26 label.sk-toggleable__label-arrow:hover:before {color: black;}#sk-container-id-26 div.sk-estimator:hover label.sk-toggleable__label-arrow:before {color: black;}#sk-container-id-26 div.sk-toggleable__content {max-height: 0;max-width: 0;overflow: hidden;text-align: left;background-color: #f0f8ff;}#sk-container-id-26 div.sk-toggleable__content pre {margin: 0.2em;color: black;border-radius: 0.25em;background-color: #f0f8ff;}#sk-container-id-26 input.sk-toggleable__control:checked~div.sk-toggleable__content {max-height: 200px;max-width: 100%;overflow: auto;}#sk-container-id-26 input.sk-toggleable__control:checked~label.sk-toggleable__label-arrow:before {content: \"▾\";}#sk-container-id-26 div.sk-estimator input.sk-toggleable__control:checked~label.sk-toggleable__label {background-color: #d4ebff;}#sk-container-id-26 div.sk-label input.sk-toggleable__control:checked~label.sk-toggleable__label {background-color: #d4ebff;}#sk-container-id-26 input.sk-hidden--visually {border: 0;clip: rect(1px 1px 1px 1px);clip: rect(1px, 1px, 1px, 1px);height: 1px;margin: -1px;overflow: hidden;padding: 0;position: absolute;width: 1px;}#sk-container-id-26 div.sk-estimator {font-family: monospace;background-color: #f0f8ff;border: 1px dotted black;border-radius: 0.25em;box-sizing: border-box;margin-bottom: 0.5em;}#sk-container-id-26 div.sk-estimator:hover {background-color: #d4ebff;}#sk-container-id-26 div.sk-parallel-item::after {content: \"\";width: 100%;border-bottom: 1px solid gray;flex-grow: 1;}#sk-container-id-26 div.sk-label:hover label.sk-toggleable__label {background-color: #d4ebff;}#sk-container-id-26 div.sk-serial::before {content: \"\";position: absolute;border-left: 1px solid gray;box-sizing: border-box;top: 0;bottom: 0;left: 50%;z-index: 0;}#sk-container-id-26 div.sk-serial {display: flex;flex-direction: column;align-items: center;background-color: white;padding-right: 0.2em;padding-left: 0.2em;position: relative;}#sk-container-id-26 div.sk-item {position: relative;z-index: 1;}#sk-container-id-26 div.sk-parallel {display: flex;align-items: stretch;justify-content: center;background-color: white;position: relative;}#sk-container-id-26 div.sk-item::before, #sk-container-id-26 div.sk-parallel-item::before {content: \"\";position: absolute;border-left: 1px solid gray;box-sizing: border-box;top: 0;bottom: 0;left: 50%;z-index: -1;}#sk-container-id-26 div.sk-parallel-item {display: flex;flex-direction: column;z-index: 1;position: relative;background-color: white;}#sk-container-id-26 div.sk-parallel-item:first-child::after {align-self: flex-end;width: 50%;}#sk-container-id-26 div.sk-parallel-item:last-child::after {align-self: flex-start;width: 50%;}#sk-container-id-26 div.sk-parallel-item:only-child::after {width: 0;}#sk-container-id-26 div.sk-dashed-wrapped {border: 1px dashed gray;margin: 0 0.4em 0.5em 0.4em;box-sizing: border-box;padding-bottom: 0.4em;background-color: white;}#sk-container-id-26 div.sk-label label {font-family: monospace;font-weight: bold;display: inline-block;line-height: 1.2em;}#sk-container-id-26 div.sk-label-container {text-align: center;}#sk-container-id-26 div.sk-container {/* jupyter's `normalize.less` sets `[hidden] { display: none; }` but bootstrap.min.css set `[hidden] { display: none !important; }` so we also need the `!important` here to be able to override the default hidden behavior on the sphinx rendered scikit-learn.org. See: https://github.com/scikit-learn/scikit-learn/issues/21755 */display: inline-block !important;position: relative;}#sk-container-id-26 div.sk-text-repr-fallback {display: none;}</style><div id=\"sk-container-id-26\" class=\"sk-top-container\"><div class=\"sk-text-repr-fallback\"><pre>Pipeline(steps=[(&#x27;tvec&#x27;, TfidfVectorizer(max_df=5000)), (&#x27;svm&#x27;, SVC(C=100.0))])</pre><b>In a Jupyter environment, please rerun this cell to show the HTML representation or trust the notebook. <br />On GitHub, the HTML representation is unable to render, please try loading this page with nbviewer.org.</b></div><div class=\"sk-container\" hidden><div class=\"sk-item sk-dashed-wrapped\"><div class=\"sk-label-container\"><div class=\"sk-label sk-toggleable\"><input class=\"sk-toggleable__control sk-hidden--visually\" id=\"sk-estimator-id-79\" type=\"checkbox\" ><label for=\"sk-estimator-id-79\" class=\"sk-toggleable__label sk-toggleable__label-arrow\">Pipeline</label><div class=\"sk-toggleable__content\"><pre>Pipeline(steps=[(&#x27;tvec&#x27;, TfidfVectorizer(max_df=5000)), (&#x27;svm&#x27;, SVC(C=100.0))])</pre></div></div></div><div class=\"sk-serial\"><div class=\"sk-item\"><div class=\"sk-estimator sk-toggleable\"><input class=\"sk-toggleable__control sk-hidden--visually\" id=\"sk-estimator-id-80\" type=\"checkbox\" ><label for=\"sk-estimator-id-80\" class=\"sk-toggleable__label sk-toggleable__label-arrow\">TfidfVectorizer</label><div class=\"sk-toggleable__content\"><pre>TfidfVectorizer(max_df=5000)</pre></div></div></div><div class=\"sk-item\"><div class=\"sk-estimator sk-toggleable\"><input class=\"sk-toggleable__control sk-hidden--visually\" id=\"sk-estimator-id-81\" type=\"checkbox\" ><label for=\"sk-estimator-id-81\" class=\"sk-toggleable__label sk-toggleable__label-arrow\">SVC</label><div class=\"sk-toggleable__content\"><pre>SVC(C=100.0)</pre></div></div></div></div></div></div></div>"
      ],
      "text/plain": [
       "Pipeline(steps=[('tvec', TfidfVectorizer(max_df=5000)), ('svm', SVC(C=100.0))])"
      ]
     },
     "execution_count": 224,
     "metadata": {},
     "output_type": "execute_result"
    }
   ],
   "source": [
    "# Train the best model on the full training data\n",
    "best_model_tvecsvc.fit(X_train, y_train)"
   ]
  },
  {
   "cell_type": "code",
   "execution_count": 225,
   "id": "64b16621-5d0d-41ab-abff-4de23590cc1f",
   "metadata": {},
   "outputs": [],
   "source": [
    "#pickle the models\n",
    "pickle.dump(gs_tvecsvc, open('../model/gs_tvecsvc.pkl', 'wb'))\n",
    "pickle.dump(best_model_tvecsvc, open('../model/best_model_tvecsvc.pkl', 'wb'))"
   ]
  },
  {
   "cell_type": "code",
   "execution_count": 226,
   "id": "38c4b297-df46-4f13-830c-ad3b18d18731",
   "metadata": {},
   "outputs": [
    {
     "name": "stdout",
     "output_type": "stream",
     "text": [
      "MODEL PERFORMANCE:\n",
      "Accuracy: 0.9975\n",
      "F1 score: 0.9976\n"
     ]
    }
   ],
   "source": [
    "# Score model on training set.\n",
    "perf_measure_train(best_model_tvecsvc, X_train, y_train)"
   ]
  },
  {
   "cell_type": "code",
   "execution_count": 227,
   "id": "39c327cb-2bb1-47ea-9a6d-c1592eafed24",
   "metadata": {},
   "outputs": [
    {
     "name": "stdout",
     "output_type": "stream",
     "text": [
      "MODEL PERFORMANCE:\n",
      "Accuracy: 0.7884\n",
      "F1 score: 0.8011\n"
     ]
    },
    {
     "data": {
      "image/png": "[encoded data removed]",
      "text/plain": [
       "<Figure size 640x480 with 2 Axes>"
      ]
     },
     "metadata": {},
     "output_type": "display_data"
    }
   ],
   "source": [
    "# Score model on testing set.\n",
    "perf_measure_test(best_model_tvecsvc, X_test, y_test)"
   ]
  },
  {
   "cell_type": "markdown",
   "id": "c78ab21a-d9fd-45b2-9470-278970f85322",
   "metadata": {},
   "source": [
    "### Findings - Support Vector Machines (SVM)"
   ]
  },
  {
   "cell_type": "markdown",
   "id": "5fd92716-ce9e-462e-af2c-0fb479e3e13f",
   "metadata": {},
   "source": [
    "The SVM model managed to yield one of the higher test scores - Accuracy being 0.7884 and F1 being 0.8011. However, there is massive overfitting occuring, with train accuracy and F1 scores being around 0.9976. This would not be a strong model to select for production, as it would lead to poor generalization to unseen or new data. The model's predictions would also be unreliable and unpredictable."
   ]
  },
  {
   "cell_type": "markdown",
   "id": "398d014b-4390-4f01-9cb1-56b5ff1f9662",
   "metadata": {},
   "source": [
    "---\n",
    "## 3.2.7 Summary of Model Performance"
   ]
  },
  {
   "cell_type": "markdown",
   "id": "c63699fd-8481-4170-ad58-02d124e285de",
   "metadata": {},
   "source": [
    "|No|Model|Vectorizer|Train Accuracy, F1 Score|Test Accuracy, F1 Score|\n",
    "|---|---|---|---|---|\n",
    "|0|Base model <br>Logistic Regression|CVEC|0.9112 (Acc)|0.7481 (Acc)|\n",
    "|1A|Naive Bayes|CVEC|0.7793 (Acc)<br>0.8002 (F1)|0.7752 (Acc)<br>0.7973 (F1)|\n",
    "|**1B**|**Naive Bayes**|**TF-IDF**|**0.8041 (Acc)<br>0.8226 (F1)**|**0.7868 (Acc)<br>0.8075 (F1)**|\n",
    "|2A|Random Forest|CVEC|0.7749 (Acc)<br>0.8158 (F1)|0.7168 (Acc)<br>0.7683 (F1)|\n",
    "|2B|Random Forest|TF-IDF|0.7858 (Acc)<br>0.8245 (F1)|0.7192 (Acc)<br>0.7698 (F1)|\n",
    "|3|ADABoost|TF-IDF|0.7228 (Acc)<br>0.7746 (F1)|0.704 (Acc)<br>0.7606 (F1)|\n",
    "|4|SVM|TF-IDF|0.9975 (Acc)<br>0.9976 (F1)|0.7884 (Acc)<br>0.8011 (F1)|"
   ]
  },
  {
   "cell_type": "markdown",
   "id": "770930da-c6d3-4cdc-885f-e12c13a70fae",
   "metadata": {},
   "source": [
    "We tried various binary classification models, including Logistic Regression, Naive Bayes, Random Forests, ADABoost, and Support Vector Machines. All the models here outperformed the base model accuracy score of 0.7481. As the aim of the model is to be able to successfully perform binary classification on our text posts and comments, we select the model with the highest accuracy and F1 score -  The **Naive Bayes with TF-IDF vectorizer** as our production model. It is likely that our NLP model does not require such a complex model, and the simpler models like Logistic Regression and Naive Bayes would suffice and produce good results if trained with the right parameters.\n",
    "\n",
    "Considering our limitations with respect to time and computational power, the top-performing Naive Bayes model exhibits decent performance metrics on both the training and testing datasets. With a training accuracy of 0.7928 and an F1 score of 0.8127, and a testing accuracy of 0.7868 and an F1 score of 0.8075, the model demonstrates a consistent level of accuracy and balanced precision and recall. "
   ]
  },
  {
   "cell_type": "markdown",
   "id": "d2ab43d2-2c4e-4b93-8aba-f3ecd49207ef",
   "metadata": {},
   "source": [
    "---\n",
    "## 3.2.8 Analysis of NB model's Coefficients\n",
    "We use our top-performing model, the Naive Bayes with TF-IDF vectorizer, to extract the model's coefficients. The coef_df DataFrame contains the log probabilities of features. From the dataframe, we can identify the log probability of each feature occurring in a specific class."
   ]
  },
  {
   "cell_type": "code",
   "execution_count": 260,
   "id": "8c865839-dbb1-48f3-840a-8ac7d3668889",
   "metadata": {},
   "outputs": [
    {
     "data": {
      "text/html": [
       "<div>\n",
       "<style scoped>\n",
       "    .dataframe tbody tr th:only-of-type {\n",
       "        vertical-align: middle;\n",
       "    }\n",
       "\n",
       "    .dataframe tbody tr th {\n",
       "        vertical-align: top;\n",
       "    }\n",
       "\n",
       "    .dataframe thead th {\n",
       "        text-align: right;\n",
       "    }\n",
       "</style>\n",
       "<table border=\"1\" class=\"dataframe\">\n",
       "  <thead>\n",
       "    <tr style=\"text-align: right;\">\n",
       "      <th></th>\n",
       "      <th>0</th>\n",
       "      <th>1</th>\n",
       "    </tr>\n",
       "  </thead>\n",
       "  <tbody>\n",
       "    <tr>\n",
       "      <th>_</th>\n",
       "      <td>-8.882871</td>\n",
       "      <td>-9.191981</td>\n",
       "    </tr>\n",
       "    <tr>\n",
       "      <th>ability</th>\n",
       "      <td>-8.339503</td>\n",
       "      <td>-7.986223</td>\n",
       "    </tr>\n",
       "    <tr>\n",
       "      <th>able</th>\n",
       "      <td>-6.918258</td>\n",
       "      <td>-6.901820</td>\n",
       "    </tr>\n",
       "    <tr>\n",
       "      <th>able explain</th>\n",
       "      <td>-9.720080</td>\n",
       "      <td>-9.640076</td>\n",
       "    </tr>\n",
       "    <tr>\n",
       "      <th>able find</th>\n",
       "      <td>-9.714385</td>\n",
       "      <td>-9.497676</td>\n",
       "    </tr>\n",
       "    <tr>\n",
       "      <th>...</th>\n",
       "      <td>...</td>\n",
       "      <td>...</td>\n",
       "    </tr>\n",
       "    <tr>\n",
       "      <th>yr</th>\n",
       "      <td>-9.040552</td>\n",
       "      <td>-9.003465</td>\n",
       "    </tr>\n",
       "    <tr>\n",
       "      <th>yup</th>\n",
       "      <td>-8.736032</td>\n",
       "      <td>-8.407684</td>\n",
       "    </tr>\n",
       "    <tr>\n",
       "      <th>z</th>\n",
       "      <td>-9.387983</td>\n",
       "      <td>-9.573522</td>\n",
       "    </tr>\n",
       "    <tr>\n",
       "      <th>zero</th>\n",
       "      <td>-8.097101</td>\n",
       "      <td>-8.004733</td>\n",
       "    </tr>\n",
       "    <tr>\n",
       "      <th>zone</th>\n",
       "      <td>-9.521112</td>\n",
       "      <td>-9.942305</td>\n",
       "    </tr>\n",
       "  </tbody>\n",
       "</table>\n",
       "<p>5000 rows × 2 columns</p>\n",
       "</div>"
      ],
      "text/plain": [
       "                     0         1\n",
       "_            -8.882871 -9.191981\n",
       "ability      -8.339503 -7.986223\n",
       "able         -6.918258 -6.901820\n",
       "able explain -9.720080 -9.640076\n",
       "able find    -9.714385 -9.497676\n",
       "...                ...       ...\n",
       "yr           -9.040552 -9.003465\n",
       "yup          -8.736032 -8.407684\n",
       "z            -9.387983 -9.573522\n",
       "zero         -8.097101 -8.004733\n",
       "zone         -9.521112 -9.942305\n",
       "\n",
       "[5000 rows x 2 columns]"
      ]
     },
     "execution_count": 260,
     "metadata": {},
     "output_type": "execute_result"
    }
   ],
   "source": [
    "# Get the best trained NB model\n",
    "best_nb_model = gs_tvecnb.best_estimator_.named_steps['nb']\n",
    "\n",
    "# Get the log probabilities of features for each class\n",
    "log_probabilities = best_nb_model.feature_log_prob_\n",
    "\n",
    "# Get the feature names from the TF-IDF vectorizer\n",
    "feature_names = gs_tvecnb.best_estimator_.named_steps['tvec'].get_feature_names_out()\n",
    "\n",
    "# Create a DataFrame to store feature names and log probabilities\n",
    "coef_df = pd.DataFrame(log_probabilities.T, columns=gs_tvecnb.best_estimator_.classes_, index=feature_names)\n",
    "coef_df"
   ]
  },
  {
   "cell_type": "markdown",
   "id": "89295805-ae1a-4158-8746-ff395bbf5ae7",
   "metadata": {},
   "source": [
    "### Top Predictor Words\n",
    "By extracting the words with the highest difference in log proabilities, we can determine which words would be most effective in helping to categorize comments into r/datascience or r/dataengineering."
   ]
  },
  {
   "cell_type": "code",
   "execution_count": 265,
   "id": "b389d83e-ac39-4e65-9711-4aaed0c86d30",
   "metadata": {},
   "outputs": [
    {
     "name": "stdout",
     "output_type": "stream",
     "text": [
      "                       0          1  difference\n",
      "dbt            -6.192987 -10.263246    4.070259\n",
      "airflow        -6.371461  -9.962129    3.590669\n",
      "redshift       -7.115901 -10.517227    3.401326\n",
      "dagster        -7.272653 -10.517227    3.244574\n",
      "delta          -6.791237  -9.747786    2.956549\n",
      "terraform      -7.469564 -10.380267    2.910703\n",
      "fivetran       -7.454377 -10.314536    2.860158\n",
      "warehouse      -6.735416  -9.592833    2.857417\n",
      "schema         -6.743920  -9.588713    2.844792\n",
      "synapse        -7.676225 -10.517227    2.841002\n",
      "apache         -7.372700 -10.176903    2.804202\n",
      "statistical    -9.876933  -7.120071    2.756861\n",
      "regression     -9.861487  -7.122860    2.738627\n",
      "sa             -8.966666  -6.249775    2.716891\n",
      "tidyverse     -10.467179  -7.766549    2.700631\n",
      "snowflake      -6.181623  -8.881488    2.699866\n",
      "stats          -9.200467  -6.530878    2.669589\n",
      "dlt            -7.849318 -10.517227    2.667910\n",
      "orchestration  -7.727381 -10.385457    2.658075\n",
      "flink          -7.883419 -10.517227    2.633808\n"
     ]
    }
   ],
   "source": [
    "# Calculate the absolute difference in log probabilities between class 1 and class 0\n",
    "coef_df['difference'] = abs(coef_df[1] - coef_df[0])\n",
    "sorted_coef_df = coef_df.sort_values(by='difference', ascending=False)\n",
    "\n",
    "# Print the top words with the greatest difference\n",
    "top_words = sorted_coef_df.head(20) \n",
    "print(top_words)"
   ]
  },
  {
   "cell_type": "markdown",
   "id": "3bbfdef7-f04f-4cb6-8bc5-f04539598c65",
   "metadata": {},
   "source": [
    "Analysing the top 20 words with the largest coefficient differences, we can see that most words (including the first 10 words!) all have larger coefficients in Class 0, or r/dataengineering. For example, the log probability of the first term \"dbt\" occuring in r/datascience is approx -6.19, while the log probability of \"dbt\" occuring in r/dataengineering is -10.3; suggesting \"dbt\" is more indicative of being part of r/dataengineering. \n",
    "\n",
    "Through these log probabilities, we gain insights into which words are more strongly associated with each class according to the Naive Bayes model. However, we are to note is that these values are not coefficients in the traditional sense and should be interpreted in the context of Naive Bayes' probabilistic approach to classification."
   ]
  },
  {
   "cell_type": "markdown",
   "id": "25a0b55f-d93d-493e-93cd-5f70cc2250e3",
   "metadata": {},
   "source": [
    "---\n",
    "# 3.3 Conclusion"
   ]
  },
  {
   "cell_type": "markdown",
   "id": "c014d314-9373-4606-9087-5654d6caec9c",
   "metadata": {},
   "source": [
    "## 3.3.1 Addressing the Problem Statement"
   ]
  },
  {
   "cell_type": "markdown",
   "id": "dcf11a35-756b-4e34-b79a-f6745f39deae",
   "metadata": {},
   "source": [
    "* In this project, through EDA, we gained initial insights into the levels of interest in data science and data engineering that would help General Assembly (GA) solidify the value proposition of establishing a discussion platform for existing students and prospective individuals keen on enrolling in GA bootcamps. The development of a natural language processing (NLP) model to automatically classify comments into the categories of Data Science and Data Engineering would help address downstream workflow concerns of having to sort and categorize comments from the discussion platform.\n",
    "\n",
    "* Through the use of r/datascience and r/dataengineering subreddits, we have successfully trained and tested various binary classification models, including Logistic Regression, Naive Bayes, Random Forests, ADABoost, and Support Vector Machines. Our evaluation metrics, including accuracy and F1 score, have enabled a comprehensive assessment of model performance, providing valuable insights into their effectiveness. \n",
    "\n",
    "* Our top model (Naive Bays, using TF-IDF vectorizer) has a training accuracy of 0.7928 and an F1 score of 0.8127, and a testing accuracy of 0.7868 and an F1 score of 0.8075, demonstrating a consistent level of accuracy and balanced precision and recall. The problem statement highlighted the need for a robust NLP model to streamline the process of categorizing discussions from the General Assembly open platform, and the performance metrics proved the model being able to accurately classify comments to a commendable accuracy level.\n",
    "\n",
    "* This data-driven approach supports informed decision-making and enhances GA's ability to cater to the needs and preferences of students, thus solidifying its position as a pioneering tech education institution."
   ]
  },
  {
   "cell_type": "markdown",
   "id": "8fe30d69-60fa-4f75-a607-f2f426b73465",
   "metadata": {},
   "source": [
    "---\n",
    "## 3.3.2 Limitations and Recommendations\n",
    "For further improvements and development downstream, we would like to point out several limitations of the model as well as some recommendations:\n",
    "\n",
    "**1) Generalization to New Domains<br>**\n",
    "* The current model is tailored to categorize discussions specifically within the domains of Data Science and Data Engineering. Further development is needed to adapt the model for other domains or to handle more diverse and nuanced topics. \n",
    "* GA could consider further developing a multiclassification model that also includes classification of comments relating to Software Engineering, or other increasing popular data roles in the future.\n",
    "\n",
    "**2) Improve the model on contextual understanding<br>**\n",
    "* Since we trained the model through subreddits, the model might struggle with ambiguous or context-dependent language, leading to misclassifications when faced with intricate sentence structures or word meanings. If the discussion platform is mainly catering to GA current and potential students who are based in Singapore, then we would have to consider the use of Singlish on the discussion platform. The topics discussed on subreddits as compared to GA's discussion platform may also be quite different.\n",
    "* In future, we could explore advanced NLP techniques, such as transformer-based models (e.g., BERT, GPT), which excel at capturing contextual information and resolving ambiguities. We should also periodically update the model with new data (from the actual GA discussion platform) to ensure it remains relevant and effective in classifying current discussions.\n",
    "\n",
    "**3) A standalone Sentiment Analysis study <br>**\n",
    "* As we can see from our quick sentiment analysis, the study was useful to gain insights into sentiments expressed within the discussions. To achieve a more comprehensive understanding, a more detailed and thorough sentiment analysis should be conducted. While VADER has been used effectively in this study, it is imperative to establish its reliability by performing a rigorous assessment of its classifications.\n",
    "* One approach to ensuring the accuracy of VADER's classifications involves conducting a manual review of a representative sample of VADER's sentiment assignments. By manually analyzing a subset of comments and comparing the manual assessment with VADER's classifications, we can quantify VADER's accuracy and identify any discrepancies.\n",
    "* This validation process will provide insights into the model's performance and highlight areas where adjustments or refinements may be necessary. This validation step is crucial for building trust in the sentiment analysis results, establishing the reliability of sentiment classifications will enable more confident utilization of sentiment analysis outcomes for strategic decision-making in the future.\n",
    "* Some additional business use case scenarios for our sentiment analysis model would include: helping to Tailor Course Offerings, Strategic Marketing, etc.\n",
    "."
   ]
  },
  {
   "cell_type": "code",
   "execution_count": null,
   "id": "616fcf2e-30c6-46ec-88ee-ef548c417940",
   "metadata": {},
   "outputs": [],
   "source": []
  }
 ],
 "metadata": {
  "kernelspec": {
   "display_name": "Python 3 (ipykernel)",
   "language": "python",
   "name": "python3"
  },
  "language_info": {
   "codemirror_mode": {
    "name": "ipython",
    "version": 3
   },
   "file_extension": ".py",
   "mimetype": "text/x-python",
   "name": "python",
   "nbconvert_exporter": "python",
   "pygments_lexer": "ipython3",
   "version": "3.8.17"
  }
 },
 "nbformat": 4,
 "nbformat_minor": 5
}
